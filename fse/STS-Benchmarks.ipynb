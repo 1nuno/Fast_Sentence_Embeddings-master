{
 "cells": [
  {
   "cell_type": "markdown",
   "metadata": {},
   "source": [
    "# STS Benchmark Datasets"
   ]
  },
  {
   "cell_type": "markdown",
   "metadata": {},
   "source": [
    "For more information, see the implementation of https://github.com/kawine/usif"
   ]
  },
  {
   "cell_type": "code",
   "execution_count": 19,
   "metadata": {},
   "outputs": [
    {
     "name": "stdout",
     "output_type": "stream",
     "text": [
      "The autotime extension is already loaded. To reload it, use:\n",
      "  %reload_ext autotime\n",
      "time: 88.4 ms\n"
     ]
    }
   ],
   "source": [
    "%load_ext autotime\n",
    "import numpy as np\n",
    "import logging\n",
    "import pandas as pd\n",
    "import pathlib\n",
    "\n",
    "from gensim.models import Word2Vec, FastText\n",
    "from gensim.models.keyedvectors import KeyedVectors, FastTextKeyedVectors\n",
    "\n",
    "from fse.models.average import Average\n",
    "from fse.models.sif import SIF\n",
    "from fse.models.inputs import IndexedSentence\n",
    "\n",
    "from re import sub\n",
    "\n",
    "from scipy.stats import pearsonr\n",
    "\n",
    "logging.basicConfig(format='%(asctime)s : %(threadName)s : %(levelname)s : %(message)s',\n",
    "                    level=logging.INFO\n",
    "                   )\n",
    "\n",
    "file_path = \"data/stsbenchmark/sts-test.csv\"\n",
    "\n",
    "def normalize_text(sentence):\n",
    "    return [sub(\"[^a-zA-Z]\", \"\", w.lower()) for w in sentence.split()] \n",
    "\n",
    "def compute_similarities(task_length, model):\n",
    "    sims = []\n",
    "    for i, j in zip(range(task_length), range(task_length, 2*task_length)):\n",
    "        sims.append(model.sv.similarity(i,j))\n",
    "    return sims\n",
    "\n",
    "sts_data = pd.read_csv(file_path, sep=\",\", error_bad_lines=True, names=[\"cpt\",\"1\",\"task\",\"3\",\"sim\",\"sent_a\",\"sent_b\"])\n",
    "sts_data.dropna(inplace=True)\n",
    "sts_data.sent_a = sts_data.sent_a.apply(normalize_text)\n",
    "sts_data.sent_b = sts_data.sent_b.apply(normalize_text)\n",
    "sts_data.task = sts_data.task.str.replace(\"2012test\", \"2012\")\n",
    "sts_data.task = sts_data.task.str.replace(\"2012train\", \"None\")\n",
    "sts_data = sts_data[sts_data.task != \"None\"]\n",
    "\n",
    "tasks = sorted([\"2012\", \"2013\", \"2014\", \"2015\", \"2016\", \"2017\"])"
   ]
  },
  {
   "cell_type": "code",
   "execution_count": 20,
   "metadata": {},
   "outputs": [
    {
     "name": "stderr",
     "output_type": "stream",
     "text": [
      "2019-08-19 20:46:41,037 : MainThread : INFO : loading Word2VecKeyedVectors object from /Users/oliverborchers/Desktop/GSDEV/Models/Static/google_news.model\n",
      "2019-08-19 20:46:47,952 : MainThread : INFO : loading vectors from /Users/oliverborchers/Desktop/GSDEV/Models/Static/google_news.model.vectors.npy with mmap=None\n",
      "2019-08-19 20:46:52,990 : MainThread : INFO : setting ignored attribute vectors_norm to None\n",
      "2019-08-19 20:46:53,000 : MainThread : INFO : loaded /Users/oliverborchers/Desktop/GSDEV/Models/Static/google_news.model\n",
      "2019-08-19 20:46:53,002 : MainThread : INFO : loading FastTextKeyedVectors object from /Users/oliverborchers/Desktop/GSDEV/Models/Static/ft_crawl_300d_2m.model\n",
      "2019-08-19 20:47:01,238 : MainThread : INFO : loading vectors from /Users/oliverborchers/Desktop/GSDEV/Models/Static/ft_crawl_300d_2m.model.vectors.npy with mmap=None\n",
      "2019-08-19 20:47:04,638 : MainThread : INFO : loading vectors_vocab from /Users/oliverborchers/Desktop/GSDEV/Models/Static/ft_crawl_300d_2m.model.vectors_vocab.npy with mmap=None\n",
      "2019-08-19 20:47:07,804 : MainThread : INFO : loading vectors_ngrams from /Users/oliverborchers/Desktop/GSDEV/Models/Static/ft_crawl_300d_2m.model.vectors_ngrams.npy with mmap=None\n",
      "2019-08-19 20:47:12,863 : MainThread : INFO : setting ignored attribute vectors_norm to None\n",
      "2019-08-19 20:47:12,879 : MainThread : INFO : setting ignored attribute vectors_vocab_norm to None\n",
      "2019-08-19 20:47:12,895 : MainThread : INFO : setting ignored attribute vectors_ngrams_norm to None\n",
      "2019-08-19 20:47:12,897 : MainThread : INFO : setting ignored attribute buckets_word to None\n",
      "2019-08-19 20:47:12,898 : MainThread : INFO : loaded /Users/oliverborchers/Desktop/GSDEV/Models/Static/ft_crawl_300d_2m.model\n"
     ]
    },
    {
     "name": "stdout",
     "output_type": "stream",
     "text": [
      "time: 31.9 s\n"
     ]
    }
   ],
   "source": [
    "w2v = KeyedVectors.load(\"/Users/oliverborchers/Desktop/GSDEV/Models/Static/google_news.model\")\n",
    "ft = FastTextKeyedVectors.load(\"/Users/oliverborchers/Desktop/GSDEV/Models/Static/ft_crawl_300d_2m.model\")"
   ]
  },
  {
   "cell_type": "code",
   "execution_count": 21,
   "metadata": {},
   "outputs": [
    {
     "name": "stderr",
     "output_type": "stream",
     "text": [
      "/Users/oliverborchers/Library/Mobile Documents/com~apple~CloudDocs/Diss/Medium/Fast_Sentence_Embeddings/fse/models/base_s2v.py:157: UserWarning: C extension not loaded, training/inferring will be slow. Install a C compiler and reinstall fse.\n",
      "  \"C extension not loaded, training/inferring will be slow. \"\n",
      "2019-08-19 20:47:13,036 : MainThread : INFO : loading pre-existing wv from /Users/oliverborchers/Library/Mobile Documents/com~apple~CloudDocs/Diss/Medium/Fast_Sentence_Embeddings/fse/data/vectors/w2v\n",
      "2019-08-19 20:47:14,178 : MainThread : INFO : no frequency mode: using wordfreq for estimation of frequency for language: en\n",
      "2019-08-19 20:47:20,020 : MainThread : INFO : loading pre-existing wv from /Users/oliverborchers/Library/Mobile Documents/com~apple~CloudDocs/Diss/Medium/Fast_Sentence_Embeddings/fse/data/vectors/ft\n",
      "2019-08-19 20:47:20,543 : MainThread : INFO : loading pre-existing vocab from data/vectors/ft\n",
      "2019-08-19 20:47:21,062 : MainThread : INFO : loading pre-existing ngrams from data/vectors/ft\n",
      "2019-08-19 20:47:21,568 : MainThread : INFO : no frequency mode: using wordfreq for estimation of frequency for language: en\n"
     ]
    },
    {
     "name": "stdout",
     "output_type": "stream",
     "text": [
      "time: 13.1 s\n"
     ]
    }
   ],
   "source": [
    "w2v_avg = Average(w2v, wv_mapfile_path = \"data/vectors/w2v\", lang_freq=\"en\")\n",
    "ft_avg = Average(ft, wv_mapfile_path = \"data/vectors/ft\", lang_freq=\"en\")"
   ]
  },
  {
   "cell_type": "raw",
   "metadata": {},
   "source": [
    "ft.wv.accuracy(\"/Users/oliverborchers/Desktop/GSDEV/gensim-develop/gensim/test/test_data/questions-words.txt\")"
   ]
  },
  {
   "cell_type": "code",
   "execution_count": 22,
   "metadata": {},
   "outputs": [
    {
     "name": "stderr",
     "output_type": "stream",
     "text": [
      "2019-08-19 20:47:33,785 : MainThread : INFO : loading pre-existing wv from /Users/oliverborchers/Library/Mobile Documents/com~apple~CloudDocs/Diss/Medium/Fast_Sentence_Embeddings/fse/data/vectors/w2v\n",
      "2019-08-19 20:47:33,807 : MainThread : INFO : loading pre-existing wv from /Users/oliverborchers/Library/Mobile Documents/com~apple~CloudDocs/Diss/Medium/Fast_Sentence_Embeddings/fse/data/vectors/w2v\n",
      "2019-08-19 20:47:33,854 : MainThread : INFO : loading pre-existing wv from /Users/oliverborchers/Library/Mobile Documents/com~apple~CloudDocs/Diss/Medium/Fast_Sentence_Embeddings/fse/data/vectors/ft\n",
      "2019-08-19 20:47:33,874 : MainThread : INFO : loading pre-existing vocab from data/vectors/ft\n",
      "2019-08-19 20:47:33,893 : MainThread : INFO : loading pre-existing ngrams from data/vectors/ft\n",
      "2019-08-19 20:47:33,927 : MainThread : INFO : loading pre-existing wv from /Users/oliverborchers/Library/Mobile Documents/com~apple~CloudDocs/Diss/Medium/Fast_Sentence_Embeddings/fse/data/vectors/ft\n",
      "2019-08-19 20:47:33,960 : MainThread : INFO : loading pre-existing vocab from data/vectors/ft\n",
      "2019-08-19 20:47:33,998 : MainThread : INFO : loading pre-existing ngrams from data/vectors/ft\n",
      "2019-08-19 20:47:34,032 : MainThread : INFO : loading pre-existing wv from /Users/oliverborchers/Library/Mobile Documents/com~apple~CloudDocs/Diss/Medium/Fast_Sentence_Embeddings/fse/data/vectors/w2v\n",
      "2019-08-19 20:47:34,066 : MainThread : INFO : loading pre-existing wv from /Users/oliverborchers/Library/Mobile Documents/com~apple~CloudDocs/Diss/Medium/Fast_Sentence_Embeddings/fse/data/vectors/w2v\n",
      "2019-08-19 20:47:34,091 : MainThread : INFO : loading pre-existing wv from /Users/oliverborchers/Library/Mobile Documents/com~apple~CloudDocs/Diss/Medium/Fast_Sentence_Embeddings/fse/data/vectors/ft\n",
      "2019-08-19 20:47:34,119 : MainThread : INFO : loading pre-existing vocab from data/vectors/ft\n",
      "2019-08-19 20:47:34,138 : MainThread : INFO : loading pre-existing ngrams from data/vectors/ft\n",
      "2019-08-19 20:47:34,162 : MainThread : INFO : loading pre-existing wv from /Users/oliverborchers/Library/Mobile Documents/com~apple~CloudDocs/Diss/Medium/Fast_Sentence_Embeddings/fse/data/vectors/ft\n",
      "2019-08-19 20:47:34,185 : MainThread : INFO : loading pre-existing vocab from data/vectors/ft\n",
      "2019-08-19 20:47:34,202 : MainThread : INFO : loading pre-existing ngrams from data/vectors/ft\n",
      "2019-08-19 20:47:34,228 : MainThread : INFO : loading pre-existing wv from /Users/oliverborchers/Library/Mobile Documents/com~apple~CloudDocs/Diss/Medium/Fast_Sentence_Embeddings/fse/data/vectors/w2v\n",
      "2019-08-19 20:47:34,256 : MainThread : INFO : loading pre-existing wv from /Users/oliverborchers/Library/Mobile Documents/com~apple~CloudDocs/Diss/Medium/Fast_Sentence_Embeddings/fse/data/vectors/w2v\n",
      "2019-08-19 20:47:34,290 : MainThread : INFO : loading pre-existing wv from /Users/oliverborchers/Library/Mobile Documents/com~apple~CloudDocs/Diss/Medium/Fast_Sentence_Embeddings/fse/data/vectors/ft\n",
      "2019-08-19 20:47:34,307 : MainThread : INFO : loading pre-existing vocab from data/vectors/ft\n",
      "2019-08-19 20:47:34,322 : MainThread : INFO : loading pre-existing ngrams from data/vectors/ft\n",
      "2019-08-19 20:47:34,350 : MainThread : INFO : loading pre-existing wv from /Users/oliverborchers/Library/Mobile Documents/com~apple~CloudDocs/Diss/Medium/Fast_Sentence_Embeddings/fse/data/vectors/ft\n",
      "2019-08-19 20:47:34,361 : MainThread : INFO : loading pre-existing vocab from data/vectors/ft\n",
      "2019-08-19 20:47:34,391 : MainThread : INFO : loading pre-existing ngrams from data/vectors/ft\n",
      "2019-08-19 20:47:34,413 : MainThread : INFO : loading pre-existing wv from /Users/oliverborchers/Library/Mobile Documents/com~apple~CloudDocs/Diss/Medium/Fast_Sentence_Embeddings/fse/data/vectors/w2v\n",
      "2019-08-19 20:47:34,437 : MainThread : INFO : loading pre-existing wv from /Users/oliverborchers/Library/Mobile Documents/com~apple~CloudDocs/Diss/Medium/Fast_Sentence_Embeddings/fse/data/vectors/w2v\n",
      "2019-08-19 20:47:34,459 : MainThread : INFO : loading pre-existing wv from /Users/oliverborchers/Library/Mobile Documents/com~apple~CloudDocs/Diss/Medium/Fast_Sentence_Embeddings/fse/data/vectors/ft\n",
      "2019-08-19 20:47:34,476 : MainThread : INFO : loading pre-existing vocab from data/vectors/ft\n",
      "2019-08-19 20:47:34,487 : MainThread : INFO : loading pre-existing ngrams from data/vectors/ft\n",
      "2019-08-19 20:47:34,509 : MainThread : INFO : loading pre-existing wv from /Users/oliverborchers/Library/Mobile Documents/com~apple~CloudDocs/Diss/Medium/Fast_Sentence_Embeddings/fse/data/vectors/ft\n",
      "2019-08-19 20:47:34,524 : MainThread : INFO : loading pre-existing vocab from data/vectors/ft\n",
      "2019-08-19 20:47:34,547 : MainThread : INFO : loading pre-existing ngrams from data/vectors/ft\n",
      "2019-08-19 20:47:34,564 : MainThread : INFO : loading pre-existing wv from /Users/oliverborchers/Library/Mobile Documents/com~apple~CloudDocs/Diss/Medium/Fast_Sentence_Embeddings/fse/data/vectors/w2v\n",
      "2019-08-19 20:47:34,639 : MainThread : INFO : loading pre-existing wv from /Users/oliverborchers/Library/Mobile Documents/com~apple~CloudDocs/Diss/Medium/Fast_Sentence_Embeddings/fse/data/vectors/w2v\n",
      "2019-08-19 20:47:34,659 : MainThread : INFO : loading pre-existing wv from /Users/oliverborchers/Library/Mobile Documents/com~apple~CloudDocs/Diss/Medium/Fast_Sentence_Embeddings/fse/data/vectors/ft\n",
      "2019-08-19 20:47:34,674 : MainThread : INFO : loading pre-existing vocab from data/vectors/ft\n",
      "2019-08-19 20:47:34,691 : MainThread : INFO : loading pre-existing ngrams from data/vectors/ft\n",
      "2019-08-19 20:47:34,714 : MainThread : INFO : loading pre-existing wv from /Users/oliverborchers/Library/Mobile Documents/com~apple~CloudDocs/Diss/Medium/Fast_Sentence_Embeddings/fse/data/vectors/ft\n",
      "2019-08-19 20:47:34,738 : MainThread : INFO : loading pre-existing vocab from data/vectors/ft\n",
      "2019-08-19 20:47:34,757 : MainThread : INFO : loading pre-existing ngrams from data/vectors/ft\n",
      "2019-08-19 20:47:34,779 : MainThread : INFO : loading pre-existing wv from /Users/oliverborchers/Library/Mobile Documents/com~apple~CloudDocs/Diss/Medium/Fast_Sentence_Embeddings/fse/data/vectors/w2v\n",
      "2019-08-19 20:47:34,804 : MainThread : INFO : loading pre-existing wv from /Users/oliverborchers/Library/Mobile Documents/com~apple~CloudDocs/Diss/Medium/Fast_Sentence_Embeddings/fse/data/vectors/w2v\n",
      "2019-08-19 20:47:34,826 : MainThread : INFO : loading pre-existing wv from /Users/oliverborchers/Library/Mobile Documents/com~apple~CloudDocs/Diss/Medium/Fast_Sentence_Embeddings/fse/data/vectors/ft\n",
      "2019-08-19 20:47:34,843 : MainThread : INFO : loading pre-existing vocab from data/vectors/ft\n",
      "2019-08-19 20:47:34,861 : MainThread : INFO : loading pre-existing ngrams from data/vectors/ft\n",
      "2019-08-19 20:47:34,888 : MainThread : INFO : loading pre-existing wv from /Users/oliverborchers/Library/Mobile Documents/com~apple~CloudDocs/Diss/Medium/Fast_Sentence_Embeddings/fse/data/vectors/ft\n",
      "2019-08-19 20:47:34,908 : MainThread : INFO : loading pre-existing vocab from data/vectors/ft\n",
      "2019-08-19 20:47:34,926 : MainThread : INFO : loading pre-existing ngrams from data/vectors/ft\n"
     ]
    },
    {
     "name": "stdout",
     "output_type": "stream",
     "text": [
      "time: 1.16 s\n"
     ]
    }
   ],
   "source": [
    "models, results = {}, {}\n",
    "\n",
    "for year in tasks:\n",
    "    models[f\"CBOW-W2V-{year}\"] = Average(w2v, wv_mapfile_path = \"data/vectors/w2v\")\n",
    "    models[f\"SIF-W2V-{year}\"] = SIF(w2v, wv_mapfile_path = \"data/vectors/w2v\")\n",
    "    \n",
    "    models[f\"CBOW-FT-{year}\"] = Average(ft, wv_mapfile_path = \"data/vectors/ft\")\n",
    "    models[f\"SIF-FT-{year}\"] = SIF(ft, wv_mapfile_path = \"data/vectors/ft\")\n",
    "    \n",
    "for k in models:\n",
    "    results[k] = 0"
   ]
  },
  {
   "cell_type": "code",
   "execution_count": 23,
   "metadata": {},
   "outputs": [
    {
     "name": "stderr",
     "output_type": "stream",
     "text": [
      "2019-08-19 20:49:04,859 : MainThread : INFO : scanning all indexed sentences and their word counts\n",
      "2019-08-19 20:49:04,863 : MainThread : INFO : finished scanning 504 sentences with an average length of 13 and 6848 total words\n",
      "2019-08-19 20:49:06,113 : MainThread : INFO : estimated memory for 504 sentences with 300 dimensions and 3000000 vocabulary: 3445 MB (3 GB)\n",
      "2019-08-19 20:49:06,114 : MainThread : INFO : initializing sentence vectors for 504 sentences\n",
      "2019-08-19 20:49:06,174 : MainThread : INFO : begin training\n",
      "2019-08-19 20:49:06,397 : MainThread : INFO : worker thread finished; awaiting finish of 0 more threads\n",
      "2019-08-19 20:49:06,399 : MainThread : INFO : training on 504 effective sentences with 5060 effective words took 0s with 2236 sentences/s\n",
      "2019-08-19 20:49:06,446 : MainThread : INFO : scanning all indexed sentences and their word counts\n",
      "2019-08-19 20:49:06,448 : MainThread : INFO : finished scanning 504 sentences with an average length of 13 and 6848 total words\n"
     ]
    },
    {
     "name": "stdout",
     "output_type": "stream",
     "text": [
      "CBOW-W2V-2012 0.7467\n"
     ]
    },
    {
     "name": "stderr",
     "output_type": "stream",
     "text": [
      "2019-08-19 20:49:07,700 : MainThread : INFO : estimated memory for 504 sentences with 300 dimensions and 3000000 vocabulary: 3445 MB (3 GB)\n",
      "2019-08-19 20:49:07,701 : MainThread : INFO : initializing sentence vectors for 504 sentences\n",
      "2019-08-19 20:49:07,703 : MainThread : INFO : pre-computing SIF weights for 3000000 words\n",
      "2019-08-19 20:49:11,334 : MainThread : INFO : begin training\n",
      "2019-08-19 20:49:11,368 : MainThread : INFO : worker thread finished; awaiting finish of 0 more threads\n",
      "2019-08-19 20:49:11,369 : MainThread : INFO : computing 1 principal components\n",
      "2019-08-19 20:49:11,406 : MainThread : INFO : removing 1 principal components\n",
      "2019-08-19 20:49:11,408 : MainThread : INFO : training on 504 effective sentences with 5060 effective words took 0s with 14249 sentences/s\n",
      "2019-08-19 20:49:11,416 : MainThread : INFO : scanning all indexed sentences and their word counts\n",
      "2019-08-19 20:49:11,419 : MainThread : INFO : finished scanning 504 sentences with an average length of 13 and 6848 total words\n"
     ]
    },
    {
     "name": "stdout",
     "output_type": "stream",
     "text": [
      "SIF-W2V-2012 0.7874\n"
     ]
    },
    {
     "name": "stderr",
     "output_type": "stream",
     "text": [
      "2019-08-19 20:49:12,186 : MainThread : WARNING : Fasttext memory estimation not yet completed\n",
      "2019-08-19 20:49:12,187 : MainThread : INFO : estimated memory for 504 sentences with 300 dimensions and 2000000 vocabulary: 2297 MB (2 GB)\n",
      "2019-08-19 20:49:12,187 : MainThread : INFO : initializing sentence vectors for 504 sentences\n",
      "2019-08-19 20:49:12,228 : MainThread : INFO : begin training\n",
      "2019-08-19 20:49:12,830 : MainThread : INFO : worker thread finished; awaiting finish of 0 more threads\n",
      "2019-08-19 20:49:12,831 : MainThread : INFO : training on 504 effective sentences with 6848 effective words took 0s with 836 sentences/s\n",
      "2019-08-19 20:49:12,838 : MainThread : INFO : scanning all indexed sentences and their word counts\n",
      "2019-08-19 20:49:12,840 : MainThread : INFO : finished scanning 504 sentences with an average length of 13 and 6848 total words\n"
     ]
    },
    {
     "name": "stdout",
     "output_type": "stream",
     "text": [
      "CBOW-FT-2012 0.5099\n"
     ]
    },
    {
     "name": "stderr",
     "output_type": "stream",
     "text": [
      "2019-08-19 20:49:13,682 : MainThread : WARNING : Fasttext memory estimation not yet completed\n",
      "2019-08-19 20:49:13,683 : MainThread : INFO : estimated memory for 504 sentences with 300 dimensions and 2000000 vocabulary: 2297 MB (2 GB)\n",
      "2019-08-19 20:49:13,683 : MainThread : INFO : initializing sentence vectors for 504 sentences\n",
      "2019-08-19 20:49:13,686 : MainThread : INFO : pre-computing SIF weights for 2000000 words\n",
      "2019-08-19 20:49:16,126 : MainThread : INFO : begin training\n",
      "2019-08-19 20:49:16,209 : MainThread : INFO : worker thread finished; awaiting finish of 0 more threads\n",
      "2019-08-19 20:49:16,210 : MainThread : INFO : computing 1 principal components\n",
      "2019-08-19 20:49:16,222 : MainThread : INFO : removing 1 principal components\n",
      "2019-08-19 20:49:16,223 : MainThread : INFO : training on 504 effective sentences with 6848 effective words took 0s with 6039 sentences/s\n",
      "2019-08-19 20:49:16,235 : MainThread : INFO : scanning all indexed sentences and their word counts\n",
      "2019-08-19 20:49:16,236 : MainThread : INFO : finished scanning 144 sentences with an average length of 7 and 1101 total words\n"
     ]
    },
    {
     "name": "stdout",
     "output_type": "stream",
     "text": [
      "SIF-FT-2012 0.791\n"
     ]
    },
    {
     "name": "stderr",
     "output_type": "stream",
     "text": [
      "2019-08-19 20:49:17,500 : MainThread : INFO : estimated memory for 144 sentences with 300 dimensions and 3000000 vocabulary: 3444 MB (3 GB)\n",
      "2019-08-19 20:49:17,501 : MainThread : INFO : initializing sentence vectors for 144 sentences\n",
      "2019-08-19 20:49:17,560 : MainThread : INFO : begin training\n",
      "2019-08-19 20:49:17,622 : MainThread : INFO : worker thread finished; awaiting finish of 0 more threads\n",
      "2019-08-19 20:49:17,623 : MainThread : INFO : training on 144 effective sentences with 944 effective words took 0s with 2291 sentences/s\n",
      "2019-08-19 20:49:17,627 : MainThread : INFO : scanning all indexed sentences and their word counts\n",
      "2019-08-19 20:49:17,628 : MainThread : INFO : finished scanning 144 sentences with an average length of 7 and 1101 total words\n"
     ]
    },
    {
     "name": "stdout",
     "output_type": "stream",
     "text": [
      "CBOW-W2V-2013 0.6474\n"
     ]
    },
    {
     "name": "stderr",
     "output_type": "stream",
     "text": [
      "2019-08-19 20:49:18,913 : MainThread : INFO : estimated memory for 144 sentences with 300 dimensions and 3000000 vocabulary: 3444 MB (3 GB)\n",
      "2019-08-19 20:49:18,914 : MainThread : INFO : initializing sentence vectors for 144 sentences\n",
      "2019-08-19 20:49:18,916 : MainThread : INFO : pre-computing SIF weights for 3000000 words\n",
      "2019-08-19 20:49:22,562 : MainThread : INFO : begin training\n",
      "2019-08-19 20:49:22,571 : MainThread : INFO : worker thread finished; awaiting finish of 0 more threads\n",
      "2019-08-19 20:49:22,572 : MainThread : INFO : computing 1 principal components\n",
      "2019-08-19 20:49:22,576 : MainThread : INFO : removing 1 principal components\n",
      "2019-08-19 20:49:22,577 : MainThread : INFO : training on 144 effective sentences with 944 effective words took 0s with 15062 sentences/s\n",
      "2019-08-19 20:49:22,581 : MainThread : INFO : scanning all indexed sentences and their word counts\n",
      "2019-08-19 20:49:22,583 : MainThread : INFO : finished scanning 144 sentences with an average length of 7 and 1101 total words\n"
     ]
    },
    {
     "name": "stdout",
     "output_type": "stream",
     "text": [
      "SIF-W2V-2013 0.6741\n"
     ]
    },
    {
     "name": "stderr",
     "output_type": "stream",
     "text": [
      "2019-08-19 20:49:23,424 : MainThread : WARNING : Fasttext memory estimation not yet completed\n",
      "2019-08-19 20:49:23,425 : MainThread : INFO : estimated memory for 144 sentences with 300 dimensions and 2000000 vocabulary: 2296 MB (2 GB)\n",
      "2019-08-19 20:49:23,426 : MainThread : INFO : initializing sentence vectors for 144 sentences\n",
      "2019-08-19 20:49:23,463 : MainThread : INFO : begin training\n",
      "2019-08-19 20:49:23,575 : MainThread : INFO : worker thread finished; awaiting finish of 0 more threads\n",
      "2019-08-19 20:49:23,576 : MainThread : INFO : training on 144 effective sentences with 1101 effective words took 0s with 1267 sentences/s\n",
      "2019-08-19 20:49:23,579 : MainThread : INFO : scanning all indexed sentences and their word counts\n",
      "2019-08-19 20:49:23,580 : MainThread : INFO : finished scanning 144 sentences with an average length of 7 and 1101 total words\n"
     ]
    },
    {
     "name": "stdout",
     "output_type": "stream",
     "text": [
      "CBOW-FT-2013 0.6506\n"
     ]
    },
    {
     "name": "stderr",
     "output_type": "stream",
     "text": [
      "2019-08-19 20:49:24,399 : MainThread : WARNING : Fasttext memory estimation not yet completed\n",
      "2019-08-19 20:49:24,400 : MainThread : INFO : estimated memory for 144 sentences with 300 dimensions and 2000000 vocabulary: 2296 MB (2 GB)\n",
      "2019-08-19 20:49:24,401 : MainThread : INFO : initializing sentence vectors for 144 sentences\n",
      "2019-08-19 20:49:24,402 : MainThread : INFO : pre-computing SIF weights for 2000000 words\n",
      "2019-08-19 20:49:26,894 : MainThread : INFO : begin training\n",
      "2019-08-19 20:49:26,917 : MainThread : INFO : worker thread finished; awaiting finish of 0 more threads\n",
      "2019-08-19 20:49:26,918 : MainThread : INFO : computing 1 principal components\n",
      "2019-08-19 20:49:26,925 : MainThread : INFO : removing 1 principal components\n",
      "2019-08-19 20:49:26,927 : MainThread : INFO : training on 144 effective sentences with 1101 effective words took 0s with 6051 sentences/s\n",
      "2019-08-19 20:49:26,934 : MainThread : INFO : scanning all indexed sentences and their word counts\n",
      "2019-08-19 20:49:26,937 : MainThread : INFO : finished scanning 404 sentences with an average length of 9 and 3763 total words\n"
     ]
    },
    {
     "name": "stdout",
     "output_type": "stream",
     "text": [
      "SIF-FT-2013 0.7039\n"
     ]
    },
    {
     "name": "stderr",
     "output_type": "stream",
     "text": [
      "2019-08-19 20:49:28,220 : MainThread : INFO : estimated memory for 404 sentences with 300 dimensions and 3000000 vocabulary: 3445 MB (3 GB)\n",
      "2019-08-19 20:49:28,221 : MainThread : INFO : initializing sentence vectors for 404 sentences\n",
      "2019-08-19 20:49:28,275 : MainThread : INFO : begin training\n",
      "2019-08-19 20:49:28,356 : MainThread : INFO : worker thread finished; awaiting finish of 0 more threads\n",
      "2019-08-19 20:49:28,357 : MainThread : INFO : training on 404 effective sentences with 2833 effective words took 0s with 4958 sentences/s\n",
      "2019-08-19 20:49:28,365 : MainThread : INFO : scanning all indexed sentences and their word counts\n",
      "2019-08-19 20:49:28,367 : MainThread : INFO : finished scanning 404 sentences with an average length of 9 and 3763 total words\n"
     ]
    },
    {
     "name": "stdout",
     "output_type": "stream",
     "text": [
      "CBOW-W2V-2014 0.7105\n"
     ]
    },
    {
     "name": "stderr",
     "output_type": "stream",
     "text": [
      "2019-08-19 20:49:29,659 : MainThread : INFO : estimated memory for 404 sentences with 300 dimensions and 3000000 vocabulary: 3445 MB (3 GB)\n",
      "2019-08-19 20:49:29,660 : MainThread : INFO : initializing sentence vectors for 404 sentences\n",
      "2019-08-19 20:49:29,662 : MainThread : INFO : pre-computing SIF weights for 3000000 words\n",
      "2019-08-19 20:49:33,314 : MainThread : INFO : begin training\n",
      "2019-08-19 20:49:33,335 : MainThread : INFO : worker thread finished; awaiting finish of 0 more threads\n",
      "2019-08-19 20:49:33,336 : MainThread : INFO : computing 1 principal components\n",
      "2019-08-19 20:49:33,344 : MainThread : INFO : removing 1 principal components\n",
      "2019-08-19 20:49:33,345 : MainThread : INFO : training on 404 effective sentences with 2833 effective words took 0s with 18419 sentences/s\n",
      "2019-08-19 20:49:33,352 : MainThread : INFO : scanning all indexed sentences and their word counts\n",
      "2019-08-19 20:49:33,354 : MainThread : INFO : finished scanning 404 sentences with an average length of 9 and 3763 total words\n"
     ]
    },
    {
     "name": "stdout",
     "output_type": "stream",
     "text": [
      "SIF-W2V-2014 0.755\n"
     ]
    },
    {
     "name": "stderr",
     "output_type": "stream",
     "text": [
      "2019-08-19 20:49:34,200 : MainThread : WARNING : Fasttext memory estimation not yet completed\n",
      "2019-08-19 20:49:34,201 : MainThread : INFO : estimated memory for 404 sentences with 300 dimensions and 2000000 vocabulary: 2296 MB (2 GB)\n",
      "2019-08-19 20:49:34,202 : MainThread : INFO : initializing sentence vectors for 404 sentences\n",
      "2019-08-19 20:49:34,240 : MainThread : INFO : begin training\n",
      "2019-08-19 20:49:34,370 : MainThread : INFO : worker thread finished; awaiting finish of 0 more threads\n",
      "2019-08-19 20:49:34,371 : MainThread : INFO : training on 404 effective sentences with 3763 effective words took 0s with 3064 sentences/s\n",
      "2019-08-19 20:49:34,382 : MainThread : INFO : scanning all indexed sentences and their word counts\n",
      "2019-08-19 20:49:34,384 : MainThread : INFO : finished scanning 404 sentences with an average length of 9 and 3763 total words\n"
     ]
    },
    {
     "name": "stdout",
     "output_type": "stream",
     "text": [
      "CBOW-FT-2014 0.4882\n"
     ]
    },
    {
     "name": "stderr",
     "output_type": "stream",
     "text": [
      "2019-08-19 20:49:35,265 : MainThread : WARNING : Fasttext memory estimation not yet completed\n",
      "2019-08-19 20:49:35,266 : MainThread : INFO : estimated memory for 404 sentences with 300 dimensions and 2000000 vocabulary: 2296 MB (2 GB)\n",
      "2019-08-19 20:49:35,267 : MainThread : INFO : initializing sentence vectors for 404 sentences\n",
      "2019-08-19 20:49:35,269 : MainThread : INFO : pre-computing SIF weights for 2000000 words\n",
      "2019-08-19 20:49:37,707 : MainThread : INFO : begin training\n",
      "2019-08-19 20:49:37,755 : MainThread : INFO : worker thread finished; awaiting finish of 0 more threads\n",
      "2019-08-19 20:49:37,756 : MainThread : INFO : computing 1 principal components\n",
      "2019-08-19 20:49:37,761 : MainThread : INFO : removing 1 principal components\n",
      "2019-08-19 20:49:37,763 : MainThread : INFO : training on 404 effective sentences with 3763 effective words took 0s with 8224 sentences/s\n",
      "2019-08-19 20:49:37,772 : MainThread : INFO : scanning all indexed sentences and their word counts\n",
      "2019-08-19 20:49:37,774 : MainThread : INFO : finished scanning 392 sentences with an average length of 9 and 3640 total words\n"
     ]
    },
    {
     "name": "stdout",
     "output_type": "stream",
     "text": [
      "SIF-FT-2014 0.7789\n"
     ]
    },
    {
     "name": "stderr",
     "output_type": "stream",
     "text": [
      "2019-08-19 20:49:39,041 : MainThread : INFO : estimated memory for 392 sentences with 300 dimensions and 3000000 vocabulary: 3445 MB (3 GB)\n",
      "2019-08-19 20:49:39,042 : MainThread : INFO : initializing sentence vectors for 392 sentences\n",
      "2019-08-19 20:49:39,098 : MainThread : INFO : begin training\n",
      "2019-08-19 20:49:39,171 : MainThread : INFO : worker thread finished; awaiting finish of 0 more threads\n",
      "2019-08-19 20:49:39,172 : MainThread : INFO : training on 392 effective sentences with 2849 effective words took 0s with 5254 sentences/s\n",
      "2019-08-19 20:49:39,179 : MainThread : INFO : scanning all indexed sentences and their word counts\n",
      "2019-08-19 20:49:39,181 : MainThread : INFO : finished scanning 392 sentences with an average length of 9 and 3640 total words\n"
     ]
    },
    {
     "name": "stdout",
     "output_type": "stream",
     "text": [
      "CBOW-W2V-2015 0.732\n"
     ]
    },
    {
     "name": "stderr",
     "output_type": "stream",
     "text": [
      "2019-08-19 20:49:40,420 : MainThread : INFO : estimated memory for 392 sentences with 300 dimensions and 3000000 vocabulary: 3445 MB (3 GB)\n",
      "2019-08-19 20:49:40,421 : MainThread : INFO : initializing sentence vectors for 392 sentences\n",
      "2019-08-19 20:49:40,423 : MainThread : INFO : pre-computing SIF weights for 3000000 words\n",
      "2019-08-19 20:49:44,068 : MainThread : INFO : begin training\n",
      "2019-08-19 20:49:44,088 : MainThread : INFO : worker thread finished; awaiting finish of 0 more threads\n",
      "2019-08-19 20:49:44,089 : MainThread : INFO : computing 1 principal components\n",
      "2019-08-19 20:49:44,094 : MainThread : INFO : removing 1 principal components\n",
      "2019-08-19 20:49:44,095 : MainThread : INFO : training on 392 effective sentences with 2849 effective words took 0s with 19355 sentences/s\n",
      "2019-08-19 20:49:44,103 : MainThread : INFO : scanning all indexed sentences and their word counts\n",
      "2019-08-19 20:49:44,105 : MainThread : INFO : finished scanning 392 sentences with an average length of 9 and 3640 total words\n"
     ]
    },
    {
     "name": "stdout",
     "output_type": "stream",
     "text": [
      "SIF-W2V-2015 0.783\n"
     ]
    },
    {
     "name": "stderr",
     "output_type": "stream",
     "text": [
      "2019-08-19 20:49:44,929 : MainThread : WARNING : Fasttext memory estimation not yet completed\n",
      "2019-08-19 20:49:44,930 : MainThread : INFO : estimated memory for 392 sentences with 300 dimensions and 2000000 vocabulary: 2296 MB (2 GB)\n",
      "2019-08-19 20:49:44,931 : MainThread : INFO : initializing sentence vectors for 392 sentences\n",
      "2019-08-19 20:49:44,967 : MainThread : INFO : begin training\n",
      "2019-08-19 20:49:45,115 : MainThread : INFO : worker thread finished; awaiting finish of 0 more threads\n",
      "2019-08-19 20:49:45,116 : MainThread : INFO : training on 392 effective sentences with 3640 effective words took 0s with 2625 sentences/s\n",
      "2019-08-19 20:49:45,121 : MainThread : INFO : scanning all indexed sentences and their word counts\n",
      "2019-08-19 20:49:45,123 : MainThread : INFO : finished scanning 392 sentences with an average length of 9 and 3640 total words\n"
     ]
    },
    {
     "name": "stdout",
     "output_type": "stream",
     "text": [
      "CBOW-FT-2015 0.579\n"
     ]
    },
    {
     "name": "stderr",
     "output_type": "stream",
     "text": [
      "2019-08-19 20:49:45,974 : MainThread : WARNING : Fasttext memory estimation not yet completed\n",
      "2019-08-19 20:49:45,974 : MainThread : INFO : estimated memory for 392 sentences with 300 dimensions and 2000000 vocabulary: 2296 MB (2 GB)\n",
      "2019-08-19 20:49:45,975 : MainThread : INFO : initializing sentence vectors for 392 sentences\n",
      "2019-08-19 20:49:45,977 : MainThread : INFO : pre-computing SIF weights for 2000000 words\n",
      "2019-08-19 20:49:48,415 : MainThread : INFO : begin training\n",
      "2019-08-19 20:49:48,461 : MainThread : INFO : worker thread finished; awaiting finish of 0 more threads\n",
      "2019-08-19 20:49:48,461 : MainThread : INFO : computing 1 principal components\n",
      "2019-08-19 20:49:48,467 : MainThread : INFO : removing 1 principal components\n",
      "2019-08-19 20:49:48,468 : MainThread : INFO : training on 392 effective sentences with 3640 effective words took 0s with 8446 sentences/s\n",
      "2019-08-19 20:49:48,477 : MainThread : INFO : scanning all indexed sentences and their word counts\n",
      "2019-08-19 20:49:48,481 : MainThread : INFO : finished scanning 568 sentences with an average length of 9 and 5582 total words\n"
     ]
    },
    {
     "name": "stdout",
     "output_type": "stream",
     "text": [
      "SIF-FT-2015 0.7961\n"
     ]
    },
    {
     "name": "stderr",
     "output_type": "stream",
     "text": [
      "2019-08-19 20:49:49,726 : MainThread : INFO : estimated memory for 568 sentences with 300 dimensions and 3000000 vocabulary: 3445 MB (3 GB)\n",
      "2019-08-19 20:49:49,726 : MainThread : INFO : initializing sentence vectors for 568 sentences\n",
      "2019-08-19 20:49:49,779 : MainThread : INFO : begin training\n",
      "2019-08-19 20:49:49,838 : MainThread : INFO : worker thread finished; awaiting finish of 0 more threads\n",
      "2019-08-19 20:49:49,839 : MainThread : INFO : training on 568 effective sentences with 4534 effective words took 0s with 9577 sentences/s\n",
      "2019-08-19 20:49:49,846 : MainThread : INFO : scanning all indexed sentences and their word counts\n",
      "2019-08-19 20:49:49,849 : MainThread : INFO : finished scanning 568 sentences with an average length of 9 and 5582 total words\n"
     ]
    },
    {
     "name": "stdout",
     "output_type": "stream",
     "text": [
      "CBOW-W2V-2016 0.4194\n"
     ]
    },
    {
     "name": "stderr",
     "output_type": "stream",
     "text": [
      "2019-08-19 20:49:51,122 : MainThread : INFO : estimated memory for 568 sentences with 300 dimensions and 3000000 vocabulary: 3445 MB (3 GB)\n",
      "2019-08-19 20:49:51,123 : MainThread : INFO : initializing sentence vectors for 568 sentences\n",
      "2019-08-19 20:49:51,125 : MainThread : INFO : pre-computing SIF weights for 3000000 words\n",
      "2019-08-19 20:49:54,947 : MainThread : INFO : begin training\n",
      "2019-08-19 20:49:54,974 : MainThread : INFO : worker thread finished; awaiting finish of 0 more threads\n",
      "2019-08-19 20:49:54,975 : MainThread : INFO : computing 1 principal components\n",
      "2019-08-19 20:49:54,980 : MainThread : INFO : removing 1 principal components\n",
      "2019-08-19 20:49:54,982 : MainThread : INFO : training on 568 effective sentences with 4534 effective words took 0s with 20367 sentences/s\n",
      "2019-08-19 20:49:54,992 : MainThread : INFO : scanning all indexed sentences and their word counts\n",
      "2019-08-19 20:49:54,996 : MainThread : INFO : finished scanning 568 sentences with an average length of 9 and 5582 total words\n"
     ]
    },
    {
     "name": "stdout",
     "output_type": "stream",
     "text": [
      "SIF-W2V-2016 0.5533\n"
     ]
    },
    {
     "name": "stderr",
     "output_type": "stream",
     "text": [
      "2019-08-19 20:49:55,840 : MainThread : WARNING : Fasttext memory estimation not yet completed\n",
      "2019-08-19 20:49:55,841 : MainThread : INFO : estimated memory for 568 sentences with 300 dimensions and 2000000 vocabulary: 2297 MB (2 GB)\n",
      "2019-08-19 20:49:55,842 : MainThread : INFO : initializing sentence vectors for 568 sentences\n",
      "2019-08-19 20:49:55,882 : MainThread : INFO : begin training\n",
      "2019-08-19 20:49:56,002 : MainThread : INFO : worker thread finished; awaiting finish of 0 more threads\n",
      "2019-08-19 20:49:56,003 : MainThread : INFO : training on 568 effective sentences with 5582 effective words took 0s with 4692 sentences/s\n",
      "2019-08-19 20:49:56,012 : MainThread : INFO : scanning all indexed sentences and their word counts\n",
      "2019-08-19 20:49:56,014 : MainThread : INFO : finished scanning 568 sentences with an average length of 9 and 5582 total words\n"
     ]
    },
    {
     "name": "stdout",
     "output_type": "stream",
     "text": [
      "CBOW-FT-2016 0.3626\n"
     ]
    },
    {
     "name": "stderr",
     "output_type": "stream",
     "text": [
      "2019-08-19 20:49:56,846 : MainThread : WARNING : Fasttext memory estimation not yet completed\n",
      "2019-08-19 20:49:56,847 : MainThread : INFO : estimated memory for 568 sentences with 300 dimensions and 2000000 vocabulary: 2297 MB (2 GB)\n",
      "2019-08-19 20:49:56,848 : MainThread : INFO : initializing sentence vectors for 568 sentences\n",
      "2019-08-19 20:49:56,851 : MainThread : INFO : pre-computing SIF weights for 2000000 words\n",
      "2019-08-19 20:49:59,281 : MainThread : INFO : begin training\n",
      "2019-08-19 20:49:59,348 : MainThread : INFO : worker thread finished; awaiting finish of 0 more threads\n",
      "2019-08-19 20:49:59,349 : MainThread : INFO : computing 1 principal components\n",
      "2019-08-19 20:49:59,355 : MainThread : INFO : removing 1 principal components\n",
      "2019-08-19 20:49:59,356 : MainThread : INFO : training on 568 effective sentences with 5582 effective words took 0s with 8317 sentences/s\n",
      "2019-08-19 20:49:59,370 : MainThread : INFO : scanning all indexed sentences and their word counts\n",
      "2019-08-19 20:49:59,372 : MainThread : INFO : finished scanning 250 sentences with an average length of 9 and 2319 total words\n"
     ]
    },
    {
     "name": "stdout",
     "output_type": "stream",
     "text": [
      "SIF-FT-2016 0.5369\n"
     ]
    },
    {
     "name": "stderr",
     "output_type": "stream",
     "text": [
      "2019-08-19 20:50:00,620 : MainThread : INFO : estimated memory for 250 sentences with 300 dimensions and 3000000 vocabulary: 3444 MB (3 GB)\n",
      "2019-08-19 20:50:00,621 : MainThread : INFO : initializing sentence vectors for 250 sentences\n",
      "2019-08-19 20:50:00,674 : MainThread : INFO : begin training\n",
      "2019-08-19 20:50:00,707 : MainThread : INFO : worker thread finished; awaiting finish of 0 more threads\n",
      "2019-08-19 20:50:00,708 : MainThread : INFO : training on 250 effective sentences with 1696 effective words took 0s with 7436 sentences/s\n",
      "2019-08-19 20:50:00,715 : MainThread : INFO : scanning all indexed sentences and their word counts\n",
      "2019-08-19 20:50:00,716 : MainThread : INFO : finished scanning 250 sentences with an average length of 9 and 2319 total words\n"
     ]
    },
    {
     "name": "stdout",
     "output_type": "stream",
     "text": [
      "CBOW-W2V-2017 0.679\n"
     ]
    },
    {
     "name": "stderr",
     "output_type": "stream",
     "text": [
      "2019-08-19 20:50:01,997 : MainThread : INFO : estimated memory for 250 sentences with 300 dimensions and 3000000 vocabulary: 3444 MB (3 GB)\n",
      "2019-08-19 20:50:01,997 : MainThread : INFO : initializing sentence vectors for 250 sentences\n",
      "2019-08-19 20:50:01,999 : MainThread : INFO : pre-computing SIF weights for 3000000 words\n",
      "2019-08-19 20:50:05,621 : MainThread : INFO : begin training\n",
      "2019-08-19 20:50:05,635 : MainThread : INFO : worker thread finished; awaiting finish of 0 more threads\n",
      "2019-08-19 20:50:05,636 : MainThread : INFO : computing 1 principal components\n",
      "2019-08-19 20:50:05,640 : MainThread : INFO : removing 1 principal components\n",
      "2019-08-19 20:50:05,642 : MainThread : INFO : training on 250 effective sentences with 1696 effective words took 0s with 17379 sentences/s\n",
      "2019-08-19 20:50:05,648 : MainThread : INFO : scanning all indexed sentences and their word counts\n",
      "2019-08-19 20:50:05,650 : MainThread : INFO : finished scanning 250 sentences with an average length of 9 and 2319 total words\n"
     ]
    },
    {
     "name": "stdout",
     "output_type": "stream",
     "text": [
      "SIF-W2V-2017 0.7708\n"
     ]
    },
    {
     "name": "stderr",
     "output_type": "stream",
     "text": [
      "2019-08-19 20:50:06,491 : MainThread : WARNING : Fasttext memory estimation not yet completed\n",
      "2019-08-19 20:50:06,491 : MainThread : INFO : estimated memory for 250 sentences with 300 dimensions and 2000000 vocabulary: 2296 MB (2 GB)\n",
      "2019-08-19 20:50:06,492 : MainThread : INFO : initializing sentence vectors for 250 sentences\n",
      "2019-08-19 20:50:06,528 : MainThread : INFO : begin training\n",
      "2019-08-19 20:50:06,571 : MainThread : INFO : worker thread finished; awaiting finish of 0 more threads\n",
      "2019-08-19 20:50:06,572 : MainThread : INFO : training on 250 effective sentences with 2319 effective words took 0s with 5679 sentences/s\n",
      "2019-08-19 20:50:06,576 : MainThread : INFO : scanning all indexed sentences and their word counts\n",
      "2019-08-19 20:50:06,577 : MainThread : INFO : finished scanning 250 sentences with an average length of 9 and 2319 total words\n"
     ]
    },
    {
     "name": "stdout",
     "output_type": "stream",
     "text": [
      "CBOW-FT-2017 0.5091\n"
     ]
    },
    {
     "name": "stderr",
     "output_type": "stream",
     "text": [
      "2019-08-19 20:50:07,437 : MainThread : WARNING : Fasttext memory estimation not yet completed\n",
      "2019-08-19 20:50:07,438 : MainThread : INFO : estimated memory for 250 sentences with 300 dimensions and 2000000 vocabulary: 2296 MB (2 GB)\n",
      "2019-08-19 20:50:07,438 : MainThread : INFO : initializing sentence vectors for 250 sentences\n",
      "2019-08-19 20:50:07,440 : MainThread : INFO : pre-computing SIF weights for 2000000 words\n",
      "2019-08-19 20:50:09,896 : MainThread : INFO : begin training\n",
      "2019-08-19 20:50:09,926 : MainThread : INFO : worker thread finished; awaiting finish of 0 more threads\n",
      "2019-08-19 20:50:09,927 : MainThread : INFO : computing 1 principal components\n",
      "2019-08-19 20:50:09,932 : MainThread : INFO : removing 1 principal components\n",
      "2019-08-19 20:50:09,933 : MainThread : INFO : training on 250 effective sentences with 2319 effective words took 0s with 8113 sentences/s\n"
     ]
    },
    {
     "name": "stdout",
     "output_type": "stream",
     "text": [
      "SIF-FT-2017 0.7487\n",
      "time: 1min 5s\n"
     ]
    }
   ],
   "source": [
    "for year in tasks:\n",
    "    df = sts_data[sts_data.task == year]\n",
    "    sents_a = df.sent_a.values.tolist()\n",
    "    sents_b = df.sent_b.values.tolist()\n",
    "    assert len(sents_a) == len(sents_b)\n",
    "\n",
    "    task_length = len(sents_a)\n",
    "    sents_a.extend(sents_b)\n",
    "    \n",
    "    sents = [IndexedSentence(s, i) for i,s in enumerate(sents_a)]\n",
    "    \n",
    "    for k, m in models.items():\n",
    "        if k.split(\"-\")[-1] != year:\n",
    "            continue\n",
    "        \n",
    "        m_type  = k.split(\"-\")[0]\n",
    "        emb_type = k.split(\"-\")[1]\n",
    "        \n",
    "        m.train(sents)\n",
    "        r = pearsonr(df.sim, compute_similarities(task_length, m))[0].round(4)\n",
    "        \n",
    "        results[f\"{m_type}-{emb_type}-{year}\"] = r * 100\n",
    "        print(k, r)"
   ]
  },
  {
   "cell_type": "code",
   "execution_count": 24,
   "metadata": {},
   "outputs": [
    {
     "data": {
      "text/html": [
       "<div>\n",
       "<style scoped>\n",
       "    .dataframe tbody tr th:only-of-type {\n",
       "        vertical-align: middle;\n",
       "    }\n",
       "\n",
       "    .dataframe tbody tr th {\n",
       "        vertical-align: top;\n",
       "    }\n",
       "\n",
       "    .dataframe thead th {\n",
       "        text-align: right;\n",
       "    }\n",
       "</style>\n",
       "<table border=\"1\" class=\"dataframe\">\n",
       "  <thead>\n",
       "    <tr style=\"text-align: right;\">\n",
       "      <th></th>\n",
       "      <th>Pearson</th>\n",
       "    </tr>\n",
       "  </thead>\n",
       "  <tbody>\n",
       "    <tr>\n",
       "      <th>CBOW-W2V-2012</th>\n",
       "      <td>74.67</td>\n",
       "    </tr>\n",
       "    <tr>\n",
       "      <th>SIF-W2V-2012</th>\n",
       "      <td>78.74</td>\n",
       "    </tr>\n",
       "    <tr>\n",
       "      <th>CBOW-FT-2012</th>\n",
       "      <td>50.99</td>\n",
       "    </tr>\n",
       "    <tr>\n",
       "      <th>SIF-FT-2012</th>\n",
       "      <td>79.10</td>\n",
       "    </tr>\n",
       "    <tr>\n",
       "      <th>CBOW-W2V-2013</th>\n",
       "      <td>64.74</td>\n",
       "    </tr>\n",
       "    <tr>\n",
       "      <th>SIF-W2V-2013</th>\n",
       "      <td>67.41</td>\n",
       "    </tr>\n",
       "    <tr>\n",
       "      <th>CBOW-FT-2013</th>\n",
       "      <td>65.06</td>\n",
       "    </tr>\n",
       "    <tr>\n",
       "      <th>SIF-FT-2013</th>\n",
       "      <td>70.39</td>\n",
       "    </tr>\n",
       "    <tr>\n",
       "      <th>CBOW-W2V-2014</th>\n",
       "      <td>71.05</td>\n",
       "    </tr>\n",
       "    <tr>\n",
       "      <th>SIF-W2V-2014</th>\n",
       "      <td>75.50</td>\n",
       "    </tr>\n",
       "    <tr>\n",
       "      <th>CBOW-FT-2014</th>\n",
       "      <td>48.82</td>\n",
       "    </tr>\n",
       "    <tr>\n",
       "      <th>SIF-FT-2014</th>\n",
       "      <td>77.89</td>\n",
       "    </tr>\n",
       "    <tr>\n",
       "      <th>CBOW-W2V-2015</th>\n",
       "      <td>73.20</td>\n",
       "    </tr>\n",
       "    <tr>\n",
       "      <th>SIF-W2V-2015</th>\n",
       "      <td>78.30</td>\n",
       "    </tr>\n",
       "    <tr>\n",
       "      <th>CBOW-FT-2015</th>\n",
       "      <td>57.90</td>\n",
       "    </tr>\n",
       "    <tr>\n",
       "      <th>SIF-FT-2015</th>\n",
       "      <td>79.61</td>\n",
       "    </tr>\n",
       "    <tr>\n",
       "      <th>CBOW-W2V-2016</th>\n",
       "      <td>41.94</td>\n",
       "    </tr>\n",
       "    <tr>\n",
       "      <th>SIF-W2V-2016</th>\n",
       "      <td>55.33</td>\n",
       "    </tr>\n",
       "    <tr>\n",
       "      <th>CBOW-FT-2016</th>\n",
       "      <td>36.26</td>\n",
       "    </tr>\n",
       "    <tr>\n",
       "      <th>SIF-FT-2016</th>\n",
       "      <td>53.69</td>\n",
       "    </tr>\n",
       "    <tr>\n",
       "      <th>CBOW-W2V-2017</th>\n",
       "      <td>67.90</td>\n",
       "    </tr>\n",
       "    <tr>\n",
       "      <th>SIF-W2V-2017</th>\n",
       "      <td>77.08</td>\n",
       "    </tr>\n",
       "    <tr>\n",
       "      <th>CBOW-FT-2017</th>\n",
       "      <td>50.91</td>\n",
       "    </tr>\n",
       "    <tr>\n",
       "      <th>SIF-FT-2017</th>\n",
       "      <td>74.87</td>\n",
       "    </tr>\n",
       "  </tbody>\n",
       "</table>\n",
       "</div>"
      ],
      "text/plain": [
       "               Pearson\n",
       "CBOW-W2V-2012    74.67\n",
       "SIF-W2V-2012     78.74\n",
       "CBOW-FT-2012     50.99\n",
       "SIF-FT-2012      79.10\n",
       "CBOW-W2V-2013    64.74\n",
       "SIF-W2V-2013     67.41\n",
       "CBOW-FT-2013     65.06\n",
       "SIF-FT-2013      70.39\n",
       "CBOW-W2V-2014    71.05\n",
       "SIF-W2V-2014     75.50\n",
       "CBOW-FT-2014     48.82\n",
       "SIF-FT-2014      77.89\n",
       "CBOW-W2V-2015    73.20\n",
       "SIF-W2V-2015     78.30\n",
       "CBOW-FT-2015     57.90\n",
       "SIF-FT-2015      79.61\n",
       "CBOW-W2V-2016    41.94\n",
       "SIF-W2V-2016     55.33\n",
       "CBOW-FT-2016     36.26\n",
       "SIF-FT-2016      53.69\n",
       "CBOW-W2V-2017    67.90\n",
       "SIF-W2V-2017     77.08\n",
       "CBOW-FT-2017     50.91\n",
       "SIF-FT-2017      74.87"
      ]
     },
     "execution_count": 24,
     "metadata": {},
     "output_type": "execute_result"
    },
    {
     "name": "stdout",
     "output_type": "stream",
     "text": [
      "time: 22.3 ms\n"
     ]
    }
   ],
   "source": [
    "pd.DataFrame.from_dict(results, orient=\"index\", columns=[\"Pearson\"])"
   ]
  }
 ],
 "metadata": {
  "kernelspec": {
   "display_name": "Python 3",
   "language": "python",
   "name": "python3"
  },
  "language_info": {
   "codemirror_mode": {
    "name": "ipython",
    "version": 3
   },
   "file_extension": ".py",
   "mimetype": "text/x-python",
   "name": "python",
   "nbconvert_exporter": "python",
   "pygments_lexer": "ipython3",
   "version": "3.7.3"
  }
 },
 "nbformat": 4,
 "nbformat_minor": 2
}
