{
 "cells": [
  {
   "cell_type": "markdown",
   "metadata": {},
   "source": [
    "# STS Benchmark Datasets"
   ]
  },
  {
   "cell_type": "code",
   "execution_count": 1,
   "metadata": {},
   "outputs": [],
   "source": [
    "%load_ext autotime\n",
    "import numpy as np\n",
    "import logging\n",
    "import pandas as pd\n",
    "import pathlib\n",
    "\n",
    "from gensim.models import Word2Vec, FastText\n",
    "from gensim.models.keyedvectors import KeyedVectors, FastTextKeyedVectors\n",
    "\n",
    "from fse.models.average import Average\n",
    "from fse.models.sif import SIF\n",
    "from fse.models.usif import uSIF\n",
    "from fse.models.inputs import IndexedSentence\n",
    "\n",
    "from re import sub\n",
    "from scipy.stats import pearsonr\n",
    "\n",
    "import re\n",
    "from nltk import word_tokenize\n",
    "\n",
    "logging.basicConfig(format='%(asctime)s : %(threadName)s : %(levelname)s : %(message)s',\n",
    "                    level=logging.INFO\n",
    "                   )\n",
    "\n",
    "# This part is directly taken form the uSIF implementation\n",
    "not_punc = re.compile('.*[A-Za-z0-9].*')\n",
    "\n",
    "def preprocess(t):\n",
    "    t = t.lower().strip(\"';.:()\").strip('\"')\n",
    "    t = 'not' if t == \"n't\" else t\n",
    "    return re.split(r'[-]', t)\n",
    "\n",
    "def normalize_text(sentence):\n",
    "    tokens = []\n",
    "    \n",
    "    for token in word_tokenize(sentence):\n",
    "        if not_punc.match(token):\n",
    "            tokens = tokens + preprocess(token)\n",
    "    return tokens\n",
    "\n",
    "def compute_similarities(task_length, model):\n",
    "    sims = []\n",
    "    for i, j in zip(range(task_length), range(task_length, 2*task_length)):\n",
    "        sims.append(model.sv.similarity(i,j))\n",
    "    return sims\n",
    "\n",
    "file= \"data/stsbenchmark/sts-test.csv\"\n",
    "similarities, sent_a, sent_b = [], [], []\n",
    "with open(file, \"r\") as f:\n",
    "    for l in f:\n",
    "        line = l.rstrip().split(\"\\t\")\n",
    "        similarities.append(float(line[4]))\n",
    "        sent_a.append(normalize_text(line[5]))\n",
    "        sent_b.append(normalize_text(line[6]))\n",
    "similarities = np.array(similarities)\n",
    "assert len(similarities) == len(sent_a) == len(sent_b)\n",
    "task_length = len(similarities)\n",
    "final_sents = sent_a + sent_b\n",
    "sents = [IndexedSentence(s, i) for i,s in enumerate(final_sents)]"
   ]
  },
  {
   "cell_type": "code",
   "execution_count": 2,
   "metadata": {},
   "outputs": [
    {
     "name": "stdout",
     "output_type": "stream",
     "text": [
      "time: 625 µs\n"
     ]
    }
   ],
   "source": [
    "models, results = {}, {}"
   ]
  },
  {
   "cell_type": "code",
   "execution_count": 3,
   "metadata": {},
   "outputs": [
    {
     "name": "stderr",
     "output_type": "stream",
     "text": [
      "2019-08-20 16:32:52,869 : MainThread : INFO : loading Average object from data/vectors/glove.model\n",
      "2019-08-20 16:32:57,377 : MainThread : INFO : loading wv recursively from data/vectors/glove.model.wv.* with mmap=None\n",
      "2019-08-20 16:32:57,377 : MainThread : INFO : loading sv recursively from data/vectors/glove.model.sv.* with mmap=None\n",
      "2019-08-20 16:32:57,378 : MainThread : INFO : loading prep recursively from data/vectors/glove.model.prep.* with mmap=None\n",
      "2019-08-20 16:32:57,378 : MainThread : INFO : loaded data/vectors/glove.model\n",
      "/Users/oliverborchers/Library/Mobile Documents/com~apple~CloudDocs/Diss/Medium/Fast_Sentence_Embeddings/fse/models/base_s2v.py:157: UserWarning: C extension not loaded, training/inferring will be slow. Install a C compiler and reinstall fse.\n",
      "  \"C extension not loaded, training/inferring will be slow. \"\n",
      "2019-08-20 16:32:57,395 : MainThread : INFO : loading pre-existing wv from /Users/oliverborchers/Library/Mobile Documents/com~apple~CloudDocs/Diss/Medium/Fast_Sentence_Embeddings/fse/data/vectors/glove_wv.vectors\n"
     ]
    },
    {
     "name": "stdout",
     "output_type": "stream",
     "text": [
      "time: 4.56 s\n"
     ]
    }
   ],
   "source": [
    "avg_glove = Average.load(\"data/vectors/glove.model\")\n",
    "models[f\"CBOW-Glove\"] = Average(avg_glove.wv, wv_mapfile_path=\"data/vectors/glove\")\n",
    "models[f\"SIF-Glove\"] = SIF(avg_glove.wv, components=15)\n",
    "models[f\"uSIF-Glove\"] = uSIF(avg_glove.wv,length=11)"
   ]
  },
  {
   "cell_type": "code",
   "execution_count": 4,
   "metadata": {},
   "outputs": [
    {
     "name": "stderr",
     "output_type": "stream",
     "text": [
      "2019-08-20 16:32:57,439 : MainThread : INFO : loading Average object from data/vectors/w2v.model\n",
      "2019-08-20 16:33:03,187 : MainThread : INFO : loading wv recursively from data/vectors/w2v.model.wv.* with mmap=None\n",
      "2019-08-20 16:33:03,188 : MainThread : INFO : loading sv recursively from data/vectors/w2v.model.sv.* with mmap=None\n",
      "2019-08-20 16:33:03,189 : MainThread : INFO : loading prep recursively from data/vectors/w2v.model.prep.* with mmap=None\n",
      "2019-08-20 16:33:03,189 : MainThread : INFO : loaded data/vectors/w2v.model\n",
      "/Users/oliverborchers/Library/Mobile Documents/com~apple~CloudDocs/Diss/Medium/Fast_Sentence_Embeddings/fse/models/base_s2v.py:157: UserWarning: C extension not loaded, training/inferring will be slow. Install a C compiler and reinstall fse.\n",
      "  \"C extension not loaded, training/inferring will be slow. \"\n",
      "2019-08-20 16:33:03,208 : MainThread : INFO : loading pre-existing wv from /Users/oliverborchers/Library/Mobile Documents/com~apple~CloudDocs/Diss/Medium/Fast_Sentence_Embeddings/fse/data/vectors/w2v_wv.vectors\n"
     ]
    },
    {
     "name": "stdout",
     "output_type": "stream",
     "text": [
      "time: 5.8 s\n"
     ]
    }
   ],
   "source": [
    "avg_w2v = Average.load(\"data/vectors/w2v.model\")\n",
    "models[f\"CBOW-W2V\"] = Average(avg_w2v.wv, wv_mapfile_path=\"data/vectors/w2v\")\n",
    "models[f\"SIF-W2V\"] = SIF(avg_w2v.wv, components=10)\n",
    "models[f\"uSIF-W2V\"] = uSIF(avg_w2v.wv, length=11)"
   ]
  },
  {
   "cell_type": "code",
   "execution_count": 5,
   "metadata": {},
   "outputs": [
    {
     "name": "stderr",
     "output_type": "stream",
     "text": [
      "2019-08-20 16:33:03,247 : MainThread : INFO : loading Average object from data/vectors/ft.model\n",
      "2019-08-20 16:33:08,000 : MainThread : INFO : loading wv recursively from data/vectors/ft.model.wv.* with mmap=None\n",
      "2019-08-20 16:33:08,001 : MainThread : INFO : loading sv recursively from data/vectors/ft.model.sv.* with mmap=None\n",
      "2019-08-20 16:33:08,002 : MainThread : INFO : loading prep recursively from data/vectors/ft.model.prep.* with mmap=None\n",
      "2019-08-20 16:33:08,002 : MainThread : INFO : loaded data/vectors/ft.model\n",
      "/Users/oliverborchers/Library/Mobile Documents/com~apple~CloudDocs/Diss/Medium/Fast_Sentence_Embeddings/fse/models/base_s2v.py:157: UserWarning: C extension not loaded, training/inferring will be slow. Install a C compiler and reinstall fse.\n",
      "  \"C extension not loaded, training/inferring will be slow. \"\n",
      "2019-08-20 16:33:08,020 : MainThread : INFO : loading pre-existing wv from /Users/oliverborchers/Library/Mobile Documents/com~apple~CloudDocs/Diss/Medium/Fast_Sentence_Embeddings/fse/data/vectors/ft_wv.vectors\n",
      "2019-08-20 16:33:08,037 : MainThread : INFO : loading pre-existing vocab from data/vectors/ft_vocab.vectors\n",
      "2019-08-20 16:33:08,054 : MainThread : INFO : loading pre-existing ngrams from data/vectors/ft_ngrams.vectors\n"
     ]
    },
    {
     "name": "stdout",
     "output_type": "stream",
     "text": [
      "time: 4.83 s\n"
     ]
    }
   ],
   "source": [
    "avg_ft = Average.load(\"data/vectors/ft.model\")\n",
    "models[f\"CBOW-FT\"] = Average(avg_ft.wv, wv_mapfile_path=\"data/vectors/ft\")\n",
    "models[f\"SIF-FT\"] = SIF(avg_ft.wv, components=10)\n",
    "models[f\"uSIF-FT\"] = uSIF(avg_ft.wv, length=11)"
   ]
  },
  {
   "cell_type": "code",
   "execution_count": 6,
   "metadata": {},
   "outputs": [
    {
     "name": "stderr",
     "output_type": "stream",
     "text": [
      "2019-08-20 16:33:08,083 : MainThread : INFO : loading Word2VecKeyedVectors object from /Users/oliverborchers/Desktop/GSDEV/Models/Static/paranmt.model\n",
      "2019-08-20 16:33:08,307 : MainThread : INFO : loading vectors from /Users/oliverborchers/Desktop/GSDEV/Models/Static/paranmt.model.vectors.npy with mmap=None\n",
      "2019-08-20 16:33:08,366 : MainThread : INFO : setting ignored attribute vectors_norm to None\n",
      "2019-08-20 16:33:08,367 : MainThread : INFO : loaded /Users/oliverborchers/Desktop/GSDEV/Models/Static/paranmt.model\n",
      "/Users/oliverborchers/Library/Mobile Documents/com~apple~CloudDocs/Diss/Medium/Fast_Sentence_Embeddings/fse/models/base_s2v.py:157: UserWarning: C extension not loaded, training/inferring will be slow. Install a C compiler and reinstall fse.\n",
      "  \"C extension not loaded, training/inferring will be slow. \"\n",
      "2019-08-20 16:33:08,369 : MainThread : INFO : no frequency mode: using wordfreq for estimation of frequency for language: en\n",
      "2019-08-20 16:33:08,564 : MainThread : INFO : no frequency mode: using wordfreq for estimation of frequency for language: en\n",
      "2019-08-20 16:33:08,641 : MainThread : INFO : no frequency mode: using wordfreq for estimation of frequency for language: en\n"
     ]
    },
    {
     "name": "stdout",
     "output_type": "stream",
     "text": [
      "time: 634 ms\n"
     ]
    }
   ],
   "source": [
    "paranmt = KeyedVectors.load(\"/Users/oliverborchers/Desktop/GSDEV/Models/Static/paranmt.model\")\n",
    "models[f\"CBOW-Paranmt\"] = Average(paranmt, lang_freq=\"en\")\n",
    "models[f\"SIF-Paranmt\"] = SIF(paranmt, components=10, lang_freq=\"en\")\n",
    "models[f\"uSIF-Paranmt\"] = uSIF(paranmt, length=11, lang_freq=\"en\")"
   ]
  },
  {
   "cell_type": "code",
   "execution_count": 7,
   "metadata": {},
   "outputs": [
    {
     "name": "stderr",
     "output_type": "stream",
     "text": [
      "2019-08-20 16:33:08,724 : MainThread : INFO : scanning all indexed sentences and their word counts\n",
      "2019-08-20 16:33:08,734 : MainThread : INFO : finished scanning 2758 sentences with an average length of 9 and 27528 total words\n",
      "2019-08-20 16:33:09,498 : MainThread : INFO : estimated memory for 2758 sentences with 300 dimensions and 2195875 vocabulary: 2524 MB (2 GB)\n",
      "2019-08-20 16:33:09,498 : MainThread : INFO : initializing sentence vectors for 2758 sentences\n",
      "2019-08-20 16:33:09,542 : MainThread : INFO : begin training\n",
      "2019-08-20 16:33:09,660 : MainThread : INFO : worker thread finished; awaiting finish of 0 more threads\n",
      "2019-08-20 16:33:09,661 : MainThread : INFO : training on 2758 effective sentences with 27351 effective words took 0s with 23275 sentences/s\n",
      "2019-08-20 16:33:09,687 : MainThread : INFO : scanning all indexed sentences and their word counts\n",
      "2019-08-20 16:33:09,695 : MainThread : INFO : finished scanning 2758 sentences with an average length of 9 and 27528 total words\n"
     ]
    },
    {
     "name": "stdout",
     "output_type": "stream",
     "text": [
      "CBOW-Glove 40.41\n"
     ]
    },
    {
     "name": "stderr",
     "output_type": "stream",
     "text": [
      "2019-08-20 16:33:10,461 : MainThread : INFO : estimated memory for 2758 sentences with 300 dimensions and 2195875 vocabulary: 2524 MB (2 GB)\n",
      "2019-08-20 16:33:10,462 : MainThread : INFO : initializing sentence vectors for 2758 sentences\n",
      "2019-08-20 16:33:10,471 : MainThread : INFO : pre-computing SIF weights for 2195875 words\n",
      "2019-08-20 16:33:12,827 : MainThread : INFO : begin training\n",
      "2019-08-20 16:33:12,932 : MainThread : INFO : worker thread finished; awaiting finish of 0 more threads\n",
      "2019-08-20 16:33:12,933 : MainThread : INFO : computing 15 principal components\n",
      "2019-08-20 16:33:12,975 : MainThread : INFO : removing 15 principal components\n",
      "2019-08-20 16:33:12,977 : MainThread : INFO : training on 2758 effective sentences with 27351 effective words took 0s with 25962 sentences/s\n",
      "2019-08-20 16:33:13,004 : MainThread : INFO : scanning all indexed sentences and their word counts\n",
      "2019-08-20 16:33:13,012 : MainThread : INFO : finished scanning 2758 sentences with an average length of 9 and 27528 total words\n"
     ]
    },
    {
     "name": "stdout",
     "output_type": "stream",
     "text": [
      "SIF-Glove 71.95\n"
     ]
    },
    {
     "name": "stderr",
     "output_type": "stream",
     "text": [
      "2019-08-20 16:33:13,784 : MainThread : INFO : estimated memory for 2758 sentences with 300 dimensions and 2195875 vocabulary: 2524 MB (2 GB)\n",
      "2019-08-20 16:33:13,784 : MainThread : INFO : initializing sentence vectors for 2758 sentences\n",
      "2019-08-20 16:33:13,791 : MainThread : INFO : pre-computing uSIF weights for 2195875 words\n",
      "2019-08-20 16:33:23,183 : MainThread : INFO : begin training\n",
      "2019-08-20 16:33:23,311 : MainThread : INFO : worker thread finished; awaiting finish of 0 more threads\n",
      "2019-08-20 16:33:23,312 : MainThread : INFO : computing 5 principal components\n",
      "2019-08-20 16:33:23,351 : MainThread : INFO : training on 2758 effective sentences with 27351 effective words took 0s with 21480 sentences/s\n",
      "2019-08-20 16:33:23,394 : MainThread : INFO : scanning all indexed sentences and their word counts\n",
      "2019-08-20 16:33:23,407 : MainThread : INFO : finished scanning 2758 sentences with an average length of 9 and 27528 total words\n"
     ]
    },
    {
     "name": "stdout",
     "output_type": "stream",
     "text": [
      "uSIF-Glove 68.28\n"
     ]
    },
    {
     "name": "stderr",
     "output_type": "stream",
     "text": [
      "2019-08-20 16:33:24,566 : MainThread : INFO : estimated memory for 2758 sentences with 300 dimensions and 3000000 vocabulary: 3447 MB (3 GB)\n",
      "2019-08-20 16:33:24,567 : MainThread : INFO : initializing sentence vectors for 2758 sentences\n",
      "2019-08-20 16:33:24,621 : MainThread : INFO : begin training\n",
      "2019-08-20 16:33:24,742 : MainThread : INFO : worker thread finished; awaiting finish of 0 more threads\n",
      "2019-08-20 16:33:24,743 : MainThread : INFO : training on 2758 effective sentences with 23116 effective words took 0s with 22659 sentences/s\n",
      "2019-08-20 16:33:24,775 : MainThread : INFO : scanning all indexed sentences and their word counts\n",
      "2019-08-20 16:33:24,784 : MainThread : INFO : finished scanning 2758 sentences with an average length of 9 and 27528 total words\n"
     ]
    },
    {
     "name": "stdout",
     "output_type": "stream",
     "text": [
      "CBOW-W2V 61.54\n"
     ]
    },
    {
     "name": "stderr",
     "output_type": "stream",
     "text": [
      "2019-08-20 16:33:25,899 : MainThread : INFO : estimated memory for 2758 sentences with 300 dimensions and 3000000 vocabulary: 3447 MB (3 GB)\n",
      "2019-08-20 16:33:25,900 : MainThread : INFO : initializing sentence vectors for 2758 sentences\n",
      "2019-08-20 16:33:25,909 : MainThread : INFO : pre-computing SIF weights for 3000000 words\n",
      "2019-08-20 16:33:29,158 : MainThread : INFO : begin training\n",
      "2019-08-20 16:33:29,267 : MainThread : INFO : worker thread finished; awaiting finish of 0 more threads\n",
      "2019-08-20 16:33:29,267 : MainThread : INFO : computing 10 principal components\n",
      "2019-08-20 16:33:29,289 : MainThread : INFO : removing 10 principal components\n",
      "2019-08-20 16:33:29,292 : MainThread : INFO : training on 2758 effective sentences with 23116 effective words took 0s with 25232 sentences/s\n",
      "2019-08-20 16:33:29,330 : MainThread : INFO : scanning all indexed sentences and their word counts\n",
      "2019-08-20 16:33:29,339 : MainThread : INFO : finished scanning 2758 sentences with an average length of 9 and 27528 total words\n"
     ]
    },
    {
     "name": "stdout",
     "output_type": "stream",
     "text": [
      "SIF-W2V 71.12\n"
     ]
    },
    {
     "name": "stderr",
     "output_type": "stream",
     "text": [
      "2019-08-20 16:33:30,414 : MainThread : INFO : estimated memory for 2758 sentences with 300 dimensions and 3000000 vocabulary: 3447 MB (3 GB)\n",
      "2019-08-20 16:33:30,416 : MainThread : INFO : initializing sentence vectors for 2758 sentences\n",
      "2019-08-20 16:33:30,424 : MainThread : INFO : pre-computing uSIF weights for 3000000 words\n",
      "2019-08-20 16:33:43,169 : MainThread : INFO : begin training\n",
      "2019-08-20 16:33:43,279 : MainThread : INFO : worker thread finished; awaiting finish of 0 more threads\n",
      "2019-08-20 16:33:43,279 : MainThread : INFO : computing 5 principal components\n",
      "2019-08-20 16:33:43,312 : MainThread : INFO : training on 2758 effective sentences with 23116 effective words took 0s with 24906 sentences/s\n",
      "2019-08-20 16:33:43,341 : MainThread : INFO : scanning all indexed sentences and their word counts\n",
      "2019-08-20 16:33:43,350 : MainThread : INFO : finished scanning 2758 sentences with an average length of 9 and 27528 total words\n"
     ]
    },
    {
     "name": "stdout",
     "output_type": "stream",
     "text": [
      "uSIF-W2V 67.46\n"
     ]
    },
    {
     "name": "stderr",
     "output_type": "stream",
     "text": [
      "2019-08-20 16:33:44,186 : MainThread : INFO : estimated memory for 2758 sentences with 300 dimensions and 2000000 vocabulary: 6877 MB (6 GB)\n",
      "2019-08-20 16:33:44,187 : MainThread : WARNING : The embeddings will likely not fit into RAM. Consider to use mapfile_path\n",
      "2019-08-20 16:33:44,187 : MainThread : INFO : initializing sentence vectors for 2758 sentences\n",
      "2019-08-20 16:33:44,227 : MainThread : INFO : begin training\n",
      "2019-08-20 16:33:44,528 : MainThread : INFO : worker thread finished; awaiting finish of 0 more threads\n",
      "2019-08-20 16:33:44,529 : MainThread : INFO : training on 2758 effective sentences with 27528 effective words took 0s with 9127 sentences/s\n",
      "2019-08-20 16:33:44,556 : MainThread : INFO : scanning all indexed sentences and their word counts\n",
      "2019-08-20 16:33:44,565 : MainThread : INFO : finished scanning 2758 sentences with an average length of 9 and 27528 total words\n"
     ]
    },
    {
     "name": "stdout",
     "output_type": "stream",
     "text": [
      "CBOW-FT 48.53\n"
     ]
    },
    {
     "name": "stderr",
     "output_type": "stream",
     "text": [
      "2019-08-20 16:33:45,403 : MainThread : INFO : estimated memory for 2758 sentences with 300 dimensions and 2000000 vocabulary: 6877 MB (6 GB)\n",
      "2019-08-20 16:33:45,404 : MainThread : WARNING : The embeddings will likely not fit into RAM. Consider to use mapfile_path\n",
      "2019-08-20 16:33:45,404 : MainThread : INFO : initializing sentence vectors for 2758 sentences\n",
      "2019-08-20 16:33:45,413 : MainThread : INFO : pre-computing SIF weights for 2000000 words\n",
      "2019-08-20 16:33:47,824 : MainThread : INFO : begin training\n",
      "2019-08-20 16:33:48,099 : MainThread : INFO : worker thread finished; awaiting finish of 0 more threads\n",
      "2019-08-20 16:33:48,100 : MainThread : INFO : computing 10 principal components\n",
      "2019-08-20 16:33:48,121 : MainThread : INFO : removing 10 principal components\n",
      "2019-08-20 16:33:48,125 : MainThread : INFO : training on 2758 effective sentences with 27528 effective words took 0s with 10018 sentences/s\n",
      "2019-08-20 16:33:48,159 : MainThread : INFO : scanning all indexed sentences and their word counts\n",
      "2019-08-20 16:33:48,167 : MainThread : INFO : finished scanning 2758 sentences with an average length of 9 and 27528 total words\n"
     ]
    },
    {
     "name": "stdout",
     "output_type": "stream",
     "text": [
      "SIF-FT 73.42\n"
     ]
    },
    {
     "name": "stderr",
     "output_type": "stream",
     "text": [
      "2019-08-20 16:33:49,034 : MainThread : INFO : estimated memory for 2758 sentences with 300 dimensions and 2000000 vocabulary: 6877 MB (6 GB)\n",
      "2019-08-20 16:33:49,035 : MainThread : WARNING : The embeddings will likely not fit into RAM. Consider to use mapfile_path\n",
      "2019-08-20 16:33:49,036 : MainThread : INFO : initializing sentence vectors for 2758 sentences\n",
      "2019-08-20 16:33:49,045 : MainThread : INFO : pre-computing uSIF weights for 2000000 words\n",
      "2019-08-20 16:33:57,685 : MainThread : INFO : begin training\n",
      "2019-08-20 16:33:57,981 : MainThread : INFO : worker thread finished; awaiting finish of 0 more threads\n",
      "2019-08-20 16:33:57,982 : MainThread : INFO : computing 5 principal components\n",
      "2019-08-20 16:33:58,014 : MainThread : INFO : training on 2758 effective sentences with 27528 effective words took 0s with 9297 sentences/s\n",
      "2019-08-20 16:33:58,046 : MainThread : INFO : scanning all indexed sentences and their word counts\n",
      "2019-08-20 16:33:58,055 : MainThread : INFO : finished scanning 2758 sentences with an average length of 9 and 27528 total words\n",
      "2019-08-20 16:33:58,092 : MainThread : INFO : estimated memory for 2758 sentences with 300 dimensions and 77224 vocabulary: 91 MB (0 GB)\n",
      "2019-08-20 16:33:58,093 : MainThread : INFO : initializing sentence vectors for 2758 sentences\n",
      "2019-08-20 16:33:58,103 : MainThread : INFO : begin training\n",
      "2019-08-20 16:33:58,212 : MainThread : INFO : worker thread finished; awaiting finish of 0 more threads\n",
      "2019-08-20 16:33:58,213 : MainThread : INFO : training on 2758 effective sentences with 27441 effective words took 0s with 25039 sentences/s\n",
      "2019-08-20 16:33:58,242 : MainThread : INFO : scanning all indexed sentences and their word counts\n"
     ]
    },
    {
     "name": "stdout",
     "output_type": "stream",
     "text": [
      "uSIF-FT 69.89\n",
      "CBOW-Paranmt 79.85\n"
     ]
    },
    {
     "name": "stderr",
     "output_type": "stream",
     "text": [
      "2019-08-20 16:33:58,252 : MainThread : INFO : finished scanning 2758 sentences with an average length of 9 and 27528 total words\n",
      "2019-08-20 16:33:58,297 : MainThread : INFO : estimated memory for 2758 sentences with 300 dimensions and 77224 vocabulary: 91 MB (0 GB)\n",
      "2019-08-20 16:33:58,299 : MainThread : INFO : initializing sentence vectors for 2758 sentences\n",
      "2019-08-20 16:33:58,307 : MainThread : INFO : pre-computing SIF weights for 77224 words\n",
      "2019-08-20 16:33:58,397 : MainThread : INFO : begin training\n",
      "2019-08-20 16:33:58,500 : MainThread : INFO : worker thread finished; awaiting finish of 0 more threads\n",
      "2019-08-20 16:33:58,501 : MainThread : INFO : computing 10 principal components\n",
      "2019-08-20 16:33:58,520 : MainThread : INFO : removing 10 principal components\n",
      "2019-08-20 16:33:58,522 : MainThread : INFO : training on 2758 effective sentences with 27441 effective words took 0s with 26568 sentences/s\n",
      "2019-08-20 16:33:58,553 : MainThread : INFO : scanning all indexed sentences and their word counts\n",
      "2019-08-20 16:33:58,562 : MainThread : INFO : finished scanning 2758 sentences with an average length of 9 and 27528 total words\n",
      "2019-08-20 16:33:58,592 : MainThread : INFO : estimated memory for 2758 sentences with 300 dimensions and 77224 vocabulary: 91 MB (0 GB)\n",
      "2019-08-20 16:33:58,593 : MainThread : INFO : initializing sentence vectors for 2758 sentences\n",
      "2019-08-20 16:33:58,601 : MainThread : INFO : pre-computing uSIF weights for 77224 words\n"
     ]
    },
    {
     "name": "stdout",
     "output_type": "stream",
     "text": [
      "SIF-Paranmt 76.73\n"
     ]
    },
    {
     "name": "stderr",
     "output_type": "stream",
     "text": [
      "2019-08-20 16:33:58,914 : MainThread : INFO : begin training\n",
      "2019-08-20 16:33:59,016 : MainThread : INFO : worker thread finished; awaiting finish of 0 more threads\n",
      "2019-08-20 16:33:59,017 : MainThread : INFO : computing 5 principal components\n",
      "2019-08-20 16:33:59,043 : MainThread : INFO : training on 2758 effective sentences with 27441 effective words took 0s with 26684 sentences/s\n"
     ]
    },
    {
     "name": "stdout",
     "output_type": "stream",
     "text": [
      "uSIF-Paranmt 79.20\n",
      "time: 50.4 s\n"
     ]
    }
   ],
   "source": [
    "for k, m in models.items():\n",
    "    m_type  = k.split(\"-\")[0]\n",
    "    emb_type = k.split(\"-\")[1]\n",
    "    m.train(sents)\n",
    "    r = pearsonr(similarities, compute_similarities(task_length, m))[0].round(4) * 100\n",
    "    results[f\"{m_type}-{emb_type}\"] = r\n",
    "    print(k, f\"{r:2.2f}\")"
   ]
  },
  {
   "cell_type": "code",
   "execution_count": 8,
   "metadata": {},
   "outputs": [
    {
     "data": {
      "text/html": [
       "<div>\n",
       "<style scoped>\n",
       "    .dataframe tbody tr th:only-of-type {\n",
       "        vertical-align: middle;\n",
       "    }\n",
       "\n",
       "    .dataframe tbody tr th {\n",
       "        vertical-align: top;\n",
       "    }\n",
       "\n",
       "    .dataframe thead th {\n",
       "        text-align: right;\n",
       "    }\n",
       "</style>\n",
       "<table border=\"1\" class=\"dataframe\">\n",
       "  <thead>\n",
       "    <tr style=\"text-align: right;\">\n",
       "      <th></th>\n",
       "      <th>Pearson</th>\n",
       "    </tr>\n",
       "  </thead>\n",
       "  <tbody>\n",
       "    <tr>\n",
       "      <th>CBOW-Glove</th>\n",
       "      <td>40.41</td>\n",
       "    </tr>\n",
       "    <tr>\n",
       "      <th>SIF-Glove</th>\n",
       "      <td>71.95</td>\n",
       "    </tr>\n",
       "    <tr>\n",
       "      <th>uSIF-Glove</th>\n",
       "      <td>68.28</td>\n",
       "    </tr>\n",
       "    <tr>\n",
       "      <th>CBOW-W2V</th>\n",
       "      <td>61.54</td>\n",
       "    </tr>\n",
       "    <tr>\n",
       "      <th>SIF-W2V</th>\n",
       "      <td>71.12</td>\n",
       "    </tr>\n",
       "    <tr>\n",
       "      <th>uSIF-W2V</th>\n",
       "      <td>67.46</td>\n",
       "    </tr>\n",
       "    <tr>\n",
       "      <th>CBOW-FT</th>\n",
       "      <td>48.53</td>\n",
       "    </tr>\n",
       "    <tr>\n",
       "      <th>SIF-FT</th>\n",
       "      <td>73.42</td>\n",
       "    </tr>\n",
       "    <tr>\n",
       "      <th>uSIF-FT</th>\n",
       "      <td>69.89</td>\n",
       "    </tr>\n",
       "    <tr>\n",
       "      <th>CBOW-Paranmt</th>\n",
       "      <td>79.85</td>\n",
       "    </tr>\n",
       "    <tr>\n",
       "      <th>SIF-Paranmt</th>\n",
       "      <td>76.73</td>\n",
       "    </tr>\n",
       "    <tr>\n",
       "      <th>uSIF-Paranmt</th>\n",
       "      <td>79.20</td>\n",
       "    </tr>\n",
       "  </tbody>\n",
       "</table>\n",
       "</div>"
      ],
      "text/plain": [
       "              Pearson\n",
       "CBOW-Glove      40.41\n",
       "SIF-Glove       71.95\n",
       "uSIF-Glove      68.28\n",
       "CBOW-W2V        61.54\n",
       "SIF-W2V         71.12\n",
       "uSIF-W2V        67.46\n",
       "CBOW-FT         48.53\n",
       "SIF-FT          73.42\n",
       "uSIF-FT         69.89\n",
       "CBOW-Paranmt    79.85\n",
       "SIF-Paranmt     76.73\n",
       "uSIF-Paranmt    79.20"
      ]
     },
     "execution_count": 8,
     "metadata": {},
     "output_type": "execute_result"
    },
    {
     "name": "stdout",
     "output_type": "stream",
     "text": [
      "time: 20.7 ms\n"
     ]
    }
   ],
   "source": [
    "pd.DataFrame.from_dict(results, orient=\"index\", columns=[\"Pearson\"])"
   ]
  },
  {
   "cell_type": "markdown",
   "metadata": {},
   "source": [
    "# Additionally: Write glove vectors to KeyedVectors"
   ]
  },
  {
   "cell_type": "raw",
   "metadata": {},
   "source": [
    "# Write glove vectors to file\n",
    "glove = KeyedVectors(300)\n",
    "import time\n",
    "\n",
    "ct = time.time()\n",
    "\n",
    "with open(\"/Users/oliverborchers/Desktop/GSDEV/Models/Static/glove.840B.300d.txt\", \"r\") as f:\n",
    "    c = 0\n",
    "    skipped = 0\n",
    "    words = []\n",
    "    vectors = []\n",
    "    \n",
    "    for l in f:\n",
    "        line = l.split()\n",
    "        try:\n",
    "            word = line[0]\n",
    "            if word in glove.vocab:\n",
    "                raise RuntimeError(\"Exists\")\n",
    "            vec = [float(v) for v in line[1:]]\n",
    "            if len(vec) != 300:\n",
    "                raise RuntimeError(\"Bad length\")\n",
    "            words.append(str(word))\n",
    "            vectors.append(vec)\n",
    "            c+= 1\n",
    "        except:\n",
    "            skipped += 1\n",
    "            print(f\"Ignoring {word}\")\n",
    "            \n",
    "        if time.time() - ct > 30:\n",
    "            glove.add(words, np.vstack(vectors), replace=True)\n",
    "            ct = time.time()\n",
    "            words = []\n",
    "            vectors = []\n",
    "            print(f\"Added {c} words. Len of vectors {glove.vectors.shape}\")\n",
    "    glove.add(words, vectors)\n",
    "    print(f\"Finished {c} words. Len of vocab {len(glove.vocab)}. Skipped {skipped}\")\n",
    "    \n",
    "glove.vectors = glove.vectors.astype(np.float32)\n",
    "indices = [glove.vocab[w].index for w in glove.vocab]\n",
    "glove.vectors = glove.vectors[indices]\n",
    "glove.save(\"/Users/oliverborchers/Desktop/GSDEV/Models/Static/glove.840B.300d.model\")"
   ]
  },
  {
   "cell_type": "markdown",
   "metadata": {},
   "source": [
    "# Read Paranmt Vectors from Disk"
   ]
  },
  {
   "cell_type": "raw",
   "metadata": {},
   "source": [
    "paranmt = KeyedVectors(300)\n",
    "words = []\n",
    "vecs = []\n",
    "\n",
    "for line in open(\"/Users/oliverborchers/Desktop/GSDEV/Models/Static/paranmt.txt\"):\n",
    "    line = line.split()\n",
    "    if len(line) == 2:\n",
    "        continue\n",
    "        \n",
    "    words.append(line[0])\n",
    "    vecs.append(np.array([float(val) for val in line[1:]]))\n",
    "paranmt.add(words, np.vstack(vecs))\n",
    "paranmt.vectors = paranmt.vectors.astype(np.float32)\n",
    "paranmt.save(\"/Users/oliverborchers/Desktop/GSDEV/Models/Static/paranmt.model\")"
   ]
  },
  {
   "cell_type": "raw",
   "metadata": {},
   "source": [
    "glove = KeyedVectors.load(\"/Users/oliverborchers/Desktop/GSDEV/Models/Static/glove.840B.300d.model\")\n",
    "tmp = Average(glove, lang_freq=\"en\", wv_mapfile_path=\"data/vectors/glove\")\n",
    "tmp.save(\"data/vectors/glove.model\")\n",
    "del glove, tmp\n",
    "\n",
    "w2v = KeyedVectors.load(\"/Users/oliverborchers/Desktop/GSDEV/Models/Static/google_news.model\")\n",
    "tmp = Average(w2v, lang_freq=\"en\", wv_mapfile_path=\"data/vectors/w2v\")\n",
    "tmp.save(\"data/vectors/w2v.model\")\n",
    "del w2v, tmp\n",
    "\n",
    "ft = FastTextKeyedVectors.load(\"/Users/oliverborchers/Desktop/GSDEV/Models/Static/ft_crawl_300d_2m.model\")\n",
    "tmp = Average(ft, lang_freq=\"en\", wv_mapfile_path=\"data/vectors/ft\")\n",
    "tmp.save(\"data/vectors/ft.model\")\n",
    "del ft, tmp"
   ]
  }
 ],
 "metadata": {
  "kernelspec": {
   "display_name": "Python 3",
   "language": "python",
   "name": "python3"
  },
  "language_info": {
   "codemirror_mode": {
    "name": "ipython",
    "version": 3
   },
   "file_extension": ".py",
   "mimetype": "text/x-python",
   "name": "python",
   "nbconvert_exporter": "python",
   "pygments_lexer": "ipython3",
   "version": "3.7.3"
  }
 },
 "nbformat": 4,
 "nbformat_minor": 2
}
