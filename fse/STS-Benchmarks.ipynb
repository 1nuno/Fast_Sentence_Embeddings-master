{
 "cells": [
  {
   "cell_type": "markdown",
   "metadata": {},
   "source": [
    "# STS Benchmark Datasets"
   ]
  },
  {
   "cell_type": "markdown",
   "metadata": {},
   "source": [
    "For more information, see the implementation of https://github.com/kawine/usif"
   ]
  },
  {
   "cell_type": "code",
   "execution_count": 1,
   "metadata": {},
   "outputs": [
    {
     "name": "stderr",
     "output_type": "stream",
     "text": [
      "2019-08-18 14:33:24,344 : MainThread : INFO : loading Word2VecKeyedVectors object from /Users/oliverborchers/Desktop/GSDEV/Models/Static/google_news.model\n",
      "2019-08-18 14:33:30,451 : MainThread : INFO : loading vectors from /Users/oliverborchers/Desktop/GSDEV/Models/Static/google_news.model.vectors.npy with mmap=None\n",
      "2019-08-18 14:33:32,615 : MainThread : INFO : setting ignored attribute vectors_norm to None\n",
      "2019-08-18 14:33:32,616 : MainThread : INFO : loaded /Users/oliverborchers/Desktop/GSDEV/Models/Static/google_news.model\n"
     ]
    }
   ],
   "source": [
    "%load_ext autotime\n",
    "import numpy as np\n",
    "import logging\n",
    "import pandas as pd\n",
    "import pathlib\n",
    "\n",
    "from gensim.models import Word2Vec, FastText\n",
    "from gensim.models import KeyedVectors\n",
    "\n",
    "from fse.models.average import Average\n",
    "from fse.models.sif import SIF\n",
    "from fse.models.inputs import IndexedSentence\n",
    "\n",
    "from re import sub\n",
    "\n",
    "from scipy.stats import pearsonr\n",
    "\n",
    "logging.basicConfig(format='%(asctime)s : %(threadName)s : %(levelname)s : %(message)s',\n",
    "                    level=logging.INFO\n",
    "                   )\n",
    "\n",
    "file_path = \"data/stsbenchmark/sts-test.csv\"\n",
    "\n",
    "def normalize_text(sentence):\n",
    "    return [sub(\"[^a-zA-Z]\", \"\", w.lower()) for w in sentence.split()] \n",
    "\n",
    "def compute_similarities(task_length, model):\n",
    "    sims = []\n",
    "    for i, j in zip(range(task_length), range(task_length, 2*task_length)):\n",
    "        sims.append(model.sv.similarity(i,j))\n",
    "    return sims\n",
    "\n",
    "df = pd.read_csv(file_path, sep=\",\", error_bad_lines=True, names=[\"task\",\"1\",\"2\",\"3\",\"sim\",\"sent_a\",\"sent_b\"])\n",
    "df.dropna(inplace=True)\n",
    "df.sent_a = df.sent_a.apply(normalize_text)\n",
    "df.sent_b = df.sent_b.apply(normalize_text)\n",
    "\n",
    "sents_a = df.sent_a.values.tolist()\n",
    "sents_b = df.sent_b.values.tolist()\n",
    "assert len(sents_a) == len(sents_b)\n",
    "\n",
    "task_length = len(sents_a)\n",
    "sents_a.extend(sents_b)\n",
    "sents = [IndexedSentence(s, i) for i,s in enumerate(sents_a)]\n",
    "\n",
    "w2v = KeyedVectors.load(\"/Users/oliverborchers/Desktop/GSDEV/Models/Static/google_news.model\")\n",
    "#mft = FastText(dataset, size=20, iter=5, workers=8)"
   ]
  },
  {
   "cell_type": "code",
   "execution_count": 2,
   "metadata": {},
   "outputs": [
    {
     "name": "stderr",
     "output_type": "stream",
     "text": [
      "2019-08-18 14:33:32,626 : MainThread : INFO : no frequency mode: using wordfreq for estimationof frequency for language: en\n",
      "2019-08-18 14:33:34,999 : MainThread : INFO : scanning all indexed sentences and their word counts\n",
      "2019-08-18 14:33:35,008 : MainThread : INFO : finished scanning 2758 sentences with an average length of 10 and 29895 total words\n",
      "2019-08-18 14:33:36,041 : MainThread : INFO : estimated memory for 2758 sentences with 300 dimensions and 3000000 vocabulary: 3447 MB (3 GB)\n",
      "2019-08-18 14:33:36,042 : MainThread : INFO : initializing sentence vectors for 2758 sentences\n",
      "2019-08-18 14:33:36,096 : MainThread : INFO : begin training\n",
      "2019-08-18 14:33:36,113 : MainThread : INFO : worker thread finished; awaiting finish of 0 more threads\n",
      "2019-08-18 14:33:37,107 : MainThread : INFO : training on 2758 effective sentences with 22877 effective words took 0s with 157240 sentences/s\n",
      "2019-08-18 14:33:37,134 : MainThread : INFO : scanning all indexed sentences and their word counts\n",
      "2019-08-18 14:33:37,142 : MainThread : INFO : finished scanning 2758 sentences with an average length of 10 and 29895 total words\n"
     ]
    },
    {
     "name": "stdout",
     "output_type": "stream",
     "text": [
      "CBOW-W2V 0.6207\n"
     ]
    },
    {
     "name": "stderr",
     "output_type": "stream",
     "text": [
      "2019-08-18 14:33:38,170 : MainThread : INFO : estimated memory for 2758 sentences with 300 dimensions and 3000000 vocabulary: 3447 MB (3 GB)\n",
      "2019-08-18 14:33:38,170 : MainThread : INFO : initializing sentence vectors for 2758 sentences\n",
      "2019-08-18 14:33:38,179 : MainThread : INFO : pre-computing SIF weights for 3000000 words\n",
      "2019-08-18 14:33:41,267 : MainThread : INFO : begin training\n",
      "2019-08-18 14:33:41,283 : MainThread : INFO : worker thread finished; awaiting finish of 0 more threads\n",
      "2019-08-18 14:33:42,208 : MainThread : INFO : computing 1 principal components\n",
      "2019-08-18 14:33:42,238 : MainThread : INFO : removing 1 principal components\n",
      "2019-08-18 14:33:42,241 : MainThread : INFO : training on 2758 effective sentences with 22877 effective words took 0s with 166265 sentences/s\n",
      "2019-08-18 14:33:42,269 : MainThread : INFO : scanning all indexed sentences and their word counts\n",
      "2019-08-18 14:33:42,278 : MainThread : INFO : finished scanning 2758 sentences with an average length of 10 and 29895 total words\n"
     ]
    },
    {
     "name": "stdout",
     "output_type": "stream",
     "text": [
      "SIF-1C-W2V 0.7026\n"
     ]
    },
    {
     "name": "stderr",
     "output_type": "stream",
     "text": [
      "2019-08-18 14:33:43,293 : MainThread : INFO : estimated memory for 2758 sentences with 300 dimensions and 3000000 vocabulary: 3447 MB (3 GB)\n",
      "2019-08-18 14:33:43,294 : MainThread : INFO : initializing sentence vectors for 2758 sentences\n",
      "2019-08-18 14:33:43,300 : MainThread : INFO : pre-computing SIF weights for 3000000 words\n",
      "2019-08-18 14:33:46,637 : MainThread : INFO : begin training\n",
      "2019-08-18 14:33:46,658 : MainThread : INFO : worker thread finished; awaiting finish of 0 more threads\n",
      "2019-08-18 14:33:47,525 : MainThread : INFO : computing 2 principal components\n",
      "2019-08-18 14:33:47,539 : MainThread : INFO : removing 2 principal components\n",
      "2019-08-18 14:33:47,541 : MainThread : INFO : training on 2758 effective sentences with 22877 effective words took 0s with 125113 sentences/s\n",
      "2019-08-18 14:33:47,573 : MainThread : INFO : scanning all indexed sentences and their word counts\n",
      "2019-08-18 14:33:47,582 : MainThread : INFO : finished scanning 2758 sentences with an average length of 10 and 29895 total words\n"
     ]
    },
    {
     "name": "stdout",
     "output_type": "stream",
     "text": [
      "SIF-2C-W2V 0.703\n"
     ]
    },
    {
     "name": "stderr",
     "output_type": "stream",
     "text": [
      "2019-08-18 14:33:48,681 : MainThread : INFO : estimated memory for 2758 sentences with 300 dimensions and 3000000 vocabulary: 3447 MB (3 GB)\n",
      "2019-08-18 14:33:48,682 : MainThread : INFO : initializing sentence vectors for 2758 sentences\n",
      "2019-08-18 14:33:48,689 : MainThread : INFO : pre-computing SIF weights for 3000000 words\n",
      "2019-08-18 14:33:51,911 : MainThread : INFO : begin training\n",
      "2019-08-18 14:33:51,932 : MainThread : INFO : worker thread finished; awaiting finish of 0 more threads\n",
      "2019-08-18 14:33:52,879 : MainThread : INFO : computing 2 principal components\n",
      "2019-08-18 14:33:52,895 : MainThread : INFO : removing 2 principal components\n",
      "2019-08-18 14:33:52,898 : MainThread : INFO : training on 2758 effective sentences with 22877 effective words took 0s with 128119 sentences/s\n"
     ]
    },
    {
     "name": "stdout",
     "output_type": "stream",
     "text": [
      "SIF-2C-1e-4-W2V 0.6812\n",
      "time: 20.3 s\n"
     ]
    }
   ],
   "source": [
    "models = {\n",
    "    \"CBOW-W2V\" : Average(w2v, lang_freq=\"en\"),\n",
    "    \"SIF-1C-W2V\" : SIF(w2v),\n",
    "    \"SIF-2C-W2V\" : SIF(w2v, components=2),\n",
    "}\n",
    "\n",
    "results = {}\n",
    "for k, m in models.items():\n",
    "    m.train(sents)\n",
    "    r = pearsonr(df.sim, compute_similarities(task_length, m))[0].round(4)\n",
    "    results[k] = r * 100\n",
    "    print(k, r)"
   ]
  },
  {
   "cell_type": "code",
   "execution_count": 3,
   "metadata": {},
   "outputs": [
    {
     "data": {
      "text/html": [
       "<div>\n",
       "<style scoped>\n",
       "    .dataframe tbody tr th:only-of-type {\n",
       "        vertical-align: middle;\n",
       "    }\n",
       "\n",
       "    .dataframe tbody tr th {\n",
       "        vertical-align: top;\n",
       "    }\n",
       "\n",
       "    .dataframe thead th {\n",
       "        text-align: right;\n",
       "    }\n",
       "</style>\n",
       "<table border=\"1\" class=\"dataframe\">\n",
       "  <thead>\n",
       "    <tr style=\"text-align: right;\">\n",
       "      <th></th>\n",
       "      <th>Pearson</th>\n",
       "    </tr>\n",
       "  </thead>\n",
       "  <tbody>\n",
       "    <tr>\n",
       "      <th>CBOW-W2V</th>\n",
       "      <td>62.07</td>\n",
       "    </tr>\n",
       "    <tr>\n",
       "      <th>SIF-1C-W2V</th>\n",
       "      <td>70.26</td>\n",
       "    </tr>\n",
       "    <tr>\n",
       "      <th>SIF-2C-W2V</th>\n",
       "      <td>70.30</td>\n",
       "    </tr>\n",
       "    <tr>\n",
       "      <th>SIF-2C-1e-4-W2V</th>\n",
       "      <td>68.12</td>\n",
       "    </tr>\n",
       "  </tbody>\n",
       "</table>\n",
       "</div>"
      ],
      "text/plain": [
       "                 Pearson\n",
       "CBOW-W2V           62.07\n",
       "SIF-1C-W2V         70.26\n",
       "SIF-2C-W2V         70.30\n",
       "SIF-2C-1e-4-W2V    68.12"
      ]
     },
     "execution_count": 3,
     "metadata": {},
     "output_type": "execute_result"
    },
    {
     "name": "stdout",
     "output_type": "stream",
     "text": [
      "time: 22.7 ms\n"
     ]
    }
   ],
   "source": [
    "pd.DataFrame.from_dict(results, orient=\"index\", columns=[\"Pearson\"])"
   ]
  },
  {
   "cell_type": "code",
   "execution_count": null,
   "metadata": {},
   "outputs": [],
   "source": []
  }
 ],
 "metadata": {
  "kernelspec": {
   "display_name": "Python 3",
   "language": "python",
   "name": "python3"
  },
  "language_info": {
   "codemirror_mode": {
    "name": "ipython",
    "version": 3
   },
   "file_extension": ".py",
   "mimetype": "text/x-python",
   "name": "python",
   "nbconvert_exporter": "python",
   "pygments_lexer": "ipython3",
   "version": "3.7.3"
  }
 },
 "nbformat": 4,
 "nbformat_minor": 2
}
