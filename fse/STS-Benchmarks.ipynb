{
 "cells": [
  {
   "cell_type": "markdown",
   "metadata": {},
   "source": [
    "# STS Benchmark Datasets"
   ]
  },
  {
   "cell_type": "code",
   "execution_count": 35,
   "metadata": {},
   "outputs": [
    {
     "name": "stdout",
     "output_type": "stream",
     "text": [
      "The autotime extension is already loaded. To reload it, use:\n",
      "  %reload_ext autotime\n",
      "time: 14.4 ms\n"
     ]
    }
   ],
   "source": [
    "%load_ext autotime\n",
    "import numpy as np\n",
    "import logging\n",
    "import pandas as pd\n",
    "import pathlib\n",
    "\n",
    "from gensim.models import Word2Vec, FastText\n",
    "from gensim.models.keyedvectors import KeyedVectors, FastTextKeyedVectors\n",
    "\n",
    "from fse.models.average import Average\n",
    "from fse.models.sif import SIF\n",
    "from fse.models.usif import uSIF\n",
    "from fse.models.inputs import IndexedSentence\n",
    "\n",
    "from re import sub\n",
    "from scipy.stats import pearsonr\n",
    "\n",
    "logging.basicConfig(format='%(asctime)s : %(threadName)s : %(levelname)s : %(message)s',\n",
    "                    level=logging.INFO\n",
    "                   )\n",
    "\n",
    "def normalize_text(sentence):\n",
    "    return [sub(\"[^a-zA-Z]\", \"\", w.lower()) for w in sentence.split()] \n",
    "\n",
    "def compute_similarities(task_length, model):\n",
    "    sims = []\n",
    "    for i, j in zip(range(task_length), range(task_length, 2*task_length)):\n",
    "        sims.append(model.sv.similarity(i,j))\n",
    "    return sims\n",
    "\n",
    "import csv\n",
    "\n",
    "# Note: Ive replace \",\", \"\"\" and \";\" with \"\" in file for easier parsing\n",
    "file= \"data/stsbenchmark/sts-test.csv\"\n",
    "similarities, sent_a, sent_b = [], [], []\n",
    "with open(file, \"r\") as f:\n",
    "    for l in f:\n",
    "        line = line.replace(\";\", \"\")\n",
    "        line = l.rstrip().split(\"\\t\")\n",
    "        similarities.append(float(line[4]))\n",
    "        sent_a.append(line[5])\n",
    "        sent_b.append(line[6])\n",
    "similarities = np.array(similarities)\n",
    "assert len(similarities) == len(sent_a) == len(sent_b)"
   ]
  },
  {
   "cell_type": "code",
   "execution_count": 37,
   "metadata": {},
   "outputs": [
    {
     "name": "stdout",
     "output_type": "stream",
     "text": [
      "time: 22min 8s\n"
     ]
    }
   ],
   "source": [
    "words = []\n",
    "vecs = []\n",
    "with open(\"/Users/oliverborchers/Desktop/GSDEV/Models/Static/glove.840B.300d.txt\", \"r\") as f:\n",
    "    for l in f:\n",
    "        line = l.split()\n",
    "        words.append(line[0])\n",
    "        vecs.append(line[1:])"
   ]
  },
  {
   "cell_type": "code",
   "execution_count": null,
   "metadata": {},
   "outputs": [],
   "source": [
    "glove = KeyedVectors(300)\n",
    "glove.add(words, vecs)"
   ]
  },
  {
   "cell_type": "code",
   "execution_count": null,
   "metadata": {},
   "outputs": [],
   "source": [
    "glove.save(\"/Users/oliverborchers/Desktop/GSDEV/Models/Static/glove.840B.300d.model\")"
   ]
  },
  {
   "cell_type": "raw",
   "metadata": {},
   "source": [
    "w2v = KeyedVectors.load(\"/Users/oliverborchers/Desktop/GSDEV/Models/Static/google_news.model\")\n",
    "ft = FastTextKeyedVectors.load(\"/Users/oliverborchers/Desktop/GSDEV/Models/Static/ft_crawl_300d_2m.model\")\n",
    "\n",
    "w2v_avg = Average(w2v, wv_mapfile_path = \"data/vectors/w2v\", lang_freq=\"en\")\n",
    "ft_avg = Average(ft, wv_mapfile_path = \"data/vectors/ft\", lang_freq=\"en\")\n",
    "ft.wv.accuracy(\"/Users/oliverborchers/Desktop/GSDEV/gensim-develop/gensim/test/test_data/questions-words.txt\")"
   ]
  },
  {
   "cell_type": "code",
   "execution_count": null,
   "metadata": {},
   "outputs": [],
   "source": [
    "models, results = {}, {}\n",
    "\n",
    "for year in tasks:\n",
    "    models[f\"CBOW-Glove\"] = Average(glove)\n",
    "    models[f\"SIF-Glove\"] = Average(glove)\n",
    "    \n",
    "    #models[f\"CBOW-W2V\"] = Average(w2v)#, wv_mapfile_path = \"data/vectors/w2v\")\n",
    "    #models[f\"SIF-W2V\"] = SIF(w2v)#, wv_mapfile_path = \"data/vectors/w2v\")\n",
    "    #models[f\"uSIF-W2V-{year}\"] = uSIF(w2v, wv_mapfile_path = \"data/vectors/w2v\")\n",
    "    \n",
    "    #models[f\"CBOW-FT-{year}\"] = Average(ft, wv_mapfile_path = \"data/vectors/ft\")\n",
    "    #models[f\"SIF-FT-{year}\"] = SIF(ft, wv_mapfile_path = \"data/vectors/ft\")\n",
    "    #models[f\"uSIF-FT-{year}\"] = uSIF(ft, wv_mapfile_path = \"data/vectors/ft\")"
   ]
  },
  {
   "cell_type": "code",
   "execution_count": null,
   "metadata": {},
   "outputs": [],
   "source": [
    "sents_a = sts_data.sent_a.values.tolist()\n",
    "sents_b = sts_data.sent_b.values.tolist()\n",
    "assert len(sents_a) == len(sents_b)\n",
    "task_length = len(sents_a)\n",
    "sents_a.extend(sents_b)\n",
    "   \n",
    "sents = [IndexedSentence(s, i) for i,s in enumerate(sents_a)]\n",
    "    \n",
    "for k, m in models.items():\n",
    "    m_type  = k.split(\"-\")[0]\n",
    "    emb_type = k.split(\"-\")[1]\n",
    "    \n",
    "    m.train(sents)\n",
    "    r = pearsonr(sts_data.sim, compute_similarities(task_length, m))[0].round(4)\n",
    "    results[f\"{m_type}-{emb_type}-{year}\"] = r * 100\n",
    "    print(k, r)"
   ]
  },
  {
   "cell_type": "code",
   "execution_count": null,
   "metadata": {},
   "outputs": [],
   "source": [
    "pd.DataFrame.from_dict(results, orient=\"index\", columns=[\"Pearson\"])"
   ]
  },
  {
   "cell_type": "code",
   "execution_count": null,
   "metadata": {},
   "outputs": [],
   "source": []
  }
 ],
 "metadata": {
  "kernelspec": {
   "display_name": "Python 3",
   "language": "python",
   "name": "python3"
  },
  "language_info": {
   "codemirror_mode": {
    "name": "ipython",
    "version": 3
   },
   "file_extension": ".py",
   "mimetype": "text/x-python",
   "name": "python",
   "nbconvert_exporter": "python",
   "pygments_lexer": "ipython3",
   "version": "3.7.3"
  }
 },
 "nbformat": 4,
 "nbformat_minor": 2
}
