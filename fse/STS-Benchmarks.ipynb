{
 "cells": [
  {
   "cell_type": "markdown",
   "metadata": {},
   "source": [
    "# STS Benchmark Datasets"
   ]
  },
  {
   "cell_type": "markdown",
   "metadata": {},
   "source": [
    "For more information, see the implementation of https://github.com/kawine/usif"
   ]
  },
  {
   "cell_type": "code",
   "execution_count": 1,
   "metadata": {},
   "outputs": [
    {
     "name": "stderr",
     "output_type": "stream",
     "text": [
      "2019-08-19 18:21:47,341 : MainThread : INFO : loading Word2VecKeyedVectors object from /Users/oliverborchers/Desktop/GSDEV/Models/Static/google_news.model\n",
      "2019-08-19 18:21:53,096 : MainThread : INFO : loading vectors from /Users/oliverborchers/Desktop/GSDEV/Models/Static/google_news.model.vectors.npy with mmap=None\n",
      "2019-08-19 18:21:57,559 : MainThread : INFO : setting ignored attribute vectors_norm to None\n",
      "2019-08-19 18:21:57,560 : MainThread : INFO : loaded /Users/oliverborchers/Desktop/GSDEV/Models/Static/google_news.model\n",
      "2019-08-19 18:21:57,561 : MainThread : INFO : loading FastTextKeyedVectors object from /Users/oliverborchers/Desktop/GSDEV/Models/Static/ft_crawl_300d_2m.model\n",
      "2019-08-19 18:22:03,575 : MainThread : INFO : loading vectors from /Users/oliverborchers/Desktop/GSDEV/Models/Static/ft_crawl_300d_2m.model.vectors.npy with mmap=None\n",
      "2019-08-19 18:22:06,281 : MainThread : INFO : loading vectors_vocab from /Users/oliverborchers/Desktop/GSDEV/Models/Static/ft_crawl_300d_2m.model.vectors_vocab.npy with mmap=None\n",
      "2019-08-19 18:22:10,343 : MainThread : INFO : loading vectors_ngrams from /Users/oliverborchers/Desktop/GSDEV/Models/Static/ft_crawl_300d_2m.model.vectors_ngrams.npy with mmap=None\n",
      "2019-08-19 18:22:13,497 : MainThread : INFO : setting ignored attribute vectors_norm to None\n",
      "2019-08-19 18:22:13,498 : MainThread : INFO : setting ignored attribute vectors_vocab_norm to None\n",
      "2019-08-19 18:22:13,499 : MainThread : INFO : setting ignored attribute vectors_ngrams_norm to None\n",
      "2019-08-19 18:22:13,500 : MainThread : INFO : setting ignored attribute buckets_word to None\n",
      "2019-08-19 18:22:13,501 : MainThread : INFO : loaded /Users/oliverborchers/Desktop/GSDEV/Models/Static/ft_crawl_300d_2m.model\n"
     ]
    }
   ],
   "source": [
    "%load_ext autotime\n",
    "import numpy as np\n",
    "import logging\n",
    "import pandas as pd\n",
    "import pathlib\n",
    "\n",
    "from gensim.models import Word2Vec, FastText\n",
    "from gensim.models.keyedvectors import KeyedVectors, FastTextKeyedVectors\n",
    "\n",
    "from fse.models.average import Average\n",
    "from fse.models.sif import SIF\n",
    "from fse.models.inputs import IndexedSentence\n",
    "\n",
    "from re import sub\n",
    "\n",
    "from scipy.stats import pearsonr\n",
    "\n",
    "logging.basicConfig(format='%(asctime)s : %(threadName)s : %(levelname)s : %(message)s',\n",
    "                    level=logging.INFO\n",
    "                   )\n",
    "\n",
    "file_path = \"data/stsbenchmark/sts-test.csv\"\n",
    "\n",
    "def normalize_text(sentence):\n",
    "    return [sub(\"[^a-zA-Z]\", \"\", w.lower()) for w in sentence.split()] \n",
    "\n",
    "def compute_similarities(task_length, model):\n",
    "    sims = []\n",
    "    for i, j in zip(range(task_length), range(task_length, 2*task_length)):\n",
    "        sims.append(model.sv.similarity(i,j))\n",
    "    return sims\n",
    "\n",
    "sts_data = pd.read_csv(file_path, sep=\",\", error_bad_lines=True, names=[\"cpt\",\"1\",\"task\",\"3\",\"sim\",\"sent_a\",\"sent_b\"])\n",
    "sts_data.dropna(inplace=True)\n",
    "sts_data.sent_a = sts_data.sent_a.apply(normalize_text)\n",
    "sts_data.sent_b = sts_data.sent_b.apply(normalize_text)\n",
    "sts_data.task = sts_data.task.str.replace(\"2012test\", \"2012\")\n",
    "sts_data.task = sts_data.task.str.replace(\"2012train\", \"None\")\n",
    "sts_data = sts_data[sts_data.task != \"None\"]\n",
    "\n",
    "w2v = KeyedVectors.load(\"/Users/oliverborchers/Desktop/GSDEV/Models/Static/google_news.model\")\n",
    "ft = FastTextKeyedVectors.load(\"/Users/oliverborchers/Desktop/GSDEV/Models/Static/ft_crawl_300d_2m.model\")\n",
    "\n",
    "tasks = sorted([\"2012\", \"2013\", \"2014\", \"2015\", \"2016\", \"2017\"])"
   ]
  },
  {
   "cell_type": "code",
   "execution_count": 2,
   "metadata": {},
   "outputs": [
    {
     "name": "stderr",
     "output_type": "stream",
     "text": [
      "/Users/oliverborchers/Library/Mobile Documents/com~apple~CloudDocs/Diss/Medium/Fast_Sentence_Embeddings/fse/models/base_s2v.py:156: UserWarning: C extension not loaded, training/inferring will be slow. Install a C compiler and reinstall fse.\n",
      "  \"C extension not loaded, training/inferring will be slow. \"\n",
      "2019-08-19 18:22:13,539 : MainThread : INFO : loading pre-existing wv from data/vectors/w2v\n",
      "2019-08-19 18:22:13,890 : MainThread : INFO : no frequency mode: using wordfreq for estimation of frequency for language: en\n",
      "2019-08-19 18:22:18,615 : MainThread : INFO : loading pre-existing wv from data/vectors/ft\n",
      "2019-08-19 18:22:19,035 : MainThread : INFO : loading pre-existing ngrams from data/vectors/ft\n",
      "2019-08-19 18:22:19,427 : MainThread : INFO : writing vocab to data/vectors/ft\n",
      "2019-08-19 18:22:25,126 : MainThread : INFO : no frequency mode: using wordfreq for estimation of frequency for language: en\n"
     ]
    },
    {
     "name": "stdout",
     "output_type": "stream",
     "text": [
      "time: 14 s\n"
     ]
    }
   ],
   "source": [
    "w2v_avg = Average(w2v, wv_mapfile_path = \"data/vectors/w2v\", lang_freq=\"en\")\n",
    "ft_avg = Average(ft, wv_mapfile_path = \"data/vectors/ft\", lang_freq=\"en\")"
   ]
  },
  {
   "cell_type": "raw",
   "metadata": {},
   "source": [
    "ft.wv.accuracy(\"/Users/oliverborchers/Desktop/GSDEV/gensim-develop/gensim/test/test_data/questions-words.txt\")"
   ]
  },
  {
   "cell_type": "code",
   "execution_count": 6,
   "metadata": {},
   "outputs": [
    {
     "name": "stderr",
     "output_type": "stream",
     "text": [
      "/Users/oliverborchers/Library/Mobile Documents/com~apple~CloudDocs/Diss/Medium/Fast_Sentence_Embeddings/fse/models/base_s2v.py:156: UserWarning: C extension not loaded, training/inferring will be slow. Install a C compiler and reinstall fse.\n",
      "  \"C extension not loaded, training/inferring will be slow. \"\n",
      "2019-08-19 18:25:01,749 : MainThread : INFO : loading pre-existing wv from data/vectors/w2v\n",
      "2019-08-19 18:25:01,767 : MainThread : INFO : loading pre-existing wv from data/vectors/w2v\n",
      "2019-08-19 18:25:01,787 : MainThread : INFO : loading pre-existing wv from data/vectors/ft\n",
      "2019-08-19 18:25:01,803 : MainThread : INFO : loading pre-existing ngrams from data/vectors/ft\n",
      "2019-08-19 18:25:01,821 : MainThread : INFO : loading pre-existing vocab from data/vectors/ft\n",
      "2019-08-19 18:25:01,840 : MainThread : INFO : loading pre-existing wv from data/vectors/ft\n",
      "2019-08-19 18:25:01,854 : MainThread : INFO : loading pre-existing ngrams from data/vectors/ft\n",
      "2019-08-19 18:25:01,871 : MainThread : INFO : loading pre-existing vocab from data/vectors/ft\n",
      "2019-08-19 18:25:01,887 : MainThread : INFO : loading pre-existing wv from data/vectors/w2v\n",
      "2019-08-19 18:25:01,904 : MainThread : INFO : loading pre-existing wv from data/vectors/w2v\n",
      "2019-08-19 18:25:01,920 : MainThread : INFO : loading pre-existing wv from data/vectors/ft\n",
      "2019-08-19 18:25:01,935 : MainThread : INFO : loading pre-existing ngrams from data/vectors/ft\n",
      "2019-08-19 18:25:01,950 : MainThread : INFO : loading pre-existing vocab from data/vectors/ft\n",
      "2019-08-19 18:25:01,964 : MainThread : INFO : loading pre-existing wv from data/vectors/ft\n",
      "2019-08-19 18:25:01,979 : MainThread : INFO : loading pre-existing ngrams from data/vectors/ft\n",
      "2019-08-19 18:25:01,992 : MainThread : INFO : loading pre-existing vocab from data/vectors/ft\n",
      "2019-08-19 18:25:02,008 : MainThread : INFO : loading pre-existing wv from data/vectors/w2v\n",
      "2019-08-19 18:25:02,029 : MainThread : INFO : loading pre-existing wv from data/vectors/w2v\n",
      "2019-08-19 18:25:02,050 : MainThread : INFO : loading pre-existing wv from data/vectors/ft\n",
      "2019-08-19 18:25:02,063 : MainThread : INFO : loading pre-existing ngrams from data/vectors/ft\n",
      "2019-08-19 18:25:02,077 : MainThread : INFO : loading pre-existing vocab from data/vectors/ft\n",
      "2019-08-19 18:25:02,097 : MainThread : INFO : loading pre-existing wv from data/vectors/ft\n",
      "2019-08-19 18:25:02,111 : MainThread : INFO : loading pre-existing ngrams from data/vectors/ft\n",
      "2019-08-19 18:25:02,122 : MainThread : INFO : loading pre-existing vocab from data/vectors/ft\n",
      "2019-08-19 18:25:02,141 : MainThread : INFO : loading pre-existing wv from data/vectors/w2v\n",
      "2019-08-19 18:25:02,160 : MainThread : INFO : loading pre-existing wv from data/vectors/w2v\n",
      "2019-08-19 18:25:02,179 : MainThread : INFO : loading pre-existing wv from data/vectors/ft\n",
      "2019-08-19 18:25:02,195 : MainThread : INFO : loading pre-existing ngrams from data/vectors/ft\n",
      "2019-08-19 18:25:02,211 : MainThread : INFO : loading pre-existing vocab from data/vectors/ft\n",
      "2019-08-19 18:25:02,227 : MainThread : INFO : loading pre-existing wv from data/vectors/ft\n",
      "2019-08-19 18:25:02,242 : MainThread : INFO : loading pre-existing ngrams from data/vectors/ft\n",
      "2019-08-19 18:25:02,257 : MainThread : INFO : loading pre-existing vocab from data/vectors/ft\n",
      "2019-08-19 18:25:02,275 : MainThread : INFO : loading pre-existing wv from data/vectors/w2v\n",
      "2019-08-19 18:25:02,295 : MainThread : INFO : loading pre-existing wv from data/vectors/w2v\n",
      "2019-08-19 18:25:02,314 : MainThread : INFO : loading pre-existing wv from data/vectors/ft\n",
      "2019-08-19 18:25:02,326 : MainThread : INFO : loading pre-existing ngrams from data/vectors/ft\n",
      "2019-08-19 18:25:02,342 : MainThread : INFO : loading pre-existing vocab from data/vectors/ft\n",
      "2019-08-19 18:25:02,361 : MainThread : INFO : loading pre-existing wv from data/vectors/ft\n",
      "2019-08-19 18:25:02,375 : MainThread : INFO : loading pre-existing ngrams from data/vectors/ft\n",
      "2019-08-19 18:25:02,385 : MainThread : INFO : loading pre-existing vocab from data/vectors/ft\n",
      "2019-08-19 18:25:02,406 : MainThread : INFO : loading pre-existing wv from data/vectors/w2v\n",
      "2019-08-19 18:25:02,426 : MainThread : INFO : loading pre-existing wv from data/vectors/w2v\n",
      "2019-08-19 18:25:02,448 : MainThread : INFO : loading pre-existing wv from data/vectors/ft\n",
      "2019-08-19 18:25:02,462 : MainThread : INFO : loading pre-existing ngrams from data/vectors/ft\n",
      "2019-08-19 18:25:02,476 : MainThread : INFO : loading pre-existing vocab from data/vectors/ft\n",
      "2019-08-19 18:25:02,492 : MainThread : INFO : loading pre-existing wv from data/vectors/ft\n",
      "2019-08-19 18:25:02,506 : MainThread : INFO : loading pre-existing ngrams from data/vectors/ft\n",
      "2019-08-19 18:25:02,520 : MainThread : INFO : loading pre-existing vocab from data/vectors/ft\n"
     ]
    },
    {
     "name": "stdout",
     "output_type": "stream",
     "text": [
      "time: 840 ms\n"
     ]
    }
   ],
   "source": [
    "models, results = {}, {}\n",
    "\n",
    "for year in tasks:\n",
    "    models[f\"CBOW-W2V-{year}\"] = Average(w2v, wv_mapfile_path = \"data/vectors/w2v\")\n",
    "    models[f\"SIF-W2V-{year}\"] = SIF(w2v, wv_mapfile_path = \"data/vectors/w2v\")\n",
    "    \n",
    "    models[f\"CBOW-FT-{year}\"] = Average(ft, wv_mapfile_path = \"data/vectors/ft\")\n",
    "    models[f\"SIF-FT-{year}\"] = SIF(ft, wv_mapfile_path = \"data/vectors/ft\")\n",
    "    \n",
    "for k in models:\n",
    "    results[k] = 0"
   ]
  },
  {
   "cell_type": "code",
   "execution_count": 7,
   "metadata": {},
   "outputs": [
    {
     "name": "stderr",
     "output_type": "stream",
     "text": [
      "2019-08-19 18:25:03,726 : MainThread : INFO : scanning all indexed sentences and their word counts\n",
      "2019-08-19 18:25:03,730 : MainThread : INFO : finished scanning 504 sentences with an average length of 13 and 6848 total words\n",
      "2019-08-19 18:25:04,920 : MainThread : INFO : estimated memory for 504 sentences with 300 dimensions and 3000000 vocabulary: 3445 MB (3 GB)\n",
      "2019-08-19 18:25:04,921 : MainThread : INFO : initializing sentence vectors for 504 sentences\n",
      "2019-08-19 18:25:04,985 : MainThread : INFO : begin training\n",
      "2019-08-19 18:25:05,035 : MainThread : INFO : worker thread finished; awaiting finish of 0 more threads\n",
      "2019-08-19 18:25:05,036 : MainThread : INFO : training on 504 effective sentences with 5060 effective words took 0s with 9805 sentences/s\n",
      "2019-08-19 18:25:05,046 : MainThread : INFO : scanning all indexed sentences and their word counts\n",
      "2019-08-19 18:25:05,052 : MainThread : INFO : finished scanning 504 sentences with an average length of 13 and 6848 total words\n"
     ]
    },
    {
     "name": "stdout",
     "output_type": "stream",
     "text": [
      "CBOW-W2V-2012 0.7467\n"
     ]
    },
    {
     "name": "stderr",
     "output_type": "stream",
     "text": [
      "2019-08-19 18:25:06,426 : MainThread : INFO : estimated memory for 504 sentences with 300 dimensions and 3000000 vocabulary: 3445 MB (3 GB)\n",
      "2019-08-19 18:25:06,427 : MainThread : INFO : initializing sentence vectors for 504 sentences\n",
      "2019-08-19 18:25:06,431 : MainThread : INFO : pre-computing SIF weights for 3000000 words\n",
      "2019-08-19 18:25:11,856 : MainThread : INFO : begin training\n",
      "2019-08-19 18:25:11,904 : MainThread : INFO : worker thread finished; awaiting finish of 0 more threads\n",
      "2019-08-19 18:25:11,905 : MainThread : INFO : computing 1 principal components\n",
      "2019-08-19 18:25:11,913 : MainThread : INFO : removing 1 principal components\n",
      "2019-08-19 18:25:11,915 : MainThread : INFO : training on 504 effective sentences with 5060 effective words took 0s with 10203 sentences/s\n",
      "2019-08-19 18:25:11,930 : MainThread : INFO : scanning all indexed sentences and their word counts\n",
      "2019-08-19 18:25:11,935 : MainThread : INFO : finished scanning 504 sentences with an average length of 13 and 6848 total words\n"
     ]
    },
    {
     "name": "stdout",
     "output_type": "stream",
     "text": [
      "SIF-W2V-2012 0.7874\n"
     ]
    },
    {
     "name": "stderr",
     "output_type": "stream",
     "text": [
      "2019-08-19 18:25:12,895 : MainThread : WARNING : Fasttext memory estimation not yet completed\n",
      "2019-08-19 18:25:12,896 : MainThread : INFO : estimated memory for 504 sentences with 300 dimensions and 2000000 vocabulary: 2297 MB (2 GB)\n",
      "2019-08-19 18:25:12,897 : MainThread : INFO : initializing sentence vectors for 504 sentences\n",
      "2019-08-19 18:25:12,941 : MainThread : INFO : begin training\n",
      "2019-08-19 18:25:13,050 : MainThread : INFO : worker thread finished; awaiting finish of 0 more threads\n",
      "2019-08-19 18:25:13,051 : MainThread : INFO : training on 504 effective sentences with 6848 effective words took 0s with 4607 sentences/s\n",
      "2019-08-19 18:25:13,060 : MainThread : INFO : scanning all indexed sentences and their word counts\n",
      "2019-08-19 18:25:13,063 : MainThread : INFO : finished scanning 504 sentences with an average length of 13 and 6848 total words\n"
     ]
    },
    {
     "name": "stdout",
     "output_type": "stream",
     "text": [
      "CBOW-FT-2012 0.5099\n"
     ]
    },
    {
     "name": "stderr",
     "output_type": "stream",
     "text": [
      "2019-08-19 18:25:13,972 : MainThread : WARNING : Fasttext memory estimation not yet completed\n",
      "2019-08-19 18:25:13,973 : MainThread : INFO : estimated memory for 504 sentences with 300 dimensions and 2000000 vocabulary: 2297 MB (2 GB)\n",
      "2019-08-19 18:25:13,973 : MainThread : INFO : initializing sentence vectors for 504 sentences\n",
      "2019-08-19 18:25:13,976 : MainThread : INFO : pre-computing SIF weights for 2000000 words\n",
      "2019-08-19 18:25:17,022 : MainThread : INFO : begin training\n",
      "2019-08-19 18:25:17,123 : MainThread : INFO : worker thread finished; awaiting finish of 0 more threads\n",
      "2019-08-19 18:25:17,124 : MainThread : INFO : computing 1 principal components\n",
      "2019-08-19 18:25:17,130 : MainThread : INFO : removing 1 principal components\n",
      "2019-08-19 18:25:17,132 : MainThread : INFO : training on 504 effective sentences with 6848 effective words took 0s with 4971 sentences/s\n",
      "2019-08-19 18:25:17,144 : MainThread : INFO : scanning all indexed sentences and their word counts\n",
      "2019-08-19 18:25:17,145 : MainThread : INFO : finished scanning 144 sentences with an average length of 7 and 1101 total words\n"
     ]
    },
    {
     "name": "stdout",
     "output_type": "stream",
     "text": [
      "SIF-FT-2012 0.791\n"
     ]
    },
    {
     "name": "stderr",
     "output_type": "stream",
     "text": [
      "2019-08-19 18:25:18,343 : MainThread : INFO : estimated memory for 144 sentences with 300 dimensions and 3000000 vocabulary: 3444 MB (3 GB)\n",
      "2019-08-19 18:25:18,344 : MainThread : INFO : initializing sentence vectors for 144 sentences\n",
      "2019-08-19 18:25:18,404 : MainThread : INFO : begin training\n",
      "2019-08-19 18:25:18,414 : MainThread : INFO : worker thread finished; awaiting finish of 0 more threads\n",
      "2019-08-19 18:25:18,415 : MainThread : INFO : training on 144 effective sentences with 944 effective words took 0s with 13250 sentences/s\n",
      "2019-08-19 18:25:18,418 : MainThread : INFO : scanning all indexed sentences and their word counts\n",
      "2019-08-19 18:25:18,419 : MainThread : INFO : finished scanning 144 sentences with an average length of 7 and 1101 total words\n"
     ]
    },
    {
     "name": "stdout",
     "output_type": "stream",
     "text": [
      "CBOW-W2V-2013 0.6474\n"
     ]
    },
    {
     "name": "stderr",
     "output_type": "stream",
     "text": [
      "2019-08-19 18:25:19,567 : MainThread : INFO : estimated memory for 144 sentences with 300 dimensions and 3000000 vocabulary: 3444 MB (3 GB)\n",
      "2019-08-19 18:25:19,568 : MainThread : INFO : initializing sentence vectors for 144 sentences\n",
      "2019-08-19 18:25:19,569 : MainThread : INFO : pre-computing SIF weights for 3000000 words\n",
      "2019-08-19 18:25:23,006 : MainThread : INFO : begin training\n",
      "2019-08-19 18:25:23,018 : MainThread : INFO : worker thread finished; awaiting finish of 0 more threads\n",
      "2019-08-19 18:25:23,019 : MainThread : INFO : computing 1 principal components\n",
      "2019-08-19 18:25:23,022 : MainThread : INFO : removing 1 principal components\n",
      "2019-08-19 18:25:23,024 : MainThread : INFO : training on 144 effective sentences with 944 effective words took 0s with 11007 sentences/s\n",
      "2019-08-19 18:25:23,029 : MainThread : INFO : scanning all indexed sentences and their word counts\n",
      "2019-08-19 18:25:23,031 : MainThread : INFO : finished scanning 144 sentences with an average length of 7 and 1101 total words\n"
     ]
    },
    {
     "name": "stdout",
     "output_type": "stream",
     "text": [
      "SIF-W2V-2013 0.6741\n"
     ]
    },
    {
     "name": "stderr",
     "output_type": "stream",
     "text": [
      "2019-08-19 18:25:24,407 : MainThread : WARNING : Fasttext memory estimation not yet completed\n",
      "2019-08-19 18:25:24,408 : MainThread : INFO : estimated memory for 144 sentences with 300 dimensions and 2000000 vocabulary: 2296 MB (2 GB)\n",
      "2019-08-19 18:25:24,408 : MainThread : INFO : initializing sentence vectors for 144 sentences\n",
      "2019-08-19 18:25:24,448 : MainThread : INFO : begin training\n",
      "2019-08-19 18:25:24,474 : MainThread : INFO : worker thread finished; awaiting finish of 0 more threads\n",
      "2019-08-19 18:25:24,476 : MainThread : INFO : training on 144 effective sentences with 1101 effective words took 0s with 5123 sentences/s\n",
      "2019-08-19 18:25:24,499 : MainThread : INFO : scanning all indexed sentences and their word counts\n",
      "2019-08-19 18:25:24,506 : MainThread : INFO : finished scanning 144 sentences with an average length of 7 and 1101 total words\n"
     ]
    },
    {
     "name": "stdout",
     "output_type": "stream",
     "text": [
      "CBOW-FT-2013 0.6506\n"
     ]
    },
    {
     "name": "stderr",
     "output_type": "stream",
     "text": [
      "2019-08-19 18:25:25,651 : MainThread : WARNING : Fasttext memory estimation not yet completed\n",
      "2019-08-19 18:25:25,652 : MainThread : INFO : estimated memory for 144 sentences with 300 dimensions and 2000000 vocabulary: 2296 MB (2 GB)\n",
      "2019-08-19 18:25:25,653 : MainThread : INFO : initializing sentence vectors for 144 sentences\n",
      "2019-08-19 18:25:25,655 : MainThread : INFO : pre-computing SIF weights for 2000000 words\n",
      "2019-08-19 18:25:28,152 : MainThread : INFO : begin training\n",
      "2019-08-19 18:25:28,171 : MainThread : INFO : worker thread finished; awaiting finish of 0 more threads\n",
      "2019-08-19 18:25:28,172 : MainThread : INFO : computing 1 principal components\n",
      "2019-08-19 18:25:28,180 : MainThread : INFO : removing 1 principal components\n",
      "2019-08-19 18:25:28,181 : MainThread : INFO : training on 144 effective sentences with 1101 effective words took 0s with 7181 sentences/s\n",
      "2019-08-19 18:25:28,190 : MainThread : INFO : scanning all indexed sentences and their word counts\n",
      "2019-08-19 18:25:28,193 : MainThread : INFO : finished scanning 404 sentences with an average length of 9 and 3763 total words\n"
     ]
    },
    {
     "name": "stdout",
     "output_type": "stream",
     "text": [
      "SIF-FT-2013 0.7039\n"
     ]
    },
    {
     "name": "stderr",
     "output_type": "stream",
     "text": [
      "2019-08-19 18:25:29,384 : MainThread : INFO : estimated memory for 404 sentences with 300 dimensions and 3000000 vocabulary: 3445 MB (3 GB)\n",
      "2019-08-19 18:25:29,385 : MainThread : INFO : initializing sentence vectors for 404 sentences\n",
      "2019-08-19 18:25:29,438 : MainThread : INFO : begin training\n",
      "2019-08-19 18:25:29,461 : MainThread : INFO : worker thread finished; awaiting finish of 0 more threads\n",
      "2019-08-19 18:25:29,462 : MainThread : INFO : training on 404 effective sentences with 2833 effective words took 0s with 17112 sentences/s\n",
      "2019-08-19 18:25:29,469 : MainThread : INFO : scanning all indexed sentences and their word counts\n",
      "2019-08-19 18:25:29,471 : MainThread : INFO : finished scanning 404 sentences with an average length of 9 and 3763 total words\n"
     ]
    },
    {
     "name": "stdout",
     "output_type": "stream",
     "text": [
      "CBOW-W2V-2014 0.7105\n"
     ]
    },
    {
     "name": "stderr",
     "output_type": "stream",
     "text": [
      "2019-08-19 18:25:31,326 : MainThread : INFO : estimated memory for 404 sentences with 300 dimensions and 3000000 vocabulary: 3445 MB (3 GB)\n",
      "2019-08-19 18:25:31,329 : MainThread : INFO : initializing sentence vectors for 404 sentences\n",
      "2019-08-19 18:25:31,340 : MainThread : INFO : pre-computing SIF weights for 3000000 words\n",
      "2019-08-19 18:25:39,172 : MainThread : INFO : begin training\n",
      "2019-08-19 18:25:39,202 : MainThread : INFO : worker thread finished; awaiting finish of 0 more threads\n",
      "2019-08-19 18:25:39,204 : MainThread : INFO : computing 1 principal components\n",
      "2019-08-19 18:25:39,213 : MainThread : INFO : removing 1 principal components\n",
      "2019-08-19 18:25:39,215 : MainThread : INFO : training on 404 effective sentences with 2833 effective words took 0s with 12860 sentences/s\n",
      "2019-08-19 18:25:39,230 : MainThread : INFO : scanning all indexed sentences and their word counts\n",
      "2019-08-19 18:25:39,235 : MainThread : INFO : finished scanning 404 sentences with an average length of 9 and 3763 total words\n"
     ]
    },
    {
     "name": "stdout",
     "output_type": "stream",
     "text": [
      "SIF-W2V-2014 0.755\n"
     ]
    },
    {
     "name": "stderr",
     "output_type": "stream",
     "text": [
      "2019-08-19 18:25:40,263 : MainThread : WARNING : Fasttext memory estimation not yet completed\n",
      "2019-08-19 18:25:40,264 : MainThread : INFO : estimated memory for 404 sentences with 300 dimensions and 2000000 vocabulary: 2296 MB (2 GB)\n",
      "2019-08-19 18:25:40,265 : MainThread : INFO : initializing sentence vectors for 404 sentences\n",
      "2019-08-19 18:25:40,310 : MainThread : INFO : begin training\n",
      "2019-08-19 18:25:40,372 : MainThread : INFO : worker thread finished; awaiting finish of 0 more threads\n",
      "2019-08-19 18:25:40,373 : MainThread : INFO : training on 404 effective sentences with 3763 effective words took 0s with 6386 sentences/s\n",
      "2019-08-19 18:25:40,381 : MainThread : INFO : scanning all indexed sentences and their word counts\n",
      "2019-08-19 18:25:40,383 : MainThread : INFO : finished scanning 404 sentences with an average length of 9 and 3763 total words\n"
     ]
    },
    {
     "name": "stdout",
     "output_type": "stream",
     "text": [
      "CBOW-FT-2014 0.4882\n"
     ]
    },
    {
     "name": "stderr",
     "output_type": "stream",
     "text": [
      "2019-08-19 18:25:41,336 : MainThread : WARNING : Fasttext memory estimation not yet completed\n",
      "2019-08-19 18:25:41,337 : MainThread : INFO : estimated memory for 404 sentences with 300 dimensions and 2000000 vocabulary: 2296 MB (2 GB)\n",
      "2019-08-19 18:25:41,338 : MainThread : INFO : initializing sentence vectors for 404 sentences\n",
      "2019-08-19 18:25:41,341 : MainThread : INFO : pre-computing SIF weights for 2000000 words\n",
      "2019-08-19 18:25:43,867 : MainThread : INFO : begin training\n",
      "2019-08-19 18:25:43,920 : MainThread : INFO : worker thread finished; awaiting finish of 0 more threads\n",
      "2019-08-19 18:25:43,920 : MainThread : INFO : computing 1 principal components\n",
      "2019-08-19 18:25:43,925 : MainThread : INFO : removing 1 principal components\n",
      "2019-08-19 18:25:43,927 : MainThread : INFO : training on 404 effective sentences with 3763 effective words took 0s with 7591 sentences/s\n",
      "2019-08-19 18:25:43,938 : MainThread : INFO : scanning all indexed sentences and their word counts\n",
      "2019-08-19 18:25:43,941 : MainThread : INFO : finished scanning 392 sentences with an average length of 9 and 3640 total words\n"
     ]
    },
    {
     "name": "stdout",
     "output_type": "stream",
     "text": [
      "SIF-FT-2014 0.7789\n"
     ]
    },
    {
     "name": "stderr",
     "output_type": "stream",
     "text": [
      "2019-08-19 18:25:45,125 : MainThread : INFO : estimated memory for 392 sentences with 300 dimensions and 3000000 vocabulary: 3445 MB (3 GB)\n",
      "2019-08-19 18:25:45,126 : MainThread : INFO : initializing sentence vectors for 392 sentences\n",
      "2019-08-19 18:25:45,179 : MainThread : INFO : begin training\n",
      "2019-08-19 18:25:45,202 : MainThread : INFO : worker thread finished; awaiting finish of 0 more threads\n",
      "2019-08-19 18:25:45,203 : MainThread : INFO : training on 392 effective sentences with 2849 effective words took 0s with 16532 sentences/s\n",
      "2019-08-19 18:25:45,209 : MainThread : INFO : scanning all indexed sentences and their word counts\n",
      "2019-08-19 18:25:45,211 : MainThread : INFO : finished scanning 392 sentences with an average length of 9 and 3640 total words\n"
     ]
    },
    {
     "name": "stdout",
     "output_type": "stream",
     "text": [
      "CBOW-W2V-2015 0.732\n"
     ]
    },
    {
     "name": "stderr",
     "output_type": "stream",
     "text": [
      "2019-08-19 18:25:46,355 : MainThread : INFO : estimated memory for 392 sentences with 300 dimensions and 3000000 vocabulary: 3445 MB (3 GB)\n",
      "2019-08-19 18:25:46,356 : MainThread : INFO : initializing sentence vectors for 392 sentences\n",
      "2019-08-19 18:25:46,359 : MainThread : INFO : pre-computing SIF weights for 3000000 words\n",
      "2019-08-19 18:25:49,771 : MainThread : INFO : begin training\n",
      "2019-08-19 18:25:49,793 : MainThread : INFO : worker thread finished; awaiting finish of 0 more threads\n",
      "2019-08-19 18:25:49,794 : MainThread : INFO : computing 1 principal components\n",
      "2019-08-19 18:25:49,801 : MainThread : INFO : removing 1 principal components\n",
      "2019-08-19 18:25:49,802 : MainThread : INFO : training on 392 effective sentences with 2849 effective words took 0s with 17383 sentences/s\n",
      "2019-08-19 18:25:49,811 : MainThread : INFO : scanning all indexed sentences and their word counts\n",
      "2019-08-19 18:25:49,813 : MainThread : INFO : finished scanning 392 sentences with an average length of 9 and 3640 total words\n"
     ]
    },
    {
     "name": "stdout",
     "output_type": "stream",
     "text": [
      "SIF-W2V-2015 0.783\n"
     ]
    },
    {
     "name": "stderr",
     "output_type": "stream",
     "text": [
      "2019-08-19 18:25:50,840 : MainThread : WARNING : Fasttext memory estimation not yet completed\n",
      "2019-08-19 18:25:50,840 : MainThread : INFO : estimated memory for 392 sentences with 300 dimensions and 2000000 vocabulary: 2296 MB (2 GB)\n",
      "2019-08-19 18:25:50,841 : MainThread : INFO : initializing sentence vectors for 392 sentences\n",
      "2019-08-19 18:25:50,877 : MainThread : INFO : begin training\n",
      "2019-08-19 18:25:50,926 : MainThread : INFO : worker thread finished; awaiting finish of 0 more threads\n",
      "2019-08-19 18:25:50,926 : MainThread : INFO : training on 392 effective sentences with 3640 effective words took 0s with 7947 sentences/s\n",
      "2019-08-19 18:25:50,931 : MainThread : INFO : scanning all indexed sentences and their word counts\n",
      "2019-08-19 18:25:50,933 : MainThread : INFO : finished scanning 392 sentences with an average length of 9 and 3640 total words\n"
     ]
    },
    {
     "name": "stdout",
     "output_type": "stream",
     "text": [
      "CBOW-FT-2015 0.579\n"
     ]
    },
    {
     "name": "stderr",
     "output_type": "stream",
     "text": [
      "2019-08-19 18:25:51,783 : MainThread : WARNING : Fasttext memory estimation not yet completed\n",
      "2019-08-19 18:25:51,783 : MainThread : INFO : estimated memory for 392 sentences with 300 dimensions and 2000000 vocabulary: 2296 MB (2 GB)\n",
      "2019-08-19 18:25:51,784 : MainThread : INFO : initializing sentence vectors for 392 sentences\n",
      "2019-08-19 18:25:51,786 : MainThread : INFO : pre-computing SIF weights for 2000000 words\n",
      "2019-08-19 18:25:54,007 : MainThread : INFO : begin training\n",
      "2019-08-19 18:25:54,056 : MainThread : INFO : worker thread finished; awaiting finish of 0 more threads\n",
      "2019-08-19 18:25:54,057 : MainThread : INFO : computing 1 principal components\n",
      "2019-08-19 18:25:54,062 : MainThread : INFO : removing 1 principal components\n",
      "2019-08-19 18:25:54,063 : MainThread : INFO : training on 392 effective sentences with 3640 effective words took 0s with 7836 sentences/s\n",
      "2019-08-19 18:25:54,072 : MainThread : INFO : scanning all indexed sentences and their word counts\n",
      "2019-08-19 18:25:54,074 : MainThread : INFO : finished scanning 568 sentences with an average length of 9 and 5582 total words\n"
     ]
    },
    {
     "name": "stdout",
     "output_type": "stream",
     "text": [
      "SIF-FT-2015 0.7961\n"
     ]
    },
    {
     "name": "stderr",
     "output_type": "stream",
     "text": [
      "2019-08-19 18:25:55,071 : MainThread : INFO : estimated memory for 568 sentences with 300 dimensions and 3000000 vocabulary: 3445 MB (3 GB)\n",
      "2019-08-19 18:25:55,071 : MainThread : INFO : initializing sentence vectors for 568 sentences\n",
      "2019-08-19 18:25:55,121 : MainThread : INFO : begin training\n",
      "2019-08-19 18:25:55,146 : MainThread : INFO : worker thread finished; awaiting finish of 0 more threads\n",
      "2019-08-19 18:25:55,146 : MainThread : INFO : training on 568 effective sentences with 4534 effective words took 0s with 22511 sentences/s\n",
      "2019-08-19 18:25:55,153 : MainThread : INFO : scanning all indexed sentences and their word counts\n",
      "2019-08-19 18:25:55,155 : MainThread : INFO : finished scanning 568 sentences with an average length of 9 and 5582 total words\n"
     ]
    },
    {
     "name": "stdout",
     "output_type": "stream",
     "text": [
      "CBOW-W2V-2016 0.4194\n"
     ]
    },
    {
     "name": "stderr",
     "output_type": "stream",
     "text": [
      "2019-08-19 18:25:56,171 : MainThread : INFO : estimated memory for 568 sentences with 300 dimensions and 3000000 vocabulary: 3445 MB (3 GB)\n",
      "2019-08-19 18:25:56,172 : MainThread : INFO : initializing sentence vectors for 568 sentences\n",
      "2019-08-19 18:25:56,174 : MainThread : INFO : pre-computing SIF weights for 3000000 words\n",
      "2019-08-19 18:25:59,181 : MainThread : INFO : begin training\n",
      "2019-08-19 18:25:59,205 : MainThread : INFO : worker thread finished; awaiting finish of 0 more threads\n",
      "2019-08-19 18:25:59,205 : MainThread : INFO : computing 1 principal components\n",
      "2019-08-19 18:25:59,210 : MainThread : INFO : removing 1 principal components\n",
      "2019-08-19 18:25:59,212 : MainThread : INFO : training on 568 effective sentences with 4534 effective words took 0s with 23186 sentences/s\n",
      "2019-08-19 18:25:59,222 : MainThread : INFO : scanning all indexed sentences and their word counts\n",
      "2019-08-19 18:25:59,224 : MainThread : INFO : finished scanning 568 sentences with an average length of 9 and 5582 total words\n"
     ]
    },
    {
     "name": "stdout",
     "output_type": "stream",
     "text": [
      "SIF-W2V-2016 0.5533\n"
     ]
    },
    {
     "name": "stderr",
     "output_type": "stream",
     "text": [
      "2019-08-19 18:25:59,981 : MainThread : WARNING : Fasttext memory estimation not yet completed\n",
      "2019-08-19 18:25:59,981 : MainThread : INFO : estimated memory for 568 sentences with 300 dimensions and 2000000 vocabulary: 2297 MB (2 GB)\n",
      "2019-08-19 18:25:59,982 : MainThread : INFO : initializing sentence vectors for 568 sentences\n",
      "2019-08-19 18:26:00,017 : MainThread : INFO : begin training\n",
      "2019-08-19 18:26:00,075 : MainThread : INFO : worker thread finished; awaiting finish of 0 more threads\n",
      "2019-08-19 18:26:00,076 : MainThread : INFO : training on 568 effective sentences with 5582 effective words took 0s with 9511 sentences/s\n",
      "2019-08-19 18:26:00,082 : MainThread : INFO : scanning all indexed sentences and their word counts\n",
      "2019-08-19 18:26:00,085 : MainThread : INFO : finished scanning 568 sentences with an average length of 9 and 5582 total words\n"
     ]
    },
    {
     "name": "stdout",
     "output_type": "stream",
     "text": [
      "CBOW-FT-2016 0.3626\n"
     ]
    },
    {
     "name": "stderr",
     "output_type": "stream",
     "text": [
      "2019-08-19 18:26:00,872 : MainThread : WARNING : Fasttext memory estimation not yet completed\n",
      "2019-08-19 18:26:00,873 : MainThread : INFO : estimated memory for 568 sentences with 300 dimensions and 2000000 vocabulary: 2297 MB (2 GB)\n",
      "2019-08-19 18:26:00,873 : MainThread : INFO : initializing sentence vectors for 568 sentences\n",
      "2019-08-19 18:26:00,875 : MainThread : INFO : pre-computing SIF weights for 2000000 words\n",
      "2019-08-19 18:26:03,054 : MainThread : INFO : begin training\n",
      "2019-08-19 18:26:03,117 : MainThread : INFO : worker thread finished; awaiting finish of 0 more threads\n",
      "2019-08-19 18:26:03,118 : MainThread : INFO : computing 1 principal components\n",
      "2019-08-19 18:26:03,123 : MainThread : INFO : removing 1 principal components\n",
      "2019-08-19 18:26:03,125 : MainThread : INFO : training on 568 effective sentences with 5582 effective words took 0s with 8903 sentences/s\n",
      "2019-08-19 18:26:03,136 : MainThread : INFO : scanning all indexed sentences and their word counts\n",
      "2019-08-19 18:26:03,138 : MainThread : INFO : finished scanning 250 sentences with an average length of 9 and 2319 total words\n"
     ]
    },
    {
     "name": "stdout",
     "output_type": "stream",
     "text": [
      "SIF-FT-2016 0.5369\n"
     ]
    },
    {
     "name": "stderr",
     "output_type": "stream",
     "text": [
      "2019-08-19 18:26:04,139 : MainThread : INFO : estimated memory for 250 sentences with 300 dimensions and 3000000 vocabulary: 3444 MB (3 GB)\n",
      "2019-08-19 18:26:04,140 : MainThread : INFO : initializing sentence vectors for 250 sentences\n",
      "2019-08-19 18:26:04,188 : MainThread : INFO : begin training\n",
      "2019-08-19 18:26:04,199 : MainThread : INFO : worker thread finished; awaiting finish of 0 more threads\n",
      "2019-08-19 18:26:04,200 : MainThread : INFO : training on 250 effective sentences with 1696 effective words took 0s with 20826 sentences/s\n",
      "2019-08-19 18:26:04,204 : MainThread : INFO : scanning all indexed sentences and their word counts\n",
      "2019-08-19 18:26:04,205 : MainThread : INFO : finished scanning 250 sentences with an average length of 9 and 2319 total words\n"
     ]
    },
    {
     "name": "stdout",
     "output_type": "stream",
     "text": [
      "CBOW-W2V-2017 0.679\n"
     ]
    },
    {
     "name": "stderr",
     "output_type": "stream",
     "text": [
      "2019-08-19 18:26:05,222 : MainThread : INFO : estimated memory for 250 sentences with 300 dimensions and 3000000 vocabulary: 3444 MB (3 GB)\n",
      "2019-08-19 18:26:05,223 : MainThread : INFO : initializing sentence vectors for 250 sentences\n",
      "2019-08-19 18:26:05,225 : MainThread : INFO : pre-computing SIF weights for 3000000 words\n",
      "2019-08-19 18:26:08,185 : MainThread : INFO : begin training\n",
      "2019-08-19 18:26:08,196 : MainThread : INFO : worker thread finished; awaiting finish of 0 more threads\n",
      "2019-08-19 18:26:08,196 : MainThread : INFO : computing 1 principal components\n",
      "2019-08-19 18:26:08,200 : MainThread : INFO : removing 1 principal components\n",
      "2019-08-19 18:26:08,201 : MainThread : INFO : training on 250 effective sentences with 1696 effective words took 0s with 21574 sentences/s\n",
      "2019-08-19 18:26:08,205 : MainThread : INFO : scanning all indexed sentences and their word counts\n",
      "2019-08-19 18:26:08,206 : MainThread : INFO : finished scanning 250 sentences with an average length of 9 and 2319 total words\n"
     ]
    },
    {
     "name": "stdout",
     "output_type": "stream",
     "text": [
      "SIF-W2V-2017 0.7708\n"
     ]
    },
    {
     "name": "stderr",
     "output_type": "stream",
     "text": [
      "2019-08-19 18:26:09,012 : MainThread : WARNING : Fasttext memory estimation not yet completed\n",
      "2019-08-19 18:26:09,012 : MainThread : INFO : estimated memory for 250 sentences with 300 dimensions and 2000000 vocabulary: 2296 MB (2 GB)\n",
      "2019-08-19 18:26:09,013 : MainThread : INFO : initializing sentence vectors for 250 sentences\n",
      "2019-08-19 18:26:09,046 : MainThread : INFO : begin training\n",
      "2019-08-19 18:26:09,073 : MainThread : INFO : worker thread finished; awaiting finish of 0 more threads\n",
      "2019-08-19 18:26:09,073 : MainThread : INFO : training on 250 effective sentences with 2319 effective words took 0s with 9339 sentences/s\n",
      "2019-08-19 18:26:09,077 : MainThread : INFO : scanning all indexed sentences and their word counts\n",
      "2019-08-19 18:26:09,078 : MainThread : INFO : finished scanning 250 sentences with an average length of 9 and 2319 total words\n"
     ]
    },
    {
     "name": "stdout",
     "output_type": "stream",
     "text": [
      "CBOW-FT-2017 0.5091\n"
     ]
    },
    {
     "name": "stderr",
     "output_type": "stream",
     "text": [
      "2019-08-19 18:26:09,869 : MainThread : WARNING : Fasttext memory estimation not yet completed\n",
      "2019-08-19 18:26:09,870 : MainThread : INFO : estimated memory for 250 sentences with 300 dimensions and 2000000 vocabulary: 2296 MB (2 GB)\n",
      "2019-08-19 18:26:09,870 : MainThread : INFO : initializing sentence vectors for 250 sentences\n",
      "2019-08-19 18:26:09,872 : MainThread : INFO : pre-computing SIF weights for 2000000 words\n",
      "2019-08-19 18:26:12,149 : MainThread : INFO : begin training\n",
      "2019-08-19 18:26:12,175 : MainThread : INFO : worker thread finished; awaiting finish of 0 more threads\n",
      "2019-08-19 18:26:12,176 : MainThread : INFO : computing 1 principal components\n",
      "2019-08-19 18:26:12,179 : MainThread : INFO : removing 1 principal components\n",
      "2019-08-19 18:26:12,180 : MainThread : INFO : training on 250 effective sentences with 2319 effective words took 0s with 9215 sentences/s\n"
     ]
    },
    {
     "name": "stdout",
     "output_type": "stream",
     "text": [
      "SIF-FT-2017 0.7487\n",
      "time: 1min 8s\n"
     ]
    }
   ],
   "source": [
    "for year in tasks:\n",
    "    df = sts_data[sts_data.task == year]\n",
    "    sents_a = df.sent_a.values.tolist()\n",
    "    sents_b = df.sent_b.values.tolist()\n",
    "    assert len(sents_a) == len(sents_b)\n",
    "\n",
    "    task_length = len(sents_a)\n",
    "    sents_a.extend(sents_b)\n",
    "    \n",
    "    sents = [IndexedSentence(s, i) for i,s in enumerate(sents_a)]\n",
    "    \n",
    "    for k, m in models.items():\n",
    "        if k.split(\"-\")[-1] != year:\n",
    "            continue\n",
    "        \n",
    "        m_type  = k.split(\"-\")[0]\n",
    "        emb_type = k.split(\"-\")[1]\n",
    "        \n",
    "        m.train(sents)\n",
    "        r = pearsonr(df.sim, compute_similarities(task_length, m))[0].round(4)\n",
    "        \n",
    "        results[f\"{m_type}-{emb_type}-{year}\"] = r * 100\n",
    "        print(k, r)"
   ]
  },
  {
   "cell_type": "code",
   "execution_count": 8,
   "metadata": {},
   "outputs": [
    {
     "data": {
      "text/html": [
       "<div>\n",
       "<style scoped>\n",
       "    .dataframe tbody tr th:only-of-type {\n",
       "        vertical-align: middle;\n",
       "    }\n",
       "\n",
       "    .dataframe tbody tr th {\n",
       "        vertical-align: top;\n",
       "    }\n",
       "\n",
       "    .dataframe thead th {\n",
       "        text-align: right;\n",
       "    }\n",
       "</style>\n",
       "<table border=\"1\" class=\"dataframe\">\n",
       "  <thead>\n",
       "    <tr style=\"text-align: right;\">\n",
       "      <th></th>\n",
       "      <th>Pearson</th>\n",
       "    </tr>\n",
       "  </thead>\n",
       "  <tbody>\n",
       "    <tr>\n",
       "      <th>CBOW-W2V-2012</th>\n",
       "      <td>74.67</td>\n",
       "    </tr>\n",
       "    <tr>\n",
       "      <th>SIF-W2V-2012</th>\n",
       "      <td>78.74</td>\n",
       "    </tr>\n",
       "    <tr>\n",
       "      <th>CBOW-FT-2012</th>\n",
       "      <td>50.99</td>\n",
       "    </tr>\n",
       "    <tr>\n",
       "      <th>SIF-FT-2012</th>\n",
       "      <td>79.10</td>\n",
       "    </tr>\n",
       "    <tr>\n",
       "      <th>CBOW-W2V-2013</th>\n",
       "      <td>64.74</td>\n",
       "    </tr>\n",
       "    <tr>\n",
       "      <th>SIF-W2V-2013</th>\n",
       "      <td>67.41</td>\n",
       "    </tr>\n",
       "    <tr>\n",
       "      <th>CBOW-FT-2013</th>\n",
       "      <td>65.06</td>\n",
       "    </tr>\n",
       "    <tr>\n",
       "      <th>SIF-FT-2013</th>\n",
       "      <td>70.39</td>\n",
       "    </tr>\n",
       "    <tr>\n",
       "      <th>CBOW-W2V-2014</th>\n",
       "      <td>71.05</td>\n",
       "    </tr>\n",
       "    <tr>\n",
       "      <th>SIF-W2V-2014</th>\n",
       "      <td>75.50</td>\n",
       "    </tr>\n",
       "    <tr>\n",
       "      <th>CBOW-FT-2014</th>\n",
       "      <td>48.82</td>\n",
       "    </tr>\n",
       "    <tr>\n",
       "      <th>SIF-FT-2014</th>\n",
       "      <td>77.89</td>\n",
       "    </tr>\n",
       "    <tr>\n",
       "      <th>CBOW-W2V-2015</th>\n",
       "      <td>73.20</td>\n",
       "    </tr>\n",
       "    <tr>\n",
       "      <th>SIF-W2V-2015</th>\n",
       "      <td>78.30</td>\n",
       "    </tr>\n",
       "    <tr>\n",
       "      <th>CBOW-FT-2015</th>\n",
       "      <td>57.90</td>\n",
       "    </tr>\n",
       "    <tr>\n",
       "      <th>SIF-FT-2015</th>\n",
       "      <td>79.61</td>\n",
       "    </tr>\n",
       "    <tr>\n",
       "      <th>CBOW-W2V-2016</th>\n",
       "      <td>41.94</td>\n",
       "    </tr>\n",
       "    <tr>\n",
       "      <th>SIF-W2V-2016</th>\n",
       "      <td>55.33</td>\n",
       "    </tr>\n",
       "    <tr>\n",
       "      <th>CBOW-FT-2016</th>\n",
       "      <td>36.26</td>\n",
       "    </tr>\n",
       "    <tr>\n",
       "      <th>SIF-FT-2016</th>\n",
       "      <td>53.69</td>\n",
       "    </tr>\n",
       "    <tr>\n",
       "      <th>CBOW-W2V-2017</th>\n",
       "      <td>67.90</td>\n",
       "    </tr>\n",
       "    <tr>\n",
       "      <th>SIF-W2V-2017</th>\n",
       "      <td>77.08</td>\n",
       "    </tr>\n",
       "    <tr>\n",
       "      <th>CBOW-FT-2017</th>\n",
       "      <td>50.91</td>\n",
       "    </tr>\n",
       "    <tr>\n",
       "      <th>SIF-FT-2017</th>\n",
       "      <td>74.87</td>\n",
       "    </tr>\n",
       "  </tbody>\n",
       "</table>\n",
       "</div>"
      ],
      "text/plain": [
       "               Pearson\n",
       "CBOW-W2V-2012    74.67\n",
       "SIF-W2V-2012     78.74\n",
       "CBOW-FT-2012     50.99\n",
       "SIF-FT-2012      79.10\n",
       "CBOW-W2V-2013    64.74\n",
       "SIF-W2V-2013     67.41\n",
       "CBOW-FT-2013     65.06\n",
       "SIF-FT-2013      70.39\n",
       "CBOW-W2V-2014    71.05\n",
       "SIF-W2V-2014     75.50\n",
       "CBOW-FT-2014     48.82\n",
       "SIF-FT-2014      77.89\n",
       "CBOW-W2V-2015    73.20\n",
       "SIF-W2V-2015     78.30\n",
       "CBOW-FT-2015     57.90\n",
       "SIF-FT-2015      79.61\n",
       "CBOW-W2V-2016    41.94\n",
       "SIF-W2V-2016     55.33\n",
       "CBOW-FT-2016     36.26\n",
       "SIF-FT-2016      53.69\n",
       "CBOW-W2V-2017    67.90\n",
       "SIF-W2V-2017     77.08\n",
       "CBOW-FT-2017     50.91\n",
       "SIF-FT-2017      74.87"
      ]
     },
     "execution_count": 8,
     "metadata": {},
     "output_type": "execute_result"
    },
    {
     "name": "stdout",
     "output_type": "stream",
     "text": [
      "time: 7.5 ms\n"
     ]
    }
   ],
   "source": [
    "pd.DataFrame.from_dict(results, orient=\"index\", columns=[\"Pearson\"])"
   ]
  },
  {
   "cell_type": "code",
   "execution_count": null,
   "metadata": {},
   "outputs": [],
   "source": []
  }
 ],
 "metadata": {
  "kernelspec": {
   "display_name": "Python 3",
   "language": "python",
   "name": "python3"
  },
  "language_info": {
   "codemirror_mode": {
    "name": "ipython",
    "version": 3
   },
   "file_extension": ".py",
   "mimetype": "text/x-python",
   "name": "python",
   "nbconvert_exporter": "python",
   "pygments_lexer": "ipython3",
   "version": "3.7.3"
  }
 },
 "nbformat": 4,
 "nbformat_minor": 2
}
