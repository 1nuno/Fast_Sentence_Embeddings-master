{
 "cells": [
  {
   "cell_type": "markdown",
   "metadata": {},
   "source": [
    "# STS Benchmark Datasets"
   ]
  },
  {
   "cell_type": "markdown",
   "metadata": {},
   "source": [
    "For more information, see the implementation of https://github.com/kawine/usif"
   ]
  },
  {
   "cell_type": "code",
   "execution_count": 1,
   "metadata": {},
   "outputs": [],
   "source": [
    "%load_ext autotime\n",
    "import numpy as np\n",
    "import logging\n",
    "import pandas as pd\n",
    "import pathlib\n",
    "\n",
    "from gensim.models import Word2Vec, FastText\n",
    "from gensim.models.keyedvectors import KeyedVectors, FastTextKeyedVectors\n",
    "\n",
    "from fse.models.average import Average\n",
    "from fse.models.sif import SIF\n",
    "from fse.models.usif import uSIF\n",
    "from fse.models.inputs import IndexedSentence\n",
    "\n",
    "from re import sub\n",
    "\n",
    "from scipy.stats import pearsonr\n",
    "\n",
    "logging.basicConfig(format='%(asctime)s : %(threadName)s : %(levelname)s : %(message)s',\n",
    "                    level=logging.INFO\n",
    "                   )\n",
    "\n",
    "file_path = \"data/stsbenchmark/sts-test.csv\"\n",
    "\n",
    "def normalize_text(sentence):\n",
    "    return [sub(\"[^a-zA-Z]\", \"\", w.lower()) for w in sentence.split()] \n",
    "\n",
    "def compute_similarities(task_length, model):\n",
    "    sims = []\n",
    "    for i, j in zip(range(task_length), range(task_length, 2*task_length)):\n",
    "        sims.append(model.sv.similarity(i,j))\n",
    "    return sims\n",
    "\n",
    "sts_data = pd.read_csv(file_path, sep=\",\", error_bad_lines=True, names=[\"cpt\",\"1\",\"task\",\"3\",\"sim\",\"sent_a\",\"sent_b\"])\n",
    "sts_data.dropna(inplace=True)\n",
    "sts_data.sent_a = sts_data.sent_a.apply(normalize_text)\n",
    "sts_data.sent_b = sts_data.sent_b.apply(normalize_text)\n",
    "sts_data.task = sts_data.task.str.replace(\"2012test\", \"2012\")\n",
    "sts_data.task = sts_data.task.str.replace(\"2012train\", \"None\")\n",
    "sts_data = sts_data[sts_data.task != \"None\"]\n",
    "\n",
    "tasks = sorted([\"2012\", \"2013\", \"2014\", \"2015\", \"2016\", \"2017\"])"
   ]
  },
  {
   "cell_type": "code",
   "execution_count": 2,
   "metadata": {},
   "outputs": [
    {
     "name": "stderr",
     "output_type": "stream",
     "text": [
      "2019-08-19 23:48:27,145 : MainThread : INFO : loading Word2VecKeyedVectors object from /Users/oliverborchers/Desktop/GSDEV/Models/Static/google_news.model\n",
      "2019-08-19 23:48:33,053 : MainThread : INFO : loading vectors from /Users/oliverborchers/Desktop/GSDEV/Models/Static/google_news.model.vectors.npy with mmap=None\n",
      "2019-08-19 23:48:35,252 : MainThread : INFO : setting ignored attribute vectors_norm to None\n",
      "2019-08-19 23:48:35,253 : MainThread : INFO : loaded /Users/oliverborchers/Desktop/GSDEV/Models/Static/google_news.model\n",
      "2019-08-19 23:48:35,254 : MainThread : INFO : loading FastTextKeyedVectors object from /Users/oliverborchers/Desktop/GSDEV/Models/Static/ft_crawl_300d_2m.model\n",
      "2019-08-19 23:48:39,011 : MainThread : INFO : loading vectors from /Users/oliverborchers/Desktop/GSDEV/Models/Static/ft_crawl_300d_2m.model.vectors.npy with mmap=None\n",
      "2019-08-19 23:48:41,748 : MainThread : INFO : loading vectors_vocab from /Users/oliverborchers/Desktop/GSDEV/Models/Static/ft_crawl_300d_2m.model.vectors_vocab.npy with mmap=None\n",
      "2019-08-19 23:48:44,774 : MainThread : INFO : loading vectors_ngrams from /Users/oliverborchers/Desktop/GSDEV/Models/Static/ft_crawl_300d_2m.model.vectors_ngrams.npy with mmap=None\n",
      "2019-08-19 23:48:47,382 : MainThread : INFO : setting ignored attribute vectors_norm to None\n",
      "2019-08-19 23:48:47,386 : MainThread : INFO : setting ignored attribute vectors_vocab_norm to None\n",
      "2019-08-19 23:48:47,388 : MainThread : INFO : setting ignored attribute vectors_ngrams_norm to None\n",
      "2019-08-19 23:48:47,389 : MainThread : INFO : setting ignored attribute buckets_word to None\n",
      "2019-08-19 23:48:47,390 : MainThread : INFO : loaded /Users/oliverborchers/Desktop/GSDEV/Models/Static/ft_crawl_300d_2m.model\n"
     ]
    },
    {
     "name": "stdout",
     "output_type": "stream",
     "text": [
      "time: 20.2 s\n"
     ]
    }
   ],
   "source": [
    "w2v = KeyedVectors.load(\"/Users/oliverborchers/Desktop/GSDEV/Models/Static/google_news.model\")\n",
    "ft = FastTextKeyedVectors.load(\"/Users/oliverborchers/Desktop/GSDEV/Models/Static/ft_crawl_300d_2m.model\")"
   ]
  },
  {
   "cell_type": "code",
   "execution_count": 3,
   "metadata": {},
   "outputs": [
    {
     "name": "stderr",
     "output_type": "stream",
     "text": [
      "/Users/oliverborchers/Library/Mobile Documents/com~apple~CloudDocs/Diss/Medium/Fast_Sentence_Embeddings/fse/models/base_s2v.py:157: UserWarning: C extension not loaded, training/inferring will be slow. Install a C compiler and reinstall fse.\n",
      "  \"C extension not loaded, training/inferring will be slow. \"\n",
      "2019-08-19 23:48:47,439 : MainThread : INFO : loading pre-existing wv from /Users/oliverborchers/Library/Mobile Documents/com~apple~CloudDocs/Diss/Medium/Fast_Sentence_Embeddings/fse/data/vectors/w2v_wv.vectors\n",
      "2019-08-19 23:48:48,006 : MainThread : INFO : no frequency mode: using wordfreq for estimation of frequency for language: en\n",
      "2019-08-19 23:48:51,999 : MainThread : INFO : loading pre-existing wv from /Users/oliverborchers/Library/Mobile Documents/com~apple~CloudDocs/Diss/Medium/Fast_Sentence_Embeddings/fse/data/vectors/ft_wv.vectors\n",
      "2019-08-19 23:48:52,293 : MainThread : INFO : loading pre-existing vocab from data/vectors/ft_vocab.vectors\n",
      "2019-08-19 23:48:52,653 : MainThread : INFO : loading pre-existing ngrams from data/vectors/ft_ngrams.vectors\n",
      "2019-08-19 23:48:52,959 : MainThread : INFO : no frequency mode: using wordfreq for estimation of frequency for language: en\n"
     ]
    },
    {
     "name": "stdout",
     "output_type": "stream",
     "text": [
      "time: 8.06 s\n"
     ]
    }
   ],
   "source": [
    "w2v_avg = Average(w2v, wv_mapfile_path = \"data/vectors/w2v\", lang_freq=\"en\")\n",
    "ft_avg = Average(ft, wv_mapfile_path = \"data/vectors/ft\", lang_freq=\"en\")"
   ]
  },
  {
   "cell_type": "raw",
   "metadata": {},
   "source": [
    "ft.wv.accuracy(\"/Users/oliverborchers/Desktop/GSDEV/gensim-develop/gensim/test/test_data/questions-words.txt\")"
   ]
  },
  {
   "cell_type": "code",
   "execution_count": 4,
   "metadata": {},
   "outputs": [
    {
     "name": "stderr",
     "output_type": "stream",
     "text": [
      "2019-08-19 23:48:55,531 : MainThread : INFO : loading pre-existing wv from /Users/oliverborchers/Library/Mobile Documents/com~apple~CloudDocs/Diss/Medium/Fast_Sentence_Embeddings/fse/data/vectors/w2v_wv.vectors\n",
      "2019-08-19 23:48:55,550 : MainThread : INFO : loading pre-existing wv from /Users/oliverborchers/Library/Mobile Documents/com~apple~CloudDocs/Diss/Medium/Fast_Sentence_Embeddings/fse/data/vectors/w2v_wv.vectors\n",
      "2019-08-19 23:48:55,569 : MainThread : INFO : loading pre-existing wv from /Users/oliverborchers/Library/Mobile Documents/com~apple~CloudDocs/Diss/Medium/Fast_Sentence_Embeddings/fse/data/vectors/w2v_wv.vectors\n",
      "2019-08-19 23:48:55,593 : MainThread : INFO : loading pre-existing wv from /Users/oliverborchers/Library/Mobile Documents/com~apple~CloudDocs/Diss/Medium/Fast_Sentence_Embeddings/fse/data/vectors/ft_wv.vectors\n",
      "2019-08-19 23:48:55,607 : MainThread : INFO : loading pre-existing vocab from data/vectors/ft_vocab.vectors\n",
      "2019-08-19 23:48:55,625 : MainThread : INFO : loading pre-existing ngrams from data/vectors/ft_ngrams.vectors\n",
      "2019-08-19 23:48:55,647 : MainThread : INFO : loading pre-existing wv from /Users/oliverborchers/Library/Mobile Documents/com~apple~CloudDocs/Diss/Medium/Fast_Sentence_Embeddings/fse/data/vectors/ft_wv.vectors\n",
      "2019-08-19 23:48:55,662 : MainThread : INFO : loading pre-existing vocab from data/vectors/ft_vocab.vectors\n",
      "2019-08-19 23:48:55,679 : MainThread : INFO : loading pre-existing ngrams from data/vectors/ft_ngrams.vectors\n",
      "2019-08-19 23:48:55,699 : MainThread : INFO : loading pre-existing wv from /Users/oliverborchers/Library/Mobile Documents/com~apple~CloudDocs/Diss/Medium/Fast_Sentence_Embeddings/fse/data/vectors/ft_wv.vectors\n",
      "2019-08-19 23:48:55,714 : MainThread : INFO : loading pre-existing vocab from data/vectors/ft_vocab.vectors\n",
      "2019-08-19 23:48:55,728 : MainThread : INFO : loading pre-existing ngrams from data/vectors/ft_ngrams.vectors\n",
      "2019-08-19 23:48:55,750 : MainThread : INFO : loading pre-existing wv from /Users/oliverborchers/Library/Mobile Documents/com~apple~CloudDocs/Diss/Medium/Fast_Sentence_Embeddings/fse/data/vectors/w2v_wv.vectors\n",
      "2019-08-19 23:48:55,768 : MainThread : INFO : loading pre-existing wv from /Users/oliverborchers/Library/Mobile Documents/com~apple~CloudDocs/Diss/Medium/Fast_Sentence_Embeddings/fse/data/vectors/w2v_wv.vectors\n",
      "2019-08-19 23:48:55,785 : MainThread : INFO : loading pre-existing wv from /Users/oliverborchers/Library/Mobile Documents/com~apple~CloudDocs/Diss/Medium/Fast_Sentence_Embeddings/fse/data/vectors/w2v_wv.vectors\n",
      "2019-08-19 23:48:55,807 : MainThread : INFO : loading pre-existing wv from /Users/oliverborchers/Library/Mobile Documents/com~apple~CloudDocs/Diss/Medium/Fast_Sentence_Embeddings/fse/data/vectors/ft_wv.vectors\n",
      "2019-08-19 23:48:55,821 : MainThread : INFO : loading pre-existing vocab from data/vectors/ft_vocab.vectors\n",
      "2019-08-19 23:48:55,837 : MainThread : INFO : loading pre-existing ngrams from data/vectors/ft_ngrams.vectors\n",
      "2019-08-19 23:48:55,860 : MainThread : INFO : loading pre-existing wv from /Users/oliverborchers/Library/Mobile Documents/com~apple~CloudDocs/Diss/Medium/Fast_Sentence_Embeddings/fse/data/vectors/ft_wv.vectors\n",
      "2019-08-19 23:48:55,872 : MainThread : INFO : loading pre-existing vocab from data/vectors/ft_vocab.vectors\n",
      "2019-08-19 23:48:55,887 : MainThread : INFO : loading pre-existing ngrams from data/vectors/ft_ngrams.vectors\n",
      "2019-08-19 23:48:55,905 : MainThread : INFO : loading pre-existing wv from /Users/oliverborchers/Library/Mobile Documents/com~apple~CloudDocs/Diss/Medium/Fast_Sentence_Embeddings/fse/data/vectors/ft_wv.vectors\n",
      "2019-08-19 23:48:55,920 : MainThread : INFO : loading pre-existing vocab from data/vectors/ft_vocab.vectors\n",
      "2019-08-19 23:48:55,935 : MainThread : INFO : loading pre-existing ngrams from data/vectors/ft_ngrams.vectors\n",
      "2019-08-19 23:48:55,956 : MainThread : INFO : loading pre-existing wv from /Users/oliverborchers/Library/Mobile Documents/com~apple~CloudDocs/Diss/Medium/Fast_Sentence_Embeddings/fse/data/vectors/w2v_wv.vectors\n",
      "2019-08-19 23:48:55,975 : MainThread : INFO : loading pre-existing wv from /Users/oliverborchers/Library/Mobile Documents/com~apple~CloudDocs/Diss/Medium/Fast_Sentence_Embeddings/fse/data/vectors/w2v_wv.vectors\n",
      "2019-08-19 23:48:55,990 : MainThread : INFO : loading pre-existing wv from /Users/oliverborchers/Library/Mobile Documents/com~apple~CloudDocs/Diss/Medium/Fast_Sentence_Embeddings/fse/data/vectors/w2v_wv.vectors\n",
      "2019-08-19 23:48:56,009 : MainThread : INFO : loading pre-existing wv from /Users/oliverborchers/Library/Mobile Documents/com~apple~CloudDocs/Diss/Medium/Fast_Sentence_Embeddings/fse/data/vectors/ft_wv.vectors\n",
      "2019-08-19 23:48:56,024 : MainThread : INFO : loading pre-existing vocab from data/vectors/ft_vocab.vectors\n",
      "2019-08-19 23:48:56,037 : MainThread : INFO : loading pre-existing ngrams from data/vectors/ft_ngrams.vectors\n",
      "2019-08-19 23:48:56,054 : MainThread : INFO : loading pre-existing wv from /Users/oliverborchers/Library/Mobile Documents/com~apple~CloudDocs/Diss/Medium/Fast_Sentence_Embeddings/fse/data/vectors/ft_wv.vectors\n",
      "2019-08-19 23:48:56,067 : MainThread : INFO : loading pre-existing vocab from data/vectors/ft_vocab.vectors\n",
      "2019-08-19 23:48:56,081 : MainThread : INFO : loading pre-existing ngrams from data/vectors/ft_ngrams.vectors\n",
      "2019-08-19 23:48:56,098 : MainThread : INFO : loading pre-existing wv from /Users/oliverborchers/Library/Mobile Documents/com~apple~CloudDocs/Diss/Medium/Fast_Sentence_Embeddings/fse/data/vectors/ft_wv.vectors\n",
      "2019-08-19 23:48:56,111 : MainThread : INFO : loading pre-existing vocab from data/vectors/ft_vocab.vectors\n",
      "2019-08-19 23:48:56,125 : MainThread : INFO : loading pre-existing ngrams from data/vectors/ft_ngrams.vectors\n",
      "2019-08-19 23:48:56,144 : MainThread : INFO : loading pre-existing wv from /Users/oliverborchers/Library/Mobile Documents/com~apple~CloudDocs/Diss/Medium/Fast_Sentence_Embeddings/fse/data/vectors/w2v_wv.vectors\n",
      "2019-08-19 23:48:56,163 : MainThread : INFO : loading pre-existing wv from /Users/oliverborchers/Library/Mobile Documents/com~apple~CloudDocs/Diss/Medium/Fast_Sentence_Embeddings/fse/data/vectors/w2v_wv.vectors\n",
      "2019-08-19 23:48:56,182 : MainThread : INFO : loading pre-existing wv from /Users/oliverborchers/Library/Mobile Documents/com~apple~CloudDocs/Diss/Medium/Fast_Sentence_Embeddings/fse/data/vectors/w2v_wv.vectors\n",
      "2019-08-19 23:48:56,201 : MainThread : INFO : loading pre-existing wv from /Users/oliverborchers/Library/Mobile Documents/com~apple~CloudDocs/Diss/Medium/Fast_Sentence_Embeddings/fse/data/vectors/ft_wv.vectors\n",
      "2019-08-19 23:48:56,215 : MainThread : INFO : loading pre-existing vocab from data/vectors/ft_vocab.vectors\n",
      "2019-08-19 23:48:56,227 : MainThread : INFO : loading pre-existing ngrams from data/vectors/ft_ngrams.vectors\n",
      "2019-08-19 23:48:56,245 : MainThread : INFO : loading pre-existing wv from /Users/oliverborchers/Library/Mobile Documents/com~apple~CloudDocs/Diss/Medium/Fast_Sentence_Embeddings/fse/data/vectors/ft_wv.vectors\n",
      "2019-08-19 23:48:56,258 : MainThread : INFO : loading pre-existing vocab from data/vectors/ft_vocab.vectors\n",
      "2019-08-19 23:48:56,272 : MainThread : INFO : loading pre-existing ngrams from data/vectors/ft_ngrams.vectors\n",
      "2019-08-19 23:48:56,289 : MainThread : INFO : loading pre-existing wv from /Users/oliverborchers/Library/Mobile Documents/com~apple~CloudDocs/Diss/Medium/Fast_Sentence_Embeddings/fse/data/vectors/ft_wv.vectors\n",
      "2019-08-19 23:48:56,305 : MainThread : INFO : loading pre-existing vocab from data/vectors/ft_vocab.vectors\n",
      "2019-08-19 23:48:56,322 : MainThread : INFO : loading pre-existing ngrams from data/vectors/ft_ngrams.vectors\n",
      "2019-08-19 23:48:56,341 : MainThread : INFO : loading pre-existing wv from /Users/oliverborchers/Library/Mobile Documents/com~apple~CloudDocs/Diss/Medium/Fast_Sentence_Embeddings/fse/data/vectors/w2v_wv.vectors\n",
      "2019-08-19 23:48:56,361 : MainThread : INFO : loading pre-existing wv from /Users/oliverborchers/Library/Mobile Documents/com~apple~CloudDocs/Diss/Medium/Fast_Sentence_Embeddings/fse/data/vectors/w2v_wv.vectors\n",
      "2019-08-19 23:48:56,380 : MainThread : INFO : loading pre-existing wv from /Users/oliverborchers/Library/Mobile Documents/com~apple~CloudDocs/Diss/Medium/Fast_Sentence_Embeddings/fse/data/vectors/w2v_wv.vectors\n",
      "2019-08-19 23:48:56,398 : MainThread : INFO : loading pre-existing wv from /Users/oliverborchers/Library/Mobile Documents/com~apple~CloudDocs/Diss/Medium/Fast_Sentence_Embeddings/fse/data/vectors/ft_wv.vectors\n",
      "2019-08-19 23:48:56,411 : MainThread : INFO : loading pre-existing vocab from data/vectors/ft_vocab.vectors\n",
      "2019-08-19 23:48:56,424 : MainThread : INFO : loading pre-existing ngrams from data/vectors/ft_ngrams.vectors\n",
      "2019-08-19 23:48:56,442 : MainThread : INFO : loading pre-existing wv from /Users/oliverborchers/Library/Mobile Documents/com~apple~CloudDocs/Diss/Medium/Fast_Sentence_Embeddings/fse/data/vectors/ft_wv.vectors\n",
      "2019-08-19 23:48:56,456 : MainThread : INFO : loading pre-existing vocab from data/vectors/ft_vocab.vectors\n",
      "2019-08-19 23:48:56,469 : MainThread : INFO : loading pre-existing ngrams from data/vectors/ft_ngrams.vectors\n",
      "2019-08-19 23:48:56,488 : MainThread : INFO : loading pre-existing wv from /Users/oliverborchers/Library/Mobile Documents/com~apple~CloudDocs/Diss/Medium/Fast_Sentence_Embeddings/fse/data/vectors/ft_wv.vectors\n",
      "2019-08-19 23:48:56,504 : MainThread : INFO : loading pre-existing vocab from data/vectors/ft_vocab.vectors\n",
      "2019-08-19 23:48:56,521 : MainThread : INFO : loading pre-existing ngrams from data/vectors/ft_ngrams.vectors\n",
      "2019-08-19 23:48:56,538 : MainThread : INFO : loading pre-existing wv from /Users/oliverborchers/Library/Mobile Documents/com~apple~CloudDocs/Diss/Medium/Fast_Sentence_Embeddings/fse/data/vectors/w2v_wv.vectors\n",
      "2019-08-19 23:48:56,557 : MainThread : INFO : loading pre-existing wv from /Users/oliverborchers/Library/Mobile Documents/com~apple~CloudDocs/Diss/Medium/Fast_Sentence_Embeddings/fse/data/vectors/w2v_wv.vectors\n",
      "2019-08-19 23:48:56,576 : MainThread : INFO : loading pre-existing wv from /Users/oliverborchers/Library/Mobile Documents/com~apple~CloudDocs/Diss/Medium/Fast_Sentence_Embeddings/fse/data/vectors/w2v_wv.vectors\n",
      "2019-08-19 23:48:56,596 : MainThread : INFO : loading pre-existing wv from /Users/oliverborchers/Library/Mobile Documents/com~apple~CloudDocs/Diss/Medium/Fast_Sentence_Embeddings/fse/data/vectors/ft_wv.vectors\n",
      "2019-08-19 23:48:56,610 : MainThread : INFO : loading pre-existing vocab from data/vectors/ft_vocab.vectors\n",
      "2019-08-19 23:48:56,624 : MainThread : INFO : loading pre-existing ngrams from data/vectors/ft_ngrams.vectors\n",
      "2019-08-19 23:48:56,642 : MainThread : INFO : loading pre-existing wv from /Users/oliverborchers/Library/Mobile Documents/com~apple~CloudDocs/Diss/Medium/Fast_Sentence_Embeddings/fse/data/vectors/ft_wv.vectors\n",
      "2019-08-19 23:48:56,654 : MainThread : INFO : loading pre-existing vocab from data/vectors/ft_vocab.vectors\n",
      "2019-08-19 23:48:56,668 : MainThread : INFO : loading pre-existing ngrams from data/vectors/ft_ngrams.vectors\n",
      "2019-08-19 23:48:56,685 : MainThread : INFO : loading pre-existing wv from /Users/oliverborchers/Library/Mobile Documents/com~apple~CloudDocs/Diss/Medium/Fast_Sentence_Embeddings/fse/data/vectors/ft_wv.vectors\n",
      "2019-08-19 23:48:56,699 : MainThread : INFO : loading pre-existing vocab from data/vectors/ft_vocab.vectors\n",
      "2019-08-19 23:48:56,711 : MainThread : INFO : loading pre-existing ngrams from data/vectors/ft_ngrams.vectors\n"
     ]
    },
    {
     "name": "stdout",
     "output_type": "stream",
     "text": [
      "time: 1.25 s\n"
     ]
    }
   ],
   "source": [
    "models, results = {}, {}\n",
    "\n",
    "for year in tasks:\n",
    "    models[f\"CBOW-W2V-{year}\"] = Average(w2v, wv_mapfile_path = \"data/vectors/w2v\")\n",
    "    models[f\"SIF-W2V-{year}\"] = SIF(w2v, wv_mapfile_path = \"data/vectors/w2v\")\n",
    "    models[f\"uSIF-W2V-{year}\"] = uSIF(w2v, wv_mapfile_path = \"data/vectors/w2v\")\n",
    "    \n",
    "    models[f\"CBOW-FT-{year}\"] = Average(ft, wv_mapfile_path = \"data/vectors/ft\")\n",
    "    models[f\"SIF-FT-{year}\"] = SIF(ft, wv_mapfile_path = \"data/vectors/ft\")\n",
    "    models[f\"uSIF-FT-{year}\"] = uSIF(ft, wv_mapfile_path = \"data/vectors/ft\")\n",
    "    \n",
    "for k in models:\n",
    "    results[k] = 0"
   ]
  },
  {
   "cell_type": "code",
   "execution_count": 5,
   "metadata": {},
   "outputs": [
    {
     "name": "stderr",
     "output_type": "stream",
     "text": [
      "2019-08-19 23:48:56,752 : MainThread : INFO : scanning all indexed sentences and their word counts\n",
      "2019-08-19 23:48:56,754 : MainThread : INFO : finished scanning 504 sentences with an average length of 13 and 6848 total words\n",
      "2019-08-19 23:48:57,763 : MainThread : INFO : initializing sentence vectors for 504 sentences\n",
      "2019-08-19 23:48:57,813 : MainThread : INFO : begin training\n",
      "2019-08-19 23:48:58,150 : MainThread : INFO : worker thread finished; awaiting finish of 0 more threads\n",
      "2019-08-19 23:48:58,151 : MainThread : INFO : training on 504 effective sentences with 5060 effective words took 0s with 1493 sentences/s\n",
      "2019-08-19 23:48:58,182 : MainThread : INFO : scanning all indexed sentences and their word counts\n",
      "2019-08-19 23:48:58,185 : MainThread : INFO : finished scanning 504 sentences with an average length of 13 and 6848 total words\n"
     ]
    },
    {
     "name": "stdout",
     "output_type": "stream",
     "text": [
      "CBOW-W2V-2012 0.7467\n"
     ]
    },
    {
     "name": "stderr",
     "output_type": "stream",
     "text": [
      "2019-08-19 23:48:59,138 : MainThread : INFO : initializing sentence vectors for 504 sentences\n",
      "2019-08-19 23:48:59,141 : MainThread : INFO : pre-computing SIF weights for 3000000 words\n",
      "2019-08-19 23:49:02,114 : MainThread : INFO : begin training\n",
      "2019-08-19 23:49:02,136 : MainThread : INFO : worker thread finished; awaiting finish of 0 more threads\n",
      "2019-08-19 23:49:02,137 : MainThread : INFO : computing 1 principal components\n",
      "2019-08-19 23:49:02,187 : MainThread : INFO : removing 1 principal components\n",
      "2019-08-19 23:49:02,189 : MainThread : INFO : training on 504 effective sentences with 5060 effective words took 0s with 21632 sentences/s\n",
      "2019-08-19 23:49:02,196 : MainThread : INFO : scanning all indexed sentences and their word counts\n",
      "2019-08-19 23:49:02,199 : MainThread : INFO : finished scanning 504 sentences with an average length of 13 and 6848 total words\n"
     ]
    },
    {
     "name": "stdout",
     "output_type": "stream",
     "text": [
      "SIF-W2V-2012 0.7874\n"
     ]
    },
    {
     "name": "stderr",
     "output_type": "stream",
     "text": [
      "2019-08-19 23:49:03,162 : MainThread : INFO : initializing sentence vectors for 504 sentences\n",
      "2019-08-19 23:49:03,164 : MainThread : INFO : pre-computing uSIF weights for 3000000 words\n",
      "2019-08-19 23:49:16,608 : MainThread : INFO : begin training\n",
      "2019-08-19 23:49:16,632 : MainThread : INFO : worker thread finished; awaiting finish of 0 more threads\n",
      "2019-08-19 23:49:16,633 : MainThread : INFO : computing 5 principal components\n",
      "2019-08-19 23:49:16,648 : MainThread : INFO : training on 504 effective sentences with 5060 effective words took 0s with 20181 sentences/s\n",
      "2019-08-19 23:49:16,654 : MainThread : INFO : scanning all indexed sentences and their word counts\n",
      "2019-08-19 23:49:16,657 : MainThread : INFO : finished scanning 504 sentences with an average length of 13 and 6848 total words\n"
     ]
    },
    {
     "name": "stdout",
     "output_type": "stream",
     "text": [
      "uSIF-W2V-2012 0.7774\n"
     ]
    },
    {
     "name": "stderr",
     "output_type": "stream",
     "text": [
      "2019-08-19 23:49:17,407 : MainThread : INFO : initializing sentence vectors for 504 sentences\n",
      "2019-08-19 23:49:17,441 : MainThread : INFO : begin training\n",
      "2019-08-19 23:49:17,938 : MainThread : INFO : worker thread finished; awaiting finish of 0 more threads\n",
      "2019-08-19 23:49:17,939 : MainThread : INFO : training on 504 effective sentences with 6848 effective words took 0s with 1011 sentences/s\n",
      "2019-08-19 23:49:17,945 : MainThread : INFO : scanning all indexed sentences and their word counts\n",
      "2019-08-19 23:49:17,947 : MainThread : INFO : finished scanning 504 sentences with an average length of 13 and 6848 total words\n"
     ]
    },
    {
     "name": "stdout",
     "output_type": "stream",
     "text": [
      "CBOW-FT-2012 0.5099\n"
     ]
    },
    {
     "name": "stderr",
     "output_type": "stream",
     "text": [
      "2019-08-19 23:49:18,625 : MainThread : INFO : initializing sentence vectors for 504 sentences\n",
      "2019-08-19 23:49:18,627 : MainThread : INFO : pre-computing SIF weights for 2000000 words\n",
      "2019-08-19 23:49:20,864 : MainThread : INFO : begin training\n",
      "2019-08-19 23:49:20,936 : MainThread : INFO : worker thread finished; awaiting finish of 0 more threads\n",
      "2019-08-19 23:49:20,937 : MainThread : INFO : computing 1 principal components\n",
      "2019-08-19 23:49:20,942 : MainThread : INFO : removing 1 principal components\n",
      "2019-08-19 23:49:20,943 : MainThread : INFO : training on 504 effective sentences with 6848 effective words took 0s with 6892 sentences/s\n",
      "2019-08-19 23:49:20,951 : MainThread : INFO : scanning all indexed sentences and their word counts\n",
      "2019-08-19 23:49:20,953 : MainThread : INFO : finished scanning 504 sentences with an average length of 13 and 6848 total words\n"
     ]
    },
    {
     "name": "stdout",
     "output_type": "stream",
     "text": [
      "SIF-FT-2012 0.791\n"
     ]
    },
    {
     "name": "stderr",
     "output_type": "stream",
     "text": [
      "2019-08-19 23:49:21,730 : MainThread : INFO : initializing sentence vectors for 504 sentences\n",
      "2019-08-19 23:49:21,732 : MainThread : INFO : pre-computing uSIF weights for 2000000 words\n",
      "2019-08-19 23:49:30,935 : MainThread : INFO : begin training\n",
      "2019-08-19 23:49:31,006 : MainThread : INFO : worker thread finished; awaiting finish of 0 more threads\n",
      "2019-08-19 23:49:31,007 : MainThread : INFO : computing 5 principal components\n",
      "2019-08-19 23:49:31,016 : MainThread : INFO : training on 504 effective sentences with 6848 effective words took 0s with 7017 sentences/s\n",
      "2019-08-19 23:49:31,024 : MainThread : INFO : scanning all indexed sentences and their word counts\n",
      "2019-08-19 23:49:31,026 : MainThread : INFO : finished scanning 144 sentences with an average length of 7 and 1101 total words\n"
     ]
    },
    {
     "name": "stdout",
     "output_type": "stream",
     "text": [
      "uSIF-FT-2012 0.7862\n"
     ]
    },
    {
     "name": "stderr",
     "output_type": "stream",
     "text": [
      "2019-08-19 23:49:31,999 : MainThread : INFO : initializing sentence vectors for 144 sentences\n",
      "2019-08-19 23:49:32,046 : MainThread : INFO : begin training\n",
      "2019-08-19 23:49:32,098 : MainThread : INFO : worker thread finished; awaiting finish of 0 more threads\n",
      "2019-08-19 23:49:32,099 : MainThread : INFO : training on 144 effective sentences with 944 effective words took 0s with 2744 sentences/s\n",
      "2019-08-19 23:49:32,102 : MainThread : INFO : scanning all indexed sentences and their word counts\n",
      "2019-08-19 23:49:32,103 : MainThread : INFO : finished scanning 144 sentences with an average length of 7 and 1101 total words\n"
     ]
    },
    {
     "name": "stdout",
     "output_type": "stream",
     "text": [
      "CBOW-W2V-2013 0.6474\n"
     ]
    },
    {
     "name": "stderr",
     "output_type": "stream",
     "text": [
      "2019-08-19 23:49:33,037 : MainThread : INFO : initializing sentence vectors for 144 sentences\n",
      "2019-08-19 23:49:33,039 : MainThread : INFO : pre-computing SIF weights for 3000000 words\n",
      "2019-08-19 23:49:36,241 : MainThread : INFO : begin training\n",
      "2019-08-19 23:49:36,248 : MainThread : INFO : worker thread finished; awaiting finish of 0 more threads\n",
      "2019-08-19 23:49:36,249 : MainThread : INFO : computing 1 principal components\n",
      "2019-08-19 23:49:36,253 : MainThread : INFO : removing 1 principal components\n",
      "2019-08-19 23:49:36,254 : MainThread : INFO : training on 144 effective sentences with 944 effective words took 0s with 18290 sentences/s\n",
      "2019-08-19 23:49:36,258 : MainThread : INFO : scanning all indexed sentences and their word counts\n",
      "2019-08-19 23:49:36,259 : MainThread : INFO : finished scanning 144 sentences with an average length of 7 and 1101 total words\n"
     ]
    },
    {
     "name": "stdout",
     "output_type": "stream",
     "text": [
      "SIF-W2V-2013 0.6741\n"
     ]
    },
    {
     "name": "stderr",
     "output_type": "stream",
     "text": [
      "2019-08-19 23:49:37,249 : MainThread : INFO : initializing sentence vectors for 144 sentences\n",
      "2019-08-19 23:49:37,251 : MainThread : INFO : pre-computing uSIF weights for 3000000 words\n",
      "2019-08-19 23:49:50,817 : MainThread : INFO : begin training\n",
      "2019-08-19 23:49:50,825 : MainThread : INFO : worker thread finished; awaiting finish of 0 more threads\n",
      "2019-08-19 23:49:50,825 : MainThread : INFO : computing 5 principal components\n",
      "2019-08-19 23:49:50,832 : MainThread : INFO : training on 144 effective sentences with 944 effective words took 0s with 18195 sentences/s\n",
      "2019-08-19 23:49:50,836 : MainThread : INFO : scanning all indexed sentences and their word counts\n",
      "2019-08-19 23:49:50,837 : MainThread : INFO : finished scanning 144 sentences with an average length of 7 and 1101 total words\n"
     ]
    },
    {
     "name": "stdout",
     "output_type": "stream",
     "text": [
      "uSIF-W2V-2013 0.6972\n"
     ]
    },
    {
     "name": "stderr",
     "output_type": "stream",
     "text": [
      "2019-08-19 23:49:51,592 : MainThread : INFO : initializing sentence vectors for 144 sentences\n",
      "2019-08-19 23:49:51,625 : MainThread : INFO : begin training\n",
      "2019-08-19 23:49:51,754 : MainThread : INFO : worker thread finished; awaiting finish of 0 more threads\n",
      "2019-08-19 23:49:51,755 : MainThread : INFO : training on 144 effective sentences with 1101 effective words took 0s with 1115 sentences/s\n",
      "2019-08-19 23:49:51,757 : MainThread : INFO : scanning all indexed sentences and their word counts\n",
      "2019-08-19 23:49:51,758 : MainThread : INFO : finished scanning 144 sentences with an average length of 7 and 1101 total words\n"
     ]
    },
    {
     "name": "stdout",
     "output_type": "stream",
     "text": [
      "CBOW-FT-2013 0.6506\n"
     ]
    },
    {
     "name": "stderr",
     "output_type": "stream",
     "text": [
      "2019-08-19 23:49:52,446 : MainThread : INFO : initializing sentence vectors for 144 sentences\n",
      "2019-08-19 23:49:52,447 : MainThread : INFO : pre-computing SIF weights for 2000000 words\n",
      "2019-08-19 23:49:54,444 : MainThread : INFO : begin training\n",
      "2019-08-19 23:49:54,458 : MainThread : INFO : worker thread finished; awaiting finish of 0 more threads\n",
      "2019-08-19 23:49:54,459 : MainThread : INFO : computing 1 principal components\n",
      "2019-08-19 23:49:54,463 : MainThread : INFO : removing 1 principal components\n",
      "2019-08-19 23:49:54,464 : MainThread : INFO : training on 144 effective sentences with 1101 effective words took 0s with 9384 sentences/s\n",
      "2019-08-19 23:49:54,466 : MainThread : INFO : scanning all indexed sentences and their word counts\n",
      "2019-08-19 23:49:54,467 : MainThread : INFO : finished scanning 144 sentences with an average length of 7 and 1101 total words\n"
     ]
    },
    {
     "name": "stdout",
     "output_type": "stream",
     "text": [
      "SIF-FT-2013 0.7039\n"
     ]
    },
    {
     "name": "stderr",
     "output_type": "stream",
     "text": [
      "2019-08-19 23:49:55,216 : MainThread : INFO : initializing sentence vectors for 144 sentences\n",
      "2019-08-19 23:49:55,217 : MainThread : INFO : pre-computing uSIF weights for 2000000 words\n",
      "2019-08-19 23:50:04,689 : MainThread : INFO : begin training\n",
      "2019-08-19 23:50:04,704 : MainThread : INFO : worker thread finished; awaiting finish of 0 more threads\n",
      "2019-08-19 23:50:04,705 : MainThread : INFO : computing 5 principal components\n",
      "2019-08-19 23:50:04,710 : MainThread : INFO : training on 144 effective sentences with 1101 effective words took 0s with 9144 sentences/s\n",
      "2019-08-19 23:50:04,715 : MainThread : INFO : scanning all indexed sentences and their word counts\n",
      "2019-08-19 23:50:04,718 : MainThread : INFO : finished scanning 404 sentences with an average length of 9 and 3763 total words\n"
     ]
    },
    {
     "name": "stdout",
     "output_type": "stream",
     "text": [
      "uSIF-FT-2013 0.7381\n"
     ]
    },
    {
     "name": "stderr",
     "output_type": "stream",
     "text": [
      "2019-08-19 23:50:05,704 : MainThread : INFO : initializing sentence vectors for 404 sentences\n",
      "2019-08-19 23:50:05,752 : MainThread : INFO : begin training\n",
      "2019-08-19 23:50:05,842 : MainThread : INFO : worker thread finished; awaiting finish of 0 more threads\n",
      "2019-08-19 23:50:05,843 : MainThread : INFO : training on 404 effective sentences with 2833 effective words took 0s with 4453 sentences/s\n",
      "2019-08-19 23:50:05,847 : MainThread : INFO : scanning all indexed sentences and their word counts\n",
      "2019-08-19 23:50:05,849 : MainThread : INFO : finished scanning 404 sentences with an average length of 9 and 3763 total words\n"
     ]
    },
    {
     "name": "stdout",
     "output_type": "stream",
     "text": [
      "CBOW-W2V-2014 0.7105\n"
     ]
    },
    {
     "name": "stderr",
     "output_type": "stream",
     "text": [
      "2019-08-19 23:50:06,818 : MainThread : INFO : initializing sentence vectors for 404 sentences\n",
      "2019-08-19 23:50:06,820 : MainThread : INFO : pre-computing SIF weights for 3000000 words\n",
      "2019-08-19 23:50:10,026 : MainThread : INFO : begin training\n",
      "2019-08-19 23:50:10,042 : MainThread : INFO : worker thread finished; awaiting finish of 0 more threads\n",
      "2019-08-19 23:50:10,043 : MainThread : INFO : computing 1 principal components\n",
      "2019-08-19 23:50:10,047 : MainThread : INFO : removing 1 principal components\n",
      "2019-08-19 23:50:10,048 : MainThread : INFO : training on 404 effective sentences with 2833 effective words took 0s with 23799 sentences/s\n",
      "2019-08-19 23:50:10,055 : MainThread : INFO : scanning all indexed sentences and their word counts\n",
      "2019-08-19 23:50:10,058 : MainThread : INFO : finished scanning 404 sentences with an average length of 9 and 3763 total words\n"
     ]
    },
    {
     "name": "stdout",
     "output_type": "stream",
     "text": [
      "SIF-W2V-2014 0.755\n"
     ]
    },
    {
     "name": "stderr",
     "output_type": "stream",
     "text": [
      "2019-08-19 23:50:11,052 : MainThread : INFO : initializing sentence vectors for 404 sentences\n",
      "2019-08-19 23:50:11,054 : MainThread : INFO : pre-computing uSIF weights for 3000000 words\n",
      "2019-08-19 23:50:24,213 : MainThread : INFO : begin training\n",
      "2019-08-19 23:50:24,231 : MainThread : INFO : worker thread finished; awaiting finish of 0 more threads\n",
      "2019-08-19 23:50:24,232 : MainThread : INFO : computing 5 principal components\n",
      "2019-08-19 23:50:24,239 : MainThread : INFO : training on 404 effective sentences with 2833 effective words took 0s with 21046 sentences/s\n",
      "2019-08-19 23:50:24,246 : MainThread : INFO : scanning all indexed sentences and their word counts\n",
      "2019-08-19 23:50:24,248 : MainThread : INFO : finished scanning 404 sentences with an average length of 9 and 3763 total words\n"
     ]
    },
    {
     "name": "stdout",
     "output_type": "stream",
     "text": [
      "uSIF-W2V-2014 0.6802\n"
     ]
    },
    {
     "name": "stderr",
     "output_type": "stream",
     "text": [
      "2019-08-19 23:50:25,005 : MainThread : INFO : initializing sentence vectors for 404 sentences\n",
      "2019-08-19 23:50:25,042 : MainThread : INFO : begin training\n",
      "2019-08-19 23:50:25,190 : MainThread : INFO : worker thread finished; awaiting finish of 0 more threads\n",
      "2019-08-19 23:50:25,191 : MainThread : INFO : training on 404 effective sentences with 3763 effective words took 0s with 2708 sentences/s\n",
      "2019-08-19 23:50:25,196 : MainThread : INFO : scanning all indexed sentences and their word counts\n",
      "2019-08-19 23:50:25,197 : MainThread : INFO : finished scanning 404 sentences with an average length of 9 and 3763 total words\n"
     ]
    },
    {
     "name": "stdout",
     "output_type": "stream",
     "text": [
      "CBOW-FT-2014 0.4882\n"
     ]
    },
    {
     "name": "stderr",
     "output_type": "stream",
     "text": [
      "2019-08-19 23:50:25,993 : MainThread : INFO : initializing sentence vectors for 404 sentences\n",
      "2019-08-19 23:50:25,995 : MainThread : INFO : pre-computing SIF weights for 2000000 words\n",
      "2019-08-19 23:50:28,191 : MainThread : INFO : begin training\n",
      "2019-08-19 23:50:28,233 : MainThread : INFO : worker thread finished; awaiting finish of 0 more threads\n",
      "2019-08-19 23:50:28,233 : MainThread : INFO : computing 1 principal components\n",
      "2019-08-19 23:50:28,237 : MainThread : INFO : removing 1 principal components\n",
      "2019-08-19 23:50:28,239 : MainThread : INFO : training on 404 effective sentences with 3763 effective words took 0s with 9462 sentences/s\n",
      "2019-08-19 23:50:28,244 : MainThread : INFO : scanning all indexed sentences and their word counts\n",
      "2019-08-19 23:50:28,246 : MainThread : INFO : finished scanning 404 sentences with an average length of 9 and 3763 total words\n"
     ]
    },
    {
     "name": "stdout",
     "output_type": "stream",
     "text": [
      "SIF-FT-2014 0.7789\n"
     ]
    },
    {
     "name": "stderr",
     "output_type": "stream",
     "text": [
      "2019-08-19 23:50:29,017 : MainThread : INFO : initializing sentence vectors for 404 sentences\n",
      "2019-08-19 23:50:29,019 : MainThread : INFO : pre-computing uSIF weights for 2000000 words\n",
      "2019-08-19 23:50:38,563 : MainThread : INFO : begin training\n",
      "2019-08-19 23:50:38,605 : MainThread : INFO : worker thread finished; awaiting finish of 0 more threads\n",
      "2019-08-19 23:50:38,606 : MainThread : INFO : computing 5 principal components\n",
      "2019-08-19 23:50:38,612 : MainThread : INFO : training on 404 effective sentences with 3763 effective words took 0s with 9470 sentences/s\n",
      "2019-08-19 23:50:38,620 : MainThread : INFO : scanning all indexed sentences and their word counts\n",
      "2019-08-19 23:50:38,622 : MainThread : INFO : finished scanning 392 sentences with an average length of 9 and 3640 total words\n"
     ]
    },
    {
     "name": "stdout",
     "output_type": "stream",
     "text": [
      "uSIF-FT-2014 0.7361\n"
     ]
    },
    {
     "name": "stderr",
     "output_type": "stream",
     "text": [
      "2019-08-19 23:50:39,583 : MainThread : INFO : initializing sentence vectors for 392 sentences\n",
      "2019-08-19 23:50:39,632 : MainThread : INFO : begin training\n",
      "2019-08-19 23:50:39,722 : MainThread : INFO : worker thread finished; awaiting finish of 0 more threads\n",
      "2019-08-19 23:50:39,722 : MainThread : INFO : training on 392 effective sentences with 2849 effective words took 0s with 4333 sentences/s\n",
      "2019-08-19 23:50:39,728 : MainThread : INFO : scanning all indexed sentences and their word counts\n",
      "2019-08-19 23:50:39,730 : MainThread : INFO : finished scanning 392 sentences with an average length of 9 and 3640 total words\n"
     ]
    },
    {
     "name": "stdout",
     "output_type": "stream",
     "text": [
      "CBOW-W2V-2015 0.732\n"
     ]
    },
    {
     "name": "stderr",
     "output_type": "stream",
     "text": [
      "2019-08-19 23:50:40,691 : MainThread : INFO : initializing sentence vectors for 392 sentences\n",
      "2019-08-19 23:50:40,693 : MainThread : INFO : pre-computing SIF weights for 3000000 words\n",
      "2019-08-19 23:50:43,835 : MainThread : INFO : begin training\n",
      "2019-08-19 23:50:43,851 : MainThread : INFO : worker thread finished; awaiting finish of 0 more threads\n",
      "2019-08-19 23:50:43,851 : MainThread : INFO : computing 1 principal components\n",
      "2019-08-19 23:50:43,856 : MainThread : INFO : removing 1 principal components\n",
      "2019-08-19 23:50:43,857 : MainThread : INFO : training on 392 effective sentences with 2849 effective words took 0s with 23391 sentences/s\n",
      "2019-08-19 23:50:43,863 : MainThread : INFO : scanning all indexed sentences and their word counts\n",
      "2019-08-19 23:50:43,865 : MainThread : INFO : finished scanning 392 sentences with an average length of 9 and 3640 total words\n"
     ]
    },
    {
     "name": "stdout",
     "output_type": "stream",
     "text": [
      "SIF-W2V-2015 0.783\n"
     ]
    },
    {
     "name": "stderr",
     "output_type": "stream",
     "text": [
      "2019-08-19 23:50:44,859 : MainThread : INFO : initializing sentence vectors for 392 sentences\n",
      "2019-08-19 23:50:44,861 : MainThread : INFO : pre-computing uSIF weights for 3000000 words\n",
      "2019-08-19 23:50:58,097 : MainThread : INFO : begin training\n",
      "2019-08-19 23:50:58,113 : MainThread : INFO : worker thread finished; awaiting finish of 0 more threads\n",
      "2019-08-19 23:50:58,114 : MainThread : INFO : computing 5 principal components\n",
      "2019-08-19 23:50:58,120 : MainThread : INFO : training on 392 effective sentences with 2849 effective words took 0s with 22909 sentences/s\n",
      "2019-08-19 23:50:58,126 : MainThread : INFO : scanning all indexed sentences and their word counts\n",
      "2019-08-19 23:50:58,127 : MainThread : INFO : finished scanning 392 sentences with an average length of 9 and 3640 total words\n"
     ]
    },
    {
     "name": "stdout",
     "output_type": "stream",
     "text": [
      "uSIF-W2V-2015 0.7548\n"
     ]
    },
    {
     "name": "stderr",
     "output_type": "stream",
     "text": [
      "2019-08-19 23:50:58,777 : MainThread : INFO : initializing sentence vectors for 392 sentences\n",
      "2019-08-19 23:50:58,806 : MainThread : INFO : begin training\n",
      "2019-08-19 23:50:58,962 : MainThread : INFO : worker thread finished; awaiting finish of 0 more threads\n",
      "2019-08-19 23:50:58,963 : MainThread : INFO : training on 392 effective sentences with 3640 effective words took 0s with 2500 sentences/s\n",
      "2019-08-19 23:50:58,967 : MainThread : INFO : scanning all indexed sentences and their word counts\n",
      "2019-08-19 23:50:58,969 : MainThread : INFO : finished scanning 392 sentences with an average length of 9 and 3640 total words\n"
     ]
    },
    {
     "name": "stdout",
     "output_type": "stream",
     "text": [
      "CBOW-FT-2015 0.579\n"
     ]
    },
    {
     "name": "stderr",
     "output_type": "stream",
     "text": [
      "2019-08-19 23:50:59,642 : MainThread : INFO : initializing sentence vectors for 392 sentences\n",
      "2019-08-19 23:50:59,643 : MainThread : INFO : pre-computing SIF weights for 2000000 words\n",
      "2019-08-19 23:51:01,947 : MainThread : INFO : begin training\n",
      "2019-08-19 23:51:01,986 : MainThread : INFO : worker thread finished; awaiting finish of 0 more threads\n",
      "2019-08-19 23:51:01,987 : MainThread : INFO : computing 1 principal components\n",
      "2019-08-19 23:51:01,991 : MainThread : INFO : removing 1 principal components\n",
      "2019-08-19 23:51:01,993 : MainThread : INFO : training on 392 effective sentences with 3640 effective words took 0s with 9774 sentences/s\n",
      "2019-08-19 23:51:01,998 : MainThread : INFO : scanning all indexed sentences and their word counts\n",
      "2019-08-19 23:51:02,000 : MainThread : INFO : finished scanning 392 sentences with an average length of 9 and 3640 total words\n"
     ]
    },
    {
     "name": "stdout",
     "output_type": "stream",
     "text": [
      "SIF-FT-2015 0.7961\n"
     ]
    },
    {
     "name": "stderr",
     "output_type": "stream",
     "text": [
      "2019-08-19 23:51:02,777 : MainThread : INFO : initializing sentence vectors for 392 sentences\n",
      "2019-08-19 23:51:02,779 : MainThread : INFO : pre-computing uSIF weights for 2000000 words\n",
      "2019-08-19 23:51:12,100 : MainThread : INFO : begin training\n",
      "2019-08-19 23:51:12,142 : MainThread : INFO : worker thread finished; awaiting finish of 0 more threads\n",
      "2019-08-19 23:51:12,143 : MainThread : INFO : computing 5 principal components\n",
      "2019-08-19 23:51:12,149 : MainThread : INFO : training on 392 effective sentences with 3640 effective words took 0s with 9202 sentences/s\n",
      "2019-08-19 23:51:12,158 : MainThread : INFO : scanning all indexed sentences and their word counts\n",
      "2019-08-19 23:51:12,160 : MainThread : INFO : finished scanning 568 sentences with an average length of 9 and 5582 total words\n"
     ]
    },
    {
     "name": "stdout",
     "output_type": "stream",
     "text": [
      "uSIF-FT-2015 0.7795\n"
     ]
    },
    {
     "name": "stderr",
     "output_type": "stream",
     "text": [
      "2019-08-19 23:51:13,128 : MainThread : INFO : initializing sentence vectors for 568 sentences\n",
      "2019-08-19 23:51:13,176 : MainThread : INFO : begin training\n",
      "2019-08-19 23:51:13,246 : MainThread : INFO : worker thread finished; awaiting finish of 0 more threads\n",
      "2019-08-19 23:51:13,247 : MainThread : INFO : training on 568 effective sentences with 4534 effective words took 0s with 8006 sentences/s\n",
      "2019-08-19 23:51:13,254 : MainThread : INFO : scanning all indexed sentences and their word counts\n",
      "2019-08-19 23:51:13,256 : MainThread : INFO : finished scanning 568 sentences with an average length of 9 and 5582 total words\n"
     ]
    },
    {
     "name": "stdout",
     "output_type": "stream",
     "text": [
      "CBOW-W2V-2016 0.4194\n"
     ]
    },
    {
     "name": "stderr",
     "output_type": "stream",
     "text": [
      "2019-08-19 23:51:14,119 : MainThread : INFO : initializing sentence vectors for 568 sentences\n",
      "2019-08-19 23:51:14,122 : MainThread : INFO : pre-computing SIF weights for 3000000 words\n",
      "2019-08-19 23:51:17,084 : MainThread : INFO : begin training\n",
      "2019-08-19 23:51:17,107 : MainThread : INFO : worker thread finished; awaiting finish of 0 more threads\n",
      "2019-08-19 23:51:17,107 : MainThread : INFO : computing 1 principal components\n",
      "2019-08-19 23:51:17,112 : MainThread : INFO : removing 1 principal components\n",
      "2019-08-19 23:51:17,114 : MainThread : INFO : training on 568 effective sentences with 4534 effective words took 0s with 24544 sentences/s\n",
      "2019-08-19 23:51:17,121 : MainThread : INFO : scanning all indexed sentences and their word counts\n",
      "2019-08-19 23:51:17,124 : MainThread : INFO : finished scanning 568 sentences with an average length of 9 and 5582 total words\n"
     ]
    },
    {
     "name": "stdout",
     "output_type": "stream",
     "text": [
      "SIF-W2V-2016 0.5533\n"
     ]
    },
    {
     "name": "stderr",
     "output_type": "stream",
     "text": [
      "2019-08-19 23:51:18,112 : MainThread : INFO : initializing sentence vectors for 568 sentences\n",
      "2019-08-19 23:51:18,114 : MainThread : INFO : pre-computing uSIF weights for 3000000 words\n",
      "2019-08-19 23:51:31,563 : MainThread : INFO : begin training\n",
      "2019-08-19 23:51:31,585 : MainThread : INFO : worker thread finished; awaiting finish of 0 more threads\n",
      "2019-08-19 23:51:31,585 : MainThread : INFO : computing 5 principal components\n",
      "2019-08-19 23:51:31,599 : MainThread : INFO : training on 568 effective sentences with 4534 effective words took 0s with 25277 sentences/s\n",
      "2019-08-19 23:51:31,606 : MainThread : INFO : scanning all indexed sentences and their word counts\n",
      "2019-08-19 23:51:31,608 : MainThread : INFO : finished scanning 568 sentences with an average length of 9 and 5582 total words\n"
     ]
    },
    {
     "name": "stdout",
     "output_type": "stream",
     "text": [
      "uSIF-W2V-2016 0.5026\n"
     ]
    },
    {
     "name": "stderr",
     "output_type": "stream",
     "text": [
      "2019-08-19 23:51:32,334 : MainThread : INFO : initializing sentence vectors for 568 sentences\n",
      "2019-08-19 23:51:32,368 : MainThread : INFO : begin training\n",
      "2019-08-19 23:51:32,497 : MainThread : INFO : worker thread finished; awaiting finish of 0 more threads\n",
      "2019-08-19 23:51:32,498 : MainThread : INFO : training on 568 effective sentences with 5582 effective words took 0s with 4360 sentences/s\n",
      "2019-08-19 23:51:32,504 : MainThread : INFO : scanning all indexed sentences and their word counts\n",
      "2019-08-19 23:51:32,507 : MainThread : INFO : finished scanning 568 sentences with an average length of 9 and 5582 total words\n"
     ]
    },
    {
     "name": "stdout",
     "output_type": "stream",
     "text": [
      "CBOW-FT-2016 0.3626\n"
     ]
    },
    {
     "name": "stderr",
     "output_type": "stream",
     "text": [
      "2019-08-19 23:51:33,174 : MainThread : INFO : initializing sentence vectors for 568 sentences\n",
      "2019-08-19 23:51:33,177 : MainThread : INFO : pre-computing SIF weights for 2000000 words\n",
      "2019-08-19 23:51:35,262 : MainThread : INFO : begin training\n",
      "2019-08-19 23:51:35,314 : MainThread : INFO : worker thread finished; awaiting finish of 0 more threads\n",
      "2019-08-19 23:51:35,315 : MainThread : INFO : computing 1 principal components\n",
      "2019-08-19 23:51:35,320 : MainThread : INFO : removing 1 principal components\n",
      "2019-08-19 23:51:35,321 : MainThread : INFO : training on 568 effective sentences with 5582 effective words took 0s with 10774 sentences/s\n",
      "2019-08-19 23:51:35,329 : MainThread : INFO : scanning all indexed sentences and their word counts\n",
      "2019-08-19 23:51:35,331 : MainThread : INFO : finished scanning 568 sentences with an average length of 9 and 5582 total words\n"
     ]
    },
    {
     "name": "stdout",
     "output_type": "stream",
     "text": [
      "SIF-FT-2016 0.5369\n"
     ]
    },
    {
     "name": "stderr",
     "output_type": "stream",
     "text": [
      "2019-08-19 23:51:36,004 : MainThread : INFO : initializing sentence vectors for 568 sentences\n",
      "2019-08-19 23:51:36,007 : MainThread : INFO : pre-computing uSIF weights for 2000000 words\n",
      "2019-08-19 23:51:45,439 : MainThread : INFO : begin training\n",
      "2019-08-19 23:51:45,497 : MainThread : INFO : worker thread finished; awaiting finish of 0 more threads\n",
      "2019-08-19 23:51:45,498 : MainThread : INFO : computing 5 principal components\n",
      "2019-08-19 23:51:45,505 : MainThread : INFO : training on 568 effective sentences with 5582 effective words took 0s with 9763 sentences/s\n",
      "2019-08-19 23:51:45,515 : MainThread : INFO : scanning all indexed sentences and their word counts\n",
      "2019-08-19 23:51:45,516 : MainThread : INFO : finished scanning 250 sentences with an average length of 9 and 2319 total words\n"
     ]
    },
    {
     "name": "stdout",
     "output_type": "stream",
     "text": [
      "uSIF-FT-2016 0.5164\n"
     ]
    },
    {
     "name": "stderr",
     "output_type": "stream",
     "text": [
      "2019-08-19 23:51:46,497 : MainThread : INFO : initializing sentence vectors for 250 sentences\n",
      "2019-08-19 23:51:46,544 : MainThread : INFO : begin training\n",
      "2019-08-19 23:51:46,579 : MainThread : INFO : worker thread finished; awaiting finish of 0 more threads\n",
      "2019-08-19 23:51:46,579 : MainThread : INFO : training on 250 effective sentences with 1696 effective words took 0s with 7152 sentences/s\n",
      "2019-08-19 23:51:46,584 : MainThread : INFO : scanning all indexed sentences and their word counts\n",
      "2019-08-19 23:51:46,585 : MainThread : INFO : finished scanning 250 sentences with an average length of 9 and 2319 total words\n"
     ]
    },
    {
     "name": "stdout",
     "output_type": "stream",
     "text": [
      "CBOW-W2V-2017 0.679\n"
     ]
    },
    {
     "name": "stderr",
     "output_type": "stream",
     "text": [
      "2019-08-19 23:51:47,463 : MainThread : INFO : initializing sentence vectors for 250 sentences\n",
      "2019-08-19 23:51:47,465 : MainThread : INFO : pre-computing SIF weights for 3000000 words\n",
      "2019-08-19 23:51:50,182 : MainThread : INFO : begin training\n",
      "2019-08-19 23:51:50,194 : MainThread : INFO : worker thread finished; awaiting finish of 0 more threads\n",
      "2019-08-19 23:51:50,194 : MainThread : INFO : computing 1 principal components\n",
      "2019-08-19 23:51:50,198 : MainThread : INFO : removing 1 principal components\n",
      "2019-08-19 23:51:50,199 : MainThread : INFO : training on 250 effective sentences with 1696 effective words took 0s with 20528 sentences/s\n",
      "2019-08-19 23:51:50,203 : MainThread : INFO : scanning all indexed sentences and their word counts\n",
      "2019-08-19 23:51:50,204 : MainThread : INFO : finished scanning 250 sentences with an average length of 9 and 2319 total words\n"
     ]
    },
    {
     "name": "stdout",
     "output_type": "stream",
     "text": [
      "SIF-W2V-2017 0.7708\n"
     ]
    },
    {
     "name": "stderr",
     "output_type": "stream",
     "text": [
      "2019-08-19 23:51:51,092 : MainThread : INFO : initializing sentence vectors for 250 sentences\n",
      "2019-08-19 23:51:51,094 : MainThread : INFO : pre-computing uSIF weights for 3000000 words\n",
      "2019-08-19 23:52:04,577 : MainThread : INFO : begin training\n",
      "2019-08-19 23:52:04,589 : MainThread : INFO : worker thread finished; awaiting finish of 0 more threads\n",
      "2019-08-19 23:52:04,590 : MainThread : INFO : computing 5 principal components\n",
      "2019-08-19 23:52:04,595 : MainThread : INFO : training on 250 effective sentences with 1696 effective words took 0s with 20288 sentences/s\n",
      "2019-08-19 23:52:04,600 : MainThread : INFO : scanning all indexed sentences and their word counts\n",
      "2019-08-19 23:52:04,601 : MainThread : INFO : finished scanning 250 sentences with an average length of 9 and 2319 total words\n"
     ]
    },
    {
     "name": "stdout",
     "output_type": "stream",
     "text": [
      "uSIF-W2V-2017 0.6978\n"
     ]
    },
    {
     "name": "stderr",
     "output_type": "stream",
     "text": [
      "2019-08-19 23:52:05,345 : MainThread : INFO : initializing sentence vectors for 250 sentences\n",
      "2019-08-19 23:52:05,378 : MainThread : INFO : begin training\n",
      "2019-08-19 23:52:05,418 : MainThread : INFO : worker thread finished; awaiting finish of 0 more threads\n",
      "2019-08-19 23:52:05,419 : MainThread : INFO : training on 250 effective sentences with 2319 effective words took 0s with 6147 sentences/s\n",
      "2019-08-19 23:52:05,422 : MainThread : INFO : scanning all indexed sentences and their word counts\n",
      "2019-08-19 23:52:05,424 : MainThread : INFO : finished scanning 250 sentences with an average length of 9 and 2319 total words\n"
     ]
    },
    {
     "name": "stdout",
     "output_type": "stream",
     "text": [
      "CBOW-FT-2017 0.5091\n"
     ]
    },
    {
     "name": "stderr",
     "output_type": "stream",
     "text": [
      "2019-08-19 23:52:06,203 : MainThread : INFO : initializing sentence vectors for 250 sentences\n",
      "2019-08-19 23:52:06,205 : MainThread : INFO : pre-computing SIF weights for 2000000 words\n",
      "2019-08-19 23:52:08,512 : MainThread : INFO : begin training\n",
      "2019-08-19 23:52:08,538 : MainThread : INFO : worker thread finished; awaiting finish of 0 more threads\n",
      "2019-08-19 23:52:08,538 : MainThread : INFO : computing 1 principal components\n",
      "2019-08-19 23:52:08,542 : MainThread : INFO : removing 1 principal components\n",
      "2019-08-19 23:52:08,543 : MainThread : INFO : training on 250 effective sentences with 2319 effective words took 0s with 9417 sentences/s\n",
      "2019-08-19 23:52:08,548 : MainThread : INFO : scanning all indexed sentences and their word counts\n",
      "2019-08-19 23:52:08,549 : MainThread : INFO : finished scanning 250 sentences with an average length of 9 and 2319 total words\n"
     ]
    },
    {
     "name": "stdout",
     "output_type": "stream",
     "text": [
      "SIF-FT-2017 0.7487\n"
     ]
    },
    {
     "name": "stderr",
     "output_type": "stream",
     "text": [
      "2019-08-19 23:52:09,303 : MainThread : INFO : initializing sentence vectors for 250 sentences\n",
      "2019-08-19 23:52:09,305 : MainThread : INFO : pre-computing uSIF weights for 2000000 words\n",
      "2019-08-19 23:52:18,651 : MainThread : INFO : begin training\n",
      "2019-08-19 23:52:18,678 : MainThread : INFO : worker thread finished; awaiting finish of 0 more threads\n",
      "2019-08-19 23:52:18,678 : MainThread : INFO : computing 5 principal components\n",
      "2019-08-19 23:52:18,684 : MainThread : INFO : training on 250 effective sentences with 2319 effective words took 0s with 8998 sentences/s\n"
     ]
    },
    {
     "name": "stdout",
     "output_type": "stream",
     "text": [
      "uSIF-FT-2017 0.6865\n",
      "time: 3min 21s\n"
     ]
    }
   ],
   "source": [
    "for year in tasks:\n",
    "    df = sts_data[sts_data.task == year]\n",
    "    sents_a = df.sent_a.values.tolist()\n",
    "    sents_b = df.sent_b.values.tolist()\n",
    "    assert len(sents_a) == len(sents_b)\n",
    "\n",
    "    task_length = len(sents_a)\n",
    "    sents_a.extend(sents_b)\n",
    "    \n",
    "    sents = [IndexedSentence(s, i) for i,s in enumerate(sents_a)]\n",
    "    \n",
    "    for k, m in models.items():\n",
    "        if k.split(\"-\")[-1] != year:\n",
    "            continue\n",
    "        \n",
    "        m_type  = k.split(\"-\")[0]\n",
    "        emb_type = k.split(\"-\")[1]\n",
    "        \n",
    "        m.train(sents)\n",
    "        r = pearsonr(df.sim, compute_similarities(task_length, m))[0].round(4)\n",
    "        \n",
    "        results[f\"{m_type}-{emb_type}-{year}\"] = r * 100\n",
    "        print(k, r)"
   ]
  },
  {
   "cell_type": "code",
   "execution_count": 6,
   "metadata": {},
   "outputs": [
    {
     "data": {
      "text/html": [
       "<div>\n",
       "<style scoped>\n",
       "    .dataframe tbody tr th:only-of-type {\n",
       "        vertical-align: middle;\n",
       "    }\n",
       "\n",
       "    .dataframe tbody tr th {\n",
       "        vertical-align: top;\n",
       "    }\n",
       "\n",
       "    .dataframe thead th {\n",
       "        text-align: right;\n",
       "    }\n",
       "</style>\n",
       "<table border=\"1\" class=\"dataframe\">\n",
       "  <thead>\n",
       "    <tr style=\"text-align: right;\">\n",
       "      <th></th>\n",
       "      <th>Pearson</th>\n",
       "    </tr>\n",
       "  </thead>\n",
       "  <tbody>\n",
       "    <tr>\n",
       "      <th>CBOW-W2V-2012</th>\n",
       "      <td>74.67</td>\n",
       "    </tr>\n",
       "    <tr>\n",
       "      <th>SIF-W2V-2012</th>\n",
       "      <td>78.74</td>\n",
       "    </tr>\n",
       "    <tr>\n",
       "      <th>uSIF-W2V-2012</th>\n",
       "      <td>77.74</td>\n",
       "    </tr>\n",
       "    <tr>\n",
       "      <th>CBOW-FT-2012</th>\n",
       "      <td>50.99</td>\n",
       "    </tr>\n",
       "    <tr>\n",
       "      <th>SIF-FT-2012</th>\n",
       "      <td>79.10</td>\n",
       "    </tr>\n",
       "    <tr>\n",
       "      <th>uSIF-FT-2012</th>\n",
       "      <td>78.62</td>\n",
       "    </tr>\n",
       "    <tr>\n",
       "      <th>CBOW-W2V-2013</th>\n",
       "      <td>64.74</td>\n",
       "    </tr>\n",
       "    <tr>\n",
       "      <th>SIF-W2V-2013</th>\n",
       "      <td>67.41</td>\n",
       "    </tr>\n",
       "    <tr>\n",
       "      <th>uSIF-W2V-2013</th>\n",
       "      <td>69.72</td>\n",
       "    </tr>\n",
       "    <tr>\n",
       "      <th>CBOW-FT-2013</th>\n",
       "      <td>65.06</td>\n",
       "    </tr>\n",
       "    <tr>\n",
       "      <th>SIF-FT-2013</th>\n",
       "      <td>70.39</td>\n",
       "    </tr>\n",
       "    <tr>\n",
       "      <th>uSIF-FT-2013</th>\n",
       "      <td>73.81</td>\n",
       "    </tr>\n",
       "    <tr>\n",
       "      <th>CBOW-W2V-2014</th>\n",
       "      <td>71.05</td>\n",
       "    </tr>\n",
       "    <tr>\n",
       "      <th>SIF-W2V-2014</th>\n",
       "      <td>75.50</td>\n",
       "    </tr>\n",
       "    <tr>\n",
       "      <th>uSIF-W2V-2014</th>\n",
       "      <td>68.02</td>\n",
       "    </tr>\n",
       "    <tr>\n",
       "      <th>CBOW-FT-2014</th>\n",
       "      <td>48.82</td>\n",
       "    </tr>\n",
       "    <tr>\n",
       "      <th>SIF-FT-2014</th>\n",
       "      <td>77.89</td>\n",
       "    </tr>\n",
       "    <tr>\n",
       "      <th>uSIF-FT-2014</th>\n",
       "      <td>73.61</td>\n",
       "    </tr>\n",
       "    <tr>\n",
       "      <th>CBOW-W2V-2015</th>\n",
       "      <td>73.20</td>\n",
       "    </tr>\n",
       "    <tr>\n",
       "      <th>SIF-W2V-2015</th>\n",
       "      <td>78.30</td>\n",
       "    </tr>\n",
       "    <tr>\n",
       "      <th>uSIF-W2V-2015</th>\n",
       "      <td>75.48</td>\n",
       "    </tr>\n",
       "    <tr>\n",
       "      <th>CBOW-FT-2015</th>\n",
       "      <td>57.90</td>\n",
       "    </tr>\n",
       "    <tr>\n",
       "      <th>SIF-FT-2015</th>\n",
       "      <td>79.61</td>\n",
       "    </tr>\n",
       "    <tr>\n",
       "      <th>uSIF-FT-2015</th>\n",
       "      <td>77.95</td>\n",
       "    </tr>\n",
       "    <tr>\n",
       "      <th>CBOW-W2V-2016</th>\n",
       "      <td>41.94</td>\n",
       "    </tr>\n",
       "    <tr>\n",
       "      <th>SIF-W2V-2016</th>\n",
       "      <td>55.33</td>\n",
       "    </tr>\n",
       "    <tr>\n",
       "      <th>uSIF-W2V-2016</th>\n",
       "      <td>50.26</td>\n",
       "    </tr>\n",
       "    <tr>\n",
       "      <th>CBOW-FT-2016</th>\n",
       "      <td>36.26</td>\n",
       "    </tr>\n",
       "    <tr>\n",
       "      <th>SIF-FT-2016</th>\n",
       "      <td>53.69</td>\n",
       "    </tr>\n",
       "    <tr>\n",
       "      <th>uSIF-FT-2016</th>\n",
       "      <td>51.64</td>\n",
       "    </tr>\n",
       "    <tr>\n",
       "      <th>CBOW-W2V-2017</th>\n",
       "      <td>67.90</td>\n",
       "    </tr>\n",
       "    <tr>\n",
       "      <th>SIF-W2V-2017</th>\n",
       "      <td>77.08</td>\n",
       "    </tr>\n",
       "    <tr>\n",
       "      <th>uSIF-W2V-2017</th>\n",
       "      <td>69.78</td>\n",
       "    </tr>\n",
       "    <tr>\n",
       "      <th>CBOW-FT-2017</th>\n",
       "      <td>50.91</td>\n",
       "    </tr>\n",
       "    <tr>\n",
       "      <th>SIF-FT-2017</th>\n",
       "      <td>74.87</td>\n",
       "    </tr>\n",
       "    <tr>\n",
       "      <th>uSIF-FT-2017</th>\n",
       "      <td>68.65</td>\n",
       "    </tr>\n",
       "  </tbody>\n",
       "</table>\n",
       "</div>"
      ],
      "text/plain": [
       "               Pearson\n",
       "CBOW-W2V-2012    74.67\n",
       "SIF-W2V-2012     78.74\n",
       "uSIF-W2V-2012    77.74\n",
       "CBOW-FT-2012     50.99\n",
       "SIF-FT-2012      79.10\n",
       "uSIF-FT-2012     78.62\n",
       "CBOW-W2V-2013    64.74\n",
       "SIF-W2V-2013     67.41\n",
       "uSIF-W2V-2013    69.72\n",
       "CBOW-FT-2013     65.06\n",
       "SIF-FT-2013      70.39\n",
       "uSIF-FT-2013     73.81\n",
       "CBOW-W2V-2014    71.05\n",
       "SIF-W2V-2014     75.50\n",
       "uSIF-W2V-2014    68.02\n",
       "CBOW-FT-2014     48.82\n",
       "SIF-FT-2014      77.89\n",
       "uSIF-FT-2014     73.61\n",
       "CBOW-W2V-2015    73.20\n",
       "SIF-W2V-2015     78.30\n",
       "uSIF-W2V-2015    75.48\n",
       "CBOW-FT-2015     57.90\n",
       "SIF-FT-2015      79.61\n",
       "uSIF-FT-2015     77.95\n",
       "CBOW-W2V-2016    41.94\n",
       "SIF-W2V-2016     55.33\n",
       "uSIF-W2V-2016    50.26\n",
       "CBOW-FT-2016     36.26\n",
       "SIF-FT-2016      53.69\n",
       "uSIF-FT-2016     51.64\n",
       "CBOW-W2V-2017    67.90\n",
       "SIF-W2V-2017     77.08\n",
       "uSIF-W2V-2017    69.78\n",
       "CBOW-FT-2017     50.91\n",
       "SIF-FT-2017      74.87\n",
       "uSIF-FT-2017     68.65"
      ]
     },
     "execution_count": 6,
     "metadata": {},
     "output_type": "execute_result"
    },
    {
     "name": "stdout",
     "output_type": "stream",
     "text": [
      "time: 34.4 ms\n"
     ]
    }
   ],
   "source": [
    "pd.DataFrame.from_dict(results, orient=\"index\", columns=[\"Pearson\"])"
   ]
  }
 ],
 "metadata": {
  "kernelspec": {
   "display_name": "Python 3",
   "language": "python",
   "name": "python3"
  },
  "language_info": {
   "codemirror_mode": {
    "name": "ipython",
    "version": 3
   },
   "file_extension": ".py",
   "mimetype": "text/x-python",
   "name": "python",
   "nbconvert_exporter": "python",
   "pygments_lexer": "ipython3",
   "version": "3.7.3"
  }
 },
 "nbformat": 4,
 "nbformat_minor": 2
}
