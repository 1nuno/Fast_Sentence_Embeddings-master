{
 "cells": [
  {
   "cell_type": "markdown",
   "metadata": {},
   "source": [
    "# fse - Tutorial"
   ]
  },
  {
   "cell_type": "markdown",
   "metadata": {},
   "source": [
    "Welcome to fse - fast sentence embeddings. The library is intended to compute sentence embeddings as fast as possible. \n",
    "It offers a simple and easy to understand syntax for you to use in your own projects. Before we start with any model, lets have a look at the input types.\n",
    "All fse models require an iterable/generator which produces a tuple. The tuple has two fields: words and index. The index is required for the multi-thread processing, as sentences might not be processed sequentially. The index dictates, which row of the corresponding sentence vector matrix the sentence belongs to."
   ]
  },
  {
   "cell_type": "markdown",
   "metadata": {},
   "source": [
    "## Input handling"
   ]
  },
  {
   "cell_type": "code",
   "execution_count": 1,
   "metadata": {},
   "outputs": [],
   "source": [
    "import logging\n",
    "logging.basicConfig(format='%(asctime)s : %(threadName)s : %(levelname)s : %(message)s', level=logging.INFO)"
   ]
  },
  {
   "cell_type": "code",
   "execution_count": 2,
   "metadata": {},
   "outputs": [
    {
     "name": "stdout",
     "output_type": "stream",
     "text": [
      "['Hello', 'world']\n",
      "0\n"
     ]
    }
   ],
   "source": [
    "s = ([\"Hello\", \"world\"], 0)\n",
    "print(s[0])\n",
    "print(s[1])"
   ]
  },
  {
   "cell_type": "markdown",
   "metadata": {},
   "source": [
    "The words of the tuple will always consist of a list of strings. Otherwise the train method will raise an Error. However, most input data is available as a list of strings."
   ]
  },
  {
   "cell_type": "markdown",
   "metadata": {},
   "source": [
    "In order to deal with this common input format, fse provides the IndexedList and some variants, which handel all required data operations for you. You can provide multiple lists (or sets) which will all be merged into a single list. This eases work if you have to work with the STS datasets.\n",
    "\n",
    "The multiple types of indexed lists. Let's go through them one by one:\n",
    "- IndexedList: for already pre-splitted sentences\n",
    "- **C**IndexedList: for already pre-splitted sentences with a custom index for each sentence\n",
    "- SplitIndexedList: for sentences which have not been splitted. Will splitt the strings\n",
    "- **C**SplitIndexedList: for sentences which have not been splitted. Will splitt the strings. You can provide a custom split function\n",
    "- **C**Split*C*IndexedList: for sentences where you want to provide a custom index and a custom split function.\n",
    "\n",
    "*Note*: These are ordered by speed. Meaning, that IndexedList is the fastest, while **C**Split**C**IndexedList is the slowest variant."
   ]
  },
  {
   "cell_type": "code",
   "execution_count": 3,
   "metadata": {},
   "outputs": [
    {
     "name": "stderr",
     "output_type": "stream",
     "text": [
      "2019-09-09 22:38:15,759 : MainThread : INFO : 'pattern' package not found; tag filters are not available for English\n"
     ]
    },
    {
     "name": "stdout",
     "output_type": "stream",
     "text": [
      "4\n"
     ]
    },
    {
     "data": {
      "text/plain": [
       "(['Hello', 'there'], 0)"
      ]
     },
     "execution_count": 3,
     "metadata": {},
     "output_type": "execute_result"
    }
   ],
   "source": [
    "from fse import SplitIndexedList\n",
    "\n",
    "sentences_a = [\"Hello there\", \"how are you?\"]\n",
    "sentences_b = [\"today is a good day\", \"Lorem ipsum\"]\n",
    "\n",
    "s = SplitIndexedList(sentences_a, sentences_b)\n",
    "print(len(s))\n",
    "s[0]"
   ]
  },
  {
   "cell_type": "markdown",
   "metadata": {},
   "source": [
    "To save memory, we do not convert the original lists inplace. The conversion will only take place once you call the getitem method. To access the original data, call:"
   ]
  },
  {
   "cell_type": "code",
   "execution_count": 4,
   "metadata": {},
   "outputs": [
    {
     "data": {
      "text/plain": [
       "['Hello there', 'how are you?', 'today is a good day', 'Lorem ipsum']"
      ]
     },
     "execution_count": 4,
     "metadata": {},
     "output_type": "execute_result"
    }
   ],
   "source": [
    "s.items"
   ]
  },
  {
   "cell_type": "markdown",
   "metadata": {},
   "source": [
    "If the data is already preprocessed as a list of lists you can provide the argument pre_splitted=True."
   ]
  },
  {
   "cell_type": "code",
   "execution_count": 5,
   "metadata": {},
   "outputs": [
    {
     "name": "stdout",
     "output_type": "stream",
     "text": [
      "2\n"
     ]
    },
    {
     "data": {
      "text/plain": [
       "(['Hello', 'there'], 0)"
      ]
     },
     "execution_count": 5,
     "metadata": {},
     "output_type": "execute_result"
    }
   ],
   "source": [
    "from fse import IndexedList\n",
    "\n",
    "sentences_splitted = [\"Hello there\".split(), \"how are you?\".split()]\n",
    "s = IndexedList(sentences_splitted)\n",
    "print(len(s))\n",
    "s[0]"
   ]
  },
  {
   "cell_type": "markdown",
   "metadata": {},
   "source": [
    "In case you want to provide your own splitting function, you can pass a callable to the **C**SplitIndexedList class."
   ]
  },
  {
   "cell_type": "code",
   "execution_count": 6,
   "metadata": {},
   "outputs": [
    {
     "name": "stdout",
     "output_type": "stream",
     "text": [
      "2\n"
     ]
    },
    {
     "data": {
      "text/plain": [
       "(['hello', 'there'], 0)"
      ]
     },
     "execution_count": 6,
     "metadata": {},
     "output_type": "execute_result"
    }
   ],
   "source": [
    "from fse import CSplitIndexedList\n",
    "\n",
    "def split_func(string):\n",
    "    return string.lower().split()\n",
    "\n",
    "s = CSplitIndexedList(sentences_a, custom_split=split_func)\n",
    "print(len(s))\n",
    "s[0]"
   ]
  },
  {
   "cell_type": "markdown",
   "metadata": {},
   "source": [
    "If you want to stream a file from disk (where each line corresponds to a sentence) you can use the IndexedLineDocument."
   ]
  },
  {
   "cell_type": "code",
   "execution_count": 7,
   "metadata": {},
   "outputs": [],
   "source": [
    "from fse import IndexedLineDocument\n",
    "doc = IndexedLineDocument(\"../fse/test/test_data/test_sentences.txt\")"
   ]
  },
  {
   "cell_type": "code",
   "execution_count": 8,
   "metadata": {},
   "outputs": [
    {
     "name": "stdout",
     "output_type": "stream",
     "text": [
      "0\t['Good', 'stuff', 'i', 'just', 'wish', 'it', 'lasted', 'longer']\n",
      "1\t['Hp', 'makes', 'qualilty', 'stuff']\n",
      "2\t['I', 'like', 'it']\n",
      "3\t['Try', 'it', 'you', 'will', 'like', 'it']\n"
     ]
    }
   ],
   "source": [
    "i = 0\n",
    "for s in doc:\n",
    "    print(f\"{s[1]}\\t{s[0]}\")\n",
    "    i += 1\n",
    "    if i == 4:\n",
    "        break"
   ]
  },
  {
   "cell_type": "markdown",
   "metadata": {},
   "source": [
    "If you are later working with the similarity of sentences, the IndexedLineDocument provides you the option to access each line by its corresponding index. This helps you in determining the similarity of sentences, as the most_similar method would otherwise just return indices."
   ]
  },
  {
   "cell_type": "code",
   "execution_count": 9,
   "metadata": {},
   "outputs": [
    {
     "data": {
      "text/plain": [
       "'I feel like i just got screwed'"
      ]
     },
     "execution_count": 9,
     "metadata": {},
     "output_type": "execute_result"
    }
   ],
   "source": [
    "doc[20]"
   ]
  },
  {
   "cell_type": "markdown",
   "metadata": {},
   "source": [
    "# Training a model / Performing inference"
   ]
  },
  {
   "cell_type": "markdown",
   "metadata": {},
   "source": [
    "Training a fse model is simple. You only need a pre-trained word embedding model which you use during the initializiation of the fse model you want to use."
   ]
  },
  {
   "cell_type": "code",
   "execution_count": 10,
   "metadata": {},
   "outputs": [
    {
     "name": "stderr",
     "output_type": "stream",
     "text": [
      "2019-09-09 22:38:16,681 : MainThread : INFO : loading projection weights from /Users/oliverborchers/gensim-data/glove-wiki-gigaword-100/glove-wiki-gigaword-100.gz\n",
      "2019-09-09 22:38:58,016 : MainThread : INFO : loaded (400000, 100) matrix from /Users/oliverborchers/gensim-data/glove-wiki-gigaword-100/glove-wiki-gigaword-100.gz\n"
     ]
    }
   ],
   "source": [
    "import gensim.downloader as api\n",
    "data = api.load(\"quora-duplicate-questions\")\n",
    "glove = api.load(\"glove-wiki-gigaword-100\")"
   ]
  },
  {
   "cell_type": "code",
   "execution_count": 11,
   "metadata": {},
   "outputs": [
    {
     "name": "stderr",
     "output_type": "stream",
     "text": [
      "/Users/oliverborchers/anaconda3/envs/fsedev/lib/python3.7/site-packages/smart_open/smart_open_lib.py:398: UserWarning: This function is deprecated, use smart_open.open instead. See the migration notes for details: https://github.com/RaRe-Technologies/smart_open/blob/master/README.rst#migrating-to-the-new-open-function\n",
      "  'See the migration notes for details: %s' % _MIGRATION_NOTES_URL\n"
     ]
    },
    {
     "name": "stdout",
     "output_type": "stream",
     "text": [
      "6468640\n"
     ]
    }
   ],
   "source": [
    "sentences = []\n",
    "for d in data:\n",
    "    # Let's blow up the data a bit by replicating each sentence.\n",
    "    for i in range(8):\n",
    "        sentences.append(d[\"question1\"].split())\n",
    "        sentences.append(d[\"question2\"].split())\n",
    "s = IndexedList(sentences)\n",
    "print(len(s))"
   ]
  },
  {
   "cell_type": "markdown",
   "metadata": {},
   "source": [
    "So we have about 6468640 sentences we want to compute the embeddings for. If you import the FAST_VERSION variable as follows you can ensure, that the compiliation of the cython routines worked correctly:"
   ]
  },
  {
   "cell_type": "code",
   "execution_count": 12,
   "metadata": {},
   "outputs": [
    {
     "name": "stdout",
     "output_type": "stream",
     "text": [
      "10000\n",
      "1\n"
     ]
    }
   ],
   "source": [
    "from fse.models.average import FAST_VERSION, MAX_WORDS_IN_BATCH\n",
    "print(MAX_WORDS_IN_BATCH)\n",
    "print(FAST_VERSION)\n",
    "# 1 -> The fast version works"
   ]
  },
  {
   "cell_type": "code",
   "execution_count": 13,
   "metadata": {},
   "outputs": [],
   "source": [
    "from fse.models import SIF\n",
    "model = SIF(glove, workers=2)"
   ]
  },
  {
   "cell_type": "code",
   "execution_count": 14,
   "metadata": {},
   "outputs": [
    {
     "name": "stderr",
     "output_type": "stream",
     "text": [
      "2019-09-09 22:39:22,954 : MainThread : INFO : scanning all indexed sentences and their word counts\n",
      "2019-09-09 22:39:27,960 : MainThread : INFO : SCANNING : finished 3603151 sentences with 39821529 words\n",
      "2019-09-09 22:39:32,285 : MainThread : WARNING : found 16 empty sentences\n",
      "2019-09-09 22:39:32,287 : MainThread : INFO : finished scanning 6468640 sentences with an average length of 11 and 71556728 total words\n",
      "2019-09-09 22:39:32,494 : MainThread : INFO : estimated memory for 6468640 sentences with 100 dimensions and 400000 vocabulary: 2621 MB (2 GB)\n",
      "2019-09-09 22:39:32,494 : MainThread : INFO : initializing sentence vectors for 6468640 sentences\n",
      "2019-09-09 22:39:45,235 : MainThread : INFO : pre-computing SIF weights for 400000 words\n",
      "2019-09-09 22:39:45,517 : MainThread : INFO : begin training\n",
      "2019-09-09 22:39:50,528 : MainThread : INFO : PROGRESS : finished 28.59% with 1849612 sentences and 14048992 words, 369922 sentences/s\n",
      "2019-09-09 22:39:55,532 : MainThread : INFO : PROGRESS : finished 61.40% with 3971644 sentences and 30216912 words, 424406 sentences/s\n",
      "2019-09-09 22:40:00,535 : MainThread : INFO : PROGRESS : finished 91.33% with 5907804 sentences and 44952052 words, 387232 sentences/s\n",
      "2019-09-09 22:40:02,291 : MainThread : INFO : worker thread finished; awaiting finish of 1 more threads\n",
      "2019-09-09 22:40:02,292 : MainThread : INFO : worker thread finished; awaiting finish of 0 more threads\n",
      "2019-09-09 22:40:25,262 : MainThread : INFO : computing 1 principal components took 22s\n",
      "2019-09-09 22:40:27,954 : MainThread : INFO : removing 1 principal components took 2s\n",
      "2019-09-09 22:40:27,955 : MainThread : INFO : training on 6468624 effective sentences with 49255184 effective words took 16s with 385599 sentences/s\n"
     ]
    },
    {
     "data": {
      "text/plain": [
       "(6468624, 49255184)"
      ]
     },
     "execution_count": 14,
     "metadata": {},
     "output_type": "execute_result"
    }
   ],
   "source": [
    "model.train(s)"
   ]
  },
  {
   "cell_type": "markdown",
   "metadata": {},
   "source": [
    "The models training speed revolves at around 500,000 sentences / seconds. That means we finish the task in about 10 seconds."
   ]
  },
  {
   "cell_type": "markdown",
   "metadata": {},
   "source": [
    "Once the sif model is trained, you can perform additional inferences for unknown sentences. This two step process for new data is required, as computing the principal components for models like SIF and uSIF will require a fair amount of sentences. If you want the vector for a single sentence (which is out of the training vocab), just use:"
   ]
  },
  {
   "cell_type": "code",
   "execution_count": 15,
   "metadata": {},
   "outputs": [
    {
     "name": "stderr",
     "output_type": "stream",
     "text": [
      "2019-09-09 22:40:27,964 : MainThread : INFO : scanning all indexed sentences and their word counts\n",
      "2019-09-09 22:40:27,966 : MainThread : INFO : finished scanning 1 sentences with an average length of 3 and 3 total words\n",
      "2019-09-09 22:40:27,968 : MainThread : INFO : removing 1 principal components took 0s\n"
     ]
    },
    {
     "data": {
      "text/plain": [
       "array([[ 0.38196447, -0.1988384 ,  0.0571419 , -0.2608053 , -0.39127567,\n",
       "         0.56997204, -0.08829699,  0.04303335,  0.02415937, -0.18261634,\n",
       "         0.12377772,  0.16709268,  0.22155543,  0.19370788, -0.26391292,\n",
       "        -0.2801168 , -0.26631495, -0.04989915, -0.2803055 ,  0.35429263,\n",
       "        -0.33491358,  0.4502716 , -0.35931408, -0.15993637,  0.19240806,\n",
       "         0.5006909 , -0.45003742, -0.2531514 ,  0.7854812 ,  0.16518082,\n",
       "         0.48821324,  0.38489473,  0.71547   ,  0.1450263 , -0.2963434 ,\n",
       "         0.28262872, -0.11362517,  0.04488435,  0.41105908, -0.2494816 ,\n",
       "         0.1678418 ,  0.18146755,  0.5637449 , -0.16483429, -0.34314314,\n",
       "        -0.11086482, -0.71529424,  0.37857854,  0.5497621 , -0.21101826,\n",
       "        -0.1545457 , -0.07437938, -0.00441471, -0.08365119,  0.20791844,\n",
       "         0.01463819,  0.27646348,  0.39419666, -0.30494595, -0.09648007,\n",
       "         0.47651446,  0.8765762 , -0.01992229, -0.23987037, -0.14416808,\n",
       "         0.04672491,  0.27598125,  0.0977577 ,  0.10615352,  0.03958511,\n",
       "        -0.06071417,  0.67416483,  0.49580425, -0.6744929 , -0.24942361,\n",
       "         0.7595215 ,  0.29493958, -0.36927077,  0.27619442,  0.11775678,\n",
       "        -0.32955033,  0.62929314,  0.6492069 , -0.35359925, -0.42289484,\n",
       "        -0.14429052, -0.54397994,  0.11261512, -0.51643574, -0.00974166,\n",
       "        -0.20683   ,  0.27616116,  1.1002474 ,  0.11245041, -0.29499966,\n",
       "        -0.3200264 , -0.23377597,  0.2729149 , -0.30762795,  0.54437566]],\n",
       "      dtype=float32)"
      ]
     },
     "execution_count": 15,
     "metadata": {},
     "output_type": "execute_result"
    }
   ],
   "source": [
    "tmp = (\"Hello my friends\".split(), 0)\n",
    "model.infer([tmp])"
   ]
  },
  {
   "cell_type": "markdown",
   "metadata": {},
   "source": [
    "## Querying the model"
   ]
  },
  {
   "cell_type": "markdown",
   "metadata": {},
   "source": [
    "In order to query the model or perform similarity computations we can just access the model.sv (sentence vectors) object and use its method. To get a vector for an index, just call"
   ]
  },
  {
   "cell_type": "code",
   "execution_count": 16,
   "metadata": {},
   "outputs": [
    {
     "data": {
      "text/plain": [
       "array([ 0.10094505, -0.17338434, -0.06120607,  0.34027654,  0.22177696,\n",
       "       -0.24794772, -0.11074717, -0.14664018, -0.05048759, -0.00544698,\n",
       "       -0.10035248, -0.00855931, -0.12817514, -0.23004776, -0.17999992,\n",
       "        0.07368515, -0.03067316, -0.05431816,  0.08335009, -0.10299528,\n",
       "        0.06848799, -0.00242306, -0.0400511 ,  0.29239285, -0.0816397 ,\n",
       "       -0.08835362,  0.12184662,  0.14001876, -0.07441948,  0.14240132,\n",
       "       -0.15721211, -0.02932569, -0.06760302, -0.07329973, -0.03554936,\n",
       "        0.08278874,  0.19171   , -0.05927336, -0.14163393, -0.13755181,\n",
       "       -0.02026197, -0.04314215, -0.05729384,  0.0653533 , -0.06144977,\n",
       "        0.06533504, -0.09953416,  0.04081041, -0.03480543, -0.19186741,\n",
       "       -0.21262896,  0.09202444,  0.10283869,  0.12685204, -0.16222197,\n",
       "       -0.21388721, -0.24895634, -0.16497523,  0.29118574, -0.19552863,\n",
       "       -0.03108095, -0.3014589 , -0.00456905,  0.11545967, -0.11587113,\n",
       "        0.0689742 , -0.2582472 ,  0.07914913,  0.16394164,  0.06048159,\n",
       "        0.02214443, -0.01330999, -0.30309173, -0.18095428, -0.13198665,\n",
       "       -0.12820065, -0.09165527,  0.04982938, -0.0227226 , -0.08077918,\n",
       "        0.04727352,  0.23615006,  0.03795499,  0.04745509,  0.3396399 ,\n",
       "       -0.01102065, -0.02038456, -0.10761917, -0.00284445, -0.0022642 ,\n",
       "        0.07875209,  0.0206717 , -0.09319285, -0.02075411, -0.06282288,\n",
       "        0.17833622,  0.21346034, -0.04972735,  0.0186224 , -0.04622838],\n",
       "      dtype=float32)"
      ]
     },
     "execution_count": 16,
     "metadata": {},
     "output_type": "execute_result"
    }
   ],
   "source": [
    "model.sv[0]"
   ]
  },
  {
   "cell_type": "markdown",
   "metadata": {},
   "source": [
    "To compute the similarity or distance between two sentence from the training set you can call:"
   ]
  },
  {
   "cell_type": "code",
   "execution_count": 17,
   "metadata": {},
   "outputs": [
    {
     "name": "stdout",
     "output_type": "stream",
     "text": [
      "0.929\n",
      "0.071\n"
     ]
    }
   ],
   "source": [
    "print(model.sv.similarity(0,1).round(3))\n",
    "print(model.sv.distance(0,1).round(3))"
   ]
  },
  {
   "cell_type": "markdown",
   "metadata": {},
   "source": [
    "We can further call for the most similar sentences given an index. For example, we want to know the most similar sentences for sentence index 100:"
   ]
  },
  {
   "cell_type": "code",
   "execution_count": 18,
   "metadata": {},
   "outputs": [
    {
     "name": "stdout",
     "output_type": "stream",
     "text": [
      "(['Should', 'I', 'buy', 'tiago?'], 100)\n"
     ]
    }
   ],
   "source": [
    "print(s[100])"
   ]
  },
  {
   "cell_type": "code",
   "execution_count": 19,
   "metadata": {},
   "outputs": [
    {
     "name": "stderr",
     "output_type": "stream",
     "text": [
      "2019-09-09 22:40:28,004 : MainThread : INFO : precomputing L2-norms of sentence vectors\n"
     ]
    },
    {
     "data": {
      "text/plain": [
       "[(3949083, 1.0),\n",
       " (897678, 1.0),\n",
       " (4229890, 1.0),\n",
       " (3949079, 1.0),\n",
       " (3949081, 1.0),\n",
       " (2934317, 1.0),\n",
       " (4093542, 1.0),\n",
       " (3949075, 1.0),\n",
       " (4229889, 1.0),\n",
       " (2934319, 1.0)]"
      ]
     },
     "execution_count": 19,
     "metadata": {},
     "output_type": "execute_result"
    }
   ],
   "source": [
    "model.sv.most_similar(100)\n",
    "# Division by zero can happen if you encounter empy sentences"
   ]
  },
  {
   "cell_type": "markdown",
   "metadata": {},
   "source": [
    "However, the preceding function will only supply the indices of the most similar sentences. You can circumvent this problem by passing an indexable function to the most_similar call:"
   ]
  },
  {
   "cell_type": "code",
   "execution_count": 20,
   "metadata": {},
   "outputs": [
    {
     "data": {
      "text/plain": [
       "[(['Should', 'I', 'buy', 'Asus', 'Zenfone', '5?'], 3949083, 1.0),\n",
       " (['Why', \"doesn't\", 'Google', 'buy', 'Quora?'], 897678, 1.0),\n",
       " (['Should', 'Google', 'buy', 'Quora?'], 4229890, 1.0),\n",
       " (['Should', 'I', 'buy', 'Asus', 'Zenfone', '5?'], 3949079, 1.0),\n",
       " (['Should', 'I', 'buy', 'Asus', 'Zenfone', '5?'], 3949081, 1.0),\n",
       " (['Why', \"didn't\", 'Facebook', 'buy', 'Twitter?'], 2934317, 1.0),\n",
       " (['Should', 'I', 'buy', 'Xiaomi', 'Redmi', 'Note', '3?', 'Why?'],\n",
       "  4093542,\n",
       "  1.0),\n",
       " (['Should', 'I', 'buy', 'Asus', 'Zenfone', '5?'], 3949075, 1.0),\n",
       " (['Will', 'Google', 'buy', 'Quora?'], 4229889, 1.0),\n",
       " (['Why', \"didn't\", 'Facebook', 'buy', 'Twitter?'], 2934319, 1.0)]"
      ]
     },
     "execution_count": 20,
     "metadata": {},
     "output_type": "execute_result"
    }
   ],
   "source": [
    "model.sv.most_similar(100, indexable=sentences)"
   ]
  },
  {
   "cell_type": "markdown",
   "metadata": {},
   "source": [
    "There we go. This is a lot more understandable than the initial list of indices."
   ]
  },
  {
   "cell_type": "markdown",
   "metadata": {},
   "source": [
    "To search for sentences, which are similar to a given word vector, you can call:"
   ]
  },
  {
   "cell_type": "code",
   "execution_count": 21,
   "metadata": {},
   "outputs": [
    {
     "data": {
      "text/plain": [
       "[(['How', 'do', 'I', 'make', 'easy', 'money?'], 6383261, 0.5409939289093018),\n",
       " (['How', 'do', 'I', 'make', 'easy', 'money?'], 842112, 0.5409939289093018),\n",
       " (['How', 'do', 'I', 'make', 'easy', 'money?'], 6383255, 0.5409939289093018),\n",
       " (['How', 'do', 'I', 'make', 'easy', 'money?'], 6383257, 0.5409939289093018),\n",
       " (['How', 'do', 'I', 'make', 'easy', 'money?'], 6383259, 0.5409939289093018),\n",
       " (['How', 'do', 'I', 'make', 'easy', 'money?'], 4405391, 0.5409939289093018),\n",
       " (['How', 'do', 'I', 'make', 'easy', 'money?'], 6383263, 0.5409939289093018),\n",
       " (['How', 'do', 'I', 'make', 'easy', 'money?'], 842116, 0.5409939289093018),\n",
       " (['How', 'do', 'I', 'make', 'easy', 'money?'], 842114, 0.5409939289093018),\n",
       " (['How', 'do', 'I', 'make', 'easy', 'money?'], 6383251, 0.5409939289093018)]"
      ]
     },
     "execution_count": 21,
     "metadata": {},
     "output_type": "execute_result"
    }
   ],
   "source": [
    "model.sv.similar_by_word(\"easy\", wv=glove, indexable=sentences)"
   ]
  },
  {
   "cell_type": "markdown",
   "metadata": {},
   "source": [
    "Furthermore, you can query for unknown (or new) sentences by calling:"
   ]
  },
  {
   "cell_type": "code",
   "execution_count": 22,
   "metadata": {},
   "outputs": [
    {
     "name": "stderr",
     "output_type": "stream",
     "text": [
      "2019-09-09 22:40:49,606 : MainThread : INFO : scanning all indexed sentences and their word counts\n",
      "2019-09-09 22:40:49,608 : MainThread : INFO : finished scanning 1 sentences with an average length of 6 and 6 total words\n",
      "2019-09-09 22:40:49,622 : MainThread : INFO : removing 1 principal components took 0s\n"
     ]
    },
    {
     "data": {
      "text/plain": [
       "[(['Is',\n",
       "   'it',\n",
       "   'easy',\n",
       "   'to',\n",
       "   'learn',\n",
       "   'Hebrew',\n",
       "   'if',\n",
       "   'you',\n",
       "   'learn',\n",
       "   'Arabic?'],\n",
       "  4666689,\n",
       "  0.9029382467269897),\n",
       " (['Is',\n",
       "   'it',\n",
       "   'easy',\n",
       "   'to',\n",
       "   'learn',\n",
       "   'Arabic',\n",
       "   'if',\n",
       "   'you',\n",
       "   'learn',\n",
       "   'Hebrew',\n",
       "   'first?'],\n",
       "  4666700,\n",
       "  0.9029382467269897),\n",
       " (['Is',\n",
       "   'it',\n",
       "   'easy',\n",
       "   'to',\n",
       "   'learn',\n",
       "   'Arabic',\n",
       "   'if',\n",
       "   'you',\n",
       "   'learn',\n",
       "   'Hebrew',\n",
       "   'first?'],\n",
       "  4666698,\n",
       "  0.9029382467269897),\n",
       " (['Is',\n",
       "   'it',\n",
       "   'easy',\n",
       "   'to',\n",
       "   'learn',\n",
       "   'Arabic',\n",
       "   'if',\n",
       "   'you',\n",
       "   'learn',\n",
       "   'Hebrew',\n",
       "   'first?'],\n",
       "  4666690,\n",
       "  0.9029382467269897),\n",
       " (['Is',\n",
       "   'it',\n",
       "   'easy',\n",
       "   'to',\n",
       "   'learn',\n",
       "   'Hebrew',\n",
       "   'if',\n",
       "   'you',\n",
       "   'learn',\n",
       "   'Arabic?'],\n",
       "  4666691,\n",
       "  0.9029382467269897),\n",
       " (['Is',\n",
       "   'it',\n",
       "   'easy',\n",
       "   'to',\n",
       "   'learn',\n",
       "   'Hebrew',\n",
       "   'if',\n",
       "   'you',\n",
       "   'learn',\n",
       "   'Arabic?'],\n",
       "  4666699,\n",
       "  0.9029382467269897),\n",
       " (['Is',\n",
       "   'it',\n",
       "   'easy',\n",
       "   'to',\n",
       "   'learn',\n",
       "   'Arabic',\n",
       "   'if',\n",
       "   'you',\n",
       "   'learn',\n",
       "   'Hebrew',\n",
       "   'first?'],\n",
       "  4666692,\n",
       "  0.9029382467269897),\n",
       " (['Is',\n",
       "   'it',\n",
       "   'easy',\n",
       "   'to',\n",
       "   'learn',\n",
       "   'Hebrew',\n",
       "   'if',\n",
       "   'you',\n",
       "   'learn',\n",
       "   'Arabic?'],\n",
       "  4666693,\n",
       "  0.9029382467269897),\n",
       " (['Is',\n",
       "   'it',\n",
       "   'easy',\n",
       "   'to',\n",
       "   'learn',\n",
       "   'Arabic',\n",
       "   'if',\n",
       "   'you',\n",
       "   'learn',\n",
       "   'Hebrew',\n",
       "   'first?'],\n",
       "  4666694,\n",
       "  0.9029382467269897),\n",
       " (['Is',\n",
       "   'it',\n",
       "   'easy',\n",
       "   'to',\n",
       "   'learn',\n",
       "   'Hebrew',\n",
       "   'if',\n",
       "   'you',\n",
       "   'learn',\n",
       "   'Arabic?'],\n",
       "  4666695,\n",
       "  0.9029382467269897)]"
      ]
     },
     "execution_count": 22,
     "metadata": {},
     "output_type": "execute_result"
    }
   ],
   "source": [
    "model.sv.similar_by_sentence(\"Is this really easy to learn\".split(), model=model, indexable=sentences)"
   ]
  },
  {
   "cell_type": "markdown",
   "metadata": {},
   "source": [
    "Feel free to browse through the library and get to know the functions a little better!"
   ]
  },
  {
   "cell_type": "code",
   "execution_count": null,
   "metadata": {},
   "outputs": [],
   "source": []
  }
 ],
 "metadata": {
  "kernelspec": {
   "display_name": "Python 3",
   "language": "python",
   "name": "python3"
  },
  "language_info": {
   "codemirror_mode": {
    "name": "ipython",
    "version": 3
   },
   "file_extension": ".py",
   "mimetype": "text/x-python",
   "name": "python",
   "nbconvert_exporter": "python",
   "pygments_lexer": "ipython3",
   "version": "3.7.3"
  }
 },
 "nbformat": 4,
 "nbformat_minor": 2
}
