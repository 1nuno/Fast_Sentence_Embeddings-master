{
 "cells": [
  {
   "cell_type": "markdown",
   "metadata": {},
   "source": [
    "# fse - Tutorial"
   ]
  },
  {
   "cell_type": "markdown",
   "metadata": {},
   "source": [
    "Welcome to fse - fast sentence embeddings. The library is intended to compute sentence embeddings as fast as possible. \n",
    "It offers a simple and easy to understand syntax for you to use in your own projects. Before we start with any model, lets have a look at the input types.\n",
    "All fse models require an iterable/generator which produces a tuple. The tuple has two fields: words and index. The index is required for the multi-thread processing, as sentences might not be processed sequentially. The index dictates, which row of the corresponding sentence vector matrix the sentence belongs to."
   ]
  },
  {
   "cell_type": "markdown",
   "metadata": {},
   "source": [
    "## Input handling"
   ]
  },
  {
   "cell_type": "code",
   "execution_count": null,
   "metadata": {},
   "outputs": [],
   "source": [
    "import logging\n",
    "logging.basicConfig(format='%(asctime)s : %(threadName)s : %(levelname)s : %(message)s', level=logging.INFO)"
   ]
  },
  {
   "cell_type": "code",
   "execution_count": null,
   "metadata": {},
   "outputs": [],
   "source": [
    "s = ([\"Hello\", \"world\"], 0)\n",
    "print(s[0])\n",
    "print(s[1])"
   ]
  },
  {
   "cell_type": "markdown",
   "metadata": {},
   "source": [
    "The words of the tuple will always consist of a list of strings. Otherwise the train method will raise an Error. However, most input data is available as a list of strings."
   ]
  },
  {
   "cell_type": "markdown",
   "metadata": {},
   "source": [
    "In order to deal with this common input format, fse provides the IndexedList and some variants, which handel all required data operations for you. You can provide multiple lists (or sets) which will all be merged into a single list. This eases work if you have to work with the STS datasets.\n",
    "\n",
    "The multiple types of indexed lists. Let's go through them one by one:\n",
    "- IndexedList: for already pre-splitted sentences\n",
    "- **C**IndexedList: for already pre-splitted sentences with a custom index for each sentence\n",
    "- SplitIndexedList: for sentences which have not been splitted. Will split the strings\n",
    "- Split**C**IndexedList: for sentences which have not been splitted and with a custom index for each sentence\n",
    "- **C**SplitIndexedList: for sentences which have not been splitted. Will split the strings. You can provide a custom split function\n",
    "- **C**Split*C*IndexedList: for sentences where you want to provide a custom index and a custom split function.\n",
    "\n",
    "*Note*: These are ordered by speed. Meaning, that IndexedList is the fastest, while **C**Split*C*IndexedList is the slowest variant."
   ]
  },
  {
   "cell_type": "code",
   "execution_count": 3,
   "metadata": {},
   "outputs": [
    {
     "name": "stdout",
     "output_type": "stream",
     "text": [
      "4\n"
     ]
    },
    {
     "data": {
      "text/plain": [
       "(['Hello', 'there'], 0)"
      ]
     },
     "execution_count": 3,
     "metadata": {},
     "output_type": "execute_result"
    }
   ],
   "source": [
    "from fse import SplitIndexedList\n",
    "\n",
    "sentences_a = [\"Hello there\", \"how are you?\"]\n",
    "sentences_b = [\"today is a good day\", \"Lorem ipsum\"]\n",
    "\n",
    "s = SplitIndexedList(sentences_a, sentences_b)\n",
    "print(len(s))\n",
    "s[0]"
   ]
  },
  {
   "cell_type": "markdown",
   "metadata": {},
   "source": [
    "To save memory, we do not convert the original lists inplace. The conversion will only take place once you call the getitem method. To access the original data, call:"
   ]
  },
  {
   "cell_type": "code",
   "execution_count": 4,
   "metadata": {},
   "outputs": [
    {
     "data": {
      "text/plain": [
       "['Hello there', 'how are you?', 'today is a good day', 'Lorem ipsum']"
      ]
     },
     "execution_count": 4,
     "metadata": {},
     "output_type": "execute_result"
    }
   ],
   "source": [
    "s.items"
   ]
  },
  {
   "cell_type": "markdown",
   "metadata": {},
   "source": [
    "If the data is already preprocessed as a list of lists you can just use the IndexedList"
   ]
  },
  {
   "cell_type": "code",
   "execution_count": 5,
   "metadata": {},
   "outputs": [
    {
     "name": "stdout",
     "output_type": "stream",
     "text": [
      "2\n"
     ]
    },
    {
     "data": {
      "text/plain": [
       "(['Hello', 'there'], 0)"
      ]
     },
     "execution_count": 5,
     "metadata": {},
     "output_type": "execute_result"
    }
   ],
   "source": [
    "from fse import IndexedList\n",
    "\n",
    "sentences_splitted = [\"Hello there\".split(), \"how are you?\".split()]\n",
    "s = IndexedList(sentences_splitted)\n",
    "print(len(s))\n",
    "s[0]"
   ]
  },
  {
   "cell_type": "markdown",
   "metadata": {},
   "source": [
    "In case you want to provide your own splitting function, you can pass a callable to the **C**SplitIndexedList class."
   ]
  },
  {
   "cell_type": "code",
   "execution_count": 6,
   "metadata": {},
   "outputs": [
    {
     "name": "stdout",
     "output_type": "stream",
     "text": [
      "2\n"
     ]
    },
    {
     "data": {
      "text/plain": [
       "(['hello', 'there'], 0)"
      ]
     },
     "execution_count": 6,
     "metadata": {},
     "output_type": "execute_result"
    }
   ],
   "source": [
    "from fse import CSplitIndexedList\n",
    "\n",
    "def split_func(string):\n",
    "    return string.lower().split()\n",
    "\n",
    "s = CSplitIndexedList(sentences_a, custom_split=split_func)\n",
    "print(len(s))\n",
    "s[0]"
   ]
  },
  {
   "cell_type": "markdown",
   "metadata": {},
   "source": [
    "If you want to stream a file from disk (where each line corresponds to a sentence) you can use the IndexedLineDocument."
   ]
  },
  {
   "cell_type": "code",
   "execution_count": 7,
   "metadata": {},
   "outputs": [],
   "source": [
    "from fse import IndexedLineDocument\n",
    "doc = IndexedLineDocument(\"../test/test_data/test_sentences.txt\")"
   ]
  },
  {
   "cell_type": "code",
   "execution_count": 8,
   "metadata": {},
   "outputs": [
    {
     "name": "stdout",
     "output_type": "stream",
     "text": [
      "0\t['Good', 'stuff', 'i', 'just', 'wish', 'it', 'lasted', 'longer']\n",
      "1\t['Hp', 'makes', 'qualilty', 'stuff']\n",
      "2\t['I', 'like', 'it']\n",
      "3\t['Try', 'it', 'you', 'will', 'like', 'it']\n"
     ]
    }
   ],
   "source": [
    "i = 0\n",
    "for s in doc:\n",
    "    print(f\"{s[1]}\\t{s[0]}\")\n",
    "    i += 1\n",
    "    if i == 4:\n",
    "        break"
   ]
  },
  {
   "cell_type": "markdown",
   "metadata": {},
   "source": [
    "If you are later working with the similarity of sentences, the IndexedLineDocument provides you the option to access each line by its corresponding index. This helps you in determining the similarity of sentences, as the most_similar method would otherwise just return indices."
   ]
  },
  {
   "cell_type": "code",
   "execution_count": 9,
   "metadata": {},
   "outputs": [
    {
     "data": {
      "text/plain": [
       "'I feel like i just got screwed'"
      ]
     },
     "execution_count": 9,
     "metadata": {},
     "output_type": "execute_result"
    }
   ],
   "source": [
    "doc[20]"
   ]
  },
  {
   "cell_type": "markdown",
   "metadata": {},
   "source": [
    "# Training a model / Performing inference"
   ]
  },
  {
   "cell_type": "markdown",
   "metadata": {},
   "source": [
    "Training a fse model is simple. You only need a pre-trained word embedding model which you use during the initializiation of the fse model you want to use."
   ]
  },
  {
   "cell_type": "code",
   "execution_count": 10,
   "metadata": {},
   "outputs": [
    {
     "name": "stderr",
     "output_type": "stream",
     "text": [
      "2021-12-02 20:28:02,197 : MainThread : INFO : loading Vectors object from /home/oborchers/.cache/huggingface/hub/fse__glove-wiki-gigaword-100.3282d5e7c5e979c2411ba9703d63a46243a2047e/glove-wiki-gigaword-100.model\n",
      "2021-12-02 20:28:03,181 : MainThread : INFO : loading vectors from /home/oborchers/.cache/huggingface/hub/fse__glove-wiki-gigaword-100.3282d5e7c5e979c2411ba9703d63a46243a2047e/glove-wiki-gigaword-100.model.vectors.npy with mmap=None\n",
      "2021-12-02 20:28:03,249 : MainThread : INFO : setting ignored attribute vectors_norm to None\n",
      "2021-12-02 20:28:03,250 : MainThread : INFO : loaded /home/oborchers/.cache/huggingface/hub/fse__glove-wiki-gigaword-100.3282d5e7c5e979c2411ba9703d63a46243a2047e/glove-wiki-gigaword-100.model\n"
     ]
    }
   ],
   "source": [
    "from fse import Vectors\n",
    "import gensim.downloader as api\n",
    "data = api.load(\"quora-duplicate-questions\")\n",
    "glove = Vectors.from_pretrained(\"glove-wiki-gigaword-100\")"
   ]
  },
  {
   "cell_type": "code",
   "execution_count": 11,
   "metadata": {},
   "outputs": [
    {
     "name": "stdout",
     "output_type": "stream",
     "text": [
      "6468640\n"
     ]
    }
   ],
   "source": [
    "sentences = []\n",
    "for d in data:\n",
    "    # Let's blow up the data a bit by replicating each sentence.\n",
    "    for i in range(8):\n",
    "        sentences.append(d[\"question1\"].split())\n",
    "        sentences.append(d[\"question2\"].split())\n",
    "s = IndexedList(sentences)\n",
    "print(len(s))"
   ]
  },
  {
   "cell_type": "markdown",
   "metadata": {},
   "source": [
    "So we have about 6468640 sentences we want to compute the embeddings for. If you import the FAST_VERSION variable as follows you can ensure, that the compiliation of the cython routines worked correctly:"
   ]
  },
  {
   "cell_type": "code",
   "execution_count": 12,
   "metadata": {},
   "outputs": [
    {
     "name": "stdout",
     "output_type": "stream",
     "text": [
      "10000\n",
      "1\n"
     ]
    }
   ],
   "source": [
    "from fse.models.average import FAST_VERSION, MAX_WORDS_IN_BATCH\n",
    "print(MAX_WORDS_IN_BATCH)\n",
    "print(FAST_VERSION)\n",
    "# 1 -> The fast version works"
   ]
  },
  {
   "cell_type": "code",
   "execution_count": 23,
   "metadata": {},
   "outputs": [
    {
     "name": "stderr",
     "output_type": "stream",
     "text": [
      "2021-12-02 20:29:33,501 : MainThread : INFO : no frequency mode: using wordfreq for estimation of frequency for language: en\n"
     ]
    }
   ],
   "source": [
    "from fse.models import uSIF\n",
    "model = uSIF(glove, workers=1, lang_freq=\"en\")"
   ]
  },
  {
   "cell_type": "code",
   "execution_count": 24,
   "metadata": {},
   "outputs": [
    {
     "name": "stderr",
     "output_type": "stream",
     "text": [
      "2021-12-02 20:29:33,926 : MainThread : INFO : scanning all indexed sentences and their word counts\n",
      "2021-12-02 20:29:38,928 : MainThread : INFO : SCANNING : finished 3898235 sentences with 43084793 words\n",
      "2021-12-02 20:29:42,336 : MainThread : WARNING : found 16 empty sentences\n",
      "2021-12-02 20:29:42,337 : MainThread : INFO : finished scanning 6468640 sentences with an average length of 11 and 71556728 total words\n",
      "2021-12-02 20:29:42,467 : MainThread : INFO : estimated memory for 6468640 sentences with 100 dimensions and 400000 vocabulary: 2621 MB (2 GB)\n",
      "2021-12-02 20:29:42,468 : MainThread : INFO : initializing sentence vectors for 6468640 sentences\n",
      "2021-12-02 20:30:01,833 : MainThread : INFO : pre-computing uSIF weights for 400000 words\n",
      "2021-12-02 20:30:02,752 : MainThread : INFO : begin training\n",
      "2021-12-02 20:30:07,761 : MainThread : INFO : PROGRESS : finished 25.71% with 1663049 sentences and 12641690 words, 332609 sentences/s\n",
      "2021-12-02 20:30:12,763 : MainThread : INFO : PROGRESS : finished 49.99% with 3233385 sentences and 24604424 words, 314067 sentences/s\n",
      "2021-12-02 20:30:17,765 : MainThread : INFO : PROGRESS : finished 74.09% with 4792913 sentences and 36482181 words, 311905 sentences/s\n",
      "2021-12-02 20:30:22,767 : MainThread : INFO : PROGRESS : finished 98.63% with 6380016 sentences and 48580744 words, 317420 sentences/s\n",
      "2021-12-02 20:30:23,043 : MainThread : INFO : worker thread finished; awaiting finish of 0 more threads\n",
      "2021-12-02 20:30:23,044 : MainThread : INFO : sampling 2684354 vectors to compute principal components\n",
      "2021-12-02 20:30:28,301 : MainThread : INFO : computing 5 principal components took 5s\n",
      "2021-12-02 20:30:30,143 : MainThread : INFO : removing 5 principal components took 1s\n",
      "2021-12-02 20:30:30,144 : MainThread : INFO : training on 6468624 effective sentences with 49255184 effective words took 20s with 318779 sentences/s\n"
     ]
    },
    {
     "data": {
      "text/plain": [
       "(6468624, 49255184)"
      ]
     },
     "execution_count": 24,
     "metadata": {},
     "output_type": "execute_result"
    }
   ],
   "source": [
    "model.train(s)"
   ]
  },
  {
   "cell_type": "markdown",
   "metadata": {},
   "source": [
    "The models training speed revolves at around 300,000 - 500,000 sentences / seconds. That means we finish the task in about 10 seconds. This is **heavily dependent** on the input processing. If you train ram-to-ram it is naturally faster than any ram-to-disk or disk-to-disk varianty. Similarly, the speed depends on the workers."
   ]
  },
  {
   "cell_type": "markdown",
   "metadata": {},
   "source": [
    "Once the sif model is trained, you can perform additional inferences for unknown sentences. This two step process for new data is required, as computing the principal components for models like SIF and uSIF will require a fair amount of sentences. If you want the vector for a single sentence (which is out of the training vocab), just use:"
   ]
  },
  {
   "cell_type": "code",
   "execution_count": 15,
   "metadata": {},
   "outputs": [
    {
     "name": "stderr",
     "output_type": "stream",
     "text": [
      "2021-12-02 20:29:27,731 : MainThread : INFO : scanning all indexed sentences and their word counts\n",
      "2021-12-02 20:29:27,732 : MainThread : INFO : finished scanning 1 sentences with an average length of 3 and 3 total words\n",
      "2021-12-02 20:29:27,733 : MainThread : INFO : removing 5 principal components took 0s\n"
     ]
    },
    {
     "data": {
      "text/plain": [
       "array([[ 2.52946198e-01, -2.80404240e-02,  2.69833803e-02,\n",
       "        -2.78671950e-01, -7.44080096e-02,  4.57280308e-01,\n",
       "        -1.05054319e-01,  2.72667259e-02, -6.48381487e-02,\n",
       "        -3.40230405e-01, -2.04274803e-03, -7.25736842e-02,\n",
       "         1.93554670e-01,  1.53935701e-01, -1.17377929e-01,\n",
       "        -2.86470026e-01,  9.35275406e-02, -1.55883789e-01,\n",
       "        -3.67838562e-01,  3.55114430e-01, -1.01716474e-01,\n",
       "         2.67178684e-01, -3.58482040e-02, -1.73439160e-01,\n",
       "         1.11153685e-01,  9.17388499e-02, -2.18827292e-01,\n",
       "        -5.82419336e-02,  4.64093864e-01,  1.16017178e-01,\n",
       "         2.43311703e-01,  2.93871671e-01,  3.83903325e-01,\n",
       "         1.23666152e-01,  1.68591365e-03,  2.47326195e-01,\n",
       "         1.76458687e-01,  6.19876608e-02,  2.72473156e-01,\n",
       "        -1.29384965e-01, -1.28560305e-01,  1.32312194e-01,\n",
       "         2.21162975e-01, -1.13845311e-01, -1.39296561e-01,\n",
       "        -1.14041977e-01, -4.00316596e-01,  3.18139911e-01,\n",
       "         3.94160390e-01, -1.03439599e-01, -1.09797075e-01,\n",
       "        -2.17508301e-01,  8.62751678e-02,  1.37668043e-01,\n",
       "         9.09228399e-02, -4.50117111e-01,  2.61651352e-04,\n",
       "         2.41029952e-02, -9.62151289e-02,  1.86967283e-01,\n",
       "         5.71158007e-02,  6.35597467e-01,  3.55606563e-02,\n",
       "        -1.72205180e-01,  5.56394160e-02, -8.17311108e-02,\n",
       "         2.58098125e-01,  2.58260906e-01,  2.35461563e-01,\n",
       "        -1.40228420e-02, -1.79286793e-01,  1.29779249e-01,\n",
       "         4.51383963e-02, -4.99045491e-01, -2.24621549e-01,\n",
       "         4.01714832e-01,  3.15032780e-01, -2.19353005e-01,\n",
       "        -4.74357456e-02,  8.13784525e-02, -4.94770855e-02,\n",
       "         4.28712875e-01,  3.55663359e-01, -2.26212099e-01,\n",
       "        -5.20673275e-01, -1.03911251e-01, -3.50226879e-01,\n",
       "         1.44183502e-01, -2.71161199e-01, -2.69273341e-01,\n",
       "        -7.84424692e-02,  6.86244369e-02,  5.69853187e-01,\n",
       "        -2.65402459e-02, -4.07446802e-01, -1.45264074e-01,\n",
       "        -2.33762369e-01,  1.61456198e-01, -7.20783919e-02,\n",
       "         2.83768862e-01]], dtype=float32)"
      ]
     },
     "execution_count": 15,
     "metadata": {},
     "output_type": "execute_result"
    }
   ],
   "source": [
    "tmp = (\"Hello my friends\".split(), 0)\n",
    "model.infer([tmp])"
   ]
  },
  {
   "cell_type": "markdown",
   "metadata": {},
   "source": [
    "## Querying the model"
   ]
  },
  {
   "cell_type": "markdown",
   "metadata": {},
   "source": [
    "In order to query the model or perform similarity computations we can just access the model.sv (sentence vectors) object and use its method. To get a vector for an index, just call"
   ]
  },
  {
   "cell_type": "code",
   "execution_count": 16,
   "metadata": {},
   "outputs": [
    {
     "data": {
      "text/plain": [
       "array([ 0.06334692, -0.00278309,  0.02876258,  0.2938737 ,  0.16536492,\n",
       "       -0.32892653, -0.24968779, -0.11547095, -0.00762739, -0.09775834,\n",
       "       -0.02934675,  0.11205705, -0.06664   , -0.26486415, -0.1903032 ,\n",
       "       -0.05020472, -0.00186126,  0.06867541,  0.02295774,  0.15203542,\n",
       "        0.09067672,  0.04975739, -0.23175132,  0.14476334, -0.14295411,\n",
       "        0.02923434,  0.04803507,  0.06715866, -0.07600797,  0.01031642,\n",
       "       -0.2484782 ,  0.22390996, -0.09542373, -0.09283138,  0.13540202,\n",
       "        0.15456603,  0.19957334, -0.10639023, -0.09370194, -0.21725996,\n",
       "       -0.0491615 , -0.07300739,  0.03414775, -0.09599279, -0.24818763,\n",
       "        0.1342045 , -0.23917073,  0.05558453, -0.06525436, -0.48910773,\n",
       "       -0.22362332, -0.00779874, -0.03814342,  0.2980885 , -0.17636092,\n",
       "       -0.5499361 , -0.14905512, -0.03137571,  0.67050046, -0.07416987,\n",
       "        0.0496444 , -0.18189807, -0.14830717, -0.00139662,  0.05445424,\n",
       "        0.14017463, -0.19543567,  0.214339  ,  0.12590402, -0.07116839,\n",
       "        0.08139852, -0.06057443, -0.2506972 , -0.30141208, -0.13040717,\n",
       "       -0.16307008, -0.17811869,  0.08592579, -0.10485128, -0.19760096,\n",
       "        0.21615295,  0.23217016, -0.07084101, -0.08753166,  0.00301737,\n",
       "       -0.03807069,  0.05616122, -0.11818701, -0.03473554, -0.1218198 ,\n",
       "       -0.01102988,  0.03009659,  0.02223159, -0.31992042, -0.26482922,\n",
       "        0.10421025,  0.23144925, -0.21129477,  0.1534869 ,  0.2635986 ],\n",
       "      dtype=float32)"
      ]
     },
     "execution_count": 16,
     "metadata": {},
     "output_type": "execute_result"
    }
   ],
   "source": [
    "model.sv[0]"
   ]
  },
  {
   "cell_type": "markdown",
   "metadata": {},
   "source": [
    "To compute the similarity or distance between two sentence from the training set you can call:"
   ]
  },
  {
   "cell_type": "code",
   "execution_count": 17,
   "metadata": {},
   "outputs": [
    {
     "name": "stdout",
     "output_type": "stream",
     "text": [
      "0.965\n",
      "0.035\n"
     ]
    }
   ],
   "source": [
    "print(model.sv.similarity(0,1).round(3))\n",
    "print(model.sv.distance(0,1).round(3))"
   ]
  },
  {
   "cell_type": "markdown",
   "metadata": {},
   "source": [
    "We can further call for the most similar sentences given an index. For example, we want to know the most similar sentences for sentence index 100:"
   ]
  },
  {
   "cell_type": "code",
   "execution_count": 18,
   "metadata": {},
   "outputs": [
    {
     "name": "stdout",
     "output_type": "stream",
     "text": [
      "(['Should', 'I', 'buy', 'tiago?'], 100)\n"
     ]
    }
   ],
   "source": [
    "print(s[100])"
   ]
  },
  {
   "cell_type": "code",
   "execution_count": 19,
   "metadata": {},
   "outputs": [
    {
     "name": "stderr",
     "output_type": "stream",
     "text": [
      "2021-12-02 20:29:27,773 : MainThread : INFO : precomputing L2-norms of sentence vectors\n"
     ]
    },
    {
     "data": {
      "text/plain": [
       "[(2688924, 1.0),\n",
       " (3116047, 1.0),\n",
       " (2688918, 1.0),\n",
       " (2688920, 1.0),\n",
       " (2688922, 1.0),\n",
       " (2688914, 1.0),\n",
       " (2688926, 1.0),\n",
       " (3116041, 1.0),\n",
       " (3116043, 1.0),\n",
       " (1384926, 1.0)]"
      ]
     },
     "execution_count": 19,
     "metadata": {},
     "output_type": "execute_result"
    }
   ],
   "source": [
    "model.sv.most_similar(100)\n",
    "# Division by zero can happen if you encounter empy sentences"
   ]
  },
  {
   "cell_type": "markdown",
   "metadata": {},
   "source": [
    "However, the preceding function will only supply the indices of the most similar sentences. You can circumvent this problem by passing an indexable function to the most_similar call:"
   ]
  },
  {
   "cell_type": "code",
   "execution_count": 20,
   "metadata": {},
   "outputs": [
    {
     "data": {
      "text/plain": [
       "[(['Will', 'Facebook', 'buy', 'Quora?'], 2688924, 1.0),\n",
       " (['Why', \"doesn't\", 'Apple', 'buy', 'Samsung?'], 3116047, 1.0),\n",
       " (['Will', 'Facebook', 'buy', 'Quora?'], 2688918, 1.0),\n",
       " (['Will', 'Facebook', 'buy', 'Quora?'], 2688920, 1.0),\n",
       " (['Will', 'Facebook', 'buy', 'Quora?'], 2688922, 1.0),\n",
       " (['Will', 'Facebook', 'buy', 'Quora?'], 2688914, 1.0),\n",
       " (['Will', 'Facebook', 'buy', 'Quora?'], 2688926, 1.0),\n",
       " (['Why', \"doesn't\", 'Apple', 'buy', 'Samsung?'], 3116041, 1.0),\n",
       " (['Why', \"doesn't\", 'Apple', 'buy', 'Samsung?'], 3116043, 1.0),\n",
       " (['Should', 'I', 'buy', 'CS:GO?'], 1384926, 1.0)]"
      ]
     },
     "execution_count": 20,
     "metadata": {},
     "output_type": "execute_result"
    }
   ],
   "source": [
    "model.sv.most_similar(100, indexable=s.items)"
   ]
  },
  {
   "cell_type": "markdown",
   "metadata": {},
   "source": [
    "There we go. This is a lot more understandable than the initial list of indices."
   ]
  },
  {
   "cell_type": "markdown",
   "metadata": {},
   "source": [
    "To search for sentences, which are similar to a given word vector, you can call:"
   ]
  },
  {
   "cell_type": "code",
   "execution_count": 21,
   "metadata": {},
   "outputs": [
    {
     "data": {
      "text/plain": [
       "[(['Which',\n",
       "   'is',\n",
       "   'more',\n",
       "   'easy',\n",
       "   'to',\n",
       "   'learn?',\n",
       "   'Ruby',\n",
       "   'on',\n",
       "   'Rails',\n",
       "   'or',\n",
       "   'Python/Django?'],\n",
       "  4717071,\n",
       "  0.9476152658462524),\n",
       " (['Which',\n",
       "   'is',\n",
       "   'more',\n",
       "   'easy',\n",
       "   'to',\n",
       "   'learn?',\n",
       "   'Ruby',\n",
       "   'on',\n",
       "   'Rails',\n",
       "   'or',\n",
       "   'Python/Django?'],\n",
       "  4717059,\n",
       "  0.9476152658462524),\n",
       " (['Which',\n",
       "   'is',\n",
       "   'more',\n",
       "   'easy',\n",
       "   'to',\n",
       "   'learn?',\n",
       "   'Ruby',\n",
       "   'on',\n",
       "   'Rails',\n",
       "   'or',\n",
       "   'Python/Django?'],\n",
       "  4717061,\n",
       "  0.9476152658462524),\n",
       " (['Which',\n",
       "   'is',\n",
       "   'more',\n",
       "   'easy',\n",
       "   'to',\n",
       "   'learn?',\n",
       "   'Ruby',\n",
       "   'on',\n",
       "   'Rails',\n",
       "   'or',\n",
       "   'Python/Django?'],\n",
       "  4717063,\n",
       "  0.9476152658462524),\n",
       " (['Which',\n",
       "   'is',\n",
       "   'more',\n",
       "   'easy',\n",
       "   'to',\n",
       "   'learn?',\n",
       "   'Ruby',\n",
       "   'on',\n",
       "   'Rails',\n",
       "   'or',\n",
       "   'Python/Django?'],\n",
       "  4717065,\n",
       "  0.9476152658462524),\n",
       " (['Which',\n",
       "   'is',\n",
       "   'more',\n",
       "   'easy',\n",
       "   'to',\n",
       "   'learn?',\n",
       "   'Ruby',\n",
       "   'on',\n",
       "   'Rails',\n",
       "   'or',\n",
       "   'Python/Django?'],\n",
       "  4717067,\n",
       "  0.9476152658462524),\n",
       " (['Which',\n",
       "   'is',\n",
       "   'more',\n",
       "   'easy',\n",
       "   'to',\n",
       "   'learn?',\n",
       "   'Ruby',\n",
       "   'on',\n",
       "   'Rails',\n",
       "   'or',\n",
       "   'Python/Django?'],\n",
       "  4717069,\n",
       "  0.9476152658462524),\n",
       " (['Which',\n",
       "   'is',\n",
       "   'more',\n",
       "   'easy',\n",
       "   'to',\n",
       "   'learn?',\n",
       "   'Ruby',\n",
       "   'on',\n",
       "   'Rails',\n",
       "   'or',\n",
       "   'Python/Django?'],\n",
       "  4717057,\n",
       "  0.9476152658462524),\n",
       " (['How', 'can', 'I', 'make', 'some', 'easy', 'money?'],\n",
       "  6461300,\n",
       "  0.9442180395126343),\n",
       " (['How', 'can', 'I', 'make', 'some', 'easy', 'money?'],\n",
       "  6461302,\n",
       "  0.9442180395126343)]"
      ]
     },
     "execution_count": 21,
     "metadata": {},
     "output_type": "execute_result"
    }
   ],
   "source": [
    "model.sv.similar_by_word(\"easy\", wv=glove, indexable=s.items)"
   ]
  },
  {
   "cell_type": "markdown",
   "metadata": {},
   "source": [
    "Furthermore, you can query for unknown (or new) sentences by calling:"
   ]
  },
  {
   "cell_type": "code",
   "execution_count": 22,
   "metadata": {},
   "outputs": [
    {
     "name": "stderr",
     "output_type": "stream",
     "text": [
      "2021-12-02 20:29:31,107 : MainThread : INFO : scanning all indexed sentences and their word counts\n",
      "2021-12-02 20:29:31,109 : MainThread : INFO : finished scanning 1 sentences with an average length of 6 and 6 total words\n",
      "2021-12-02 20:29:31,110 : MainThread : INFO : removing 5 principal components took 0s\n"
     ]
    },
    {
     "data": {
      "text/plain": [
       "[(['How', 'do', 'I', 'learn', 'Python', 'in', 'easy', 'way?'],\n",
       "  6255670,\n",
       "  0.9872919321060181),\n",
       " (['How', 'do', 'I', 'learn', 'Python', 'in', 'easy', 'way?'],\n",
       "  6255672,\n",
       "  0.9872919321060181),\n",
       " (['How', 'do', 'I', 'learn', 'Python', 'in', 'easy', 'way?'],\n",
       "  418226,\n",
       "  0.9872919321060181),\n",
       " (['How', 'do', 'I', 'learn', 'Python', 'in', 'easy', 'way?'],\n",
       "  418224,\n",
       "  0.9872919321060181),\n",
       " (['How', 'do', 'I', 'learn', 'Python', 'in', 'easy', 'way?'],\n",
       "  418232,\n",
       "  0.9872919321060181),\n",
       " (['How', 'do', 'I', 'learn', 'Python', 'in', 'easy', 'way?'],\n",
       "  6255678,\n",
       "  0.9872919321060181),\n",
       " (['How', 'do', 'I', 'learn', 'Python', 'in', 'easy', 'way?'],\n",
       "  6255676,\n",
       "  0.9872919321060181),\n",
       " (['How', 'do', 'I', 'learn', 'Python', 'in', 'easy', 'way?'],\n",
       "  6255674,\n",
       "  0.9872919321060181),\n",
       " (['How', 'do', 'I', 'learn', 'Python', 'in', 'easy', 'way?'],\n",
       "  418236,\n",
       "  0.9872919321060181),\n",
       " (['How', 'do', 'I', 'learn', 'Python', 'in', 'easy', 'way?'],\n",
       "  418228,\n",
       "  0.9872919321060181)]"
      ]
     },
     "execution_count": 22,
     "metadata": {},
     "output_type": "execute_result"
    }
   ],
   "source": [
    "model.sv.similar_by_sentence(\"Is this really easy to learn\".split(), model=model, indexable=s.items)"
   ]
  },
  {
   "cell_type": "markdown",
   "metadata": {},
   "source": [
    "Feel free to browse through the library and get to know the functions a little better!"
   ]
  },
  {
   "cell_type": "code",
   "execution_count": null,
   "metadata": {},
   "outputs": [],
   "source": []
  }
 ],
 "metadata": {
  "kernelspec": {
   "display_name": "Python 3",
   "language": "python",
   "name": "python3"
  },
  "language_info": {
   "codemirror_mode": {
    "name": "ipython",
    "version": 3
   },
   "file_extension": ".py",
   "mimetype": "text/x-python",
   "name": "python",
   "nbconvert_exporter": "python",
   "pygments_lexer": "ipython3",
   "version": "3.8.5"
  }
 },
 "nbformat": 4,
 "nbformat_minor": 4
}
