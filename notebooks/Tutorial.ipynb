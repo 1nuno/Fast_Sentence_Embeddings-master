{
 "cells": [
  {
   "cell_type": "markdown",
   "metadata": {},
   "source": [
    "# fse - Tutorial"
   ]
  },
  {
   "cell_type": "markdown",
   "metadata": {},
   "source": [
    "Welcome to fse - fast sentence embeddings. The library is intended to compute sentence embeddings as fast as possible. \n",
    "It offers a simple and easy to understand syntax for you to use in your own projects. Before we start with any model, lets have a look at the input types.\n",
    "All fse models require an iterable/generator which produces a tuple. The tuple has two fields: words and index. The index is required for the multi-thread processing, as sentences might not be processed sequentially. The index dictates, which row of the corresponding sentence vector matrix the sentence belongs to."
   ]
  },
  {
   "cell_type": "markdown",
   "metadata": {},
   "source": [
    "## Input handling"
   ]
  },
  {
   "cell_type": "code",
   "execution_count": 1,
   "metadata": {},
   "outputs": [],
   "source": [
    "import logging\n",
    "logging.basicConfig(format='%(asctime)s : %(threadName)s : %(levelname)s : %(message)s', level=logging.INFO)"
   ]
  },
  {
   "cell_type": "code",
   "execution_count": 2,
   "metadata": {},
   "outputs": [
    {
     "name": "stdout",
     "output_type": "stream",
     "text": [
      "['Hello', 'world']\n",
      "0\n"
     ]
    }
   ],
   "source": [
    "s = ([\"Hello\", \"world\"], 0)\n",
    "print(s[0])\n",
    "print(s[1])"
   ]
  },
  {
   "cell_type": "markdown",
   "metadata": {},
   "source": [
    "The words of the tuple will always consist of a list of strings. Otherwise the train method will raise an Error. However, most input data is available as a list of strings."
   ]
  },
  {
   "cell_type": "markdown",
   "metadata": {},
   "source": [
    "In order to deal with this common input format, fse provides the IndexedList and some variants, which handel all required data operations for you. You can provide multiple lists (or sets) which will all be merged into a single list. This eases work if you have to work with the STS datasets.\n",
    "\n",
    "The multiple types of indexed lists. Let's go through them one by one:\n",
    "- IndexedList: for already pre-splitted sentences\n",
    "- **C**IndexedList: for already pre-splitted sentences with a custom index for each sentence\n",
    "- SplitIndexedList: for sentences which have not been splitted. Will split the strings\n",
    "- Split**C**IndexedList: for sentences which have not been splitted and with a custom index for each sentence\n",
    "- **C**SplitIndexedList: for sentences which have not been splitted. Will split the strings. You can provide a custom split function\n",
    "- **C**Split*C*IndexedList: for sentences where you want to provide a custom index and a custom split function.\n",
    "\n",
    "*Note*: These are ordered by speed. Meaning, that IndexedList is the fastest, while **C**Split*C*IndexedList is the slowest variant."
   ]
  },
  {
   "cell_type": "code",
   "execution_count": 3,
   "metadata": {},
   "outputs": [
    {
     "name": "stdout",
     "output_type": "stream",
     "text": [
      "4\n"
     ]
    },
    {
     "data": {
      "text/plain": [
       "(['Hello', 'there'], 0)"
      ]
     },
     "execution_count": 3,
     "metadata": {},
     "output_type": "execute_result"
    }
   ],
   "source": [
    "from fse import SplitIndexedList\n",
    "\n",
    "sentences_a = [\"Hello there\", \"how are you?\"]\n",
    "sentences_b = [\"today is a good day\", \"Lorem ipsum\"]\n",
    "\n",
    "s = SplitIndexedList(sentences_a, sentences_b)\n",
    "print(len(s))\n",
    "s[0]"
   ]
  },
  {
   "cell_type": "markdown",
   "metadata": {},
   "source": [
    "To save memory, we do not convert the original lists inplace. The conversion will only take place once you call the getitem method. To access the original data, call:"
   ]
  },
  {
   "cell_type": "code",
   "execution_count": 4,
   "metadata": {},
   "outputs": [
    {
     "data": {
      "text/plain": [
       "['Hello there', 'how are you?', 'today is a good day', 'Lorem ipsum']"
      ]
     },
     "execution_count": 4,
     "metadata": {},
     "output_type": "execute_result"
    }
   ],
   "source": [
    "s.items"
   ]
  },
  {
   "cell_type": "markdown",
   "metadata": {},
   "source": [
    "If the data is already preprocessed as a list of lists you can just use the IndexedList"
   ]
  },
  {
   "cell_type": "code",
   "execution_count": 5,
   "metadata": {},
   "outputs": [
    {
     "name": "stdout",
     "output_type": "stream",
     "text": [
      "2\n"
     ]
    },
    {
     "data": {
      "text/plain": [
       "(['Hello', 'there'], 0)"
      ]
     },
     "execution_count": 5,
     "metadata": {},
     "output_type": "execute_result"
    }
   ],
   "source": [
    "from fse import IndexedList\n",
    "\n",
    "sentences_splitted = [\"Hello there\".split(), \"how are you?\".split()]\n",
    "s = IndexedList(sentences_splitted)\n",
    "print(len(s))\n",
    "s[0]"
   ]
  },
  {
   "cell_type": "markdown",
   "metadata": {},
   "source": [
    "In case you want to provide your own splitting function, you can pass a callable to the **C**SplitIndexedList class."
   ]
  },
  {
   "cell_type": "code",
   "execution_count": 6,
   "metadata": {},
   "outputs": [
    {
     "name": "stdout",
     "output_type": "stream",
     "text": [
      "2\n"
     ]
    },
    {
     "data": {
      "text/plain": [
       "(['hello', 'there'], 0)"
      ]
     },
     "execution_count": 6,
     "metadata": {},
     "output_type": "execute_result"
    }
   ],
   "source": [
    "from fse import CSplitIndexedList\n",
    "\n",
    "def split_func(string):\n",
    "    return string.lower().split()\n",
    "\n",
    "s = CSplitIndexedList(sentences_a, custom_split=split_func)\n",
    "print(len(s))\n",
    "s[0]"
   ]
  },
  {
   "cell_type": "markdown",
   "metadata": {},
   "source": [
    "If you want to stream a file from disk (where each line corresponds to a sentence) you can use the IndexedLineDocument."
   ]
  },
  {
   "cell_type": "code",
   "execution_count": 7,
   "metadata": {},
   "outputs": [],
   "source": [
    "from fse import IndexedLineDocument\n",
    "doc = IndexedLineDocument(\"../test/test_data/test_sentences.txt\")"
   ]
  },
  {
   "cell_type": "code",
   "execution_count": 8,
   "metadata": {},
   "outputs": [
    {
     "name": "stdout",
     "output_type": "stream",
     "text": [
      "0\t['Good', 'stuff', 'i', 'just', 'wish', 'it', 'lasted', 'longer']\n",
      "1\t['Hp', 'makes', 'qualilty', 'stuff']\n",
      "2\t['I', 'like', 'it']\n",
      "3\t['Try', 'it', 'you', 'will', 'like', 'it']\n"
     ]
    }
   ],
   "source": [
    "i = 0\n",
    "for s in doc:\n",
    "    print(f\"{s[1]}\\t{s[0]}\")\n",
    "    i += 1\n",
    "    if i == 4:\n",
    "        break"
   ]
  },
  {
   "cell_type": "markdown",
   "metadata": {},
   "source": [
    "If you are later working with the similarity of sentences, the IndexedLineDocument provides you the option to access each line by its corresponding index. This helps you in determining the similarity of sentences, as the most_similar method would otherwise just return indices."
   ]
  },
  {
   "cell_type": "code",
   "execution_count": 9,
   "metadata": {},
   "outputs": [
    {
     "data": {
      "text/plain": [
       "'I feel like i just got screwed'"
      ]
     },
     "execution_count": 9,
     "metadata": {},
     "output_type": "execute_result"
    }
   ],
   "source": [
    "doc[20]"
   ]
  },
  {
   "cell_type": "markdown",
   "metadata": {},
   "source": [
    "# Training a model / Performing inference"
   ]
  },
  {
   "cell_type": "markdown",
   "metadata": {},
   "source": [
    "Training a fse model is simple. You only need a pre-trained word embedding model which you use during the initializiation of the fse model you want to use."
   ]
  },
  {
   "cell_type": "code",
   "execution_count": 10,
   "metadata": {},
   "outputs": [
    {
     "name": "stderr",
     "output_type": "stream",
     "text": [
      "2020-02-10 21:42:23,353 : MainThread : INFO : loading projection weights from /Users/oliverborchers/gensim-data/glove-wiki-gigaword-100/glove-wiki-gigaword-100.gz\n",
      "2020-02-10 21:43:05,757 : MainThread : INFO : loaded (400000, 100) matrix from /Users/oliverborchers/gensim-data/glove-wiki-gigaword-100/glove-wiki-gigaword-100.gz\n"
     ]
    }
   ],
   "source": [
    "import gensim.downloader as api\n",
    "data = api.load(\"quora-duplicate-questions\")\n",
    "glove = api.load(\"glove-wiki-gigaword-100\")"
   ]
  },
  {
   "cell_type": "code",
   "execution_count": 11,
   "metadata": {},
   "outputs": [
    {
     "name": "stderr",
     "output_type": "stream",
     "text": [
      "/Users/oliverborchers/anaconda3/envs/fsedev/lib/python3.7/site-packages/smart_open/smart_open_lib.py:402: UserWarning: This function is deprecated, use smart_open.open instead. See the migration notes for details: https://github.com/RaRe-Technologies/smart_open/blob/master/README.rst#migrating-to-the-new-open-function\n",
      "  'See the migration notes for details: %s' % _MIGRATION_NOTES_URL\n"
     ]
    },
    {
     "name": "stdout",
     "output_type": "stream",
     "text": [
      "6468640\n"
     ]
    }
   ],
   "source": [
    "sentences = []\n",
    "for d in data:\n",
    "    # Let's blow up the data a bit by replicating each sentence.\n",
    "    for i in range(8):\n",
    "        sentences.append(d[\"question1\"].split())\n",
    "        sentences.append(d[\"question2\"].split())\n",
    "s = IndexedList(sentences)\n",
    "print(len(s))"
   ]
  },
  {
   "cell_type": "markdown",
   "metadata": {},
   "source": [
    "So we have about 6468640 sentences we want to compute the embeddings for. If you import the FAST_VERSION variable as follows you can ensure, that the compiliation of the cython routines worked correctly:"
   ]
  },
  {
   "cell_type": "code",
   "execution_count": 12,
   "metadata": {},
   "outputs": [
    {
     "name": "stdout",
     "output_type": "stream",
     "text": [
      "10000\n",
      "1\n"
     ]
    }
   ],
   "source": [
    "from fse.models.average import FAST_VERSION, MAX_WORDS_IN_BATCH\n",
    "print(MAX_WORDS_IN_BATCH)\n",
    "print(FAST_VERSION)\n",
    "# 1 -> The fast version works"
   ]
  },
  {
   "cell_type": "code",
   "execution_count": 13,
   "metadata": {},
   "outputs": [
    {
     "name": "stderr",
     "output_type": "stream",
     "text": [
      "2020-02-10 21:43:26,025 : MainThread : INFO : no frequency mode: using wordfreq for estimation of frequency for language: en\n"
     ]
    }
   ],
   "source": [
    "from fse.models import uSIF\n",
    "model = uSIF(glove, workers=2, lang_freq=\"en\")"
   ]
  },
  {
   "cell_type": "code",
   "execution_count": 14,
   "metadata": {},
   "outputs": [
    {
     "name": "stderr",
     "output_type": "stream",
     "text": [
      "2020-02-10 21:43:26,444 : MainThread : INFO : scanning all indexed sentences and their word counts\n",
      "2020-02-10 21:43:31,445 : MainThread : INFO : SCANNING : finished 4413745 sentences with 48816338 words\n",
      "2020-02-10 21:43:33,734 : MainThread : WARNING : found 16 empty sentences\n",
      "2020-02-10 21:43:33,735 : MainThread : INFO : finished scanning 6468640 sentences with an average length of 11 and 71556728 total words\n",
      "2020-02-10 21:43:33,851 : MainThread : INFO : estimated memory for 6468640 sentences with 100 dimensions and 400000 vocabulary: 2621 MB (2 GB)\n",
      "2020-02-10 21:43:33,852 : MainThread : INFO : initializing sentence vectors for 6468640 sentences\n",
      "2020-02-10 21:43:56,067 : MainThread : INFO : pre-computing uSIF weights for 400000 words\n",
      "2020-02-10 21:43:57,262 : MainThread : INFO : begin training\n",
      "2020-02-10 21:44:02,273 : MainThread : INFO : PROGRESS : finished 37.80% with 2444873 sentences and 18587179 words, 488974 sentences/s\n",
      "2020-02-10 21:44:07,274 : MainThread : INFO : PROGRESS : finished 75.57% with 4888132 sentences and 37203558 words, 488651 sentences/s\n",
      "2020-02-10 21:44:10,545 : MainThread : INFO : worker thread finished; awaiting finish of 1 more threads\n",
      "2020-02-10 21:44:10,546 : MainThread : INFO : worker thread finished; awaiting finish of 0 more threads\n",
      "2020-02-10 21:44:10,547 : MainThread : INFO : sampling 2677165 vectors to compute principal components\n",
      "2020-02-10 21:44:18,377 : MainThread : INFO : computing 5 principal components took 7s\n",
      "2020-02-10 21:44:26,036 : MainThread : INFO : removing 5 principal components took 7s\n",
      "2020-02-10 21:44:26,037 : MainThread : INFO : training on 6468624 effective sentences with 49255184 effective words took 13s with 486929 sentences/s\n"
     ]
    },
    {
     "data": {
      "text/plain": [
       "(6468624, 49255184)"
      ]
     },
     "execution_count": 14,
     "metadata": {},
     "output_type": "execute_result"
    }
   ],
   "source": [
    "model.train(s)"
   ]
  },
  {
   "cell_type": "markdown",
   "metadata": {},
   "source": [
    "The models training speed revolves at around 400,000 - 500,000 sentences / seconds. That means we finish the task in about 10 seconds. This is **heavily dependent** on the input processing. If you train ram-to-ram it is naturally faster than any ram-to-disk or disk-to-disk varianty. Similarly, the speed depends on the workers."
   ]
  },
  {
   "cell_type": "markdown",
   "metadata": {},
   "source": [
    "Once the sif model is trained, you can perform additional inferences for unknown sentences. This two step process for new data is required, as computing the principal components for models like SIF and uSIF will require a fair amount of sentences. If you want the vector for a single sentence (which is out of the training vocab), just use:"
   ]
  },
  {
   "cell_type": "code",
   "execution_count": 15,
   "metadata": {},
   "outputs": [
    {
     "name": "stderr",
     "output_type": "stream",
     "text": [
      "2020-02-10 21:44:26,044 : MainThread : INFO : scanning all indexed sentences and their word counts\n",
      "2020-02-10 21:44:26,045 : MainThread : INFO : finished scanning 1 sentences with an average length of 3 and 3 total words\n",
      "2020-02-10 21:44:26,047 : MainThread : INFO : removing 5 principal components took 0s\n"
     ]
    },
    {
     "data": {
      "text/plain": [
       "array([[ 2.58718699e-01, -2.96060964e-02,  2.75402740e-02,\n",
       "        -2.84367323e-01, -7.66123906e-02,  4.69245732e-01,\n",
       "        -1.08420335e-01,  2.74900701e-02, -6.51940107e-02,\n",
       "        -3.48900437e-01, -3.30639817e-03, -7.38123357e-02,\n",
       "         1.99272603e-01,  1.58340886e-01, -1.19580366e-01,\n",
       "        -2.94115573e-01,  9.44712311e-02, -1.60182863e-01,\n",
       "        -3.77932310e-01,  3.62254620e-01, -1.04730584e-01,\n",
       "         2.72801578e-01, -3.65233980e-02, -1.77455202e-01,\n",
       "         1.13285437e-01,  9.37283933e-02, -2.23851919e-01,\n",
       "        -5.82970530e-02,  4.76750970e-01,  1.19097173e-01,\n",
       "         2.51136065e-01,  2.99976945e-01,  3.93524468e-01,\n",
       "         1.26966879e-01,  1.19876862e-03,  2.52949506e-01,\n",
       "         1.83217332e-01,  6.29579574e-02,  2.79819459e-01,\n",
       "        -1.32508770e-01, -1.32991910e-01,  1.35885537e-01,\n",
       "         2.27139533e-01, -1.15716822e-01, -1.42301470e-01,\n",
       "        -1.17087245e-01, -4.09713805e-01,  3.27361971e-01,\n",
       "         4.02728885e-01, -1.03995442e-01, -1.11777350e-01,\n",
       "        -2.22199619e-01,  8.88717845e-02,  1.40038133e-01,\n",
       "         9.33110416e-02, -4.57023978e-01,  5.33070415e-04,\n",
       "         2.35848241e-02, -1.01058990e-01,  1.92017779e-01,\n",
       "         5.89273870e-02,  6.50007427e-01,  3.70745771e-02,\n",
       "        -1.76800102e-01,  5.68467081e-02, -8.34784359e-02,\n",
       "         2.63056427e-01,  2.63333827e-01,  2.41475731e-01,\n",
       "        -1.44381002e-02, -1.83939964e-01,  1.32494122e-01,\n",
       "         4.73914444e-02, -5.11802197e-01, -2.29695290e-01,\n",
       "         4.10918087e-01,  3.23362201e-01, -2.24917591e-01,\n",
       "        -4.87098396e-02,  8.45644325e-02, -5.20223975e-02,\n",
       "         4.39105839e-01,  3.65090221e-01, -2.31675640e-01,\n",
       "        -5.31933427e-01, -1.05184980e-01, -3.58922482e-01,\n",
       "         1.48164511e-01, -2.76803404e-01, -2.75730073e-01,\n",
       "        -8.09157640e-02,  7.01733604e-02,  5.82995176e-01,\n",
       "        -2.55794972e-02, -4.16485399e-01, -1.49305463e-01,\n",
       "        -2.40142912e-01,  1.64687201e-01, -7.57704377e-02,\n",
       "         2.89778203e-01]], dtype=float32)"
      ]
     },
     "execution_count": 15,
     "metadata": {},
     "output_type": "execute_result"
    }
   ],
   "source": [
    "tmp = (\"Hello my friends\".split(), 0)\n",
    "model.infer([tmp])"
   ]
  },
  {
   "cell_type": "markdown",
   "metadata": {},
   "source": [
    "## Querying the model"
   ]
  },
  {
   "cell_type": "markdown",
   "metadata": {},
   "source": [
    "In order to query the model or perform similarity computations we can just access the model.sv (sentence vectors) object and use its method. To get a vector for an index, just call"
   ]
  },
  {
   "cell_type": "code",
   "execution_count": 16,
   "metadata": {},
   "outputs": [
    {
     "data": {
      "text/plain": [
       "array([ 0.06564295,  0.0012124 ,  0.02864488,  0.29741746,  0.16618916,\n",
       "       -0.33291832, -0.25267577, -0.11754846, -0.00645616, -0.0986203 ,\n",
       "       -0.03115754,  0.11605997, -0.06554113, -0.26570198, -0.19048208,\n",
       "       -0.05398345, -0.00800271,  0.06935053,  0.02384207,  0.15339501,\n",
       "        0.0931268 ,  0.04639681, -0.23096606,  0.1496515 , -0.14506361,\n",
       "        0.02416093,  0.05317958,  0.06964332, -0.07533754,  0.006847  ,\n",
       "       -0.2449986 ,  0.22674319, -0.09827837, -0.09429546,  0.13742915,\n",
       "        0.15489256,  0.20663384, -0.10573711, -0.09373225, -0.21597916,\n",
       "       -0.04622186, -0.07917423,  0.03237222, -0.09423919, -0.24972957,\n",
       "        0.1362891 , -0.24006578,  0.05784579, -0.06796119, -0.49378857,\n",
       "       -0.22550753, -0.00635221, -0.03531939,  0.2966177 , -0.17845063,\n",
       "       -0.5473429 , -0.14862986, -0.03552294,  0.6726266 , -0.07657065,\n",
       "        0.05169982, -0.18650085, -0.1508371 , -0.00102763,  0.05002424,\n",
       "        0.14072034, -0.19600302,  0.21199626,  0.12934232, -0.07024553,\n",
       "        0.07888867, -0.06151189, -0.25036365, -0.30167574, -0.13264754,\n",
       "       -0.16540082, -0.18127926,  0.08294387, -0.10994744, -0.19283013,\n",
       "        0.21519725,  0.23384331, -0.06928872, -0.08626016,  0.00445604,\n",
       "       -0.03812613,  0.05476346, -0.11798044, -0.03109498, -0.11745913,\n",
       "       -0.01188265,  0.03115901,  0.02107314, -0.32339057, -0.26852998,\n",
       "        0.10675619,  0.2325929 , -0.2140762 ,  0.15390754,  0.26329693],\n",
       "      dtype=float32)"
      ]
     },
     "execution_count": 16,
     "metadata": {},
     "output_type": "execute_result"
    }
   ],
   "source": [
    "model.sv[0]"
   ]
  },
  {
   "cell_type": "markdown",
   "metadata": {},
   "source": [
    "To compute the similarity or distance between two sentence from the training set you can call:"
   ]
  },
  {
   "cell_type": "code",
   "execution_count": 17,
   "metadata": {},
   "outputs": [
    {
     "name": "stdout",
     "output_type": "stream",
     "text": [
      "0.965\n",
      "0.035\n"
     ]
    }
   ],
   "source": [
    "print(model.sv.similarity(0,1).round(3))\n",
    "print(model.sv.distance(0,1).round(3))"
   ]
  },
  {
   "cell_type": "markdown",
   "metadata": {},
   "source": [
    "We can further call for the most similar sentences given an index. For example, we want to know the most similar sentences for sentence index 100:"
   ]
  },
  {
   "cell_type": "code",
   "execution_count": 18,
   "metadata": {},
   "outputs": [
    {
     "name": "stdout",
     "output_type": "stream",
     "text": [
      "(['Should', 'I', 'buy', 'tiago?'], 100)\n"
     ]
    }
   ],
   "source": [
    "print(s[100])"
   ]
  },
  {
   "cell_type": "code",
   "execution_count": 19,
   "metadata": {},
   "outputs": [
    {
     "name": "stderr",
     "output_type": "stream",
     "text": [
      "2020-02-10 21:44:26,077 : MainThread : INFO : precomputing L2-norms of sentence vectors\n"
     ]
    },
    {
     "data": {
      "text/plain": [
       "[(3727921, 1.0),\n",
       " (1807119, 1.0),\n",
       " (3727935, 1.0),\n",
       " (3727933, 1.0),\n",
       " (3727931, 1.0),\n",
       " (3727929, 1.0),\n",
       " (3727927, 1.0),\n",
       " (3727925, 1.0),\n",
       " (3727923, 1.0),\n",
       " (599388, 1.0)]"
      ]
     },
     "execution_count": 19,
     "metadata": {},
     "output_type": "execute_result"
    }
   ],
   "source": [
    "model.sv.most_similar(100)\n",
    "# Division by zero can happen if you encounter empy sentences"
   ]
  },
  {
   "cell_type": "markdown",
   "metadata": {},
   "source": [
    "However, the preceding function will only supply the indices of the most similar sentences. You can circumvent this problem by passing an indexable function to the most_similar call:"
   ]
  },
  {
   "cell_type": "code",
   "execution_count": 20,
   "metadata": {},
   "outputs": [
    {
     "data": {
      "text/plain": [
       "[(['Should', 'I', 'buy', 'KTM', 'Duke', '200?'], 3727921, 1.0),\n",
       " (['Should', 'I', 'buy', 'Xiaomi', 'Redmi', 'Note', '3?', 'Why?'],\n",
       "  1807119,\n",
       "  1.0),\n",
       " (['Should', 'I', 'buy', 'KTM', 'Duke', '200?'], 3727935, 1.0),\n",
       " (['Should', 'I', 'buy', 'KTM', 'Duke', '200?'], 3727933, 1.0),\n",
       " (['Should', 'I', 'buy', 'KTM', 'Duke', '200?'], 3727931, 1.0),\n",
       " (['Should', 'I', 'buy', 'KTM', 'Duke', '200?'], 3727929, 1.0),\n",
       " (['Should', 'I', 'buy', 'KTM', 'Duke', '200?'], 3727927, 1.0),\n",
       " (['Should', 'I', 'buy', 'KTM', 'Duke', '200?'], 3727925, 1.0),\n",
       " (['Should', 'I', 'buy', 'KTM', 'Duke', '200?'], 3727923, 1.0),\n",
       " (['Should', 'I', 'buy', 'bitcoin?'], 599388, 1.0)]"
      ]
     },
     "execution_count": 20,
     "metadata": {},
     "output_type": "execute_result"
    }
   ],
   "source": [
    "model.sv.most_similar(100, indexable=s.items)"
   ]
  },
  {
   "cell_type": "markdown",
   "metadata": {},
   "source": [
    "There we go. This is a lot more understandable than the initial list of indices."
   ]
  },
  {
   "cell_type": "markdown",
   "metadata": {},
   "source": [
    "To search for sentences, which are similar to a given word vector, you can call:"
   ]
  },
  {
   "cell_type": "code",
   "execution_count": 21,
   "metadata": {},
   "outputs": [
    {
     "data": {
      "text/plain": [
       "[(['Which',\n",
       "   'is',\n",
       "   'more',\n",
       "   'easy',\n",
       "   'to',\n",
       "   'learn?',\n",
       "   'Ruby',\n",
       "   'on',\n",
       "   'Rails',\n",
       "   'or',\n",
       "   'Python/Django?'],\n",
       "  4717071,\n",
       "  0.9463648796081543),\n",
       " (['Which',\n",
       "   'is',\n",
       "   'more',\n",
       "   'easy',\n",
       "   'to',\n",
       "   'learn?',\n",
       "   'Ruby',\n",
       "   'on',\n",
       "   'Rails',\n",
       "   'or',\n",
       "   'Python/Django?'],\n",
       "  4717059,\n",
       "  0.9463648796081543),\n",
       " (['Which',\n",
       "   'is',\n",
       "   'more',\n",
       "   'easy',\n",
       "   'to',\n",
       "   'learn?',\n",
       "   'Ruby',\n",
       "   'on',\n",
       "   'Rails',\n",
       "   'or',\n",
       "   'Python/Django?'],\n",
       "  4717063,\n",
       "  0.9463648796081543),\n",
       " (['Which',\n",
       "   'is',\n",
       "   'more',\n",
       "   'easy',\n",
       "   'to',\n",
       "   'learn?',\n",
       "   'Ruby',\n",
       "   'on',\n",
       "   'Rails',\n",
       "   'or',\n",
       "   'Python/Django?'],\n",
       "  4717067,\n",
       "  0.9463648796081543),\n",
       " (['Which',\n",
       "   'is',\n",
       "   'more',\n",
       "   'easy',\n",
       "   'to',\n",
       "   'learn?',\n",
       "   'Ruby',\n",
       "   'on',\n",
       "   'Rails',\n",
       "   'or',\n",
       "   'Python/Django?'],\n",
       "  4717061,\n",
       "  0.9463648796081543),\n",
       " (['Which',\n",
       "   'is',\n",
       "   'more',\n",
       "   'easy',\n",
       "   'to',\n",
       "   'learn?',\n",
       "   'Ruby',\n",
       "   'on',\n",
       "   'Rails',\n",
       "   'or',\n",
       "   'Python/Django?'],\n",
       "  4717065,\n",
       "  0.9463648796081543),\n",
       " (['Which',\n",
       "   'is',\n",
       "   'more',\n",
       "   'easy',\n",
       "   'to',\n",
       "   'learn?',\n",
       "   'Ruby',\n",
       "   'on',\n",
       "   'Rails',\n",
       "   'or',\n",
       "   'Python/Django?'],\n",
       "  4717057,\n",
       "  0.9463648796081543),\n",
       " (['Which',\n",
       "   'is',\n",
       "   'more',\n",
       "   'easy',\n",
       "   'to',\n",
       "   'learn?',\n",
       "   'Ruby',\n",
       "   'on',\n",
       "   'Rails',\n",
       "   'or',\n",
       "   'Python/Django?'],\n",
       "  4717069,\n",
       "  0.9463648796081543),\n",
       " (['How', 'can', 'I', 'make', 'some', 'easy', 'money?'],\n",
       "  4405380,\n",
       "  0.9432926177978516),\n",
       " (['How', 'can', 'I', 'make', 'some', 'easy', 'money?'],\n",
       "  5443135,\n",
       "  0.9432926177978516)]"
      ]
     },
     "execution_count": 21,
     "metadata": {},
     "output_type": "execute_result"
    }
   ],
   "source": [
    "model.sv.similar_by_word(\"easy\", wv=glove, indexable=s.items)"
   ]
  },
  {
   "cell_type": "markdown",
   "metadata": {},
   "source": [
    "Furthermore, you can query for unknown (or new) sentences by calling:"
   ]
  },
  {
   "cell_type": "code",
   "execution_count": 22,
   "metadata": {},
   "outputs": [
    {
     "name": "stderr",
     "output_type": "stream",
     "text": [
      "2020-02-10 21:44:35,595 : MainThread : INFO : scanning all indexed sentences and their word counts\n",
      "2020-02-10 21:44:35,597 : MainThread : INFO : finished scanning 1 sentences with an average length of 6 and 6 total words\n",
      "2020-02-10 21:44:35,600 : MainThread : INFO : removing 5 principal components took 0s\n"
     ]
    },
    {
     "data": {
      "text/plain": [
       "[(['How', 'do', 'I', 'learn', 'Python', 'in', 'easy', 'way?'],\n",
       "  6255666,\n",
       "  0.9860048294067383),\n",
       " (['How', 'do', 'I', 'learn', 'Python', 'in', 'easy', 'way?'],\n",
       "  6255668,\n",
       "  0.9860048294067383),\n",
       " (['How', 'do', 'I', 'learn', 'Python', 'in', 'easy', 'way?'],\n",
       "  418236,\n",
       "  0.9860048294067383),\n",
       " (['How', 'do', 'I', 'learn', 'Python', 'in', 'easy', 'way?'],\n",
       "  418238,\n",
       "  0.9860048294067383),\n",
       " (['How', 'do', 'I', 'learn', 'Python', 'in', 'easy', 'way?'],\n",
       "  6255664,\n",
       "  0.9860048294067383),\n",
       " (['How', 'do', 'I', 'learn', 'Python', 'in', 'easy', 'way?'],\n",
       "  418232,\n",
       "  0.9860048294067383),\n",
       " (['How', 'do', 'I', 'learn', 'Python', 'in', 'easy', 'way?'],\n",
       "  6255674,\n",
       "  0.9860048294067383),\n",
       " (['How', 'do', 'I', 'learn', 'Python', 'in', 'easy', 'way?'],\n",
       "  6255672,\n",
       "  0.9860048294067383),\n",
       " (['How', 'do', 'I', 'learn', 'Python', 'in', 'easy', 'way?'],\n",
       "  418230,\n",
       "  0.9860048294067383),\n",
       " (['How', 'do', 'I', 'learn', 'Python', 'in', 'easy', 'way?'],\n",
       "  6255670,\n",
       "  0.9860048294067383)]"
      ]
     },
     "execution_count": 22,
     "metadata": {},
     "output_type": "execute_result"
    }
   ],
   "source": [
    "model.sv.similar_by_sentence(\"Is this really easy to learn\".split(), model=model, indexable=s.items)"
   ]
  },
  {
   "cell_type": "markdown",
   "metadata": {},
   "source": [
    "Feel free to browse through the library and get to know the functions a little better!"
   ]
  },
  {
   "cell_type": "code",
   "execution_count": null,
   "metadata": {},
   "outputs": [],
   "source": []
  }
 ],
 "metadata": {
  "kernelspec": {
   "display_name": "Python 3",
   "language": "python",
   "name": "python3"
  },
  "language_info": {
   "codemirror_mode": {
    "name": "ipython",
    "version": 3
   },
   "file_extension": ".py",
   "mimetype": "text/x-python",
   "name": "python",
   "nbconvert_exporter": "python",
   "pygments_lexer": "ipython3",
   "version": "3.7.3"
  }
 },
 "nbformat": 4,
 "nbformat_minor": 2
}
