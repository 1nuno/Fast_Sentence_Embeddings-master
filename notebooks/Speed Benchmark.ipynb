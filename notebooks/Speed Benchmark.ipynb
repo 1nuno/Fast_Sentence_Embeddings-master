{
 "cells": [
  {
   "cell_type": "code",
   "execution_count": 1,
   "metadata": {},
   "outputs": [
    {
     "name": "stderr",
     "output_type": "stream",
     "text": [
      "2020-02-27 13:36:31,584 : MainThread : INFO : loading projection weights from /Users/oliverborchers/gensim-data/glove-wiki-gigaword-100/glove-wiki-gigaword-100.gz\n",
      "2020-02-27 13:37:17,383 : MainThread : INFO : loaded (400000, 100) matrix from /Users/oliverborchers/gensim-data/glove-wiki-gigaword-100/glove-wiki-gigaword-100.gz\n",
      "/Users/oliverborchers/anaconda3/envs/fsedev/lib/python3.7/site-packages/smart_open/smart_open_lib.py:402: UserWarning: This function is deprecated, use smart_open.open instead. See the migration notes for details: https://github.com/RaRe-Technologies/smart_open/blob/master/README.rst#migrating-to-the-new-open-function\n",
      "  'See the migration notes for details: %s' % _MIGRATION_NOTES_URL\n"
     ]
    },
    {
     "name": "stdout",
     "output_type": "stream",
     "text": [
      "6468640\n"
     ]
    }
   ],
   "source": [
    "from fse.models import Average\n",
    "from fse.models.average import train_average_np\n",
    "from fse.models.average_inner import train_average_cy\n",
    "from fse.models.pooling import train_pooling_np\n",
    "\n",
    "from fse.models.average import MAX_WORDS_IN_BATCH\n",
    "\n",
    "from fse import IndexedList\n",
    "\n",
    "import numpy as np\n",
    "\n",
    "import logging\n",
    "logging.basicConfig(format='%(asctime)s : %(threadName)s : %(levelname)s : %(message)s', level=logging.INFO)\n",
    "\n",
    "import gensim.downloader as api\n",
    "data = api.load(\"quora-duplicate-questions\")\n",
    "glove = api.load(\"glove-wiki-gigaword-100\")\n",
    "\n",
    "def process_sentence(sentence):\n",
    "    \"\"\"\n",
    "    Here it is important to insert a whitespace before ?.\n",
    "    Otherwise tokens like \"bitcoin?\" will be treated as one word, which is out of vocabulary.\n",
    "    \"\"\"\n",
    "    \n",
    "    sentence = sentence.lower()\n",
    "    sentence = sentence.replace(\"?\", \" ?\")\n",
    "    sentence = sentence.replace(\"!\", \" !\")\n",
    "    sentence = sentence.replace(\".\", \" .\")\n",
    "    return sentence.split()\n",
    "\n",
    "sentences = []\n",
    "for d in data:\n",
    "    # Let's blow up the data a bit by replicating each sentence.\n",
    "    for i in range(8):\n",
    "        sentences.append(process_sentence(d[\"question1\"]))\n",
    "        sentences.append(process_sentence(d[\"question2\"]))\n",
    "s = IndexedList(sentences)\n",
    "print(len(s))"
   ]
  },
  {
   "cell_type": "code",
   "execution_count": 3,
   "metadata": {},
   "outputs": [
    {
     "name": "stdout",
     "output_type": "stream",
     "text": [
      "10000\n",
      "1\n"
     ]
    }
   ],
   "source": [
    "from fse.models.pooling import FAST_VERSION, MAX_WORDS_IN_BATCH\n",
    "print(MAX_WORDS_IN_BATCH)\n",
    "print(FAST_VERSION)"
   ]
  },
  {
   "cell_type": "code",
   "execution_count": 8,
   "metadata": {},
   "outputs": [
    {
     "name": "stderr",
     "output_type": "stream",
     "text": [
      "2020-02-27 13:42:30,093 : MainThread : INFO : scanning all indexed sentences and their word counts\n",
      "2020-02-27 13:42:35,094 : MainThread : INFO : SCANNING : finished 3356210 sentences with 40926093 words\n",
      "2020-02-27 13:42:39,354 : MainThread : WARNING : found 16 empty sentences\n",
      "2020-02-27 13:42:39,355 : MainThread : INFO : finished scanning 6468640 sentences with an average length of 12 and 78941152 total words\n",
      "2020-02-27 13:42:39,538 : MainThread : INFO : estimated memory for 6468640 sentences with 100 dimensions and 400000 vocabulary: 2621 MB (2 GB)\n",
      "2020-02-27 13:42:39,539 : MainThread : INFO : initializing sentence vectors for 6468640 sentences\n",
      "2020-02-27 13:43:03,685 : MainThread : INFO : begin training\n",
      "2020-02-27 13:43:08,705 : MainThread : INFO : PROGRESS : finished 21.53% with 1392680 sentences and 16341256 words, 278536 sentences/s\n",
      "2020-02-27 13:43:13,709 : MainThread : INFO : PROGRESS : finished 43.75% with 2830125 sentences and 33228900 words, 287489 sentences/s\n",
      "2020-02-27 13:43:18,712 : MainThread : INFO : PROGRESS : finished 71.59% with 4631171 sentences and 54389632 words, 360209 sentences/s\n",
      "2020-02-27 13:43:23,715 : MainThread : INFO : PROGRESS : finished 97.88% with 6331766 sentences and 74366291 words, 340119 sentences/s\n",
      "2020-02-27 13:43:24,274 : MainThread : INFO : worker thread finished; awaiting finish of 1 more threads\n",
      "2020-02-27 13:43:24,280 : MainThread : INFO : worker thread finished; awaiting finish of 0 more threads\n",
      "2020-02-27 13:43:24,284 : MainThread : INFO : training on 6468624 effective sentences with 75978256 effective words took 20s with 314033 sentences/s\n"
     ]
    },
    {
     "data": {
      "text/plain": [
       "(6468624, 75978256)"
      ]
     },
     "execution_count": 8,
     "metadata": {},
     "output_type": "execute_result"
    }
   ],
   "source": [
    "from fse.models import MaxPooling\n",
    "model = MaxPooling(glove, workers=2)\n",
    "model.train(s)"
   ]
  },
  {
   "cell_type": "code",
   "execution_count": null,
   "metadata": {},
   "outputs": [],
   "source": []
  }
 ],
 "metadata": {
  "kernelspec": {
   "display_name": "Python 3",
   "language": "python",
   "name": "python3"
  },
  "language_info": {
   "codemirror_mode": {
    "name": "ipython",
    "version": 3
   },
   "file_extension": ".py",
   "mimetype": "text/x-python",
   "name": "python",
   "nbconvert_exporter": "python",
   "pygments_lexer": "ipython3",
   "version": "3.7.3"
  }
 },
 "nbformat": 4,
 "nbformat_minor": 2
}
