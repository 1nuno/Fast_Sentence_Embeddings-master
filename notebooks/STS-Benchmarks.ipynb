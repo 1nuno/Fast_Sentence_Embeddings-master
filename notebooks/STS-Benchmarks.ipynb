{
 "cells": [
  {
   "cell_type": "markdown",
   "metadata": {},
   "source": [
    "# STS Benchmark Datasets"
   ]
  },
  {
   "cell_type": "markdown",
   "metadata": {},
   "source": [
    "### Preparation"
   ]
  },
  {
   "cell_type": "markdown",
   "metadata": {},
   "source": [
    "Setup all required libraries"
   ]
  },
  {
   "cell_type": "code",
   "execution_count": 1,
   "metadata": {},
   "outputs": [],
   "source": [
    "import logging\n",
    "import re\n",
    "import sys\n",
    "\n",
    "import numpy as np\n",
    "import pandas as pd\n",
    "\n",
    "from gensim.models.keyedvectors import KeyedVectors, FastTextKeyedVectors\n",
    "\n",
    "from fse.models import Average, SIF, uSIF\n",
    "from fse import CSplitIndexedList\n",
    "\n",
    "from re import sub\n",
    "\n",
    "from scipy.stats import pearsonr\n",
    "\n",
    "from nltk import word_tokenize\n",
    "\n",
    "logging.basicConfig(format='%(asctime)s : %(threadName)s : %(levelname)s : %(message)s',\n",
    "                    level=logging.INFO)"
   ]
  },
  {
   "cell_type": "markdown",
   "metadata": {},
   "source": [
    "Next, we require the sentences from the STS benchmark dataset."
   ]
  },
  {
   "cell_type": "code",
   "execution_count": 2,
   "metadata": {},
   "outputs": [
    {
     "name": "stdout",
     "output_type": "stream",
     "text": [
      "0\tSim: 2.5\tA girl is styling her hair.             \tA girl is brushing her hair.            \t\n",
      "1\tSim: 3.6\tA group of men play soccer on the beach.\tA group of boys are playing soccer on the beach.\t\n",
      "2\tSim: 5.0\tOne woman is measuring another woman's ankle.\tA woman measures another woman's ankle. \t\n",
      "3\tSim: 4.2\tA man is cutting up a cucumber.         \tA man is slicing a cucumber.            \t\n",
      "4\tSim: 1.5\tA man is playing a harp.                \tA man is playing a keyboard.            \t\n"
     ]
    }
   ],
   "source": [
    "file= \"../fse/eval/sts-test.csv\"\n",
    "similarities, sent_a, sent_b = [], [], []\n",
    "with open(file, \"r\") as f:\n",
    "    for l in f:\n",
    "        line = l.rstrip().split(\"\\t\")\n",
    "        similarities.append(float(line[4]))\n",
    "        sent_a.append(line[5])\n",
    "        sent_b.append(line[6])\n",
    "similarities = np.array(similarities)\n",
    "assert len(similarities) == len(sent_a) == len(sent_b)\n",
    "task_length = len(similarities)\n",
    "\n",
    "for i, obj in enumerate(zip(similarities, sent_a, sent_b)):\n",
    "    print(f\"{i}\\tSim: {obj[0].round(3):.1f}\\t{obj[1]:40s}\\t{obj[2]:40s}\\t\")\n",
    "    if i == 4:\n",
    "        break"
   ]
  },
  {
   "cell_type": "markdown",
   "metadata": {},
   "source": [
    "Each of these sentence requires some preparation (i.e. tokenization) to be used in the core input formats.\n",
    "To reproduce the results from the uSIF paper this part is taken from https://github.com/kawine/usif/blob/master/usif.py"
   ]
  },
  {
   "cell_type": "code",
   "execution_count": 3,
   "metadata": {},
   "outputs": [],
   "source": [
    "not_punc = re.compile('.*[A-Za-z0-9].*')\n",
    "\n",
    "def prep_token(token):\n",
    "    t = token.lower().strip(\"';.:()\").strip('\"')\n",
    "    t = 'not' if t == \"n't\" else t\n",
    "    return re.split(r'[-]', t)\n",
    "\n",
    "def prep_sentence(sentence):\n",
    "    tokens = []\n",
    "    for token in word_tokenize(sentence):\n",
    "        if not_punc.match(token):\n",
    "            tokens = tokens + prep_token(token)\n",
    "    return tokens"
   ]
  },
  {
   "cell_type": "markdown",
   "metadata": {},
   "source": [
    "Next we define the IndexedList object. The IndexedList extends the previously constructed sent_a and sent_b list together. We additionally provide a custom function \"prep_sentence\" which performs all the prepocessing for a single sentence. Therefore we need the extention **CSplitIndexedList**, which provides you the option to provide a custom split function"
   ]
  },
  {
   "cell_type": "code",
   "execution_count": 4,
   "metadata": {},
   "outputs": [],
   "source": [
    "sentences = CSplitIndexedList(sent_a, sent_b, custom_split=prep_sentence)"
   ]
  },
  {
   "cell_type": "markdown",
   "metadata": {},
   "source": [
    "The IndexedList returns the core object required for fse to train a sentence embedding: A tuple. This object constists of words (a list of strings) and its corresponding index. The latter is important if multiple cores access the input queue simultaneously. Thus it must be always provided. The index represents the row in the matrix where it can later be found."
   ]
  },
  {
   "cell_type": "code",
   "execution_count": 5,
   "metadata": {},
   "outputs": [
    {
     "data": {
      "text/plain": [
       "(['a', 'girl', 'is', 'styling', 'her', 'hair'], 0)"
      ]
     },
     "execution_count": 5,
     "metadata": {},
     "output_type": "execute_result"
    }
   ],
   "source": [
    "sentences[0]"
   ]
  },
  {
   "cell_type": "markdown",
   "metadata": {},
   "source": [
    "Note, that IndexedList does not convert the sentences inplace but only on calling the __getitem__ method in order to turn the sentence into a tuple. You can access the original sentence using"
   ]
  },
  {
   "cell_type": "code",
   "execution_count": 6,
   "metadata": {},
   "outputs": [
    {
     "data": {
      "text/plain": [
       "'A girl is styling her hair.'"
      ]
     },
     "execution_count": 6,
     "metadata": {},
     "output_type": "execute_result"
    }
   ],
   "source": [
    "sentences.items[0]"
   ]
  },
  {
   "cell_type": "markdown",
   "metadata": {},
   "source": [
    "### Loading the models\n",
    "\n",
    "It is required for us to load the models as BaseKeyedVectors or as an BaseWordEmbeddingsModel. For this notebook, I already converted the models to a BaseKeyedVectors instance and saved the corresponding instance on my external harddrive. You have to replicate these steps yourself, because getting all the files can be a bit difficult, as the total filesize is around 15 GB."
   ]
  },
  {
   "cell_type": "code",
   "execution_count": 7,
   "metadata": {},
   "outputs": [],
   "source": [
    "path_to_models = \"/Volumes/Ext_HDD/Models/Static/\"\n",
    "models, results = {}, {}"
   ]
  },
  {
   "cell_type": "markdown",
   "metadata": {},
   "source": [
    "The following code performs a disk-to-ram training. Passing a path to __wv_mapfile_path__ will store the corresponding word vectors (wv) as a numpy memmap array. This is required, because loading all vectors into ram would would take up a lot of storage unecessary. The wv.vectors file will be replace by its memmap representation, which is why the next models do not require the wv_mapfile_path argument, as they access the same memmap object.\n",
    "\n",
    "The lang_freq=\"en\" induces the frequencies of the words according to the wordfreq package. This functionality allows you to work with pre-trained embeddings which don't come with frequency information. The method overwrites the counts in the glove.wv.vocab class, so that all further models also benefit from this induction."
   ]
  },
  {
   "cell_type": "code",
   "execution_count": 8,
   "metadata": {},
   "outputs": [
    {
     "name": "stderr",
     "output_type": "stream",
     "text": [
      "2019-09-09 21:49:40,057 : MainThread : INFO : loading Word2VecKeyedVectors object from /Volumes/Ext_HDD/Models/Static/glove.840B.300d.model\n",
      "2019-09-09 21:49:44,666 : MainThread : INFO : loading vectors from /Volumes/Ext_HDD/Models/Static/glove.840B.300d.model.vectors.npy with mmap=None\n",
      "2019-09-09 21:49:46,373 : MainThread : INFO : setting ignored attribute vectors_norm to None\n",
      "2019-09-09 21:49:46,374 : MainThread : INFO : loaded /Volumes/Ext_HDD/Models/Static/glove.840B.300d.model\n",
      "2019-09-09 21:49:46,376 : MainThread : INFO : loading pre-existing wv from /Users/oliverborchers/Library/Mobile Documents/com~apple~CloudDocs/Diss/Medium/Fast_Sentence_Embeddings/notebooks/data/glove_wv.vectors\n"
     ]
    },
    {
     "name": "stdout",
     "output_type": "stream",
     "text": [
      "Before memmap 2635050112\n"
     ]
    },
    {
     "name": "stderr",
     "output_type": "stream",
     "text": [
      "2019-09-09 21:49:46,584 : MainThread : INFO : no frequency mode: using wordfreq for estimation of frequency for language: en\n"
     ]
    },
    {
     "name": "stdout",
     "output_type": "stream",
     "text": [
      "After memmap 136\n"
     ]
    }
   ],
   "source": [
    "glove = KeyedVectors.load(path_to_models+\"glove.840B.300d.model\")\n",
    "\n",
    "print(f\"Before memmap {sys.getsizeof(glove.vectors)}\")\n",
    "\n",
    "models[f\"CBOW-Glove\"] = Average(glove, wv_mapfile_path=\"data/glove\", lang_freq=\"en\")\n",
    "\n",
    "print(f\"After memmap {sys.getsizeof(glove.vectors)}\")\n",
    "\n",
    "models[f\"SIF-Glove\"] = SIF(glove, components=15)\n",
    "models[f\"uSIF-Glove\"] = uSIF(glove,length=11)"
   ]
  },
  {
   "cell_type": "code",
   "execution_count": 9,
   "metadata": {},
   "outputs": [
    {
     "data": {
      "text/plain": [
       "True"
      ]
     },
     "execution_count": 9,
     "metadata": {},
     "output_type": "execute_result"
    }
   ],
   "source": [
    "# Do all the vectors contain the same content?\n",
    "(models[f\"SIF-Glove\"].wv.vectors == models[f\"uSIF-Glove\"].wv.vectors).all()"
   ]
  },
  {
   "cell_type": "markdown",
   "metadata": {},
   "source": [
    "Another option is to load the KeyedVectors using the kwarg mmap=\"r\""
   ]
  },
  {
   "cell_type": "code",
   "execution_count": 10,
   "metadata": {},
   "outputs": [
    {
     "name": "stderr",
     "output_type": "stream",
     "text": [
      "2019-09-09 21:49:56,977 : MainThread : INFO : loading Word2VecKeyedVectors object from /Volumes/Ext_HDD/Models/Static/google_news.model\n",
      "2019-09-09 21:50:02,763 : MainThread : INFO : loading vectors from /Volumes/Ext_HDD/Models/Static/google_news.model.vectors.npy with mmap=r\n",
      "2019-09-09 21:50:02,770 : MainThread : INFO : setting ignored attribute vectors_norm to None\n",
      "2019-09-09 21:50:02,771 : MainThread : INFO : loaded /Volumes/Ext_HDD/Models/Static/google_news.model\n",
      "2019-09-09 21:50:02,775 : MainThread : INFO : no frequency mode: using wordfreq for estimation of frequency for language: en\n"
     ]
    }
   ],
   "source": [
    "w2v = KeyedVectors.load(path_to_models+\"google_news.model\", mmap=\"r\")\n",
    "\n",
    "models[f\"CBOW-W2V\"] = Average(w2v, lang_freq=\"en\")\n",
    "models[f\"SIF-W2V\"] = SIF(w2v, components=10)\n",
    "models[f\"uSIF-W2V\"] = uSIF(w2v, length=11)"
   ]
  },
  {
   "cell_type": "code",
   "execution_count": 11,
   "metadata": {},
   "outputs": [
    {
     "name": "stderr",
     "output_type": "stream",
     "text": [
      "2019-09-09 21:50:05,206 : MainThread : INFO : loading FastTextKeyedVectors object from /Volumes/Ext_HDD/Models/Static/ft_crawl_300d_2m.model\n",
      "2019-09-09 21:50:09,955 : MainThread : INFO : loading vectors from /Volumes/Ext_HDD/Models/Static/ft_crawl_300d_2m.model.vectors.npy with mmap=r\n",
      "2019-09-09 21:50:09,963 : MainThread : INFO : loading vectors_vocab from /Volumes/Ext_HDD/Models/Static/ft_crawl_300d_2m.model.vectors_vocab.npy with mmap=r\n",
      "2019-09-09 21:50:09,969 : MainThread : INFO : loading vectors_ngrams from /Volumes/Ext_HDD/Models/Static/ft_crawl_300d_2m.model.vectors_ngrams.npy with mmap=r\n",
      "2019-09-09 21:50:09,975 : MainThread : INFO : setting ignored attribute vectors_norm to None\n",
      "2019-09-09 21:50:09,976 : MainThread : INFO : setting ignored attribute vectors_vocab_norm to None\n",
      "2019-09-09 21:50:09,977 : MainThread : INFO : setting ignored attribute vectors_ngrams_norm to None\n",
      "2019-09-09 21:50:09,977 : MainThread : INFO : setting ignored attribute buckets_word to None\n",
      "2019-09-09 21:50:09,978 : MainThread : INFO : loaded /Volumes/Ext_HDD/Models/Static/ft_crawl_300d_2m.model\n",
      "2019-09-09 21:50:09,980 : MainThread : INFO : no frequency mode: using wordfreq for estimation of frequency for language: en\n"
     ]
    }
   ],
   "source": [
    "ft = FastTextKeyedVectors.load(path_to_models+\"ft_crawl_300d_2m.model\", mmap=\"r\")\n",
    "models[f\"CBOW-FT\"] = Average(ft, lang_freq=\"en\")\n",
    "models[f\"SIF-FT\"] = SIF(ft, components=10)\n",
    "models[f\"uSIF-FT\"] = uSIF(ft, length=11)"
   ]
  },
  {
   "cell_type": "code",
   "execution_count": 12,
   "metadata": {},
   "outputs": [
    {
     "name": "stderr",
     "output_type": "stream",
     "text": [
      "2019-09-09 21:50:11,877 : MainThread : INFO : loading Word2VecKeyedVectors object from /Volumes/Ext_HDD/Models/Static/paranmt.model\n",
      "2019-09-09 21:50:12,106 : MainThread : INFO : loading vectors from /Volumes/Ext_HDD/Models/Static/paranmt.model.vectors.npy with mmap=r\n",
      "2019-09-09 21:50:12,114 : MainThread : INFO : setting ignored attribute vectors_norm to None\n",
      "2019-09-09 21:50:12,115 : MainThread : INFO : loaded /Volumes/Ext_HDD/Models/Static/paranmt.model\n",
      "2019-09-09 21:50:12,118 : MainThread : INFO : no frequency mode: using wordfreq for estimation of frequency for language: en\n"
     ]
    }
   ],
   "source": [
    "paranmt = KeyedVectors.load(path_to_models+\"paranmt.model\", mmap=\"r\")\n",
    "\n",
    "models[f\"CBOW-Paranmt\"] = Average(paranmt, lang_freq=\"en\")\n",
    "models[f\"SIF-Paranmt\"] = SIF(paranmt, components=10)\n",
    "models[f\"uSIF-Paranmt\"] = uSIF(paranmt, length=11)"
   ]
  },
  {
   "cell_type": "code",
   "execution_count": 13,
   "metadata": {},
   "outputs": [
    {
     "name": "stderr",
     "output_type": "stream",
     "text": [
      "2019-09-09 21:50:12,232 : MainThread : INFO : loading Word2VecKeyedVectors object from /Volumes/Ext_HDD/Models/Static/paragram_sl999_czeng.model\n",
      "2019-09-09 21:50:12,366 : MainThread : INFO : loading vectors from /Volumes/Ext_HDD/Models/Static/paragram_sl999_czeng.model.vectors.npy with mmap=r\n",
      "2019-09-09 21:50:12,375 : MainThread : INFO : setting ignored attribute vectors_norm to None\n",
      "2019-09-09 21:50:12,375 : MainThread : INFO : loaded /Volumes/Ext_HDD/Models/Static/paragram_sl999_czeng.model\n",
      "2019-09-09 21:50:12,378 : MainThread : INFO : no frequency mode: using wordfreq for estimation of frequency for language: en\n"
     ]
    }
   ],
   "source": [
    "paragram = KeyedVectors.load(path_to_models+\"paragram_sl999_czeng.model\", mmap=\"r\")\n",
    "\n",
    "models[f\"CBOW-Paragram\"] = Average(paragram, lang_freq=\"en\")\n",
    "models[f\"SIF-Paragram\"] = SIF(paragram, components=10)\n",
    "models[f\"uSIF-Paragram\"] = uSIF(paragram, length=11)"
   ]
  },
  {
   "cell_type": "markdown",
   "metadata": {},
   "source": [
    "## Computation of the results for the STS benchmark"
   ]
  },
  {
   "cell_type": "markdown",
   "metadata": {},
   "source": [
    "We are finally able to compute the STS benchmark values for all models."
   ]
  },
  {
   "cell_type": "code",
   "execution_count": 14,
   "metadata": {},
   "outputs": [],
   "source": [
    "# This function is used to compute the similarities between two sentences.\n",
    "# Task length is the length of the sts dataset.\n",
    "def compute_similarities(task_length, model):\n",
    "    sims = []\n",
    "    for i, j in zip(range(task_length), range(task_length, 2*task_length)):\n",
    "        sims.append(model.sv.similarity(i,j))\n",
    "    return sims"
   ]
  },
  {
   "cell_type": "code",
   "execution_count": 15,
   "metadata": {},
   "outputs": [
    {
     "name": "stderr",
     "output_type": "stream",
     "text": [
      "2019-09-09 21:50:12,488 : MainThread : INFO : scanning all indexed sentences and their word counts\n",
      "2019-09-09 21:50:12,984 : MainThread : INFO : finished scanning 2758 sentences with an average length of 9 and 27528 total words\n",
      "2019-09-09 21:50:13,855 : MainThread : INFO : estimated memory for 2758 sentences with 300 dimensions and 2195875 vocabulary: 2524 MB (2 GB)\n",
      "2019-09-09 21:50:13,856 : MainThread : INFO : initializing sentence vectors for 2758 sentences\n",
      "2019-09-09 21:50:13,905 : MainThread : INFO : begin training\n",
      "2019-09-09 21:50:14,470 : MainThread : INFO : worker thread finished; awaiting finish of 0 more threads\n",
      "2019-09-09 21:50:14,471 : MainThread : INFO : training on 2758 effective sentences with 27351 effective words took 0s with 4872 sentences/s\n",
      "2019-09-09 21:50:14,510 : MainThread : INFO : scanning all indexed sentences and their word counts\n"
     ]
    },
    {
     "name": "stdout",
     "output_type": "stream",
     "text": [
      "CBOW-Glove 40.41\n"
     ]
    },
    {
     "name": "stderr",
     "output_type": "stream",
     "text": [
      "2019-09-09 21:50:15,008 : MainThread : INFO : finished scanning 2758 sentences with an average length of 9 and 27528 total words\n",
      "2019-09-09 21:50:15,902 : MainThread : INFO : estimated memory for 2758 sentences with 300 dimensions and 2195875 vocabulary: 2524 MB (2 GB)\n",
      "2019-09-09 21:50:15,903 : MainThread : INFO : initializing sentence vectors for 2758 sentences\n",
      "2019-09-09 21:50:15,914 : MainThread : INFO : pre-computing SIF weights for 2195875 words\n",
      "2019-09-09 21:50:17,569 : MainThread : INFO : begin training\n",
      "2019-09-09 21:50:18,043 : MainThread : INFO : worker thread finished; awaiting finish of 0 more threads\n",
      "2019-09-09 21:50:18,092 : MainThread : INFO : computing 15 principal components took 0s\n",
      "2019-09-09 21:50:18,094 : MainThread : INFO : removing 15 principal components took 0s\n",
      "2019-09-09 21:50:18,095 : MainThread : INFO : training on 2758 effective sentences with 27351 effective words took 0s with 5807 sentences/s\n",
      "2019-09-09 21:50:18,134 : MainThread : INFO : scanning all indexed sentences and their word counts\n"
     ]
    },
    {
     "name": "stdout",
     "output_type": "stream",
     "text": [
      "SIF-Glove 71.95\n"
     ]
    },
    {
     "name": "stderr",
     "output_type": "stream",
     "text": [
      "2019-09-09 21:50:18,598 : MainThread : INFO : finished scanning 2758 sentences with an average length of 9 and 27528 total words\n",
      "2019-09-09 21:50:19,420 : MainThread : INFO : estimated memory for 2758 sentences with 300 dimensions and 2195875 vocabulary: 2524 MB (2 GB)\n",
      "2019-09-09 21:50:19,421 : MainThread : INFO : initializing sentence vectors for 2758 sentences\n",
      "2019-09-09 21:50:19,433 : MainThread : INFO : pre-computing uSIF weights for 2195875 words\n",
      "2019-09-09 21:50:27,877 : MainThread : INFO : begin training\n",
      "2019-09-09 21:50:28,430 : MainThread : INFO : worker thread finished; awaiting finish of 0 more threads\n",
      "2019-09-09 21:50:28,449 : MainThread : INFO : computing 5 principal components took 0s\n",
      "2019-09-09 21:50:28,453 : MainThread : INFO : removing 5 principal components took 0s\n",
      "2019-09-09 21:50:28,454 : MainThread : INFO : training on 2758 effective sentences with 27351 effective words took 0s with 4972 sentences/s\n",
      "2019-09-09 21:50:28,491 : MainThread : INFO : scanning all indexed sentences and their word counts\n"
     ]
    },
    {
     "name": "stdout",
     "output_type": "stream",
     "text": [
      "uSIF-Glove 67.16\n"
     ]
    },
    {
     "name": "stderr",
     "output_type": "stream",
     "text": [
      "2019-09-09 21:50:28,995 : MainThread : INFO : finished scanning 2758 sentences with an average length of 9 and 27528 total words\n",
      "2019-09-09 21:50:30,250 : MainThread : INFO : estimated memory for 2758 sentences with 300 dimensions and 3000000 vocabulary: 3447 MB (3 GB)\n",
      "2019-09-09 21:50:30,251 : MainThread : INFO : initializing sentence vectors for 2758 sentences\n",
      "2019-09-09 21:50:30,318 : MainThread : INFO : begin training\n",
      "2019-09-09 21:50:30,963 : MainThread : INFO : worker thread finished; awaiting finish of 0 more threads\n",
      "2019-09-09 21:50:30,964 : MainThread : INFO : training on 2758 effective sentences with 23116 effective words took 0s with 4267 sentences/s\n",
      "2019-09-09 21:50:30,989 : MainThread : INFO : scanning all indexed sentences and their word counts\n"
     ]
    },
    {
     "name": "stdout",
     "output_type": "stream",
     "text": [
      "CBOW-W2V 61.54\n"
     ]
    },
    {
     "name": "stderr",
     "output_type": "stream",
     "text": [
      "2019-09-09 21:50:31,409 : MainThread : INFO : finished scanning 2758 sentences with an average length of 9 and 27528 total words\n",
      "2019-09-09 21:50:32,418 : MainThread : INFO : estimated memory for 2758 sentences with 300 dimensions and 3000000 vocabulary: 3447 MB (3 GB)\n",
      "2019-09-09 21:50:32,419 : MainThread : INFO : initializing sentence vectors for 2758 sentences\n",
      "2019-09-09 21:50:32,426 : MainThread : INFO : pre-computing SIF weights for 3000000 words\n",
      "2019-09-09 21:50:34,395 : MainThread : INFO : begin training\n",
      "2019-09-09 21:50:34,840 : MainThread : INFO : worker thread finished; awaiting finish of 0 more threads\n",
      "2019-09-09 21:50:34,862 : MainThread : INFO : computing 10 principal components took 0s\n",
      "2019-09-09 21:50:34,864 : MainThread : INFO : removing 10 principal components took 0s\n",
      "2019-09-09 21:50:34,865 : MainThread : INFO : training on 2758 effective sentences with 23116 effective words took 0s with 6187 sentences/s\n",
      "2019-09-09 21:50:34,900 : MainThread : INFO : scanning all indexed sentences and their word counts\n"
     ]
    },
    {
     "name": "stdout",
     "output_type": "stream",
     "text": [
      "SIF-W2V 71.12\n"
     ]
    },
    {
     "name": "stderr",
     "output_type": "stream",
     "text": [
      "2019-09-09 21:50:35,362 : MainThread : INFO : finished scanning 2758 sentences with an average length of 9 and 27528 total words\n",
      "2019-09-09 21:50:36,467 : MainThread : INFO : estimated memory for 2758 sentences with 300 dimensions and 3000000 vocabulary: 3447 MB (3 GB)\n",
      "2019-09-09 21:50:36,468 : MainThread : INFO : initializing sentence vectors for 2758 sentences\n",
      "2019-09-09 21:50:36,475 : MainThread : INFO : pre-computing uSIF weights for 3000000 words\n",
      "2019-09-09 21:50:46,249 : MainThread : INFO : begin training\n",
      "2019-09-09 21:50:46,732 : MainThread : INFO : worker thread finished; awaiting finish of 0 more threads\n",
      "2019-09-09 21:50:46,750 : MainThread : INFO : computing 5 principal components took 0s\n",
      "2019-09-09 21:50:46,752 : MainThread : INFO : removing 5 principal components took 0s\n",
      "2019-09-09 21:50:46,753 : MainThread : INFO : training on 2758 effective sentences with 23116 effective words took 0s with 5702 sentences/s\n",
      "2019-09-09 21:50:46,790 : MainThread : INFO : scanning all indexed sentences and their word counts\n"
     ]
    },
    {
     "name": "stdout",
     "output_type": "stream",
     "text": [
      "uSIF-W2V 66.99\n"
     ]
    },
    {
     "name": "stderr",
     "output_type": "stream",
     "text": [
      "2019-09-09 21:50:47,284 : MainThread : INFO : finished scanning 2758 sentences with an average length of 9 and 27528 total words\n",
      "2019-09-09 21:50:48,159 : MainThread : INFO : estimated memory for 2758 sentences with 300 dimensions and 2000000 vocabulary: 6877 MB (6 GB)\n",
      "2019-09-09 21:50:48,160 : MainThread : WARNING : The embeddings will likely not fit into RAM. Consider to use mapfile_path\n",
      "2019-09-09 21:50:48,161 : MainThread : INFO : initializing sentence vectors for 2758 sentences\n",
      "2019-09-09 21:50:48,204 : MainThread : INFO : begin training\n",
      "2019-09-09 21:50:49,101 : MainThread : INFO : worker thread finished; awaiting finish of 0 more threads\n",
      "2019-09-09 21:50:49,102 : MainThread : INFO : training on 2758 effective sentences with 27528 effective words took 0s with 3072 sentences/s\n",
      "2019-09-09 21:50:49,132 : MainThread : INFO : scanning all indexed sentences and their word counts\n"
     ]
    },
    {
     "name": "stdout",
     "output_type": "stream",
     "text": [
      "CBOW-FT 48.49\n"
     ]
    },
    {
     "name": "stderr",
     "output_type": "stream",
     "text": [
      "2019-09-09 21:50:49,570 : MainThread : INFO : finished scanning 2758 sentences with an average length of 9 and 27528 total words\n",
      "2019-09-09 21:50:50,374 : MainThread : INFO : estimated memory for 2758 sentences with 300 dimensions and 2000000 vocabulary: 6877 MB (6 GB)\n",
      "2019-09-09 21:50:50,375 : MainThread : WARNING : The embeddings will likely not fit into RAM. Consider to use mapfile_path\n",
      "2019-09-09 21:50:50,375 : MainThread : INFO : initializing sentence vectors for 2758 sentences\n",
      "2019-09-09 21:50:50,385 : MainThread : INFO : pre-computing SIF weights for 2000000 words\n",
      "2019-09-09 21:50:51,875 : MainThread : INFO : begin training\n",
      "2019-09-09 21:50:52,316 : MainThread : INFO : worker thread finished; awaiting finish of 0 more threads\n",
      "2019-09-09 21:50:52,353 : MainThread : INFO : computing 10 principal components took 0s\n",
      "2019-09-09 21:50:52,358 : MainThread : INFO : removing 10 principal components took 0s\n",
      "2019-09-09 21:50:52,360 : MainThread : INFO : training on 2758 effective sentences with 27528 effective words took 0s with 6242 sentences/s\n",
      "2019-09-09 21:50:52,403 : MainThread : INFO : scanning all indexed sentences and their word counts\n"
     ]
    },
    {
     "name": "stdout",
     "output_type": "stream",
     "text": [
      "SIF-FT 73.38\n"
     ]
    },
    {
     "name": "stderr",
     "output_type": "stream",
     "text": [
      "2019-09-09 21:50:52,826 : MainThread : INFO : finished scanning 2758 sentences with an average length of 9 and 27528 total words\n",
      "2019-09-09 21:50:53,650 : MainThread : INFO : estimated memory for 2758 sentences with 300 dimensions and 2000000 vocabulary: 6877 MB (6 GB)\n",
      "2019-09-09 21:50:53,651 : MainThread : WARNING : The embeddings will likely not fit into RAM. Consider to use mapfile_path\n",
      "2019-09-09 21:50:53,651 : MainThread : INFO : initializing sentence vectors for 2758 sentences\n",
      "2019-09-09 21:50:53,660 : MainThread : INFO : pre-computing uSIF weights for 2000000 words\n",
      "2019-09-09 21:51:01,602 : MainThread : INFO : begin training\n",
      "2019-09-09 21:51:02,107 : MainThread : INFO : worker thread finished; awaiting finish of 0 more threads\n",
      "2019-09-09 21:51:02,127 : MainThread : INFO : computing 5 principal components took 0s\n",
      "2019-09-09 21:51:02,132 : MainThread : INFO : removing 5 principal components took 0s\n",
      "2019-09-09 21:51:02,133 : MainThread : INFO : training on 2758 effective sentences with 27528 effective words took 0s with 5450 sentences/s\n",
      "2019-09-09 21:51:02,172 : MainThread : INFO : scanning all indexed sentences and their word counts\n"
     ]
    },
    {
     "name": "stdout",
     "output_type": "stream",
     "text": [
      "uSIF-FT 69.40\n"
     ]
    },
    {
     "name": "stderr",
     "output_type": "stream",
     "text": [
      "2019-09-09 21:51:02,627 : MainThread : INFO : finished scanning 2758 sentences with an average length of 9 and 27528 total words\n",
      "2019-09-09 21:51:02,660 : MainThread : INFO : estimated memory for 2758 sentences with 300 dimensions and 77224 vocabulary: 91 MB (0 GB)\n",
      "2019-09-09 21:51:02,660 : MainThread : INFO : initializing sentence vectors for 2758 sentences\n",
      "2019-09-09 21:51:02,668 : MainThread : INFO : begin training\n",
      "2019-09-09 21:51:03,494 : MainThread : INFO : worker thread finished; awaiting finish of 0 more threads\n",
      "2019-09-09 21:51:03,494 : MainThread : INFO : training on 2758 effective sentences with 27441 effective words took 0s with 3338 sentences/s\n",
      "2019-09-09 21:51:03,518 : MainThread : INFO : scanning all indexed sentences and their word counts\n"
     ]
    },
    {
     "name": "stdout",
     "output_type": "stream",
     "text": [
      "CBOW-Paranmt 79.85\n"
     ]
    },
    {
     "name": "stderr",
     "output_type": "stream",
     "text": [
      "2019-09-09 21:51:03,943 : MainThread : INFO : finished scanning 2758 sentences with an average length of 9 and 27528 total words\n",
      "2019-09-09 21:51:03,973 : MainThread : INFO : estimated memory for 2758 sentences with 300 dimensions and 77224 vocabulary: 91 MB (0 GB)\n",
      "2019-09-09 21:51:03,974 : MainThread : INFO : initializing sentence vectors for 2758 sentences\n",
      "2019-09-09 21:51:03,983 : MainThread : INFO : pre-computing SIF weights for 77224 words\n",
      "2019-09-09 21:51:04,036 : MainThread : INFO : begin training\n",
      "2019-09-09 21:51:04,503 : MainThread : INFO : worker thread finished; awaiting finish of 0 more threads\n",
      "2019-09-09 21:51:04,521 : MainThread : INFO : computing 10 principal components took 0s\n",
      "2019-09-09 21:51:04,523 : MainThread : INFO : removing 10 principal components took 0s\n",
      "2019-09-09 21:51:04,524 : MainThread : INFO : training on 2758 effective sentences with 27441 effective words took 0s with 5902 sentences/s\n",
      "2019-09-09 21:51:04,563 : MainThread : INFO : scanning all indexed sentences and their word counts\n"
     ]
    },
    {
     "name": "stdout",
     "output_type": "stream",
     "text": [
      "SIF-Paranmt 76.75\n"
     ]
    },
    {
     "name": "stderr",
     "output_type": "stream",
     "text": [
      "2019-09-09 21:51:05,084 : MainThread : INFO : finished scanning 2758 sentences with an average length of 9 and 27528 total words\n",
      "2019-09-09 21:51:05,125 : MainThread : INFO : estimated memory for 2758 sentences with 300 dimensions and 77224 vocabulary: 91 MB (0 GB)\n",
      "2019-09-09 21:51:05,126 : MainThread : INFO : initializing sentence vectors for 2758 sentences\n",
      "2019-09-09 21:51:05,134 : MainThread : INFO : pre-computing uSIF weights for 77224 words\n",
      "2019-09-09 21:51:05,416 : MainThread : INFO : begin training\n",
      "2019-09-09 21:51:05,932 : MainThread : INFO : worker thread finished; awaiting finish of 0 more threads\n",
      "2019-09-09 21:51:05,950 : MainThread : INFO : computing 5 principal components took 0s\n",
      "2019-09-09 21:51:05,952 : MainThread : INFO : removing 5 principal components took 0s\n",
      "2019-09-09 21:51:05,953 : MainThread : INFO : training on 2758 effective sentences with 27441 effective words took 0s with 5333 sentences/s\n",
      "2019-09-09 21:51:05,993 : MainThread : INFO : scanning all indexed sentences and their word counts\n"
     ]
    },
    {
     "name": "stdout",
     "output_type": "stream",
     "text": [
      "uSIF-Paranmt 79.02\n"
     ]
    },
    {
     "name": "stderr",
     "output_type": "stream",
     "text": [
      "2019-09-09 21:51:06,486 : MainThread : INFO : finished scanning 2758 sentences with an average length of 9 and 27528 total words\n",
      "2019-09-09 21:51:06,517 : MainThread : INFO : estimated memory for 2758 sentences with 300 dimensions and 77224 vocabulary: 91 MB (0 GB)\n",
      "2019-09-09 21:51:06,518 : MainThread : INFO : initializing sentence vectors for 2758 sentences\n",
      "2019-09-09 21:51:06,526 : MainThread : INFO : begin training\n",
      "2019-09-09 21:51:07,110 : MainThread : INFO : worker thread finished; awaiting finish of 0 more threads\n",
      "2019-09-09 21:51:07,111 : MainThread : INFO : training on 2758 effective sentences with 27441 effective words took 0s with 4714 sentences/s\n",
      "2019-09-09 21:51:07,138 : MainThread : INFO : scanning all indexed sentences and their word counts\n"
     ]
    },
    {
     "name": "stdout",
     "output_type": "stream",
     "text": [
      "CBOW-Paragram 50.38\n"
     ]
    },
    {
     "name": "stderr",
     "output_type": "stream",
     "text": [
      "2019-09-09 21:51:07,552 : MainThread : INFO : finished scanning 2758 sentences with an average length of 9 and 27528 total words\n",
      "2019-09-09 21:51:07,582 : MainThread : INFO : estimated memory for 2758 sentences with 300 dimensions and 77224 vocabulary: 91 MB (0 GB)\n",
      "2019-09-09 21:51:07,583 : MainThread : INFO : initializing sentence vectors for 2758 sentences\n",
      "2019-09-09 21:51:07,593 : MainThread : INFO : pre-computing SIF weights for 77224 words\n",
      "2019-09-09 21:51:07,649 : MainThread : INFO : begin training\n",
      "2019-09-09 21:51:08,114 : MainThread : INFO : worker thread finished; awaiting finish of 0 more threads\n",
      "2019-09-09 21:51:08,132 : MainThread : INFO : computing 10 principal components took 0s\n",
      "2019-09-09 21:51:08,134 : MainThread : INFO : removing 10 principal components took 0s\n",
      "2019-09-09 21:51:08,135 : MainThread : INFO : training on 2758 effective sentences with 27441 effective words took 0s with 5919 sentences/s\n",
      "2019-09-09 21:51:08,172 : MainThread : INFO : scanning all indexed sentences and their word counts\n"
     ]
    },
    {
     "name": "stdout",
     "output_type": "stream",
     "text": [
      "SIF-Paragram 73.86\n"
     ]
    },
    {
     "name": "stderr",
     "output_type": "stream",
     "text": [
      "2019-09-09 21:51:08,616 : MainThread : INFO : finished scanning 2758 sentences with an average length of 9 and 27528 total words\n",
      "2019-09-09 21:51:08,653 : MainThread : INFO : estimated memory for 2758 sentences with 300 dimensions and 77224 vocabulary: 91 MB (0 GB)\n",
      "2019-09-09 21:51:08,654 : MainThread : INFO : initializing sentence vectors for 2758 sentences\n",
      "2019-09-09 21:51:08,662 : MainThread : INFO : pre-computing uSIF weights for 77224 words\n",
      "2019-09-09 21:51:08,928 : MainThread : INFO : begin training\n",
      "2019-09-09 21:51:09,339 : MainThread : INFO : worker thread finished; awaiting finish of 0 more threads\n",
      "2019-09-09 21:51:09,355 : MainThread : INFO : computing 5 principal components took 0s\n",
      "2019-09-09 21:51:09,357 : MainThread : INFO : removing 5 principal components took 0s\n",
      "2019-09-09 21:51:09,358 : MainThread : INFO : training on 2758 effective sentences with 27441 effective words took 0s with 6689 sentences/s\n"
     ]
    },
    {
     "name": "stdout",
     "output_type": "stream",
     "text": [
      "uSIF-Paragram 73.64\n"
     ]
    }
   ],
   "source": [
    "for k, m in models.items():\n",
    "    m_type  = k.split(\"-\")[0]\n",
    "    emb_type = k.split(\"-\")[1]\n",
    "    m.train(sentences)\n",
    "    r = pearsonr(similarities, compute_similarities(task_length, m))[0].round(4) * 100\n",
    "    results[f\"{m_type}-{emb_type}\"] = r\n",
    "    print(k, f\"{r:2.2f}\")"
   ]
  },
  {
   "cell_type": "code",
   "execution_count": 16,
   "metadata": {},
   "outputs": [
    {
     "data": {
      "text/html": [
       "<div>\n",
       "<style scoped>\n",
       "    .dataframe tbody tr th:only-of-type {\n",
       "        vertical-align: middle;\n",
       "    }\n",
       "\n",
       "    .dataframe tbody tr th {\n",
       "        vertical-align: top;\n",
       "    }\n",
       "\n",
       "    .dataframe thead th {\n",
       "        text-align: right;\n",
       "    }\n",
       "</style>\n",
       "<table border=\"1\" class=\"dataframe\">\n",
       "  <thead>\n",
       "    <tr style=\"text-align: right;\">\n",
       "      <th></th>\n",
       "      <th>Pearson</th>\n",
       "    </tr>\n",
       "  </thead>\n",
       "  <tbody>\n",
       "    <tr>\n",
       "      <th>CBOW-Glove</th>\n",
       "      <td>40.41</td>\n",
       "    </tr>\n",
       "    <tr>\n",
       "      <th>SIF-Glove</th>\n",
       "      <td>71.95</td>\n",
       "    </tr>\n",
       "    <tr>\n",
       "      <th>uSIF-Glove</th>\n",
       "      <td>67.16</td>\n",
       "    </tr>\n",
       "    <tr>\n",
       "      <th>CBOW-W2V</th>\n",
       "      <td>61.54</td>\n",
       "    </tr>\n",
       "    <tr>\n",
       "      <th>SIF-W2V</th>\n",
       "      <td>71.12</td>\n",
       "    </tr>\n",
       "    <tr>\n",
       "      <th>uSIF-W2V</th>\n",
       "      <td>66.99</td>\n",
       "    </tr>\n",
       "    <tr>\n",
       "      <th>CBOW-FT</th>\n",
       "      <td>48.49</td>\n",
       "    </tr>\n",
       "    <tr>\n",
       "      <th>SIF-FT</th>\n",
       "      <td>73.38</td>\n",
       "    </tr>\n",
       "    <tr>\n",
       "      <th>uSIF-FT</th>\n",
       "      <td>69.40</td>\n",
       "    </tr>\n",
       "    <tr>\n",
       "      <th>CBOW-Paranmt</th>\n",
       "      <td>79.85</td>\n",
       "    </tr>\n",
       "    <tr>\n",
       "      <th>SIF-Paranmt</th>\n",
       "      <td>76.75</td>\n",
       "    </tr>\n",
       "    <tr>\n",
       "      <th>uSIF-Paranmt</th>\n",
       "      <td>79.02</td>\n",
       "    </tr>\n",
       "    <tr>\n",
       "      <th>CBOW-Paragram</th>\n",
       "      <td>50.38</td>\n",
       "    </tr>\n",
       "    <tr>\n",
       "      <th>SIF-Paragram</th>\n",
       "      <td>73.86</td>\n",
       "    </tr>\n",
       "    <tr>\n",
       "      <th>uSIF-Paragram</th>\n",
       "      <td>73.64</td>\n",
       "    </tr>\n",
       "  </tbody>\n",
       "</table>\n",
       "</div>"
      ],
      "text/plain": [
       "               Pearson\n",
       "CBOW-Glove       40.41\n",
       "SIF-Glove        71.95\n",
       "uSIF-Glove       67.16\n",
       "CBOW-W2V         61.54\n",
       "SIF-W2V          71.12\n",
       "uSIF-W2V         66.99\n",
       "CBOW-FT          48.49\n",
       "SIF-FT           73.38\n",
       "uSIF-FT          69.40\n",
       "CBOW-Paranmt     79.85\n",
       "SIF-Paranmt      76.75\n",
       "uSIF-Paranmt     79.02\n",
       "CBOW-Paragram    50.38\n",
       "SIF-Paragram     73.86\n",
       "uSIF-Paragram    73.64"
      ]
     },
     "execution_count": 16,
     "metadata": {},
     "output_type": "execute_result"
    }
   ],
   "source": [
    "pd.DataFrame.from_dict(results, orient=\"index\", columns=[\"Pearson\"])"
   ]
  },
  {
   "cell_type": "markdown",
   "metadata": {},
   "source": [
    "If you closely study the values above you will find that:\n",
    "- SIF-Glove is almost equivalent to the values reported in http://ixa2.si.ehu.es/stswiki/index.php/STSbenchmark\n",
    "- CBOW-Paranmt is a little better than ParaNMT Word Avg. in https://www.aclweb.org/anthology/W18-3012\n",
    "- uSIF-Paranmt is a little worse than ParaNMT+UP in https://www.aclweb.org/anthology/W18-3012\n",
    "- uSIF-Paragram is a little worse than PSL+UP in https://www.aclweb.org/anthology/W18-3012\n",
    "\n",
    "However, I guess those differences might arise due to differences in preprocessing. Too bad we didn't hit 80. If you have any ideas why those values don't match exactly, feel free to contact me anytime."
   ]
  }
 ],
 "metadata": {
  "kernelspec": {
   "display_name": "Python 3",
   "language": "python",
   "name": "python3"
  },
  "language_info": {
   "codemirror_mode": {
    "name": "ipython",
    "version": 3
   },
   "file_extension": ".py",
   "mimetype": "text/x-python",
   "name": "python",
   "nbconvert_exporter": "python",
   "pygments_lexer": "ipython3",
   "version": "3.7.3"
  }
 },
 "nbformat": 4,
 "nbformat_minor": 2
}
