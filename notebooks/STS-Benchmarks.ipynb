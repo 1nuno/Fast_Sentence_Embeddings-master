{
 "cells": [
  {
   "cell_type": "markdown",
   "metadata": {},
   "source": [
    "# STS Benchmark Datasets"
   ]
  },
  {
   "cell_type": "markdown",
   "metadata": {},
   "source": [
    "### Preparation"
   ]
  },
  {
   "cell_type": "markdown",
   "metadata": {},
   "source": [
    "Setup all required libraries"
   ]
  },
  {
   "cell_type": "code",
   "execution_count": 3,
   "metadata": {},
   "outputs": [],
   "source": [
    "import logging\n",
    "import re\n",
    "import sys\n",
    "\n",
    "import numpy as np\n",
    "import pandas as pd\n",
    "\n",
    "from fse import Average, SIF, uSIF, Vectors, FTVectors, CSplitIndexedList\n",
    "\n",
    "from re import sub\n",
    "\n",
    "from scipy.stats import pearsonr\n",
    "\n",
    "from nltk import word_tokenize\n",
    "\n",
    "logging.basicConfig(format='%(asctime)s : %(threadName)s : %(levelname)s : %(message)s',\n",
    "                    level=logging.INFO)"
   ]
  },
  {
   "cell_type": "markdown",
   "metadata": {},
   "source": [
    "Next, we require the sentences from the STS benchmark dataset."
   ]
  },
  {
   "cell_type": "code",
   "execution_count": 4,
   "metadata": {},
   "outputs": [
    {
     "name": "stdout",
     "output_type": "stream",
     "text": [
      "0\tSim: 2.5\tA girl is styling her hair.             \tA girl is brushing her hair.            \t\n",
      "1\tSim: 3.6\tA group of men play soccer on the beach.\tA group of boys are playing soccer on the beach.\t\n",
      "2\tSim: 5.0\tOne woman is measuring another woman's ankle.\tA woman measures another woman's ankle. \t\n",
      "3\tSim: 4.2\tA man is cutting up a cucumber.         \tA man is slicing a cucumber.            \t\n",
      "4\tSim: 1.5\tA man is playing a harp.                \tA man is playing a keyboard.            \t\n"
     ]
    }
   ],
   "source": [
    "file= \"../evaluation/sts-test.csv\"\n",
    "similarities, sent_a, sent_b = [], [], []\n",
    "with open(file, \"r\") as f:\n",
    "    for l in f:\n",
    "        line = l.rstrip().split(\"\\t\")\n",
    "        similarities.append(float(line[4]))\n",
    "        sent_a.append(line[5])\n",
    "        sent_b.append(line[6])\n",
    "similarities = np.array(similarities)\n",
    "assert len(similarities) == len(sent_a) == len(sent_b)\n",
    "task_length = len(similarities)\n",
    "\n",
    "for i, obj in enumerate(zip(similarities, sent_a, sent_b)):\n",
    "    print(f\"{i}\\tSim: {obj[0].round(3):.1f}\\t{obj[1]:40s}\\t{obj[2]:40s}\\t\")\n",
    "    if i == 4:\n",
    "        break"
   ]
  },
  {
   "cell_type": "markdown",
   "metadata": {},
   "source": [
    "Each of these sentence requires some preparation (i.e. tokenization) to be used in the core input formats.\n",
    "To reproduce the results from the uSIF paper this part is taken from https://github.com/kawine/usif/blob/master/usif.py"
   ]
  },
  {
   "cell_type": "code",
   "execution_count": 5,
   "metadata": {},
   "outputs": [],
   "source": [
    "not_punc = re.compile('.*[A-Za-z0-9].*')\n",
    "\n",
    "def prep_token(token):\n",
    "    t = token.lower().strip(\"';.:()\").strip('\"')\n",
    "    t = 'not' if t == \"n't\" else t\n",
    "    return re.split(r'[-]', t)\n",
    "\n",
    "def prep_sentence(sentence):\n",
    "    tokens = []\n",
    "    for token in word_tokenize(sentence):\n",
    "        if not_punc.match(token):\n",
    "            tokens = tokens + prep_token(token)\n",
    "    return tokens"
   ]
  },
  {
   "cell_type": "markdown",
   "metadata": {},
   "source": [
    "Next we define the IndexedList object. The IndexedList extends the previously constructed sent_a and sent_b list together. We additionally provide a custom function \"prep_sentence\" which performs all the prepocessing for a single sentence. Therefore we need the extention **CSplitIndexedList**, which provides you the option to provide a custom split function"
   ]
  },
  {
   "cell_type": "code",
   "execution_count": 6,
   "metadata": {},
   "outputs": [],
   "source": [
    "sentences = CSplitIndexedList(sent_a, sent_b, custom_split=prep_sentence)"
   ]
  },
  {
   "cell_type": "markdown",
   "metadata": {},
   "source": [
    "The IndexedList returns the core object required for fse to train a sentence embedding: A tuple. This object constists of words (a list of strings) and its corresponding index. The latter is important if multiple cores access the input queue simultaneously. Thus it must be always provided. The index represents the row in the matrix where it can later be found."
   ]
  },
  {
   "cell_type": "code",
   "execution_count": 7,
   "metadata": {},
   "outputs": [
    {
     "data": {
      "text/plain": [
       "(['a', 'girl', 'is', 'styling', 'her', 'hair'], 0)"
      ]
     },
     "execution_count": 7,
     "metadata": {},
     "output_type": "execute_result"
    }
   ],
   "source": [
    "sentences[0]"
   ]
  },
  {
   "cell_type": "markdown",
   "metadata": {},
   "source": [
    "Note, that IndexedList does not convert the sentences inplace but only on calling the __getitem__ method in order to turn the sentence into a tuple. You can access the original sentence using"
   ]
  },
  {
   "cell_type": "code",
   "execution_count": 8,
   "metadata": {},
   "outputs": [
    {
     "data": {
      "text/plain": [
       "'A girl is styling her hair.'"
      ]
     },
     "execution_count": 8,
     "metadata": {},
     "output_type": "execute_result"
    }
   ],
   "source": [
    "sentences.items[0]"
   ]
  },
  {
   "cell_type": "markdown",
   "metadata": {},
   "source": [
    "### Loading the models\n",
    "\n",
    "It is required for us to load the models as BaseKeyedVectors or as an BaseWordEmbeddingsModel. For this notebook, I already converted the models to a BaseKeyedVectors instance and saved the corresponding instance on my external harddrive. You have to replicate these steps yourself, because getting all the files can be a bit difficult, as the total filesize is around 15 GB."
   ]
  },
  {
   "cell_type": "code",
   "execution_count": 9,
   "metadata": {},
   "outputs": [],
   "source": [
    "models, results = {}, {}"
   ]
  },
  {
   "cell_type": "markdown",
   "metadata": {},
   "source": [
    "The following code performs a disk-to-ram training. Passing a path to __wv_mapfile_path__ will store the corresponding word vectors (wv) as a numpy memmap array. This is required, because loading all vectors into ram would would take up a lot of storage unecessary. The wv.vectors file will be replace by its memmap representation, which is why the next models do not require the wv_mapfile_path argument, as they access the same memmap object.\n",
    "\n",
    "The lang_freq=\"en\" induces the frequencies of the words according to the wordfreq package. This functionality allows you to work with pre-trained embeddings which don't come with frequency information. The method overwrites the counts in the glove.wv.vocab class, so that all further models also benefit from this induction."
   ]
  },
  {
   "cell_type": "code",
   "execution_count": 10,
   "metadata": {},
   "outputs": [
    {
     "name": "stderr",
     "output_type": "stream",
     "text": [
      "2021-12-02 22:15:48,128 : MainThread : INFO : loading Vectors object from /home/oborchers/.cache/huggingface/hub/fse__fasttext-wiki-news-subwords-300.ef21870476cd93435d83140fcf6e7171b517e337/fasttext-wiki-news-subwords-300.model\n",
      "2021-12-02 22:15:50,262 : MainThread : INFO : loading vectors from /home/oborchers/.cache/huggingface/hub/fse__fasttext-wiki-news-subwords-300.ef21870476cd93435d83140fcf6e7171b517e337/fasttext-wiki-news-subwords-300.model.vectors.npy with mmap=r\n",
      "2021-12-02 22:15:50,264 : MainThread : INFO : setting ignored attribute vectors_norm to None\n",
      "2021-12-02 22:15:50,265 : MainThread : INFO : loaded /home/oborchers/.cache/huggingface/hub/fse__fasttext-wiki-news-subwords-300.ef21870476cd93435d83140fcf6e7171b517e337/fasttext-wiki-news-subwords-300.model\n",
      "2021-12-02 22:15:52,247 : MainThread : INFO : loading Vectors object from /home/oborchers/.cache/huggingface/hub/fse__glove-twitter-100.7ef1c21d9bf90598a0c618c041d9817e50250183/glove-twitter-100.model\n",
      "2021-12-02 22:15:54,714 : MainThread : INFO : loading vectors from /home/oborchers/.cache/huggingface/hub/fse__glove-twitter-100.7ef1c21d9bf90598a0c618c041d9817e50250183/glove-twitter-100.model.vectors.npy with mmap=r\n",
      "2021-12-02 22:15:54,716 : MainThread : INFO : setting ignored attribute vectors_norm to None\n",
      "2021-12-02 22:15:54,717 : MainThread : INFO : loaded /home/oborchers/.cache/huggingface/hub/fse__glove-twitter-100.7ef1c21d9bf90598a0c618c041d9817e50250183/glove-twitter-100.model\n",
      "2021-12-02 22:15:56,749 : MainThread : INFO : loading Vectors object from /home/oborchers/.cache/huggingface/hub/fse__glove-twitter-200.72f480c107aaa58b9474ddaf45d13db2e34fa166/glove-twitter-200.model\n",
      "2021-12-02 22:15:59,388 : MainThread : INFO : loading vectors from /home/oborchers/.cache/huggingface/hub/fse__glove-twitter-200.72f480c107aaa58b9474ddaf45d13db2e34fa166/glove-twitter-200.model.vectors.npy with mmap=r\n",
      "2021-12-02 22:15:59,390 : MainThread : INFO : setting ignored attribute vectors_norm to None\n",
      "2021-12-02 22:15:59,391 : MainThread : INFO : loaded /home/oborchers/.cache/huggingface/hub/fse__glove-twitter-200.72f480c107aaa58b9474ddaf45d13db2e34fa166/glove-twitter-200.model\n",
      "2021-12-02 22:16:01,361 : MainThread : INFO : loading Vectors object from /home/oborchers/.cache/huggingface/hub/fse__glove-twitter-25.5ec1e20fb42502d60c4676070bad354ec71aa9aa/glove-twitter-25.model\n",
      "2021-12-02 22:16:03,734 : MainThread : INFO : loading vectors from /home/oborchers/.cache/huggingface/hub/fse__glove-twitter-25.5ec1e20fb42502d60c4676070bad354ec71aa9aa/glove-twitter-25.model.vectors.npy with mmap=r\n",
      "2021-12-02 22:16:03,736 : MainThread : INFO : setting ignored attribute vectors_norm to None\n",
      "2021-12-02 22:16:03,737 : MainThread : INFO : loaded /home/oborchers/.cache/huggingface/hub/fse__glove-twitter-25.5ec1e20fb42502d60c4676070bad354ec71aa9aa/glove-twitter-25.model\n",
      "2021-12-02 22:16:05,732 : MainThread : INFO : loading Vectors object from /home/oborchers/.cache/huggingface/hub/fse__glove-twitter-50.38339c079845641fe59690e5a147fab348a2eb29/glove-twitter-50.model\n",
      "2021-12-02 22:16:08,173 : MainThread : INFO : loading vectors from /home/oborchers/.cache/huggingface/hub/fse__glove-twitter-50.38339c079845641fe59690e5a147fab348a2eb29/glove-twitter-50.model.vectors.npy with mmap=r\n",
      "2021-12-02 22:16:08,177 : MainThread : INFO : setting ignored attribute vectors_norm to None\n",
      "2021-12-02 22:16:08,178 : MainThread : INFO : loaded /home/oborchers/.cache/huggingface/hub/fse__glove-twitter-50.38339c079845641fe59690e5a147fab348a2eb29/glove-twitter-50.model\n",
      "2021-12-02 22:16:10,182 : MainThread : INFO : loading Vectors object from /home/oborchers/.cache/huggingface/hub/fse__glove-wiki-gigaword-100.3282d5e7c5e979c2411ba9703d63a46243a2047e/glove-wiki-gigaword-100.model\n",
      "2021-12-02 22:16:12,069 : MainThread : INFO : loading vectors from /home/oborchers/.cache/huggingface/hub/fse__glove-wiki-gigaword-100.3282d5e7c5e979c2411ba9703d63a46243a2047e/glove-wiki-gigaword-100.model.vectors.npy with mmap=r\n",
      "2021-12-02 22:16:12,071 : MainThread : INFO : setting ignored attribute vectors_norm to None\n",
      "2021-12-02 22:16:12,071 : MainThread : INFO : loaded /home/oborchers/.cache/huggingface/hub/fse__glove-wiki-gigaword-100.3282d5e7c5e979c2411ba9703d63a46243a2047e/glove-wiki-gigaword-100.model\n",
      "2021-12-02 22:16:14,042 : MainThread : INFO : loading Vectors object from /home/oborchers/.cache/huggingface/hub/fse__glove-wiki-gigaword-200.96a689f1f194ddd2615e41c852396c1fb50e5882/glove-wiki-gigaword-200.model\n",
      "2021-12-02 22:16:14,614 : MainThread : INFO : loading vectors from /home/oborchers/.cache/huggingface/hub/fse__glove-wiki-gigaword-200.96a689f1f194ddd2615e41c852396c1fb50e5882/glove-wiki-gigaword-200.model.vectors.npy with mmap=r\n",
      "2021-12-02 22:16:14,616 : MainThread : INFO : setting ignored attribute vectors_norm to None\n",
      "2021-12-02 22:16:14,617 : MainThread : INFO : loaded /home/oborchers/.cache/huggingface/hub/fse__glove-wiki-gigaword-200.96a689f1f194ddd2615e41c852396c1fb50e5882/glove-wiki-gigaword-200.model\n",
      "2021-12-02 22:16:16,653 : MainThread : INFO : loading Vectors object from /home/oborchers/.cache/huggingface/hub/fse__glove-wiki-gigaword-300.242f9d6f62200e8b1a2aedfc22e4d673c0549add/glove-wiki-gigaword-300.model\n",
      "2021-12-02 22:16:17,172 : MainThread : INFO : loading vectors from /home/oborchers/.cache/huggingface/hub/fse__glove-wiki-gigaword-300.242f9d6f62200e8b1a2aedfc22e4d673c0549add/glove-wiki-gigaword-300.model.vectors.npy with mmap=r\n",
      "2021-12-02 22:16:17,174 : MainThread : INFO : setting ignored attribute vectors_norm to None\n",
      "2021-12-02 22:16:17,175 : MainThread : INFO : loaded /home/oborchers/.cache/huggingface/hub/fse__glove-wiki-gigaword-300.242f9d6f62200e8b1a2aedfc22e4d673c0549add/glove-wiki-gigaword-300.model\n",
      "2021-12-02 22:16:19,172 : MainThread : INFO : loading Vectors object from /home/oborchers/.cache/huggingface/hub/fse__glove-wiki-gigaword-50.d2d3bc131d1c28de59b055d6724c742bda902bcf/glove-wiki-gigaword-50.model\n",
      "2021-12-02 22:16:19,779 : MainThread : INFO : loading vectors from /home/oborchers/.cache/huggingface/hub/fse__glove-wiki-gigaword-50.d2d3bc131d1c28de59b055d6724c742bda902bcf/glove-wiki-gigaword-50.model.vectors.npy with mmap=r\n",
      "2021-12-02 22:16:19,781 : MainThread : INFO : setting ignored attribute vectors_norm to None\n",
      "2021-12-02 22:16:19,782 : MainThread : INFO : loaded /home/oborchers/.cache/huggingface/hub/fse__glove-wiki-gigaword-50.d2d3bc131d1c28de59b055d6724c742bda902bcf/glove-wiki-gigaword-50.model\n",
      "2021-12-02 22:16:21,814 : MainThread : INFO : loading Vectors object from /home/oborchers/.cache/huggingface/hub/fse__paragram-25.d27454408fa98c7bf128e58602f66775d23d532c/paragram-25.model\n",
      "2021-12-02 22:16:23,582 : MainThread : INFO : setting ignored attribute vectors_norm to None\n",
      "2021-12-02 22:16:23,583 : MainThread : INFO : loaded /home/oborchers/.cache/huggingface/hub/fse__paragram-25.d27454408fa98c7bf128e58602f66775d23d532c/paragram-25.model\n",
      "2021-12-02 22:16:25,558 : MainThread : INFO : loading Vectors object from /home/oborchers/.cache/huggingface/hub/fse__paragram-300-sl999.d16350f324c00fadb0f7ed05f8a9df130d950aab/paragram-300-sl999.model\n",
      "2021-12-02 22:16:27,579 : MainThread : INFO : loading vectors from /home/oborchers/.cache/huggingface/hub/fse__paragram-300-sl999.d16350f324c00fadb0f7ed05f8a9df130d950aab/paragram-300-sl999.model.vectors.npy with mmap=r\n",
      "2021-12-02 22:16:27,581 : MainThread : INFO : setting ignored attribute vectors_norm to None\n",
      "2021-12-02 22:16:27,582 : MainThread : INFO : loaded /home/oborchers/.cache/huggingface/hub/fse__paragram-300-sl999.d16350f324c00fadb0f7ed05f8a9df130d950aab/paragram-300-sl999.model\n",
      "2021-12-02 22:16:29,584 : MainThread : INFO : loading Vectors object from /home/oborchers/.cache/huggingface/hub/fse__paragram-300-ws353.cda1e084a44a24a769d595e5b6caf7ee7a8500b5/paragram-300-ws353.model\n",
      "2021-12-02 22:16:33,413 : MainThread : INFO : loading vectors from /home/oborchers/.cache/huggingface/hub/fse__paragram-300-ws353.cda1e084a44a24a769d595e5b6caf7ee7a8500b5/paragram-300-ws353.model.vectors.npy with mmap=r\n",
      "2021-12-02 22:16:33,415 : MainThread : INFO : setting ignored attribute vectors_norm to None\n",
      "2021-12-02 22:16:33,415 : MainThread : INFO : loaded /home/oborchers/.cache/huggingface/hub/fse__paragram-300-ws353.cda1e084a44a24a769d595e5b6caf7ee7a8500b5/paragram-300-ws353.model\n",
      "2021-12-02 22:16:35,449 : MainThread : INFO : loading Vectors object from /home/oborchers/.cache/huggingface/hub/fse__paranmt-300.ae7612b27a2516b44a42bbc148f9936332d30847/paranmt-300.model\n",
      "2021-12-02 22:16:35,666 : MainThread : INFO : loading vectors from /home/oborchers/.cache/huggingface/hub/fse__paranmt-300.ae7612b27a2516b44a42bbc148f9936332d30847/paranmt-300.model.vectors.npy with mmap=r\n",
      "2021-12-02 22:16:35,667 : MainThread : INFO : setting ignored attribute vectors_norm to None\n",
      "2021-12-02 22:16:35,668 : MainThread : INFO : loaded /home/oborchers/.cache/huggingface/hub/fse__paranmt-300.ae7612b27a2516b44a42bbc148f9936332d30847/paranmt-300.model\n",
      "2021-12-02 22:16:37,635 : MainThread : INFO : loading Vectors object from /home/oborchers/.cache/huggingface/hub/fse__word2vec-google-news-300.528f381952a0b7d777bb4a611c4a43f588d48994/word2vec-google-news-300.model\n",
      "2021-12-02 22:16:43,657 : MainThread : INFO : loading vectors from /home/oborchers/.cache/huggingface/hub/fse__word2vec-google-news-300.528f381952a0b7d777bb4a611c4a43f588d48994/word2vec-google-news-300.model.vectors.npy with mmap=r\n",
      "2021-12-02 22:16:43,659 : MainThread : INFO : setting ignored attribute vectors_norm to None\n",
      "2021-12-02 22:16:43,659 : MainThread : INFO : loaded /home/oborchers/.cache/huggingface/hub/fse__word2vec-google-news-300.528f381952a0b7d777bb4a611c4a43f588d48994/word2vec-google-news-300.model\n",
      "2021-12-02 22:16:46,470 : MainThread : INFO : loading FTVectors object from /home/oborchers/.cache/huggingface/hub/fse__fasttext-crawl-subwords-300.5db65694a7b3fde5a4f1a4c72ce96a25b931692d/fasttext-crawl-subwords-300.model\n",
      "2021-12-02 22:16:52,128 : MainThread : INFO : loading vectors from /home/oborchers/.cache/huggingface/hub/fse__fasttext-crawl-subwords-300.5db65694a7b3fde5a4f1a4c72ce96a25b931692d/fasttext-crawl-subwords-300.model.vectors.npy with mmap=r\n",
      "2021-12-02 22:16:52,130 : MainThread : INFO : loading vectors_vocab from /home/oborchers/.cache/huggingface/hub/fse__fasttext-crawl-subwords-300.5db65694a7b3fde5a4f1a4c72ce96a25b931692d/fasttext-crawl-subwords-300.model.vectors_vocab.npy with mmap=r\n",
      "2021-12-02 22:16:52,131 : MainThread : INFO : loading vectors_ngrams from /home/oborchers/.cache/huggingface/hub/fse__fasttext-crawl-subwords-300.5db65694a7b3fde5a4f1a4c72ce96a25b931692d/fasttext-crawl-subwords-300.model.vectors_ngrams.npy with mmap=r\n",
      "2021-12-02 22:16:52,132 : MainThread : INFO : setting ignored attribute vectors_norm to None\n",
      "2021-12-02 22:16:52,133 : MainThread : INFO : setting ignored attribute vectors_vocab_norm to None\n",
      "2021-12-02 22:16:52,134 : MainThread : INFO : setting ignored attribute vectors_ngrams_norm to None\n",
      "2021-12-02 22:16:52,135 : MainThread : INFO : setting ignored attribute buckets_word to None\n",
      "2021-12-02 22:16:52,136 : MainThread : INFO : loaded /home/oborchers/.cache/huggingface/hub/fse__fasttext-crawl-subwords-300.5db65694a7b3fde5a4f1a4c72ce96a25b931692d/fasttext-crawl-subwords-300.model\n"
     ]
    }
   ],
   "source": [
    "model_names = [\n",
    "    \"fasttext-wiki-news-subwords-300\",\n",
    "    \"glove-twitter-100\",\n",
    "    \"glove-twitter-200\",\n",
    "    \"glove-twitter-25\",\n",
    "    \"glove-twitter-50\",\n",
    "    \"glove-wiki-gigaword-100\",\n",
    "    \"glove-wiki-gigaword-200\",\n",
    "    \"glove-wiki-gigaword-300\",\n",
    "    \"glove-wiki-gigaword-50\",\n",
    "    \"paragram-25\",\n",
    "    \"paragram-300-sl999\",\n",
    "    \"paragram-300-ws353\",\n",
    "    \"paranmt-300\",\n",
    "    \"word2vec-google-news-300\",\n",
    "]\n",
    "\n",
    "vectors = {}\n",
    "\n",
    "for name in model_names:\n",
    "    vectors[name] = Vectors.from_pretrained(name, mmap=\"r\")\n",
    "    \n",
    "ft = \"fasttext-crawl-subwords-300\"\n",
    "vectors[ft] = FTVectors.from_pretrained(ft, mmap=\"r\")"
   ]
  },
  {
   "cell_type": "code",
   "execution_count": 11,
   "metadata": {},
   "outputs": [],
   "source": [
    "algos = {\n",
    "    \"CBOW\" : (Average, {\"lang_freq\":\"en\"}),\n",
    "    \"SIF\" : (SIF, {\"lang_freq\":\"en\", \"components\" : 10}),\n",
    "    \"uSIF\": (uSIF, {\"lang_freq\":\"en\", \"length\": 11}),\n",
    "}\n",
    "import itertools\n",
    "combinations = list(itertools.product(algos.keys(), vectors.keys()))"
   ]
  },
  {
   "cell_type": "markdown",
   "metadata": {},
   "source": [
    "## Computation of the results for the STS benchmark"
   ]
  },
  {
   "cell_type": "markdown",
   "metadata": {},
   "source": [
    "We are finally able to compute the STS benchmark values for all models."
   ]
  },
  {
   "cell_type": "code",
   "execution_count": 12,
   "metadata": {},
   "outputs": [],
   "source": [
    "# This function is used to compute the similarities between two sentences.\n",
    "# Task length is the length of the sts dataset.\n",
    "def compute_similarities(task_length, model):\n",
    "    sims = []\n",
    "    for i, j in zip(range(task_length), range(task_length, 2*task_length)):\n",
    "        sims.append(model.sv.similarity(i,j))\n",
    "    return sims"
   ]
  },
  {
   "cell_type": "code",
   "execution_count": 13,
   "metadata": {},
   "outputs": [
    {
     "name": "stderr",
     "output_type": "stream",
     "text": [
      "2021-12-02 22:16:59,259 : MainThread : INFO : no frequency mode: using wordfreq for estimation of frequency for language: en\n",
      "2021-12-02 22:17:00,296 : MainThread : INFO : scanning all indexed sentences and their word counts\n",
      "2021-12-02 22:17:00,681 : MainThread : INFO : finished scanning 2758 sentences with an average length of 9 and 27528 total words\n",
      "2021-12-02 22:17:00,996 : MainThread : INFO : estimated memory for 2758 sentences with 300 dimensions and 999999 vocabulary: 1151 MB (1 GB)\n",
      "2021-12-02 22:17:00,998 : MainThread : INFO : initializing sentence vectors for 2758 sentences\n",
      "2021-12-02 22:17:01,056 : MainThread : INFO : begin training\n",
      "2021-12-02 22:17:01,514 : MainThread : INFO : worker thread finished; awaiting finish of 0 more threads\n",
      "2021-12-02 22:17:01,515 : MainThread : INFO : training on 2758 effective sentences with 27172 effective words took 0s with 6007 sentences/s\n",
      "2021-12-02 22:17:01,550 : MainThread : INFO : no frequency mode: using wordfreq for estimation of frequency for language: en\n"
     ]
    },
    {
     "name": "stdout",
     "output_type": "stream",
     "text": [
      "CBOW fasttext-wiki-news-subwords-300 26.08\n"
     ]
    },
    {
     "name": "stderr",
     "output_type": "stream",
     "text": [
      "2021-12-02 22:17:02,646 : MainThread : INFO : scanning all indexed sentences and their word counts\n",
      "2021-12-02 22:17:02,960 : MainThread : INFO : finished scanning 2758 sentences with an average length of 9 and 27528 total words\n",
      "2021-12-02 22:17:03,414 : MainThread : INFO : estimated memory for 2758 sentences with 100 dimensions and 1193514 vocabulary: 460 MB (0 GB)\n",
      "2021-12-02 22:17:03,415 : MainThread : INFO : initializing sentence vectors for 2758 sentences\n",
      "2021-12-02 22:17:03,449 : MainThread : INFO : begin training\n",
      "2021-12-02 22:17:03,807 : MainThread : INFO : worker thread finished; awaiting finish of 0 more threads\n",
      "2021-12-02 22:17:03,808 : MainThread : INFO : training on 2758 effective sentences with 26828 effective words took 0s with 7673 sentences/s\n",
      "2021-12-02 22:17:03,836 : MainThread : INFO : no frequency mode: using wordfreq for estimation of frequency for language: en\n"
     ]
    },
    {
     "name": "stdout",
     "output_type": "stream",
     "text": [
      "CBOW glove-twitter-100 33.81\n"
     ]
    },
    {
     "name": "stderr",
     "output_type": "stream",
     "text": [
      "2021-12-02 22:17:04,847 : MainThread : INFO : scanning all indexed sentences and their word counts\n",
      "2021-12-02 22:17:05,299 : MainThread : INFO : finished scanning 2758 sentences with an average length of 9 and 27528 total words\n",
      "2021-12-02 22:17:05,747 : MainThread : INFO : estimated memory for 2758 sentences with 200 dimensions and 1193514 vocabulary: 917 MB (0 GB)\n",
      "2021-12-02 22:17:05,748 : MainThread : INFO : initializing sentence vectors for 2758 sentences\n",
      "2021-12-02 22:17:05,782 : MainThread : INFO : begin training\n",
      "2021-12-02 22:17:06,130 : MainThread : INFO : worker thread finished; awaiting finish of 0 more threads\n",
      "2021-12-02 22:17:06,131 : MainThread : INFO : training on 2758 effective sentences with 26828 effective words took 0s with 7903 sentences/s\n",
      "2021-12-02 22:17:06,162 : MainThread : INFO : no frequency mode: using wordfreq for estimation of frequency for language: en\n"
     ]
    },
    {
     "name": "stdout",
     "output_type": "stream",
     "text": [
      "CBOW glove-twitter-200 34.94\n"
     ]
    },
    {
     "name": "stderr",
     "output_type": "stream",
     "text": [
      "2021-12-02 22:17:07,227 : MainThread : INFO : scanning all indexed sentences and their word counts\n",
      "2021-12-02 22:17:07,550 : MainThread : INFO : finished scanning 2758 sentences with an average length of 9 and 27528 total words\n",
      "2021-12-02 22:17:08,005 : MainThread : INFO : estimated memory for 2758 sentences with 25 dimensions and 1193514 vocabulary: 118 MB (0 GB)\n",
      "2021-12-02 22:17:08,006 : MainThread : INFO : initializing sentence vectors for 2758 sentences\n",
      "2021-12-02 22:17:08,035 : MainThread : INFO : begin training\n",
      "2021-12-02 22:17:08,486 : MainThread : INFO : worker thread finished; awaiting finish of 0 more threads\n",
      "2021-12-02 22:17:08,487 : MainThread : INFO : training on 2758 effective sentences with 26828 effective words took 0s with 6113 sentences/s\n",
      "2021-12-02 22:17:08,513 : MainThread : INFO : no frequency mode: using wordfreq for estimation of frequency for language: en\n"
     ]
    },
    {
     "name": "stdout",
     "output_type": "stream",
     "text": [
      "CBOW glove-twitter-25 26.15\n"
     ]
    },
    {
     "name": "stderr",
     "output_type": "stream",
     "text": [
      "2021-12-02 22:17:09,574 : MainThread : INFO : scanning all indexed sentences and their word counts\n",
      "2021-12-02 22:17:09,888 : MainThread : INFO : finished scanning 2758 sentences with an average length of 9 and 27528 total words\n",
      "2021-12-02 22:17:10,339 : MainThread : INFO : estimated memory for 2758 sentences with 50 dimensions and 1193514 vocabulary: 232 MB (0 GB)\n",
      "2021-12-02 22:17:10,340 : MainThread : INFO : initializing sentence vectors for 2758 sentences\n",
      "2021-12-02 22:17:10,410 : MainThread : INFO : begin training\n",
      "2021-12-02 22:17:10,851 : MainThread : INFO : worker thread finished; awaiting finish of 0 more threads\n",
      "2021-12-02 22:17:10,852 : MainThread : INFO : training on 2758 effective sentences with 26828 effective words took 0s with 6228 sentences/s\n",
      "2021-12-02 22:17:10,881 : MainThread : INFO : no frequency mode: using wordfreq for estimation of frequency for language: en\n"
     ]
    },
    {
     "name": "stdout",
     "output_type": "stream",
     "text": [
      "CBOW glove-twitter-50 30.78\n"
     ]
    },
    {
     "name": "stderr",
     "output_type": "stream",
     "text": [
      "2021-12-02 22:17:11,325 : MainThread : INFO : scanning all indexed sentences and their word counts\n",
      "2021-12-02 22:17:11,666 : MainThread : INFO : finished scanning 2758 sentences with an average length of 9 and 27528 total words\n",
      "2021-12-02 22:17:11,839 : MainThread : INFO : estimated memory for 2758 sentences with 100 dimensions and 400000 vocabulary: 155 MB (0 GB)\n",
      "2021-12-02 22:17:11,840 : MainThread : INFO : initializing sentence vectors for 2758 sentences\n",
      "2021-12-02 22:17:11,861 : MainThread : INFO : begin training\n",
      "2021-12-02 22:17:12,213 : MainThread : INFO : worker thread finished; awaiting finish of 0 more threads\n",
      "2021-12-02 22:17:12,214 : MainThread : INFO : training on 2758 effective sentences with 27410 effective words took 0s with 7808 sentences/s\n",
      "2021-12-02 22:17:12,243 : MainThread : INFO : no frequency mode: using wordfreq for estimation of frequency for language: en\n"
     ]
    },
    {
     "name": "stdout",
     "output_type": "stream",
     "text": [
      "CBOW glove-wiki-gigaword-100 38.12\n"
     ]
    },
    {
     "name": "stderr",
     "output_type": "stream",
     "text": [
      "2021-12-02 22:17:12,677 : MainThread : INFO : scanning all indexed sentences and their word counts\n",
      "2021-12-02 22:17:12,998 : MainThread : INFO : finished scanning 2758 sentences with an average length of 9 and 27528 total words\n",
      "2021-12-02 22:17:13,134 : MainThread : INFO : estimated memory for 2758 sentences with 200 dimensions and 400000 vocabulary: 308 MB (0 GB)\n",
      "2021-12-02 22:17:13,136 : MainThread : INFO : initializing sentence vectors for 2758 sentences\n",
      "2021-12-02 22:17:13,165 : MainThread : INFO : begin training\n",
      "2021-12-02 22:17:13,520 : MainThread : INFO : worker thread finished; awaiting finish of 0 more threads\n",
      "2021-12-02 22:17:13,522 : MainThread : INFO : training on 2758 effective sentences with 27410 effective words took 0s with 7733 sentences/s\n",
      "2021-12-02 22:17:13,553 : MainThread : INFO : no frequency mode: using wordfreq for estimation of frequency for language: en\n"
     ]
    },
    {
     "name": "stdout",
     "output_type": "stream",
     "text": [
      "CBOW glove-wiki-gigaword-200 42.40\n"
     ]
    },
    {
     "name": "stderr",
     "output_type": "stream",
     "text": [
      "2021-12-02 22:17:13,986 : MainThread : INFO : scanning all indexed sentences and their word counts\n",
      "2021-12-02 22:17:14,310 : MainThread : INFO : finished scanning 2758 sentences with an average length of 9 and 27528 total words\n",
      "2021-12-02 22:17:14,436 : MainThread : INFO : estimated memory for 2758 sentences with 300 dimensions and 400000 vocabulary: 462 MB (0 GB)\n",
      "2021-12-02 22:17:14,438 : MainThread : INFO : initializing sentence vectors for 2758 sentences\n",
      "2021-12-02 22:17:14,457 : MainThread : INFO : begin training\n",
      "2021-12-02 22:17:14,817 : MainThread : INFO : worker thread finished; awaiting finish of 0 more threads\n",
      "2021-12-02 22:17:14,819 : MainThread : INFO : training on 2758 effective sentences with 27410 effective words took 0s with 7631 sentences/s\n",
      "2021-12-02 22:17:14,852 : MainThread : INFO : no frequency mode: using wordfreq for estimation of frequency for language: en\n"
     ]
    },
    {
     "name": "stdout",
     "output_type": "stream",
     "text": [
      "CBOW glove-wiki-gigaword-300 44.46\n"
     ]
    },
    {
     "name": "stderr",
     "output_type": "stream",
     "text": [
      "2021-12-02 22:17:15,225 : MainThread : INFO : scanning all indexed sentences and their word counts\n",
      "2021-12-02 22:17:15,553 : MainThread : INFO : finished scanning 2758 sentences with an average length of 9 and 27528 total words\n",
      "2021-12-02 22:17:15,679 : MainThread : INFO : estimated memory for 2758 sentences with 50 dimensions and 400000 vocabulary: 78 MB (0 GB)\n",
      "2021-12-02 22:17:15,681 : MainThread : INFO : initializing sentence vectors for 2758 sentences\n",
      "2021-12-02 22:17:15,700 : MainThread : INFO : begin training\n",
      "2021-12-02 22:17:16,066 : MainThread : INFO : worker thread finished; awaiting finish of 0 more threads\n",
      "2021-12-02 22:17:16,067 : MainThread : INFO : training on 2758 effective sentences with 27410 effective words took 0s with 7510 sentences/s\n",
      "2021-12-02 22:17:16,096 : MainThread : INFO : no frequency mode: using wordfreq for estimation of frequency for language: en\n",
      "2021-12-02 22:17:16,227 : MainThread : INFO : scanning all indexed sentences and their word counts\n"
     ]
    },
    {
     "name": "stdout",
     "output_type": "stream",
     "text": [
      "CBOW glove-wiki-gigaword-50 37.47\n"
     ]
    },
    {
     "name": "stderr",
     "output_type": "stream",
     "text": [
      "2021-12-02 22:17:16,607 : MainThread : INFO : finished scanning 2758 sentences with an average length of 9 and 27528 total words\n",
      "2021-12-02 22:17:16,650 : MainThread : INFO : estimated memory for 2758 sentences with 25 dimensions and 99958 vocabulary: 10 MB (0 GB)\n",
      "2021-12-02 22:17:16,652 : MainThread : INFO : initializing sentence vectors for 2758 sentences\n",
      "2021-12-02 22:17:16,664 : MainThread : INFO : begin training\n",
      "2021-12-02 22:17:17,020 : MainThread : INFO : worker thread finished; awaiting finish of 0 more threads\n",
      "2021-12-02 22:17:17,021 : MainThread : INFO : training on 2758 effective sentences with 27038 effective words took 0s with 7734 sentences/s\n",
      "2021-12-02 22:17:17,060 : MainThread : INFO : no frequency mode: using wordfreq for estimation of frequency for language: en\n"
     ]
    },
    {
     "name": "stdout",
     "output_type": "stream",
     "text": [
      "CBOW paragram-25 40.13\n"
     ]
    },
    {
     "name": "stderr",
     "output_type": "stream",
     "text": [
      "2021-12-02 22:17:18,430 : MainThread : INFO : scanning all indexed sentences and their word counts\n",
      "2021-12-02 22:17:18,803 : MainThread : INFO : finished scanning 2758 sentences with an average length of 9 and 27528 total words\n",
      "2021-12-02 22:17:19,328 : MainThread : INFO : estimated memory for 2758 sentences with 300 dimensions and 1703756 vocabulary: 1959 MB (1 GB)\n",
      "2021-12-02 22:17:19,329 : MainThread : INFO : initializing sentence vectors for 2758 sentences\n",
      "2021-12-02 22:17:19,371 : MainThread : INFO : begin training\n",
      "2021-12-02 22:17:19,732 : MainThread : INFO : worker thread finished; awaiting finish of 0 more threads\n",
      "2021-12-02 22:17:19,733 : MainThread : INFO : training on 2758 effective sentences with 27448 effective words took 0s with 7612 sentences/s\n",
      "2021-12-02 22:17:19,765 : MainThread : INFO : no frequency mode: using wordfreq for estimation of frequency for language: en\n"
     ]
    },
    {
     "name": "stdout",
     "output_type": "stream",
     "text": [
      "CBOW paragram-300-sl999 51.46\n"
     ]
    },
    {
     "name": "stderr",
     "output_type": "stream",
     "text": [
      "2021-12-02 22:17:21,084 : MainThread : INFO : scanning all indexed sentences and their word counts\n",
      "2021-12-02 22:17:21,405 : MainThread : INFO : finished scanning 2758 sentences with an average length of 9 and 27528 total words\n",
      "2021-12-02 22:17:21,981 : MainThread : INFO : estimated memory for 2758 sentences with 300 dimensions and 1703756 vocabulary: 1959 MB (1 GB)\n",
      "2021-12-02 22:17:21,983 : MainThread : INFO : initializing sentence vectors for 2758 sentences\n",
      "2021-12-02 22:17:22,026 : MainThread : INFO : begin training\n",
      "2021-12-02 22:17:22,373 : MainThread : INFO : worker thread finished; awaiting finish of 0 more threads\n",
      "2021-12-02 22:17:22,374 : MainThread : INFO : training on 2758 effective sentences with 27448 effective words took 0s with 7904 sentences/s\n",
      "2021-12-02 22:17:22,406 : MainThread : INFO : no frequency mode: using wordfreq for estimation of frequency for language: en\n",
      "2021-12-02 22:17:22,494 : MainThread : INFO : scanning all indexed sentences and their word counts\n"
     ]
    },
    {
     "name": "stdout",
     "output_type": "stream",
     "text": [
      "CBOW paragram-300-ws353 54.72\n"
     ]
    },
    {
     "name": "stderr",
     "output_type": "stream",
     "text": [
      "2021-12-02 22:17:22,867 : MainThread : INFO : finished scanning 2758 sentences with an average length of 9 and 27528 total words\n",
      "2021-12-02 22:17:22,905 : MainThread : INFO : estimated memory for 2758 sentences with 300 dimensions and 77224 vocabulary: 91 MB (0 GB)\n",
      "2021-12-02 22:17:22,908 : MainThread : INFO : initializing sentence vectors for 2758 sentences\n",
      "2021-12-02 22:17:22,920 : MainThread : INFO : begin training\n",
      "2021-12-02 22:17:23,271 : MainThread : INFO : worker thread finished; awaiting finish of 0 more threads\n",
      "2021-12-02 22:17:23,272 : MainThread : INFO : training on 2758 effective sentences with 27439 effective words took 0s with 7831 sentences/s\n",
      "2021-12-02 22:17:23,306 : MainThread : INFO : no frequency mode: using wordfreq for estimation of frequency for language: en\n"
     ]
    },
    {
     "name": "stdout",
     "output_type": "stream",
     "text": [
      "CBOW paranmt-300 79.82\n"
     ]
    },
    {
     "name": "stderr",
     "output_type": "stream",
     "text": [
      "2021-12-02 22:17:25,822 : MainThread : INFO : scanning all indexed sentences and their word counts\n",
      "2021-12-02 22:17:26,132 : MainThread : INFO : finished scanning 2758 sentences with an average length of 9 and 27528 total words\n",
      "2021-12-02 22:17:27,223 : MainThread : INFO : estimated memory for 2758 sentences with 300 dimensions and 3000000 vocabulary: 3447 MB (3 GB)\n",
      "2021-12-02 22:17:27,225 : MainThread : INFO : initializing sentence vectors for 2758 sentences\n",
      "2021-12-02 22:17:27,291 : MainThread : INFO : begin training\n",
      "2021-12-02 22:17:28,197 : MainThread : INFO : worker thread finished; awaiting finish of 0 more threads\n",
      "2021-12-02 22:17:28,198 : MainThread : INFO : training on 2758 effective sentences with 23116 effective words took 0s with 3039 sentences/s\n",
      "2021-12-02 22:17:28,232 : MainThread : INFO : no frequency mode: using wordfreq for estimation of frequency for language: en\n"
     ]
    },
    {
     "name": "stdout",
     "output_type": "stream",
     "text": [
      "CBOW word2vec-google-news-300 61.54\n"
     ]
    },
    {
     "name": "stderr",
     "output_type": "stream",
     "text": [
      "2021-12-02 22:17:29,949 : MainThread : INFO : scanning all indexed sentences and their word counts\n",
      "2021-12-02 22:17:30,275 : MainThread : INFO : finished scanning 2758 sentences with an average length of 9 and 27528 total words\n",
      "2021-12-02 22:17:31,018 : MainThread : INFO : estimated memory for 2758 sentences with 300 dimensions and 2000000 vocabulary: 6877 MB (6 GB)\n",
      "2021-12-02 22:17:31,020 : MainThread : INFO : initializing sentence vectors for 2758 sentences\n",
      "2021-12-02 22:17:31,066 : MainThread : INFO : begin training\n",
      "2021-12-02 22:17:32,129 : MainThread : INFO : worker thread finished; awaiting finish of 0 more threads\n",
      "2021-12-02 22:17:32,130 : MainThread : INFO : training on 2758 effective sentences with 27528 effective words took 1s with 2593 sentences/s\n",
      "2021-12-02 22:17:32,160 : MainThread : INFO : no frequency mode: using wordfreq for estimation of frequency for language: en\n"
     ]
    },
    {
     "name": "stdout",
     "output_type": "stream",
     "text": [
      "CBOW fasttext-crawl-subwords-300 48.49\n"
     ]
    },
    {
     "name": "stderr",
     "output_type": "stream",
     "text": [
      "2021-12-02 22:17:32,901 : MainThread : INFO : scanning all indexed sentences and their word counts\n",
      "2021-12-02 22:17:33,264 : MainThread : INFO : finished scanning 2758 sentences with an average length of 9 and 27528 total words\n",
      "2021-12-02 22:17:33,558 : MainThread : INFO : estimated memory for 2758 sentences with 300 dimensions and 999999 vocabulary: 1151 MB (1 GB)\n",
      "2021-12-02 22:17:33,560 : MainThread : INFO : initializing sentence vectors for 2758 sentences\n",
      "2021-12-02 22:17:33,573 : MainThread : INFO : pre-computing SIF weights for 999999 words\n",
      "2021-12-02 22:17:34,253 : MainThread : INFO : begin training\n",
      "2021-12-02 22:17:34,699 : MainThread : INFO : worker thread finished; awaiting finish of 0 more threads\n",
      "2021-12-02 22:17:34,757 : MainThread : INFO : computing 10 principal components took 0s\n",
      "2021-12-02 22:17:34,765 : MainThread : INFO : removing 10 principal components took 0s\n",
      "2021-12-02 22:17:34,767 : MainThread : INFO : training on 2758 effective sentences with 27172 effective words took 0s with 6163 sentences/s\n",
      "2021-12-02 22:17:34,855 : MainThread : INFO : no frequency mode: using wordfreq for estimation of frequency for language: en\n"
     ]
    },
    {
     "name": "stdout",
     "output_type": "stream",
     "text": [
      "SIF fasttext-wiki-news-subwords-300 72.24\n"
     ]
    },
    {
     "name": "stderr",
     "output_type": "stream",
     "text": [
      "2021-12-02 22:17:35,781 : MainThread : INFO : scanning all indexed sentences and their word counts\n",
      "2021-12-02 22:17:36,092 : MainThread : INFO : finished scanning 2758 sentences with an average length of 9 and 27528 total words\n",
      "2021-12-02 22:17:36,549 : MainThread : INFO : estimated memory for 2758 sentences with 100 dimensions and 1193514 vocabulary: 460 MB (0 GB)\n",
      "2021-12-02 22:17:36,549 : MainThread : INFO : initializing sentence vectors for 2758 sentences\n",
      "2021-12-02 22:17:36,565 : MainThread : INFO : pre-computing SIF weights for 1193514 words\n",
      "2021-12-02 22:17:37,494 : MainThread : INFO : begin training\n",
      "2021-12-02 22:17:37,863 : MainThread : INFO : worker thread finished; awaiting finish of 0 more threads\n",
      "2021-12-02 22:17:37,969 : MainThread : INFO : computing 10 principal components took 0s\n",
      "2021-12-02 22:17:37,972 : MainThread : INFO : removing 10 principal components took 0s\n",
      "2021-12-02 22:17:37,973 : MainThread : INFO : training on 2758 effective sentences with 26828 effective words took 0s with 7466 sentences/s\n",
      "2021-12-02 22:17:38,043 : MainThread : INFO : no frequency mode: using wordfreq for estimation of frequency for language: en\n"
     ]
    },
    {
     "name": "stdout",
     "output_type": "stream",
     "text": [
      "SIF glove-twitter-100 69.70\n"
     ]
    },
    {
     "name": "stderr",
     "output_type": "stream",
     "text": [
      "2021-12-02 22:17:39,052 : MainThread : INFO : scanning all indexed sentences and their word counts\n",
      "2021-12-02 22:17:39,363 : MainThread : INFO : finished scanning 2758 sentences with an average length of 9 and 27528 total words\n",
      "2021-12-02 22:17:39,798 : MainThread : INFO : estimated memory for 2758 sentences with 200 dimensions and 1193514 vocabulary: 917 MB (0 GB)\n",
      "2021-12-02 22:17:39,799 : MainThread : INFO : initializing sentence vectors for 2758 sentences\n",
      "2021-12-02 22:17:39,814 : MainThread : INFO : pre-computing SIF weights for 1193514 words\n",
      "2021-12-02 22:17:40,717 : MainThread : INFO : begin training\n",
      "2021-12-02 22:17:41,160 : MainThread : INFO : worker thread finished; awaiting finish of 0 more threads\n",
      "2021-12-02 22:17:41,196 : MainThread : INFO : computing 10 principal components took 0s\n",
      "2021-12-02 22:17:41,200 : MainThread : INFO : removing 10 principal components took 0s\n",
      "2021-12-02 22:17:41,201 : MainThread : INFO : training on 2758 effective sentences with 26828 effective words took 0s with 6200 sentences/s\n",
      "2021-12-02 22:17:41,285 : MainThread : INFO : no frequency mode: using wordfreq for estimation of frequency for language: en\n"
     ]
    },
    {
     "name": "stdout",
     "output_type": "stream",
     "text": [
      "SIF glove-twitter-200 71.67\n"
     ]
    },
    {
     "name": "stderr",
     "output_type": "stream",
     "text": [
      "2021-12-02 22:17:42,323 : MainThread : INFO : scanning all indexed sentences and their word counts\n",
      "2021-12-02 22:17:42,637 : MainThread : INFO : finished scanning 2758 sentences with an average length of 9 and 27528 total words\n",
      "2021-12-02 22:17:43,118 : MainThread : INFO : estimated memory for 2758 sentences with 25 dimensions and 1193514 vocabulary: 118 MB (0 GB)\n",
      "2021-12-02 22:17:43,120 : MainThread : INFO : initializing sentence vectors for 2758 sentences\n",
      "2021-12-02 22:17:43,131 : MainThread : INFO : pre-computing SIF weights for 1193514 words\n",
      "2021-12-02 22:17:44,090 : MainThread : INFO : begin training\n",
      "2021-12-02 22:17:44,549 : MainThread : INFO : worker thread finished; awaiting finish of 0 more threads\n",
      "2021-12-02 22:17:44,746 : MainThread : INFO : computing 10 principal components took 0s\n",
      "2021-12-02 22:17:44,750 : MainThread : INFO : removing 10 principal components took 0s\n",
      "2021-12-02 22:17:44,751 : MainThread : INFO : training on 2758 effective sentences with 26828 effective words took 0s with 6005 sentences/s\n",
      "2021-12-02 22:17:44,818 : MainThread : INFO : no frequency mode: using wordfreq for estimation of frequency for language: en\n"
     ]
    },
    {
     "name": "stdout",
     "output_type": "stream",
     "text": [
      "SIF glove-twitter-25 54.42\n"
     ]
    },
    {
     "name": "stderr",
     "output_type": "stream",
     "text": [
      "2021-12-02 22:17:45,898 : MainThread : INFO : scanning all indexed sentences and their word counts\n",
      "2021-12-02 22:17:46,207 : MainThread : INFO : finished scanning 2758 sentences with an average length of 9 and 27528 total words\n",
      "2021-12-02 22:17:46,653 : MainThread : INFO : estimated memory for 2758 sentences with 50 dimensions and 1193514 vocabulary: 232 MB (0 GB)\n",
      "2021-12-02 22:17:46,654 : MainThread : INFO : initializing sentence vectors for 2758 sentences\n",
      "2021-12-02 22:17:46,666 : MainThread : INFO : pre-computing SIF weights for 1193514 words\n",
      "2021-12-02 22:17:47,593 : MainThread : INFO : begin training\n",
      "2021-12-02 22:17:47,929 : MainThread : INFO : worker thread finished; awaiting finish of 0 more threads\n",
      "2021-12-02 22:17:48,144 : MainThread : INFO : computing 10 principal components took 0s\n",
      "2021-12-02 22:17:48,147 : MainThread : INFO : removing 10 principal components took 0s\n",
      "2021-12-02 22:17:48,148 : MainThread : INFO : training on 2758 effective sentences with 26828 effective words took 0s with 8184 sentences/s\n",
      "2021-12-02 22:17:48,189 : MainThread : INFO : no frequency mode: using wordfreq for estimation of frequency for language: en\n"
     ]
    },
    {
     "name": "stdout",
     "output_type": "stream",
     "text": [
      "SIF glove-twitter-50 65.57\n"
     ]
    },
    {
     "name": "stderr",
     "output_type": "stream",
     "text": [
      "2021-12-02 22:17:48,584 : MainThread : INFO : scanning all indexed sentences and their word counts\n",
      "2021-12-02 22:17:48,900 : MainThread : INFO : finished scanning 2758 sentences with an average length of 9 and 27528 total words\n",
      "2021-12-02 22:17:49,065 : MainThread : INFO : estimated memory for 2758 sentences with 100 dimensions and 400000 vocabulary: 155 MB (0 GB)\n",
      "2021-12-02 22:17:49,066 : MainThread : INFO : initializing sentence vectors for 2758 sentences\n",
      "2021-12-02 22:17:49,081 : MainThread : INFO : pre-computing SIF weights for 400000 words\n",
      "2021-12-02 22:17:49,395 : MainThread : INFO : begin training\n",
      "2021-12-02 22:17:49,736 : MainThread : INFO : worker thread finished; awaiting finish of 0 more threads\n",
      "2021-12-02 22:17:50,117 : MainThread : INFO : computing 10 principal components took 0s\n",
      "2021-12-02 22:17:50,121 : MainThread : INFO : removing 10 principal components took 0s\n",
      "2021-12-02 22:17:50,122 : MainThread : INFO : training on 2758 effective sentences with 27410 effective words took 0s with 8072 sentences/s\n",
      "2021-12-02 22:17:50,182 : MainThread : INFO : no frequency mode: using wordfreq for estimation of frequency for language: en\n"
     ]
    },
    {
     "name": "stdout",
     "output_type": "stream",
     "text": [
      "SIF glove-wiki-gigaword-100 68.43\n"
     ]
    },
    {
     "name": "stderr",
     "output_type": "stream",
     "text": [
      "2021-12-02 22:17:50,609 : MainThread : INFO : scanning all indexed sentences and their word counts\n",
      "2021-12-02 22:17:50,932 : MainThread : INFO : finished scanning 2758 sentences with an average length of 9 and 27528 total words\n",
      "2021-12-02 22:17:51,067 : MainThread : INFO : estimated memory for 2758 sentences with 200 dimensions and 400000 vocabulary: 308 MB (0 GB)\n",
      "2021-12-02 22:17:51,068 : MainThread : INFO : initializing sentence vectors for 2758 sentences\n",
      "2021-12-02 22:17:51,088 : MainThread : INFO : pre-computing SIF weights for 400000 words\n",
      "2021-12-02 22:17:51,367 : MainThread : INFO : begin training\n",
      "2021-12-02 22:17:51,806 : MainThread : INFO : worker thread finished; awaiting finish of 0 more threads\n",
      "2021-12-02 22:17:52,487 : MainThread : INFO : computing 10 principal components took 0s\n",
      "2021-12-02 22:17:52,491 : MainThread : INFO : removing 10 principal components took 0s\n",
      "2021-12-02 22:17:52,492 : MainThread : INFO : training on 2758 effective sentences with 27410 effective words took 0s with 6262 sentences/s\n",
      "2021-12-02 22:17:52,577 : MainThread : INFO : no frequency mode: using wordfreq for estimation of frequency for language: en\n"
     ]
    },
    {
     "name": "stdout",
     "output_type": "stream",
     "text": [
      "SIF glove-wiki-gigaword-200 70.73\n"
     ]
    },
    {
     "name": "stderr",
     "output_type": "stream",
     "text": [
      "2021-12-02 22:17:52,978 : MainThread : INFO : scanning all indexed sentences and their word counts\n",
      "2021-12-02 22:17:53,294 : MainThread : INFO : finished scanning 2758 sentences with an average length of 9 and 27528 total words\n",
      "2021-12-02 22:17:53,426 : MainThread : INFO : estimated memory for 2758 sentences with 300 dimensions and 400000 vocabulary: 462 MB (0 GB)\n",
      "2021-12-02 22:17:53,428 : MainThread : INFO : initializing sentence vectors for 2758 sentences\n",
      "2021-12-02 22:17:53,450 : MainThread : INFO : pre-computing SIF weights for 400000 words\n",
      "2021-12-02 22:17:53,729 : MainThread : INFO : begin training\n",
      "2021-12-02 22:17:54,108 : MainThread : INFO : worker thread finished; awaiting finish of 0 more threads\n",
      "2021-12-02 22:17:54,289 : MainThread : INFO : computing 10 principal components took 0s\n",
      "2021-12-02 22:17:54,295 : MainThread : INFO : removing 10 principal components took 0s\n",
      "2021-12-02 22:17:54,296 : MainThread : INFO : training on 2758 effective sentences with 27410 effective words took 0s with 7252 sentences/s\n",
      "2021-12-02 22:17:54,361 : MainThread : INFO : no frequency mode: using wordfreq for estimation of frequency for language: en\n"
     ]
    },
    {
     "name": "stdout",
     "output_type": "stream",
     "text": [
      "SIF glove-wiki-gigaword-300 71.43\n"
     ]
    },
    {
     "name": "stderr",
     "output_type": "stream",
     "text": [
      "2021-12-02 22:17:54,751 : MainThread : INFO : scanning all indexed sentences and their word counts\n",
      "2021-12-02 22:17:55,074 : MainThread : INFO : finished scanning 2758 sentences with an average length of 9 and 27528 total words\n",
      "2021-12-02 22:17:55,207 : MainThread : INFO : estimated memory for 2758 sentences with 50 dimensions and 400000 vocabulary: 78 MB (0 GB)\n",
      "2021-12-02 22:17:55,209 : MainThread : INFO : initializing sentence vectors for 2758 sentences\n",
      "2021-12-02 22:17:55,221 : MainThread : INFO : pre-computing SIF weights for 400000 words\n",
      "2021-12-02 22:17:55,511 : MainThread : INFO : begin training\n",
      "2021-12-02 22:17:55,869 : MainThread : INFO : worker thread finished; awaiting finish of 0 more threads\n",
      "2021-12-02 22:17:55,911 : MainThread : INFO : computing 10 principal components took 0s\n",
      "2021-12-02 22:17:55,914 : MainThread : INFO : removing 10 principal components took 0s\n",
      "2021-12-02 22:17:55,915 : MainThread : INFO : training on 2758 effective sentences with 27410 effective words took 0s with 7668 sentences/s\n",
      "2021-12-02 22:17:55,985 : MainThread : INFO : no frequency mode: using wordfreq for estimation of frequency for language: en\n",
      "2021-12-02 22:17:56,120 : MainThread : INFO : scanning all indexed sentences and their word counts\n"
     ]
    },
    {
     "name": "stdout",
     "output_type": "stream",
     "text": [
      "SIF glove-wiki-gigaword-50 64.20\n"
     ]
    },
    {
     "name": "stderr",
     "output_type": "stream",
     "text": [
      "2021-12-02 22:17:56,431 : MainThread : INFO : finished scanning 2758 sentences with an average length of 9 and 27528 total words\n",
      "2021-12-02 22:17:56,472 : MainThread : INFO : estimated memory for 2758 sentences with 25 dimensions and 99958 vocabulary: 10 MB (0 GB)\n",
      "2021-12-02 22:17:56,473 : MainThread : INFO : initializing sentence vectors for 2758 sentences\n",
      "2021-12-02 22:17:56,485 : MainThread : INFO : pre-computing SIF weights for 99958 words\n",
      "2021-12-02 22:17:56,561 : MainThread : INFO : begin training\n",
      "2021-12-02 22:17:56,910 : MainThread : INFO : worker thread finished; awaiting finish of 0 more threads\n",
      "2021-12-02 22:17:56,956 : MainThread : INFO : computing 10 principal components took 0s\n",
      "2021-12-02 22:17:56,959 : MainThread : INFO : removing 10 principal components took 0s\n",
      "2021-12-02 22:17:56,960 : MainThread : INFO : training on 2758 effective sentences with 27038 effective words took 0s with 7877 sentences/s\n",
      "2021-12-02 22:17:57,028 : MainThread : INFO : no frequency mode: using wordfreq for estimation of frequency for language: en\n"
     ]
    },
    {
     "name": "stdout",
     "output_type": "stream",
     "text": [
      "SIF paragram-25 59.22\n"
     ]
    },
    {
     "name": "stderr",
     "output_type": "stream",
     "text": [
      "2021-12-02 22:17:58,338 : MainThread : INFO : scanning all indexed sentences and their word counts\n",
      "2021-12-02 22:17:58,706 : MainThread : INFO : finished scanning 2758 sentences with an average length of 9 and 27528 total words\n",
      "2021-12-02 22:17:59,246 : MainThread : INFO : estimated memory for 2758 sentences with 300 dimensions and 1703756 vocabulary: 1959 MB (1 GB)\n",
      "2021-12-02 22:17:59,247 : MainThread : INFO : initializing sentence vectors for 2758 sentences\n",
      "2021-12-02 22:17:59,257 : MainThread : INFO : pre-computing SIF weights for 1703756 words\n",
      "2021-12-02 22:18:00,454 : MainThread : INFO : begin training\n",
      "2021-12-02 22:18:00,867 : MainThread : INFO : worker thread finished; awaiting finish of 0 more threads\n",
      "2021-12-02 22:18:01,048 : MainThread : INFO : computing 10 principal components took 0s\n",
      "2021-12-02 22:18:01,056 : MainThread : INFO : removing 10 principal components took 0s\n",
      "2021-12-02 22:18:01,058 : MainThread : INFO : training on 2758 effective sentences with 27448 effective words took 0s with 6663 sentences/s\n",
      "2021-12-02 22:18:01,155 : MainThread : INFO : no frequency mode: using wordfreq for estimation of frequency for language: en\n"
     ]
    },
    {
     "name": "stdout",
     "output_type": "stream",
     "text": [
      "SIF paragram-300-sl999 74.27\n"
     ]
    },
    {
     "name": "stderr",
     "output_type": "stream",
     "text": [
      "2021-12-02 22:18:02,375 : MainThread : INFO : scanning all indexed sentences and their word counts\n",
      "2021-12-02 22:18:02,698 : MainThread : INFO : finished scanning 2758 sentences with an average length of 9 and 27528 total words\n",
      "2021-12-02 22:18:03,253 : MainThread : INFO : estimated memory for 2758 sentences with 300 dimensions and 1703756 vocabulary: 1959 MB (1 GB)\n",
      "2021-12-02 22:18:03,255 : MainThread : INFO : initializing sentence vectors for 2758 sentences\n",
      "2021-12-02 22:18:03,265 : MainThread : INFO : pre-computing SIF weights for 1703756 words\n",
      "2021-12-02 22:18:04,440 : MainThread : INFO : begin training\n",
      "2021-12-02 22:18:04,827 : MainThread : INFO : worker thread finished; awaiting finish of 0 more threads\n",
      "2021-12-02 22:18:04,989 : MainThread : INFO : computing 10 principal components took 0s\n",
      "2021-12-02 22:18:04,994 : MainThread : INFO : removing 10 principal components took 0s\n",
      "2021-12-02 22:18:04,996 : MainThread : INFO : training on 2758 effective sentences with 27448 effective words took 0s with 7106 sentences/s\n",
      "2021-12-02 22:18:05,043 : MainThread : INFO : no frequency mode: using wordfreq for estimation of frequency for language: en\n",
      "2021-12-02 22:18:05,142 : MainThread : INFO : scanning all indexed sentences and their word counts\n"
     ]
    },
    {
     "name": "stdout",
     "output_type": "stream",
     "text": [
      "SIF paragram-300-ws353 74.08\n"
     ]
    },
    {
     "name": "stderr",
     "output_type": "stream",
     "text": [
      "2021-12-02 22:18:05,457 : MainThread : INFO : finished scanning 2758 sentences with an average length of 9 and 27528 total words\n",
      "2021-12-02 22:18:05,499 : MainThread : INFO : estimated memory for 2758 sentences with 300 dimensions and 77224 vocabulary: 91 MB (0 GB)\n",
      "2021-12-02 22:18:05,500 : MainThread : INFO : initializing sentence vectors for 2758 sentences\n",
      "2021-12-02 22:18:05,510 : MainThread : INFO : pre-computing SIF weights for 77224 words\n",
      "2021-12-02 22:18:05,577 : MainThread : INFO : begin training\n",
      "2021-12-02 22:18:05,929 : MainThread : INFO : worker thread finished; awaiting finish of 0 more threads\n",
      "2021-12-02 22:18:06,084 : MainThread : INFO : computing 10 principal components took 0s\n",
      "2021-12-02 22:18:06,089 : MainThread : INFO : removing 10 principal components took 0s\n",
      "2021-12-02 22:18:06,090 : MainThread : INFO : training on 2758 effective sentences with 27439 effective words took 0s with 7824 sentences/s\n",
      "2021-12-02 22:18:06,163 : MainThread : INFO : no frequency mode: using wordfreq for estimation of frequency for language: en\n"
     ]
    },
    {
     "name": "stdout",
     "output_type": "stream",
     "text": [
      "SIF paranmt-300 76.76\n"
     ]
    },
    {
     "name": "stderr",
     "output_type": "stream",
     "text": [
      "2021-12-02 22:18:08,469 : MainThread : INFO : scanning all indexed sentences and their word counts\n",
      "2021-12-02 22:18:08,781 : MainThread : INFO : finished scanning 2758 sentences with an average length of 9 and 27528 total words\n",
      "2021-12-02 22:18:09,843 : MainThread : INFO : estimated memory for 2758 sentences with 300 dimensions and 3000000 vocabulary: 3447 MB (3 GB)\n",
      "2021-12-02 22:18:09,845 : MainThread : INFO : initializing sentence vectors for 2758 sentences\n",
      "2021-12-02 22:18:09,855 : MainThread : INFO : pre-computing SIF weights for 3000000 words\n",
      "2021-12-02 22:18:11,975 : MainThread : INFO : begin training\n",
      "2021-12-02 22:18:12,357 : MainThread : INFO : worker thread finished; awaiting finish of 0 more threads\n",
      "2021-12-02 22:18:13,201 : MainThread : INFO : computing 10 principal components took 0s\n",
      "2021-12-02 22:18:13,206 : MainThread : INFO : removing 10 principal components took 0s\n",
      "2021-12-02 22:18:13,208 : MainThread : INFO : training on 2758 effective sentences with 23116 effective words took 0s with 7201 sentences/s\n",
      "2021-12-02 22:18:13,244 : MainThread : INFO : no frequency mode: using wordfreq for estimation of frequency for language: en\n"
     ]
    },
    {
     "name": "stdout",
     "output_type": "stream",
     "text": [
      "SIF word2vec-google-news-300 71.17\n"
     ]
    },
    {
     "name": "stderr",
     "output_type": "stream",
     "text": [
      "2021-12-02 22:18:14,978 : MainThread : INFO : scanning all indexed sentences and their word counts\n",
      "2021-12-02 22:18:15,295 : MainThread : INFO : finished scanning 2758 sentences with an average length of 9 and 27528 total words\n",
      "2021-12-02 22:18:16,071 : MainThread : INFO : estimated memory for 2758 sentences with 300 dimensions and 2000000 vocabulary: 6877 MB (6 GB)\n",
      "2021-12-02 22:18:16,072 : MainThread : INFO : initializing sentence vectors for 2758 sentences\n",
      "2021-12-02 22:18:16,089 : MainThread : INFO : pre-computing SIF weights for 2000000 words\n",
      "2021-12-02 22:18:17,678 : MainThread : INFO : begin training\n",
      "2021-12-02 22:18:18,072 : MainThread : INFO : worker thread finished; awaiting finish of 0 more threads\n",
      "2021-12-02 22:18:18,416 : MainThread : INFO : computing 10 principal components took 0s\n",
      "2021-12-02 22:18:18,421 : MainThread : INFO : removing 10 principal components took 0s\n",
      "2021-12-02 22:18:18,423 : MainThread : INFO : training on 2758 effective sentences with 27528 effective words took 0s with 6967 sentences/s\n",
      "2021-12-02 22:18:18,490 : MainThread : INFO : no frequency mode: using wordfreq for estimation of frequency for language: en\n"
     ]
    },
    {
     "name": "stdout",
     "output_type": "stream",
     "text": [
      "SIF fasttext-crawl-subwords-300 73.54\n"
     ]
    },
    {
     "name": "stderr",
     "output_type": "stream",
     "text": [
      "2021-12-02 22:18:19,313 : MainThread : INFO : scanning all indexed sentences and their word counts\n",
      "2021-12-02 22:18:19,625 : MainThread : INFO : finished scanning 2758 sentences with an average length of 9 and 27528 total words\n",
      "2021-12-02 22:18:19,926 : MainThread : INFO : estimated memory for 2758 sentences with 300 dimensions and 999999 vocabulary: 1151 MB (1 GB)\n",
      "2021-12-02 22:18:19,928 : MainThread : INFO : initializing sentence vectors for 2758 sentences\n",
      "2021-12-02 22:18:19,939 : MainThread : INFO : pre-computing uSIF weights for 999999 words\n",
      "2021-12-02 22:18:22,556 : MainThread : INFO : begin training\n",
      "2021-12-02 22:18:22,905 : MainThread : INFO : worker thread finished; awaiting finish of 0 more threads\n",
      "2021-12-02 22:18:23,510 : MainThread : INFO : computing 5 principal components took 0s\n",
      "2021-12-02 22:18:23,515 : MainThread : INFO : removing 5 principal components took 0s\n",
      "2021-12-02 22:18:23,518 : MainThread : INFO : training on 2758 effective sentences with 27172 effective words took 0s with 7869 sentences/s\n",
      "2021-12-02 22:18:23,619 : MainThread : INFO : no frequency mode: using wordfreq for estimation of frequency for language: en\n"
     ]
    },
    {
     "name": "stdout",
     "output_type": "stream",
     "text": [
      "uSIF fasttext-wiki-news-subwords-300 69.05\n"
     ]
    },
    {
     "name": "stderr",
     "output_type": "stream",
     "text": [
      "2021-12-02 22:18:24,647 : MainThread : INFO : scanning all indexed sentences and their word counts\n",
      "2021-12-02 22:18:24,954 : MainThread : INFO : finished scanning 2758 sentences with an average length of 9 and 27528 total words\n",
      "2021-12-02 22:18:25,392 : MainThread : INFO : estimated memory for 2758 sentences with 100 dimensions and 1193514 vocabulary: 460 MB (0 GB)\n",
      "2021-12-02 22:18:25,394 : MainThread : INFO : initializing sentence vectors for 2758 sentences\n",
      "2021-12-02 22:18:25,416 : MainThread : INFO : pre-computing uSIF weights for 1193514 words\n",
      "2021-12-02 22:18:28,504 : MainThread : INFO : begin training\n",
      "2021-12-02 22:18:28,927 : MainThread : INFO : worker thread finished; awaiting finish of 0 more threads\n",
      "2021-12-02 22:18:29,147 : MainThread : INFO : computing 5 principal components took 0s\n",
      "2021-12-02 22:18:29,153 : MainThread : INFO : removing 5 principal components took 0s\n",
      "2021-12-02 22:18:29,154 : MainThread : INFO : training on 2758 effective sentences with 26828 effective words took 0s with 6490 sentences/s\n",
      "2021-12-02 22:18:29,227 : MainThread : INFO : no frequency mode: using wordfreq for estimation of frequency for language: en\n"
     ]
    },
    {
     "name": "stdout",
     "output_type": "stream",
     "text": [
      "uSIF glove-twitter-100 64.22\n"
     ]
    },
    {
     "name": "stderr",
     "output_type": "stream",
     "text": [
      "2021-12-02 22:18:30,257 : MainThread : INFO : scanning all indexed sentences and their word counts\n",
      "2021-12-02 22:18:30,589 : MainThread : INFO : finished scanning 2758 sentences with an average length of 9 and 27528 total words\n",
      "2021-12-02 22:18:31,030 : MainThread : INFO : estimated memory for 2758 sentences with 200 dimensions and 1193514 vocabulary: 917 MB (0 GB)\n",
      "2021-12-02 22:18:31,031 : MainThread : INFO : initializing sentence vectors for 2758 sentences\n",
      "2021-12-02 22:18:31,044 : MainThread : INFO : pre-computing uSIF weights for 1193514 words\n",
      "2021-12-02 22:18:34,224 : MainThread : INFO : begin training\n",
      "2021-12-02 22:18:34,616 : MainThread : INFO : worker thread finished; awaiting finish of 0 more threads\n",
      "2021-12-02 22:18:35,152 : MainThread : INFO : computing 5 principal components took 0s\n",
      "2021-12-02 22:18:35,158 : MainThread : INFO : removing 5 principal components took 0s\n",
      "2021-12-02 22:18:35,160 : MainThread : INFO : training on 2758 effective sentences with 26828 effective words took 0s with 7021 sentences/s\n",
      "2021-12-02 22:18:35,260 : MainThread : INFO : no frequency mode: using wordfreq for estimation of frequency for language: en\n"
     ]
    },
    {
     "name": "stdout",
     "output_type": "stream",
     "text": [
      "uSIF glove-twitter-200 66.73\n"
     ]
    },
    {
     "name": "stderr",
     "output_type": "stream",
     "text": [
      "2021-12-02 22:18:36,318 : MainThread : INFO : scanning all indexed sentences and their word counts\n",
      "2021-12-02 22:18:36,642 : MainThread : INFO : finished scanning 2758 sentences with an average length of 9 and 27528 total words\n",
      "2021-12-02 22:18:37,102 : MainThread : INFO : estimated memory for 2758 sentences with 25 dimensions and 1193514 vocabulary: 118 MB (0 GB)\n",
      "2021-12-02 22:18:37,103 : MainThread : INFO : initializing sentence vectors for 2758 sentences\n",
      "2021-12-02 22:18:37,112 : MainThread : INFO : pre-computing uSIF weights for 1193514 words\n",
      "2021-12-02 22:18:40,254 : MainThread : INFO : begin training\n",
      "2021-12-02 22:18:40,642 : MainThread : INFO : worker thread finished; awaiting finish of 0 more threads\n",
      "2021-12-02 22:18:41,105 : MainThread : INFO : computing 5 principal components took 0s\n",
      "2021-12-02 22:18:41,108 : MainThread : INFO : removing 5 principal components took 0s\n",
      "2021-12-02 22:18:41,110 : MainThread : INFO : training on 2758 effective sentences with 26828 effective words took 0s with 7081 sentences/s\n",
      "2021-12-02 22:18:41,144 : MainThread : INFO : no frequency mode: using wordfreq for estimation of frequency for language: en\n"
     ]
    },
    {
     "name": "stdout",
     "output_type": "stream",
     "text": [
      "uSIF glove-twitter-25 55.17\n"
     ]
    },
    {
     "name": "stderr",
     "output_type": "stream",
     "text": [
      "2021-12-02 22:18:42,313 : MainThread : INFO : scanning all indexed sentences and their word counts\n",
      "2021-12-02 22:18:42,668 : MainThread : INFO : finished scanning 2758 sentences with an average length of 9 and 27528 total words\n",
      "2021-12-02 22:18:43,107 : MainThread : INFO : estimated memory for 2758 sentences with 50 dimensions and 1193514 vocabulary: 232 MB (0 GB)\n",
      "2021-12-02 22:18:43,108 : MainThread : INFO : initializing sentence vectors for 2758 sentences\n",
      "2021-12-02 22:18:43,130 : MainThread : INFO : pre-computing uSIF weights for 1193514 words\n",
      "2021-12-02 22:18:46,322 : MainThread : INFO : begin training\n",
      "2021-12-02 22:18:46,682 : MainThread : INFO : worker thread finished; awaiting finish of 0 more threads\n",
      "2021-12-02 22:18:47,031 : MainThread : INFO : computing 5 principal components took 0s\n",
      "2021-12-02 22:18:47,038 : MainThread : INFO : removing 5 principal components took 0s\n",
      "2021-12-02 22:18:47,040 : MainThread : INFO : training on 2758 effective sentences with 26828 effective words took 0s with 7656 sentences/s\n",
      "2021-12-02 22:18:47,123 : MainThread : INFO : no frequency mode: using wordfreq for estimation of frequency for language: en\n"
     ]
    },
    {
     "name": "stdout",
     "output_type": "stream",
     "text": [
      "uSIF glove-twitter-50 60.50\n"
     ]
    },
    {
     "name": "stderr",
     "output_type": "stream",
     "text": [
      "2021-12-02 22:18:47,531 : MainThread : INFO : scanning all indexed sentences and their word counts\n",
      "2021-12-02 22:18:47,861 : MainThread : INFO : finished scanning 2758 sentences with an average length of 9 and 27528 total words\n",
      "2021-12-02 22:18:48,022 : MainThread : INFO : estimated memory for 2758 sentences with 100 dimensions and 400000 vocabulary: 155 MB (0 GB)\n",
      "2021-12-02 22:18:48,023 : MainThread : INFO : initializing sentence vectors for 2758 sentences\n",
      "2021-12-02 22:18:48,039 : MainThread : INFO : pre-computing uSIF weights for 400000 words\n",
      "2021-12-02 22:18:49,162 : MainThread : INFO : begin training\n",
      "2021-12-02 22:18:49,610 : MainThread : INFO : worker thread finished; awaiting finish of 0 more threads\n",
      "2021-12-02 22:18:49,756 : MainThread : INFO : computing 5 principal components took 0s\n",
      "2021-12-02 22:18:49,761 : MainThread : INFO : removing 5 principal components took 0s\n",
      "2021-12-02 22:18:49,763 : MainThread : INFO : training on 2758 effective sentences with 27410 effective words took 0s with 6133 sentences/s\n",
      "2021-12-02 22:18:49,800 : MainThread : INFO : no frequency mode: using wordfreq for estimation of frequency for language: en\n"
     ]
    },
    {
     "name": "stdout",
     "output_type": "stream",
     "text": [
      "uSIF glove-wiki-gigaword-100 65.48\n"
     ]
    },
    {
     "name": "stderr",
     "output_type": "stream",
     "text": [
      "2021-12-02 22:18:50,192 : MainThread : INFO : scanning all indexed sentences and their word counts\n",
      "2021-12-02 22:18:50,504 : MainThread : INFO : finished scanning 2758 sentences with an average length of 9 and 27528 total words\n",
      "2021-12-02 22:18:50,644 : MainThread : INFO : estimated memory for 2758 sentences with 200 dimensions and 400000 vocabulary: 308 MB (0 GB)\n",
      "2021-12-02 22:18:50,646 : MainThread : INFO : initializing sentence vectors for 2758 sentences\n",
      "2021-12-02 22:18:50,655 : MainThread : INFO : pre-computing uSIF weights for 400000 words\n",
      "2021-12-02 22:18:51,678 : MainThread : INFO : begin training\n",
      "2021-12-02 22:18:52,036 : MainThread : INFO : worker thread finished; awaiting finish of 0 more threads\n",
      "2021-12-02 22:18:52,538 : MainThread : INFO : computing 5 principal components took 0s\n",
      "2021-12-02 22:18:52,544 : MainThread : INFO : removing 5 principal components took 0s\n",
      "2021-12-02 22:18:52,546 : MainThread : INFO : training on 2758 effective sentences with 27410 effective words took 0s with 7685 sentences/s\n",
      "2021-12-02 22:18:52,646 : MainThread : INFO : no frequency mode: using wordfreq for estimation of frequency for language: en\n"
     ]
    },
    {
     "name": "stdout",
     "output_type": "stream",
     "text": [
      "uSIF glove-wiki-gigaword-200 67.26\n"
     ]
    },
    {
     "name": "stderr",
     "output_type": "stream",
     "text": [
      "2021-12-02 22:18:53,023 : MainThread : INFO : scanning all indexed sentences and their word counts\n",
      "2021-12-02 22:18:53,332 : MainThread : INFO : finished scanning 2758 sentences with an average length of 9 and 27528 total words\n",
      "2021-12-02 22:18:53,461 : MainThread : INFO : estimated memory for 2758 sentences with 300 dimensions and 400000 vocabulary: 462 MB (0 GB)\n",
      "2021-12-02 22:18:53,462 : MainThread : INFO : initializing sentence vectors for 2758 sentences\n",
      "2021-12-02 22:18:53,474 : MainThread : INFO : pre-computing uSIF weights for 400000 words\n",
      "2021-12-02 22:18:54,483 : MainThread : INFO : begin training\n",
      "2021-12-02 22:18:54,842 : MainThread : INFO : worker thread finished; awaiting finish of 0 more threads\n",
      "2021-12-02 22:18:55,407 : MainThread : INFO : computing 5 principal components took 0s\n",
      "2021-12-02 22:18:55,420 : MainThread : INFO : removing 5 principal components took 0s\n",
      "2021-12-02 22:18:55,422 : MainThread : INFO : training on 2758 effective sentences with 27410 effective words took 0s with 7650 sentences/s\n",
      "2021-12-02 22:18:55,525 : MainThread : INFO : no frequency mode: using wordfreq for estimation of frequency for language: en\n"
     ]
    },
    {
     "name": "stdout",
     "output_type": "stream",
     "text": [
      "uSIF glove-wiki-gigaword-300 67.73\n"
     ]
    },
    {
     "name": "stderr",
     "output_type": "stream",
     "text": [
      "2021-12-02 22:18:55,913 : MainThread : INFO : scanning all indexed sentences and their word counts\n",
      "2021-12-02 22:18:56,232 : MainThread : INFO : finished scanning 2758 sentences with an average length of 9 and 27528 total words\n",
      "2021-12-02 22:18:56,358 : MainThread : INFO : estimated memory for 2758 sentences with 50 dimensions and 400000 vocabulary: 78 MB (0 GB)\n",
      "2021-12-02 22:18:56,360 : MainThread : INFO : initializing sentence vectors for 2758 sentences\n",
      "2021-12-02 22:18:56,371 : MainThread : INFO : pre-computing uSIF weights for 400000 words\n",
      "2021-12-02 22:18:57,426 : MainThread : INFO : begin training\n",
      "2021-12-02 22:18:57,873 : MainThread : INFO : worker thread finished; awaiting finish of 0 more threads\n",
      "2021-12-02 22:18:58,086 : MainThread : INFO : computing 5 principal components took 0s\n",
      "2021-12-02 22:18:58,090 : MainThread : INFO : removing 5 principal components took 0s\n",
      "2021-12-02 22:18:58,092 : MainThread : INFO : training on 2758 effective sentences with 27410 effective words took 0s with 6145 sentences/s\n",
      "2021-12-02 22:18:58,121 : MainThread : INFO : no frequency mode: using wordfreq for estimation of frequency for language: en\n",
      "2021-12-02 22:18:58,245 : MainThread : INFO : scanning all indexed sentences and their word counts\n"
     ]
    },
    {
     "name": "stdout",
     "output_type": "stream",
     "text": [
      "uSIF glove-wiki-gigaword-50 62.22\n"
     ]
    },
    {
     "name": "stderr",
     "output_type": "stream",
     "text": [
      "2021-12-02 22:18:58,562 : MainThread : INFO : finished scanning 2758 sentences with an average length of 9 and 27528 total words\n",
      "2021-12-02 22:18:58,604 : MainThread : INFO : estimated memory for 2758 sentences with 25 dimensions and 99958 vocabulary: 10 MB (0 GB)\n",
      "2021-12-02 22:18:58,606 : MainThread : INFO : initializing sentence vectors for 2758 sentences\n",
      "2021-12-02 22:18:58,617 : MainThread : INFO : pre-computing uSIF weights for 99958 words\n",
      "2021-12-02 22:18:58,889 : MainThread : INFO : begin training\n",
      "2021-12-02 22:18:59,252 : MainThread : INFO : worker thread finished; awaiting finish of 0 more threads\n",
      "2021-12-02 22:18:59,397 : MainThread : INFO : computing 5 principal components took 0s\n",
      "2021-12-02 22:18:59,404 : MainThread : INFO : removing 5 principal components took 0s\n",
      "2021-12-02 22:18:59,405 : MainThread : INFO : training on 2758 effective sentences with 27038 effective words took 0s with 7560 sentences/s\n",
      "2021-12-02 22:18:59,499 : MainThread : INFO : no frequency mode: using wordfreq for estimation of frequency for language: en\n"
     ]
    },
    {
     "name": "stdout",
     "output_type": "stream",
     "text": [
      "uSIF paragram-25 64.31\n"
     ]
    },
    {
     "name": "stderr",
     "output_type": "stream",
     "text": [
      "2021-12-02 22:19:00,845 : MainThread : INFO : scanning all indexed sentences and their word counts\n",
      "2021-12-02 22:19:01,156 : MainThread : INFO : finished scanning 2758 sentences with an average length of 9 and 27528 total words\n",
      "2021-12-02 22:19:01,660 : MainThread : INFO : estimated memory for 2758 sentences with 300 dimensions and 1703756 vocabulary: 1959 MB (1 GB)\n",
      "2021-12-02 22:19:01,662 : MainThread : INFO : initializing sentence vectors for 2758 sentences\n",
      "2021-12-02 22:19:01,682 : MainThread : INFO : pre-computing uSIF weights for 1703756 words\n",
      "2021-12-02 22:19:06,135 : MainThread : INFO : begin training\n",
      "2021-12-02 22:19:06,586 : MainThread : INFO : worker thread finished; awaiting finish of 0 more threads\n",
      "2021-12-02 22:19:06,940 : MainThread : INFO : computing 5 principal components took 0s\n",
      "2021-12-02 22:19:06,945 : MainThread : INFO : removing 5 principal components took 0s\n",
      "2021-12-02 22:19:06,946 : MainThread : INFO : training on 2758 effective sentences with 27448 effective words took 0s with 6095 sentences/s\n",
      "2021-12-02 22:19:07,035 : MainThread : INFO : no frequency mode: using wordfreq for estimation of frequency for language: en\n"
     ]
    },
    {
     "name": "stdout",
     "output_type": "stream",
     "text": [
      "uSIF paragram-300-sl999 73.09\n"
     ]
    },
    {
     "name": "stderr",
     "output_type": "stream",
     "text": [
      "2021-12-02 22:19:08,314 : MainThread : INFO : scanning all indexed sentences and their word counts\n",
      "2021-12-02 22:19:08,645 : MainThread : INFO : finished scanning 2758 sentences with an average length of 9 and 27528 total words\n",
      "2021-12-02 22:19:09,203 : MainThread : INFO : estimated memory for 2758 sentences with 300 dimensions and 1703756 vocabulary: 1959 MB (1 GB)\n",
      "2021-12-02 22:19:09,204 : MainThread : INFO : initializing sentence vectors for 2758 sentences\n",
      "2021-12-02 22:19:09,220 : MainThread : INFO : pre-computing uSIF weights for 1703756 words\n",
      "2021-12-02 22:19:13,648 : MainThread : INFO : begin training\n",
      "2021-12-02 22:19:14,019 : MainThread : INFO : worker thread finished; awaiting finish of 0 more threads\n",
      "2021-12-02 22:19:14,299 : MainThread : INFO : computing 5 principal components took 0s\n",
      "2021-12-02 22:19:14,306 : MainThread : INFO : removing 5 principal components took 0s\n",
      "2021-12-02 22:19:14,307 : MainThread : INFO : training on 2758 effective sentences with 27448 effective words took 0s with 7412 sentences/s\n",
      "2021-12-02 22:19:14,357 : MainThread : INFO : no frequency mode: using wordfreq for estimation of frequency for language: en\n",
      "2021-12-02 22:19:14,470 : MainThread : INFO : scanning all indexed sentences and their word counts\n"
     ]
    },
    {
     "name": "stdout",
     "output_type": "stream",
     "text": [
      "uSIF paragram-300-ws353 71.90\n"
     ]
    },
    {
     "name": "stderr",
     "output_type": "stream",
     "text": [
      "2021-12-02 22:19:14,820 : MainThread : INFO : finished scanning 2758 sentences with an average length of 9 and 27528 total words\n",
      "2021-12-02 22:19:14,858 : MainThread : INFO : estimated memory for 2758 sentences with 300 dimensions and 77224 vocabulary: 91 MB (0 GB)\n",
      "2021-12-02 22:19:14,860 : MainThread : INFO : initializing sentence vectors for 2758 sentences\n",
      "2021-12-02 22:19:14,870 : MainThread : INFO : pre-computing uSIF weights for 77224 words\n",
      "2021-12-02 22:19:15,080 : MainThread : INFO : begin training\n",
      "2021-12-02 22:19:15,439 : MainThread : INFO : worker thread finished; awaiting finish of 0 more threads\n",
      "2021-12-02 22:19:15,745 : MainThread : INFO : computing 5 principal components took 0s\n",
      "2021-12-02 22:19:15,751 : MainThread : INFO : removing 5 principal components took 0s\n",
      "2021-12-02 22:19:15,753 : MainThread : INFO : training on 2758 effective sentences with 27439 effective words took 0s with 7651 sentences/s\n",
      "2021-12-02 22:19:15,856 : MainThread : INFO : no frequency mode: using wordfreq for estimation of frequency for language: en\n"
     ]
    },
    {
     "name": "stdout",
     "output_type": "stream",
     "text": [
      "uSIF paranmt-300 79.02\n"
     ]
    },
    {
     "name": "stderr",
     "output_type": "stream",
     "text": [
      "2021-12-02 22:19:18,166 : MainThread : INFO : scanning all indexed sentences and their word counts\n",
      "2021-12-02 22:19:18,499 : MainThread : INFO : finished scanning 2758 sentences with an average length of 9 and 27528 total words\n",
      "2021-12-02 22:19:19,550 : MainThread : INFO : estimated memory for 2758 sentences with 300 dimensions and 3000000 vocabulary: 3447 MB (3 GB)\n",
      "2021-12-02 22:19:19,551 : MainThread : INFO : initializing sentence vectors for 2758 sentences\n",
      "2021-12-02 22:19:19,562 : MainThread : INFO : pre-computing uSIF weights for 3000000 words\n",
      "2021-12-02 22:19:27,275 : MainThread : INFO : begin training\n",
      "2021-12-02 22:19:27,643 : MainThread : INFO : worker thread finished; awaiting finish of 0 more threads\n",
      "2021-12-02 22:19:27,888 : MainThread : INFO : computing 5 principal components took 0s\n",
      "2021-12-02 22:19:27,894 : MainThread : INFO : removing 5 principal components took 0s\n",
      "2021-12-02 22:19:27,895 : MainThread : INFO : training on 2758 effective sentences with 23116 effective words took 0s with 7458 sentences/s\n",
      "2021-12-02 22:19:27,986 : MainThread : INFO : no frequency mode: using wordfreq for estimation of frequency for language: en\n"
     ]
    },
    {
     "name": "stdout",
     "output_type": "stream",
     "text": [
      "uSIF word2vec-google-news-300 67.15\n"
     ]
    },
    {
     "name": "stderr",
     "output_type": "stream",
     "text": [
      "2021-12-02 22:19:29,638 : MainThread : INFO : scanning all indexed sentences and their word counts\n",
      "2021-12-02 22:19:29,946 : MainThread : INFO : finished scanning 2758 sentences with an average length of 9 and 27528 total words\n",
      "2021-12-02 22:19:30,677 : MainThread : INFO : estimated memory for 2758 sentences with 300 dimensions and 2000000 vocabulary: 6877 MB (6 GB)\n",
      "2021-12-02 22:19:30,679 : MainThread : INFO : initializing sentence vectors for 2758 sentences\n",
      "2021-12-02 22:19:30,701 : MainThread : INFO : pre-computing uSIF weights for 2000000 words\n",
      "2021-12-02 22:19:35,907 : MainThread : INFO : begin training\n",
      "2021-12-02 22:19:36,305 : MainThread : INFO : worker thread finished; awaiting finish of 0 more threads\n",
      "2021-12-02 22:19:36,461 : MainThread : INFO : computing 5 principal components took 0s\n",
      "2021-12-02 22:19:36,469 : MainThread : INFO : removing 5 principal components took 0s\n",
      "2021-12-02 22:19:36,470 : MainThread : INFO : training on 2758 effective sentences with 27528 effective words took 0s with 6902 sentences/s\n"
     ]
    },
    {
     "name": "stdout",
     "output_type": "stream",
     "text": [
      "uSIF fasttext-crawl-subwords-300 69.55\n"
     ]
    }
   ],
   "source": [
    "for algo, name in combinations:\n",
    "    class_obj = algos[algo][0]\n",
    "    args = algos[algo][1]\n",
    "    vec = vectors[name]\n",
    "    m = class_obj(vec, **args)\n",
    "    m.train(sentences)\n",
    "    r = pearsonr(similarities, compute_similarities(task_length, m))[0].round(4) * 100\n",
    "    results[f\"{algo} {name}\"] = r\n",
    "    print(algo, name, f\"{r:2.2f}\")"
   ]
  },
  {
   "cell_type": "code",
   "execution_count": 14,
   "metadata": {},
   "outputs": [
    {
     "data": {
      "text/html": [
       "<div>\n",
       "<style scoped>\n",
       "    .dataframe tbody tr th:only-of-type {\n",
       "        vertical-align: middle;\n",
       "    }\n",
       "\n",
       "    .dataframe tbody tr th {\n",
       "        vertical-align: top;\n",
       "    }\n",
       "\n",
       "    .dataframe thead th {\n",
       "        text-align: right;\n",
       "    }\n",
       "</style>\n",
       "<table border=\"1\" class=\"dataframe\">\n",
       "  <thead>\n",
       "    <tr style=\"text-align: right;\">\n",
       "      <th></th>\n",
       "      <th>Pearson</th>\n",
       "    </tr>\n",
       "  </thead>\n",
       "  <tbody>\n",
       "    <tr>\n",
       "      <th>CBOW fasttext-wiki-news-subwords-300</th>\n",
       "      <td>26.08</td>\n",
       "    </tr>\n",
       "    <tr>\n",
       "      <th>CBOW glove-twitter-100</th>\n",
       "      <td>33.81</td>\n",
       "    </tr>\n",
       "    <tr>\n",
       "      <th>CBOW glove-twitter-200</th>\n",
       "      <td>34.94</td>\n",
       "    </tr>\n",
       "    <tr>\n",
       "      <th>CBOW glove-twitter-25</th>\n",
       "      <td>26.15</td>\n",
       "    </tr>\n",
       "    <tr>\n",
       "      <th>CBOW glove-twitter-50</th>\n",
       "      <td>30.78</td>\n",
       "    </tr>\n",
       "    <tr>\n",
       "      <th>CBOW glove-wiki-gigaword-100</th>\n",
       "      <td>38.12</td>\n",
       "    </tr>\n",
       "    <tr>\n",
       "      <th>CBOW glove-wiki-gigaword-200</th>\n",
       "      <td>42.40</td>\n",
       "    </tr>\n",
       "    <tr>\n",
       "      <th>CBOW glove-wiki-gigaword-300</th>\n",
       "      <td>44.46</td>\n",
       "    </tr>\n",
       "    <tr>\n",
       "      <th>CBOW glove-wiki-gigaword-50</th>\n",
       "      <td>37.47</td>\n",
       "    </tr>\n",
       "    <tr>\n",
       "      <th>CBOW paragram-25</th>\n",
       "      <td>40.13</td>\n",
       "    </tr>\n",
       "    <tr>\n",
       "      <th>CBOW paragram-300-sl999</th>\n",
       "      <td>51.46</td>\n",
       "    </tr>\n",
       "    <tr>\n",
       "      <th>CBOW paragram-300-ws353</th>\n",
       "      <td>54.72</td>\n",
       "    </tr>\n",
       "    <tr>\n",
       "      <th>CBOW paranmt-300</th>\n",
       "      <td>79.82</td>\n",
       "    </tr>\n",
       "    <tr>\n",
       "      <th>CBOW word2vec-google-news-300</th>\n",
       "      <td>61.54</td>\n",
       "    </tr>\n",
       "    <tr>\n",
       "      <th>CBOW fasttext-crawl-subwords-300</th>\n",
       "      <td>48.49</td>\n",
       "    </tr>\n",
       "    <tr>\n",
       "      <th>SIF fasttext-wiki-news-subwords-300</th>\n",
       "      <td>72.24</td>\n",
       "    </tr>\n",
       "    <tr>\n",
       "      <th>SIF glove-twitter-100</th>\n",
       "      <td>69.70</td>\n",
       "    </tr>\n",
       "    <tr>\n",
       "      <th>SIF glove-twitter-200</th>\n",
       "      <td>71.67</td>\n",
       "    </tr>\n",
       "    <tr>\n",
       "      <th>SIF glove-twitter-25</th>\n",
       "      <td>54.42</td>\n",
       "    </tr>\n",
       "    <tr>\n",
       "      <th>SIF glove-twitter-50</th>\n",
       "      <td>65.57</td>\n",
       "    </tr>\n",
       "    <tr>\n",
       "      <th>SIF glove-wiki-gigaword-100</th>\n",
       "      <td>68.43</td>\n",
       "    </tr>\n",
       "    <tr>\n",
       "      <th>SIF glove-wiki-gigaword-200</th>\n",
       "      <td>70.73</td>\n",
       "    </tr>\n",
       "    <tr>\n",
       "      <th>SIF glove-wiki-gigaword-300</th>\n",
       "      <td>71.43</td>\n",
       "    </tr>\n",
       "    <tr>\n",
       "      <th>SIF glove-wiki-gigaword-50</th>\n",
       "      <td>64.20</td>\n",
       "    </tr>\n",
       "    <tr>\n",
       "      <th>SIF paragram-25</th>\n",
       "      <td>59.22</td>\n",
       "    </tr>\n",
       "    <tr>\n",
       "      <th>SIF paragram-300-sl999</th>\n",
       "      <td>74.27</td>\n",
       "    </tr>\n",
       "    <tr>\n",
       "      <th>SIF paragram-300-ws353</th>\n",
       "      <td>74.08</td>\n",
       "    </tr>\n",
       "    <tr>\n",
       "      <th>SIF paranmt-300</th>\n",
       "      <td>76.76</td>\n",
       "    </tr>\n",
       "    <tr>\n",
       "      <th>SIF word2vec-google-news-300</th>\n",
       "      <td>71.17</td>\n",
       "    </tr>\n",
       "    <tr>\n",
       "      <th>SIF fasttext-crawl-subwords-300</th>\n",
       "      <td>73.54</td>\n",
       "    </tr>\n",
       "    <tr>\n",
       "      <th>uSIF fasttext-wiki-news-subwords-300</th>\n",
       "      <td>69.05</td>\n",
       "    </tr>\n",
       "    <tr>\n",
       "      <th>uSIF glove-twitter-100</th>\n",
       "      <td>64.22</td>\n",
       "    </tr>\n",
       "    <tr>\n",
       "      <th>uSIF glove-twitter-200</th>\n",
       "      <td>66.73</td>\n",
       "    </tr>\n",
       "    <tr>\n",
       "      <th>uSIF glove-twitter-25</th>\n",
       "      <td>55.17</td>\n",
       "    </tr>\n",
       "    <tr>\n",
       "      <th>uSIF glove-twitter-50</th>\n",
       "      <td>60.50</td>\n",
       "    </tr>\n",
       "    <tr>\n",
       "      <th>uSIF glove-wiki-gigaword-100</th>\n",
       "      <td>65.48</td>\n",
       "    </tr>\n",
       "    <tr>\n",
       "      <th>uSIF glove-wiki-gigaword-200</th>\n",
       "      <td>67.26</td>\n",
       "    </tr>\n",
       "    <tr>\n",
       "      <th>uSIF glove-wiki-gigaword-300</th>\n",
       "      <td>67.73</td>\n",
       "    </tr>\n",
       "    <tr>\n",
       "      <th>uSIF glove-wiki-gigaword-50</th>\n",
       "      <td>62.22</td>\n",
       "    </tr>\n",
       "    <tr>\n",
       "      <th>uSIF paragram-25</th>\n",
       "      <td>64.31</td>\n",
       "    </tr>\n",
       "    <tr>\n",
       "      <th>uSIF paragram-300-sl999</th>\n",
       "      <td>73.09</td>\n",
       "    </tr>\n",
       "    <tr>\n",
       "      <th>uSIF paragram-300-ws353</th>\n",
       "      <td>71.90</td>\n",
       "    </tr>\n",
       "    <tr>\n",
       "      <th>uSIF paranmt-300</th>\n",
       "      <td>79.02</td>\n",
       "    </tr>\n",
       "    <tr>\n",
       "      <th>uSIF word2vec-google-news-300</th>\n",
       "      <td>67.15</td>\n",
       "    </tr>\n",
       "    <tr>\n",
       "      <th>uSIF fasttext-crawl-subwords-300</th>\n",
       "      <td>69.55</td>\n",
       "    </tr>\n",
       "  </tbody>\n",
       "</table>\n",
       "</div>"
      ],
      "text/plain": [
       "                                      Pearson\n",
       "CBOW fasttext-wiki-news-subwords-300    26.08\n",
       "CBOW glove-twitter-100                  33.81\n",
       "CBOW glove-twitter-200                  34.94\n",
       "CBOW glove-twitter-25                   26.15\n",
       "CBOW glove-twitter-50                   30.78\n",
       "CBOW glove-wiki-gigaword-100            38.12\n",
       "CBOW glove-wiki-gigaword-200            42.40\n",
       "CBOW glove-wiki-gigaword-300            44.46\n",
       "CBOW glove-wiki-gigaword-50             37.47\n",
       "CBOW paragram-25                        40.13\n",
       "CBOW paragram-300-sl999                 51.46\n",
       "CBOW paragram-300-ws353                 54.72\n",
       "CBOW paranmt-300                        79.82\n",
       "CBOW word2vec-google-news-300           61.54\n",
       "CBOW fasttext-crawl-subwords-300        48.49\n",
       "SIF fasttext-wiki-news-subwords-300     72.24\n",
       "SIF glove-twitter-100                   69.70\n",
       "SIF glove-twitter-200                   71.67\n",
       "SIF glove-twitter-25                    54.42\n",
       "SIF glove-twitter-50                    65.57\n",
       "SIF glove-wiki-gigaword-100             68.43\n",
       "SIF glove-wiki-gigaword-200             70.73\n",
       "SIF glove-wiki-gigaword-300             71.43\n",
       "SIF glove-wiki-gigaword-50              64.20\n",
       "SIF paragram-25                         59.22\n",
       "SIF paragram-300-sl999                  74.27\n",
       "SIF paragram-300-ws353                  74.08\n",
       "SIF paranmt-300                         76.76\n",
       "SIF word2vec-google-news-300            71.17\n",
       "SIF fasttext-crawl-subwords-300         73.54\n",
       "uSIF fasttext-wiki-news-subwords-300    69.05\n",
       "uSIF glove-twitter-100                  64.22\n",
       "uSIF glove-twitter-200                  66.73\n",
       "uSIF glove-twitter-25                   55.17\n",
       "uSIF glove-twitter-50                   60.50\n",
       "uSIF glove-wiki-gigaword-100            65.48\n",
       "uSIF glove-wiki-gigaword-200            67.26\n",
       "uSIF glove-wiki-gigaword-300            67.73\n",
       "uSIF glove-wiki-gigaword-50             62.22\n",
       "uSIF paragram-25                        64.31\n",
       "uSIF paragram-300-sl999                 73.09\n",
       "uSIF paragram-300-ws353                 71.90\n",
       "uSIF paranmt-300                        79.02\n",
       "uSIF word2vec-google-news-300           67.15\n",
       "uSIF fasttext-crawl-subwords-300        69.55"
      ]
     },
     "execution_count": 14,
     "metadata": {},
     "output_type": "execute_result"
    }
   ],
   "source": [
    "pd.DataFrame.from_dict(results, orient=\"index\", columns=[\"Pearson\"])"
   ]
  },
  {
   "cell_type": "markdown",
   "metadata": {},
   "source": [
    "If you closely study the values above you will find that:\n",
    "- SIF-Glove is almost equivalent to the values reported in http://ixa2.si.ehu.es/stswiki/index.php/STSbenchmark\n",
    "- CBOW-Paranmt is a little better than ParaNMT Word Avg. in https://www.aclweb.org/anthology/W18-3012\n",
    "- uSIF-Paranmt is a little worse than ParaNMT+UP in https://www.aclweb.org/anthology/W18-3012\n",
    "- uSIF-Paragram is a little worse than PSL+UP in https://www.aclweb.org/anthology/W18-3012\n",
    "\n",
    "However, I guess those differences might arise due to differences in preprocessing. Too bad we didn't hit 80. If you have any ideas why those values don't match exactly, feel free to contact me anytime."
   ]
  }
 ],
 "metadata": {
  "kernelspec": {
   "display_name": "Python 3",
   "language": "python",
   "name": "python3"
  },
  "language_info": {
   "codemirror_mode": {
    "name": "ipython",
    "version": 3
   },
   "file_extension": ".py",
   "mimetype": "text/x-python",
   "name": "python",
   "nbconvert_exporter": "python",
   "pygments_lexer": "ipython3",
   "version": "3.8.5"
  }
 },
 "nbformat": 4,
 "nbformat_minor": 4
}
