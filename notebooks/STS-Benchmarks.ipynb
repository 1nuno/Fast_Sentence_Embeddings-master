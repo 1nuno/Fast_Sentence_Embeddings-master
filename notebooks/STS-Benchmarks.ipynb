{
 "cells": [
  {
   "cell_type": "markdown",
   "metadata": {},
   "source": [
    "# STS Benchmark Datasets"
   ]
  },
  {
   "cell_type": "markdown",
   "metadata": {},
   "source": [
    "### Preparation"
   ]
  },
  {
   "cell_type": "markdown",
   "metadata": {},
   "source": [
    "Setup all required libraries"
   ]
  },
  {
   "cell_type": "code",
   "execution_count": 1,
   "metadata": {},
   "outputs": [],
   "source": [
    "import logging\n",
    "import re\n",
    "import sys\n",
    "\n",
    "import numpy as np\n",
    "import pandas as pd\n",
    "\n",
    "from fse import Average, SIF, uSIF, Vectors, FTVectors, CSplitIndexedList\n",
    "\n",
    "from re import sub\n",
    "\n",
    "from scipy.stats import pearsonr\n",
    "\n",
    "from nltk import word_tokenize\n",
    "\n",
    "logging.basicConfig(format='%(asctime)s : %(threadName)s : %(levelname)s : %(message)s', level=logging.INFO)"
   ]
  },
  {
   "cell_type": "markdown",
   "metadata": {},
   "source": [
    "Next, we require the sentences from the STS benchmark dataset."
   ]
  },
  {
   "cell_type": "code",
   "execution_count": 2,
   "metadata": {},
   "outputs": [
    {
     "name": "stdout",
     "output_type": "stream",
     "text": [
      "0\tSim: 2.5\tA girl is styling her hair.             \tA girl is brushing her hair.            \t\n",
      "1\tSim: 3.6\tA group of men play soccer on the beach.\tA group of boys are playing soccer on the beach.\t\n",
      "2\tSim: 5.0\tOne woman is measuring another woman's ankle.\tA woman measures another woman's ankle. \t\n",
      "3\tSim: 4.2\tA man is cutting up a cucumber.         \tA man is slicing a cucumber.            \t\n",
      "4\tSim: 1.5\tA man is playing a harp.                \tA man is playing a keyboard.            \t\n"
     ]
    }
   ],
   "source": [
    "file= \"../evaluation/sts-test.csv\"\n",
    "similarities, sent_a, sent_b = [], [], []\n",
    "with open(file, \"r\") as f:\n",
    "    for l in f:\n",
    "        line = l.rstrip().split(\"\\t\")\n",
    "        similarities.append(float(line[4]))\n",
    "        sent_a.append(line[5])\n",
    "        sent_b.append(line[6])\n",
    "similarities = np.array(similarities)\n",
    "assert len(similarities) == len(sent_a) == len(sent_b)\n",
    "task_length = len(similarities)\n",
    "\n",
    "for i, obj in enumerate(zip(similarities, sent_a, sent_b)):\n",
    "    print(f\"{i}\\tSim: {obj[0].round(3):.1f}\\t{obj[1]:40s}\\t{obj[2]:40s}\\t\")\n",
    "    if i == 4:\n",
    "        break"
   ]
  },
  {
   "cell_type": "markdown",
   "metadata": {},
   "source": [
    "Each of these sentence requires some preparation (i.e. tokenization) to be used in the core input formats.\n",
    "To reproduce the results from the uSIF paper this part is taken from https://github.com/kawine/usif/blob/master/usif.py"
   ]
  },
  {
   "cell_type": "code",
   "execution_count": 3,
   "metadata": {},
   "outputs": [],
   "source": [
    "not_punc = re.compile('.*[A-Za-z0-9].*')\n",
    "\n",
    "def prep_token(token):\n",
    "    t = token.lower().strip(\"';.:()\").strip('\"')\n",
    "    t = 'not' if t == \"n't\" else t\n",
    "    return re.split(r'[-]', t)\n",
    "\n",
    "def prep_sentence(sentence):\n",
    "    tokens = []\n",
    "    for token in word_tokenize(sentence):\n",
    "        if not_punc.match(token):\n",
    "            tokens = tokens + prep_token(token)\n",
    "    return tokens"
   ]
  },
  {
   "cell_type": "markdown",
   "metadata": {},
   "source": [
    "Next we define the IndexedList object. The IndexedList extends the previously constructed sent_a and sent_b list together. We additionally provide a custom function \"prep_sentence\" which performs all the prepocessing for a single sentence. Therefore we need the extention **CSplitIndexedList**, which provides you the option to provide a custom split function"
   ]
  },
  {
   "cell_type": "code",
   "execution_count": 4,
   "metadata": {},
   "outputs": [],
   "source": [
    "sentences = CSplitIndexedList(sent_a, sent_b, custom_split=prep_sentence)"
   ]
  },
  {
   "cell_type": "markdown",
   "metadata": {},
   "source": [
    "The IndexedList returns the core object required for fse to train a sentence embedding: A tuple. This object constists of words (a list of strings) and its corresponding index. The latter is important if multiple cores access the input queue simultaneously. Thus it must be always provided. The index represents the row in the matrix where it can later be found."
   ]
  },
  {
   "cell_type": "code",
   "execution_count": 5,
   "metadata": {},
   "outputs": [
    {
     "data": {
      "text/plain": [
       "(['a', 'girl', 'is', 'styling', 'her', 'hair'], 0)"
      ]
     },
     "execution_count": 5,
     "metadata": {},
     "output_type": "execute_result"
    }
   ],
   "source": [
    "sentences[0]"
   ]
  },
  {
   "cell_type": "markdown",
   "metadata": {},
   "source": [
    "Note, that IndexedList does not convert the sentences inplace but only on calling the __getitem__ method in order to turn the sentence into a tuple. You can access the original sentence using"
   ]
  },
  {
   "cell_type": "code",
   "execution_count": 6,
   "metadata": {},
   "outputs": [
    {
     "data": {
      "text/plain": [
       "'A girl is styling her hair.'"
      ]
     },
     "execution_count": 6,
     "metadata": {},
     "output_type": "execute_result"
    }
   ],
   "source": [
    "sentences.items[0]"
   ]
  },
  {
   "cell_type": "markdown",
   "metadata": {},
   "source": [
    "### Loading the models\n",
    "\n",
    "It is required for us to load the models as BaseKeyedVectors or as an BaseWordEmbeddingsModel. For this notebook, I already converted the models to a BaseKeyedVectors instance and saved the corresponding instance on my external harddrive. You have to replicate these steps yourself, because getting all the files can be a bit difficult, as the total filesize is around 15 GB."
   ]
  },
  {
   "cell_type": "markdown",
   "metadata": {},
   "source": [
    "The following code performs a disk-to-ram training. Passing a path to __wv_mapfile_path__ will store the corresponding word vectors (wv) as a numpy memmap array. This is required, because loading all vectors into ram would would take up a lot of storage unecessary. The wv.vectors file will be replace by its memmap representation, which is why the next models do not require the wv_mapfile_path argument, as they access the same memmap object.\n",
    "\n",
    "The lang_freq=\"en\" induces the frequencies of the words according to the wordfreq package. This functionality allows you to work with pre-trained embeddings which don't come with frequency information. The method overwrites the counts in the glove.wv.vocab class, so that all further models also benefit from this induction."
   ]
  },
  {
   "cell_type": "code",
   "execution_count": 7,
   "metadata": {},
   "outputs": [
    {
     "name": "stderr",
     "output_type": "stream",
     "text": [
      "2021-12-03 09:19:01,771 : MainThread : INFO : loading Vectors object from /home/oborchers/.cache/huggingface/hub/fse__fasttext-wiki-news-subwords-300.ef21870476cd93435d83140fcf6e7171b517e337/fasttext-wiki-news-subwords-300.model\n",
      "2021-12-03 09:19:03,869 : MainThread : INFO : loading vectors from /home/oborchers/.cache/huggingface/hub/fse__fasttext-wiki-news-subwords-300.ef21870476cd93435d83140fcf6e7171b517e337/fasttext-wiki-news-subwords-300.model.vectors.npy with mmap=r\n",
      "2021-12-03 09:19:03,872 : MainThread : INFO : setting ignored attribute vectors_norm to None\n",
      "2021-12-03 09:19:03,873 : MainThread : INFO : loaded /home/oborchers/.cache/huggingface/hub/fse__fasttext-wiki-news-subwords-300.ef21870476cd93435d83140fcf6e7171b517e337/fasttext-wiki-news-subwords-300.model\n",
      "2021-12-03 09:19:06,810 : MainThread : INFO : loading Vectors object from /home/oborchers/.cache/huggingface/hub/fse__glove-twitter-100.7ef1c21d9bf90598a0c618c041d9817e50250183/glove-twitter-100.model\n",
      "2021-12-03 09:19:09,430 : MainThread : INFO : loading vectors from /home/oborchers/.cache/huggingface/hub/fse__glove-twitter-100.7ef1c21d9bf90598a0c618c041d9817e50250183/glove-twitter-100.model.vectors.npy with mmap=r\n",
      "2021-12-03 09:19:09,434 : MainThread : INFO : setting ignored attribute vectors_norm to None\n",
      "2021-12-03 09:19:09,434 : MainThread : INFO : loaded /home/oborchers/.cache/huggingface/hub/fse__glove-twitter-100.7ef1c21d9bf90598a0c618c041d9817e50250183/glove-twitter-100.model\n",
      "2021-12-03 09:19:14,017 : MainThread : INFO : loading Vectors object from /home/oborchers/.cache/huggingface/hub/fse__glove-twitter-200.72f480c107aaa58b9474ddaf45d13db2e34fa166/glove-twitter-200.model\n",
      "2021-12-03 09:19:16,919 : MainThread : INFO : loading vectors from /home/oborchers/.cache/huggingface/hub/fse__glove-twitter-200.72f480c107aaa58b9474ddaf45d13db2e34fa166/glove-twitter-200.model.vectors.npy with mmap=r\n",
      "2021-12-03 09:19:16,921 : MainThread : INFO : setting ignored attribute vectors_norm to None\n",
      "2021-12-03 09:19:16,922 : MainThread : INFO : loaded /home/oborchers/.cache/huggingface/hub/fse__glove-twitter-200.72f480c107aaa58b9474ddaf45d13db2e34fa166/glove-twitter-200.model\n",
      "2021-12-03 09:19:19,183 : MainThread : INFO : loading Vectors object from /home/oborchers/.cache/huggingface/hub/fse__glove-twitter-25.5ec1e20fb42502d60c4676070bad354ec71aa9aa/glove-twitter-25.model\n",
      "2021-12-03 09:19:21,933 : MainThread : INFO : loading vectors from /home/oborchers/.cache/huggingface/hub/fse__glove-twitter-25.5ec1e20fb42502d60c4676070bad354ec71aa9aa/glove-twitter-25.model.vectors.npy with mmap=r\n",
      "2021-12-03 09:19:21,934 : MainThread : INFO : setting ignored attribute vectors_norm to None\n",
      "2021-12-03 09:19:21,934 : MainThread : INFO : loaded /home/oborchers/.cache/huggingface/hub/fse__glove-twitter-25.5ec1e20fb42502d60c4676070bad354ec71aa9aa/glove-twitter-25.model\n",
      "2021-12-03 09:19:24,991 : MainThread : INFO : loading Vectors object from /home/oborchers/.cache/huggingface/hub/fse__glove-twitter-50.38339c079845641fe59690e5a147fab348a2eb29/glove-twitter-50.model\n",
      "2021-12-03 09:19:27,978 : MainThread : INFO : loading vectors from /home/oborchers/.cache/huggingface/hub/fse__glove-twitter-50.38339c079845641fe59690e5a147fab348a2eb29/glove-twitter-50.model.vectors.npy with mmap=r\n",
      "2021-12-03 09:19:27,980 : MainThread : INFO : setting ignored attribute vectors_norm to None\n",
      "2021-12-03 09:19:27,981 : MainThread : INFO : loaded /home/oborchers/.cache/huggingface/hub/fse__glove-twitter-50.38339c079845641fe59690e5a147fab348a2eb29/glove-twitter-50.model\n",
      "2021-12-03 09:19:37,180 : MainThread : INFO : loading Vectors object from /home/oborchers/.cache/huggingface/hub/fse__glove-wiki-gigaword-100.3282d5e7c5e979c2411ba9703d63a46243a2047e/glove-wiki-gigaword-100.model\n",
      "2021-12-03 09:19:39,388 : MainThread : INFO : loading vectors from /home/oborchers/.cache/huggingface/hub/fse__glove-wiki-gigaword-100.3282d5e7c5e979c2411ba9703d63a46243a2047e/glove-wiki-gigaword-100.model.vectors.npy with mmap=r\n",
      "2021-12-03 09:19:39,390 : MainThread : INFO : setting ignored attribute vectors_norm to None\n",
      "2021-12-03 09:19:39,391 : MainThread : INFO : loaded /home/oborchers/.cache/huggingface/hub/fse__glove-wiki-gigaword-100.3282d5e7c5e979c2411ba9703d63a46243a2047e/glove-wiki-gigaword-100.model\n",
      "2021-12-03 09:19:50,607 : MainThread : INFO : loading Vectors object from /home/oborchers/.cache/huggingface/hub/fse__glove-wiki-gigaword-200.96a689f1f194ddd2615e41c852396c1fb50e5882/glove-wiki-gigaword-200.model\n",
      "2021-12-03 09:19:51,180 : MainThread : INFO : loading vectors from /home/oborchers/.cache/huggingface/hub/fse__glove-wiki-gigaword-200.96a689f1f194ddd2615e41c852396c1fb50e5882/glove-wiki-gigaword-200.model.vectors.npy with mmap=r\n",
      "2021-12-03 09:19:51,182 : MainThread : INFO : setting ignored attribute vectors_norm to None\n",
      "2021-12-03 09:19:51,183 : MainThread : INFO : loaded /home/oborchers/.cache/huggingface/hub/fse__glove-wiki-gigaword-200.96a689f1f194ddd2615e41c852396c1fb50e5882/glove-wiki-gigaword-200.model\n",
      "2021-12-03 09:19:53,192 : MainThread : INFO : loading Vectors object from /home/oborchers/.cache/huggingface/hub/fse__glove-wiki-gigaword-300.242f9d6f62200e8b1a2aedfc22e4d673c0549add/glove-wiki-gigaword-300.model\n",
      "2021-12-03 09:19:53,757 : MainThread : INFO : loading vectors from /home/oborchers/.cache/huggingface/hub/fse__glove-wiki-gigaword-300.242f9d6f62200e8b1a2aedfc22e4d673c0549add/glove-wiki-gigaword-300.model.vectors.npy with mmap=r\n",
      "2021-12-03 09:19:53,759 : MainThread : INFO : setting ignored attribute vectors_norm to None\n",
      "2021-12-03 09:19:53,759 : MainThread : INFO : loaded /home/oborchers/.cache/huggingface/hub/fse__glove-wiki-gigaword-300.242f9d6f62200e8b1a2aedfc22e4d673c0549add/glove-wiki-gigaword-300.model\n",
      "2021-12-03 09:19:55,731 : MainThread : INFO : loading Vectors object from /home/oborchers/.cache/huggingface/hub/fse__glove-wiki-gigaword-50.d2d3bc131d1c28de59b055d6724c742bda902bcf/glove-wiki-gigaword-50.model\n",
      "2021-12-03 09:19:56,243 : MainThread : INFO : loading vectors from /home/oborchers/.cache/huggingface/hub/fse__glove-wiki-gigaword-50.d2d3bc131d1c28de59b055d6724c742bda902bcf/glove-wiki-gigaword-50.model.vectors.npy with mmap=r\n",
      "2021-12-03 09:19:56,245 : MainThread : INFO : setting ignored attribute vectors_norm to None\n",
      "2021-12-03 09:19:56,246 : MainThread : INFO : loaded /home/oborchers/.cache/huggingface/hub/fse__glove-wiki-gigaword-50.d2d3bc131d1c28de59b055d6724c742bda902bcf/glove-wiki-gigaword-50.model\n",
      "2021-12-03 09:20:00,290 : MainThread : INFO : loading Vectors object from /home/oborchers/.cache/huggingface/hub/fse__paragram-25.d27454408fa98c7bf128e58602f66775d23d532c/paragram-25.model\n",
      "2021-12-03 09:20:02,504 : MainThread : INFO : setting ignored attribute vectors_norm to None\n",
      "2021-12-03 09:20:02,505 : MainThread : INFO : loaded /home/oborchers/.cache/huggingface/hub/fse__paragram-25.d27454408fa98c7bf128e58602f66775d23d532c/paragram-25.model\n",
      "2021-12-03 09:20:04,476 : MainThread : INFO : loading Vectors object from /home/oborchers/.cache/huggingface/hub/fse__paragram-300-sl999.d16350f324c00fadb0f7ed05f8a9df130d950aab/paragram-300-sl999.model\n",
      "2021-12-03 09:20:06,554 : MainThread : INFO : loading vectors from /home/oborchers/.cache/huggingface/hub/fse__paragram-300-sl999.d16350f324c00fadb0f7ed05f8a9df130d950aab/paragram-300-sl999.model.vectors.npy with mmap=r\n",
      "2021-12-03 09:20:06,556 : MainThread : INFO : setting ignored attribute vectors_norm to None\n",
      "2021-12-03 09:20:06,557 : MainThread : INFO : loaded /home/oborchers/.cache/huggingface/hub/fse__paragram-300-sl999.d16350f324c00fadb0f7ed05f8a9df130d950aab/paragram-300-sl999.model\n",
      "2021-12-03 09:20:08,524 : MainThread : INFO : loading Vectors object from /home/oborchers/.cache/huggingface/hub/fse__paragram-300-ws353.cda1e084a44a24a769d595e5b6caf7ee7a8500b5/paragram-300-ws353.model\n",
      "2021-12-03 09:20:12,518 : MainThread : INFO : loading vectors from /home/oborchers/.cache/huggingface/hub/fse__paragram-300-ws353.cda1e084a44a24a769d595e5b6caf7ee7a8500b5/paragram-300-ws353.model.vectors.npy with mmap=r\n",
      "2021-12-03 09:20:12,520 : MainThread : INFO : setting ignored attribute vectors_norm to None\n",
      "2021-12-03 09:20:12,520 : MainThread : INFO : loaded /home/oborchers/.cache/huggingface/hub/fse__paragram-300-ws353.cda1e084a44a24a769d595e5b6caf7ee7a8500b5/paragram-300-ws353.model\n",
      "2021-12-03 09:20:15,531 : MainThread : INFO : loading Vectors object from /home/oborchers/.cache/huggingface/hub/fse__paranmt-300.ae7612b27a2516b44a42bbc148f9936332d30847/paranmt-300.model\n",
      "2021-12-03 09:20:15,736 : MainThread : INFO : loading vectors from /home/oborchers/.cache/huggingface/hub/fse__paranmt-300.ae7612b27a2516b44a42bbc148f9936332d30847/paranmt-300.model.vectors.npy with mmap=r\n",
      "2021-12-03 09:20:15,738 : MainThread : INFO : setting ignored attribute vectors_norm to None\n",
      "2021-12-03 09:20:15,739 : MainThread : INFO : loaded /home/oborchers/.cache/huggingface/hub/fse__paranmt-300.ae7612b27a2516b44a42bbc148f9936332d30847/paranmt-300.model\n",
      "2021-12-03 09:20:30,789 : MainThread : INFO : loading Vectors object from /home/oborchers/.cache/huggingface/hub/fse__word2vec-google-news-300.528f381952a0b7d777bb4a611c4a43f588d48994/word2vec-google-news-300.model\n",
      "2021-12-03 09:20:37,419 : MainThread : INFO : loading vectors from /home/oborchers/.cache/huggingface/hub/fse__word2vec-google-news-300.528f381952a0b7d777bb4a611c4a43f588d48994/word2vec-google-news-300.model.vectors.npy with mmap=r\n",
      "2021-12-03 09:20:37,421 : MainThread : INFO : setting ignored attribute vectors_norm to None\n",
      "2021-12-03 09:20:37,422 : MainThread : INFO : loaded /home/oborchers/.cache/huggingface/hub/fse__word2vec-google-news-300.528f381952a0b7d777bb4a611c4a43f588d48994/word2vec-google-news-300.model\n",
      "2021-12-03 09:20:42,324 : MainThread : INFO : loading FTVectors object from /home/oborchers/.cache/huggingface/hub/fse__fasttext-crawl-subwords-300.5db65694a7b3fde5a4f1a4c72ce96a25b931692d/fasttext-crawl-subwords-300.model\n",
      "2021-12-03 09:20:48,571 : MainThread : INFO : loading vectors from /home/oborchers/.cache/huggingface/hub/fse__fasttext-crawl-subwords-300.5db65694a7b3fde5a4f1a4c72ce96a25b931692d/fasttext-crawl-subwords-300.model.vectors.npy with mmap=r\n",
      "2021-12-03 09:20:48,573 : MainThread : INFO : loading vectors_vocab from /home/oborchers/.cache/huggingface/hub/fse__fasttext-crawl-subwords-300.5db65694a7b3fde5a4f1a4c72ce96a25b931692d/fasttext-crawl-subwords-300.model.vectors_vocab.npy with mmap=r\n",
      "2021-12-03 09:20:48,574 : MainThread : INFO : loading vectors_ngrams from /home/oborchers/.cache/huggingface/hub/fse__fasttext-crawl-subwords-300.5db65694a7b3fde5a4f1a4c72ce96a25b931692d/fasttext-crawl-subwords-300.model.vectors_ngrams.npy with mmap=r\n",
      "2021-12-03 09:20:48,576 : MainThread : INFO : setting ignored attribute vectors_norm to None\n",
      "2021-12-03 09:20:48,576 : MainThread : INFO : setting ignored attribute vectors_vocab_norm to None\n",
      "2021-12-03 09:20:48,577 : MainThread : INFO : setting ignored attribute vectors_ngrams_norm to None\n",
      "2021-12-03 09:20:48,578 : MainThread : INFO : setting ignored attribute buckets_word to None\n",
      "2021-12-03 09:20:48,578 : MainThread : INFO : loaded /home/oborchers/.cache/huggingface/hub/fse__fasttext-crawl-subwords-300.5db65694a7b3fde5a4f1a4c72ce96a25b931692d/fasttext-crawl-subwords-300.model\n"
     ]
    }
   ],
   "source": [
    "models = {}\n",
    "model_names = [\n",
    "    \"fasttext-wiki-news-subwords-300\",\n",
    "    \"glove-twitter-100\",\n",
    "    \"glove-twitter-200\",\n",
    "    \"glove-twitter-25\",\n",
    "    \"glove-twitter-50\",\n",
    "    \"glove-wiki-gigaword-100\",\n",
    "    \"glove-wiki-gigaword-200\",\n",
    "    \"glove-wiki-gigaword-300\",\n",
    "    \"glove-wiki-gigaword-50\",\n",
    "    \"paragram-25\",\n",
    "    \"paragram-300-sl999\",\n",
    "    \"paragram-300-ws353\",\n",
    "    \"paranmt-300\",\n",
    "    \"word2vec-google-news-300\",\n",
    "]\n",
    "\n",
    "vectors = {}\n",
    "\n",
    "for name in model_names:\n",
    "    vectors[name] = Vectors.from_pretrained(name, mmap=\"r\")\n",
    "    \n",
    "ft = \"fasttext-crawl-subwords-300\"\n",
    "vectors[ft] = FTVectors.from_pretrained(ft, mmap=\"r\")"
   ]
  },
  {
   "cell_type": "code",
   "execution_count": 26,
   "metadata": {},
   "outputs": [],
   "source": [
    "algos = {\n",
    "    \"CBOW\" : (Average, {}),\n",
    "    \"SIF-10\" : (SIF, {\"components\" : 10}),\n",
    "    \"uSIF\": (uSIF, {\"length\": 11}),\n",
    "}\n",
    "import itertools\n",
    "combinations = list(itertools.product(algos.keys(), vectors.keys()))"
   ]
  },
  {
   "cell_type": "markdown",
   "metadata": {},
   "source": [
    "## Computation of the results for the STS benchmark"
   ]
  },
  {
   "cell_type": "markdown",
   "metadata": {},
   "source": [
    "We are finally able to compute the STS benchmark values for all models."
   ]
  },
  {
   "cell_type": "code",
   "execution_count": 27,
   "metadata": {},
   "outputs": [],
   "source": [
    "# This function is used to compute the similarities between two sentences.\n",
    "# Task length is the length of the sts dataset.\n",
    "def compute_similarities(task_length, model):\n",
    "    sims = []\n",
    "    for i, j in zip(range(task_length), range(task_length, 2*task_length)):\n",
    "        sims.append(model.sv.similarity(i,j))\n",
    "    return sims"
   ]
  },
  {
   "cell_type": "code",
   "execution_count": 28,
   "metadata": {},
   "outputs": [
    {
     "name": "stderr",
     "output_type": "stream",
     "text": [
      "2021-12-03 09:38:51,576 : MainThread : INFO : no frequency mode: using wordfreq for estimation of frequency for language: en\n",
      "2021-12-03 09:38:52,415 : MainThread : INFO : scanning all indexed sentences and their word counts\n",
      "2021-12-03 09:38:52,773 : MainThread : INFO : finished scanning 2758 sentences with an average length of 9 and 27528 total words\n",
      "2021-12-03 09:38:53,082 : MainThread : INFO : estimated memory for 2758 sentences with 300 dimensions and 999999 vocabulary: 1151 MB (1 GB)\n",
      "2021-12-03 09:38:53,084 : MainThread : INFO : initializing sentence vectors for 2758 sentences\n",
      "2021-12-03 09:38:53,130 : MainThread : INFO : begin training\n",
      "2021-12-03 09:38:53,488 : MainThread : INFO : worker thread finished; awaiting finish of 0 more threads\n",
      "2021-12-03 09:38:53,489 : MainThread : INFO : training on 2758 effective sentences with 27172 effective words took 0s with 7686 sentences/s\n",
      "2021-12-03 09:38:53,532 : MainThread : INFO : no frequency mode: using wordfreq for estimation of frequency for language: en\n"
     ]
    },
    {
     "name": "stdout",
     "output_type": "stream",
     "text": [
      "CBOW fasttext-wiki-news-subwords-300 26.08\n"
     ]
    },
    {
     "name": "stderr",
     "output_type": "stream",
     "text": [
      "2021-12-03 09:38:54,580 : MainThread : INFO : scanning all indexed sentences and their word counts\n",
      "2021-12-03 09:38:54,910 : MainThread : INFO : finished scanning 2758 sentences with an average length of 9 and 27528 total words\n",
      "2021-12-03 09:38:55,347 : MainThread : INFO : estimated memory for 2758 sentences with 100 dimensions and 1193514 vocabulary: 460 MB (0 GB)\n",
      "2021-12-03 09:38:55,348 : MainThread : INFO : initializing sentence vectors for 2758 sentences\n",
      "2021-12-03 09:38:55,381 : MainThread : INFO : begin training\n",
      "2021-12-03 09:38:55,791 : MainThread : INFO : worker thread finished; awaiting finish of 0 more threads\n",
      "2021-12-03 09:38:55,792 : MainThread : INFO : training on 2758 effective sentences with 26828 effective words took 0s with 6698 sentences/s\n",
      "2021-12-03 09:38:55,822 : MainThread : INFO : no frequency mode: using wordfreq for estimation of frequency for language: en\n"
     ]
    },
    {
     "name": "stdout",
     "output_type": "stream",
     "text": [
      "CBOW glove-twitter-100 33.81\n"
     ]
    },
    {
     "name": "stderr",
     "output_type": "stream",
     "text": [
      "2021-12-03 09:38:56,793 : MainThread : INFO : scanning all indexed sentences and their word counts\n",
      "2021-12-03 09:38:57,153 : MainThread : INFO : finished scanning 2758 sentences with an average length of 9 and 27528 total words\n",
      "2021-12-03 09:38:57,578 : MainThread : INFO : estimated memory for 2758 sentences with 200 dimensions and 1193514 vocabulary: 917 MB (0 GB)\n",
      "2021-12-03 09:38:57,580 : MainThread : INFO : initializing sentence vectors for 2758 sentences\n",
      "2021-12-03 09:38:57,629 : MainThread : INFO : begin training\n",
      "2021-12-03 09:38:57,973 : MainThread : INFO : worker thread finished; awaiting finish of 0 more threads\n",
      "2021-12-03 09:38:57,974 : MainThread : INFO : training on 2758 effective sentences with 26828 effective words took 0s with 8008 sentences/s\n",
      "2021-12-03 09:38:58,003 : MainThread : INFO : no frequency mode: using wordfreq for estimation of frequency for language: en\n"
     ]
    },
    {
     "name": "stdout",
     "output_type": "stream",
     "text": [
      "CBOW glove-twitter-200 34.94\n"
     ]
    },
    {
     "name": "stderr",
     "output_type": "stream",
     "text": [
      "2021-12-03 09:38:59,042 : MainThread : INFO : scanning all indexed sentences and their word counts\n",
      "2021-12-03 09:38:59,352 : MainThread : INFO : finished scanning 2758 sentences with an average length of 9 and 27528 total words\n",
      "2021-12-03 09:38:59,807 : MainThread : INFO : estimated memory for 2758 sentences with 25 dimensions and 1193514 vocabulary: 118 MB (0 GB)\n",
      "2021-12-03 09:38:59,808 : MainThread : INFO : initializing sentence vectors for 2758 sentences\n",
      "2021-12-03 09:38:59,841 : MainThread : INFO : begin training\n",
      "2021-12-03 09:39:00,227 : MainThread : INFO : worker thread finished; awaiting finish of 0 more threads\n",
      "2021-12-03 09:39:00,228 : MainThread : INFO : training on 2758 effective sentences with 26828 effective words took 0s with 7124 sentences/s\n",
      "2021-12-03 09:39:00,258 : MainThread : INFO : no frequency mode: using wordfreq for estimation of frequency for language: en\n"
     ]
    },
    {
     "name": "stdout",
     "output_type": "stream",
     "text": [
      "CBOW glove-twitter-25 26.15\n"
     ]
    },
    {
     "name": "stderr",
     "output_type": "stream",
     "text": [
      "2021-12-03 09:39:01,259 : MainThread : INFO : scanning all indexed sentences and their word counts\n",
      "2021-12-03 09:39:01,658 : MainThread : INFO : finished scanning 2758 sentences with an average length of 9 and 27528 total words\n",
      "2021-12-03 09:39:02,092 : MainThread : INFO : estimated memory for 2758 sentences with 50 dimensions and 1193514 vocabulary: 232 MB (0 GB)\n",
      "2021-12-03 09:39:02,094 : MainThread : INFO : initializing sentence vectors for 2758 sentences\n",
      "2021-12-03 09:39:02,127 : MainThread : INFO : begin training\n",
      "2021-12-03 09:39:02,518 : MainThread : INFO : worker thread finished; awaiting finish of 0 more threads\n",
      "2021-12-03 09:39:02,520 : MainThread : INFO : training on 2758 effective sentences with 26828 effective words took 0s with 7027 sentences/s\n",
      "2021-12-03 09:39:02,546 : MainThread : INFO : no frequency mode: using wordfreq for estimation of frequency for language: en\n"
     ]
    },
    {
     "name": "stdout",
     "output_type": "stream",
     "text": [
      "CBOW glove-twitter-50 30.78\n"
     ]
    },
    {
     "name": "stderr",
     "output_type": "stream",
     "text": [
      "2021-12-03 09:39:02,920 : MainThread : INFO : scanning all indexed sentences and their word counts\n",
      "2021-12-03 09:39:03,234 : MainThread : INFO : finished scanning 2758 sentences with an average length of 9 and 27528 total words\n",
      "2021-12-03 09:39:03,391 : MainThread : INFO : estimated memory for 2758 sentences with 100 dimensions and 400000 vocabulary: 155 MB (0 GB)\n",
      "2021-12-03 09:39:03,392 : MainThread : INFO : initializing sentence vectors for 2758 sentences\n",
      "2021-12-03 09:39:03,414 : MainThread : INFO : begin training\n",
      "2021-12-03 09:39:03,832 : MainThread : INFO : worker thread finished; awaiting finish of 0 more threads\n",
      "2021-12-03 09:39:03,833 : MainThread : INFO : training on 2758 effective sentences with 27410 effective words took 0s with 6572 sentences/s\n",
      "2021-12-03 09:39:03,862 : MainThread : INFO : no frequency mode: using wordfreq for estimation of frequency for language: en\n"
     ]
    },
    {
     "name": "stdout",
     "output_type": "stream",
     "text": [
      "CBOW glove-wiki-gigaword-100 38.12\n"
     ]
    },
    {
     "name": "stderr",
     "output_type": "stream",
     "text": [
      "2021-12-03 09:39:04,230 : MainThread : INFO : scanning all indexed sentences and their word counts\n",
      "2021-12-03 09:39:04,545 : MainThread : INFO : finished scanning 2758 sentences with an average length of 9 and 27528 total words\n",
      "2021-12-03 09:39:04,680 : MainThread : INFO : estimated memory for 2758 sentences with 200 dimensions and 400000 vocabulary: 308 MB (0 GB)\n",
      "2021-12-03 09:39:04,681 : MainThread : INFO : initializing sentence vectors for 2758 sentences\n",
      "2021-12-03 09:39:04,703 : MainThread : INFO : begin training\n",
      "2021-12-03 09:39:05,056 : MainThread : INFO : worker thread finished; awaiting finish of 0 more threads\n",
      "2021-12-03 09:39:05,057 : MainThread : INFO : training on 2758 effective sentences with 27410 effective words took 0s with 7776 sentences/s\n",
      "2021-12-03 09:39:05,087 : MainThread : INFO : no frequency mode: using wordfreq for estimation of frequency for language: en\n"
     ]
    },
    {
     "name": "stdout",
     "output_type": "stream",
     "text": [
      "CBOW glove-wiki-gigaword-200 42.40\n"
     ]
    },
    {
     "name": "stderr",
     "output_type": "stream",
     "text": [
      "2021-12-03 09:39:05,468 : MainThread : INFO : scanning all indexed sentences and their word counts\n",
      "2021-12-03 09:39:05,784 : MainThread : INFO : finished scanning 2758 sentences with an average length of 9 and 27528 total words\n",
      "2021-12-03 09:39:05,909 : MainThread : INFO : estimated memory for 2758 sentences with 300 dimensions and 400000 vocabulary: 462 MB (0 GB)\n",
      "2021-12-03 09:39:05,910 : MainThread : INFO : initializing sentence vectors for 2758 sentences\n",
      "2021-12-03 09:39:05,933 : MainThread : INFO : begin training\n",
      "2021-12-03 09:39:06,292 : MainThread : INFO : worker thread finished; awaiting finish of 0 more threads\n",
      "2021-12-03 09:39:06,293 : MainThread : INFO : training on 2758 effective sentences with 27410 effective words took 0s with 7655 sentences/s\n",
      "2021-12-03 09:39:06,328 : MainThread : INFO : no frequency mode: using wordfreq for estimation of frequency for language: en\n"
     ]
    },
    {
     "name": "stdout",
     "output_type": "stream",
     "text": [
      "CBOW glove-wiki-gigaword-300 44.46\n"
     ]
    },
    {
     "name": "stderr",
     "output_type": "stream",
     "text": [
      "2021-12-03 09:39:06,719 : MainThread : INFO : scanning all indexed sentences and their word counts\n",
      "2021-12-03 09:39:07,042 : MainThread : INFO : finished scanning 2758 sentences with an average length of 9 and 27528 total words\n",
      "2021-12-03 09:39:07,179 : MainThread : INFO : estimated memory for 2758 sentences with 50 dimensions and 400000 vocabulary: 78 MB (0 GB)\n",
      "2021-12-03 09:39:07,180 : MainThread : INFO : initializing sentence vectors for 2758 sentences\n",
      "2021-12-03 09:39:07,202 : MainThread : INFO : begin training\n",
      "2021-12-03 09:39:07,630 : MainThread : INFO : worker thread finished; awaiting finish of 0 more threads\n",
      "2021-12-03 09:39:07,630 : MainThread : INFO : training on 2758 effective sentences with 27410 effective words took 0s with 6433 sentences/s\n",
      "2021-12-03 09:39:07,654 : MainThread : INFO : no frequency mode: using wordfreq for estimation of frequency for language: en\n",
      "2021-12-03 09:39:07,780 : MainThread : INFO : scanning all indexed sentences and their word counts\n"
     ]
    },
    {
     "name": "stdout",
     "output_type": "stream",
     "text": [
      "CBOW glove-wiki-gigaword-50 37.47\n"
     ]
    },
    {
     "name": "stderr",
     "output_type": "stream",
     "text": [
      "2021-12-03 09:39:08,184 : MainThread : INFO : finished scanning 2758 sentences with an average length of 9 and 27528 total words\n",
      "2021-12-03 09:39:08,236 : MainThread : INFO : estimated memory for 2758 sentences with 25 dimensions and 99958 vocabulary: 10 MB (0 GB)\n",
      "2021-12-03 09:39:08,237 : MainThread : INFO : initializing sentence vectors for 2758 sentences\n",
      "2021-12-03 09:39:08,249 : MainThread : INFO : begin training\n",
      "2021-12-03 09:39:08,613 : MainThread : INFO : worker thread finished; awaiting finish of 0 more threads\n",
      "2021-12-03 09:39:08,614 : MainThread : INFO : training on 2758 effective sentences with 27038 effective words took 0s with 7547 sentences/s\n",
      "2021-12-03 09:39:08,641 : MainThread : INFO : no frequency mode: using wordfreq for estimation of frequency for language: en\n"
     ]
    },
    {
     "name": "stdout",
     "output_type": "stream",
     "text": [
      "CBOW paragram-25 40.13\n"
     ]
    },
    {
     "name": "stderr",
     "output_type": "stream",
     "text": [
      "2021-12-03 09:39:09,972 : MainThread : INFO : scanning all indexed sentences and their word counts\n",
      "2021-12-03 09:39:10,335 : MainThread : INFO : finished scanning 2758 sentences with an average length of 9 and 27528 total words\n",
      "2021-12-03 09:39:10,821 : MainThread : INFO : estimated memory for 2758 sentences with 300 dimensions and 1703756 vocabulary: 1959 MB (1 GB)\n",
      "2021-12-03 09:39:10,822 : MainThread : INFO : initializing sentence vectors for 2758 sentences\n",
      "2021-12-03 09:39:10,864 : MainThread : INFO : begin training\n",
      "2021-12-03 09:39:11,282 : MainThread : INFO : worker thread finished; awaiting finish of 0 more threads\n",
      "2021-12-03 09:39:11,283 : MainThread : INFO : training on 2758 effective sentences with 27448 effective words took 0s with 6586 sentences/s\n",
      "2021-12-03 09:39:11,313 : MainThread : INFO : no frequency mode: using wordfreq for estimation of frequency for language: en\n"
     ]
    },
    {
     "name": "stdout",
     "output_type": "stream",
     "text": [
      "CBOW paragram-300-sl999 51.46\n"
     ]
    },
    {
     "name": "stderr",
     "output_type": "stream",
     "text": [
      "2021-12-03 09:39:12,556 : MainThread : INFO : scanning all indexed sentences and their word counts\n",
      "2021-12-03 09:39:12,910 : MainThread : INFO : finished scanning 2758 sentences with an average length of 9 and 27528 total words\n",
      "2021-12-03 09:39:13,457 : MainThread : INFO : estimated memory for 2758 sentences with 300 dimensions and 1703756 vocabulary: 1959 MB (1 GB)\n",
      "2021-12-03 09:39:13,459 : MainThread : INFO : initializing sentence vectors for 2758 sentences\n",
      "2021-12-03 09:39:13,500 : MainThread : INFO : begin training\n",
      "2021-12-03 09:39:13,887 : MainThread : INFO : worker thread finished; awaiting finish of 0 more threads\n",
      "2021-12-03 09:39:13,888 : MainThread : INFO : training on 2758 effective sentences with 27448 effective words took 0s with 7107 sentences/s\n",
      "2021-12-03 09:39:13,917 : MainThread : INFO : no frequency mode: using wordfreq for estimation of frequency for language: en\n",
      "2021-12-03 09:39:13,997 : MainThread : INFO : scanning all indexed sentences and their word counts\n"
     ]
    },
    {
     "name": "stdout",
     "output_type": "stream",
     "text": [
      "CBOW paragram-300-ws353 54.72\n"
     ]
    },
    {
     "name": "stderr",
     "output_type": "stream",
     "text": [
      "2021-12-03 09:39:14,410 : MainThread : INFO : finished scanning 2758 sentences with an average length of 9 and 27528 total words\n",
      "2021-12-03 09:39:14,450 : MainThread : INFO : estimated memory for 2758 sentences with 300 dimensions and 77224 vocabulary: 91 MB (0 GB)\n",
      "2021-12-03 09:39:14,451 : MainThread : INFO : initializing sentence vectors for 2758 sentences\n",
      "2021-12-03 09:39:14,471 : MainThread : INFO : begin training\n",
      "2021-12-03 09:39:14,822 : MainThread : INFO : worker thread finished; awaiting finish of 0 more threads\n",
      "2021-12-03 09:39:14,823 : MainThread : INFO : training on 2758 effective sentences with 27439 effective words took 0s with 7832 sentences/s\n",
      "2021-12-03 09:39:14,855 : MainThread : INFO : no frequency mode: using wordfreq for estimation of frequency for language: en\n"
     ]
    },
    {
     "name": "stdout",
     "output_type": "stream",
     "text": [
      "CBOW paranmt-300 79.82\n"
     ]
    },
    {
     "name": "stderr",
     "output_type": "stream",
     "text": [
      "2021-12-03 09:39:17,083 : MainThread : INFO : scanning all indexed sentences and their word counts\n",
      "2021-12-03 09:39:17,447 : MainThread : INFO : finished scanning 2758 sentences with an average length of 9 and 27528 total words\n",
      "2021-12-03 09:39:18,570 : MainThread : INFO : estimated memory for 2758 sentences with 300 dimensions and 3000000 vocabulary: 3447 MB (3 GB)\n",
      "2021-12-03 09:39:18,571 : MainThread : INFO : initializing sentence vectors for 2758 sentences\n",
      "2021-12-03 09:39:18,634 : MainThread : INFO : begin training\n",
      "2021-12-03 09:39:18,983 : MainThread : INFO : worker thread finished; awaiting finish of 0 more threads\n",
      "2021-12-03 09:39:18,984 : MainThread : INFO : training on 2758 effective sentences with 23116 effective words took 0s with 7881 sentences/s\n",
      "2021-12-03 09:39:19,014 : MainThread : INFO : no frequency mode: using wordfreq for estimation of frequency for language: en\n"
     ]
    },
    {
     "name": "stdout",
     "output_type": "stream",
     "text": [
      "CBOW word2vec-google-news-300 61.54\n"
     ]
    },
    {
     "name": "stderr",
     "output_type": "stream",
     "text": [
      "2021-12-03 09:39:20,654 : MainThread : INFO : scanning all indexed sentences and their word counts\n",
      "2021-12-03 09:39:20,954 : MainThread : INFO : finished scanning 2758 sentences with an average length of 9 and 27528 total words\n",
      "2021-12-03 09:39:21,701 : MainThread : INFO : estimated memory for 2758 sentences with 300 dimensions and 2000000 vocabulary: 6877 MB (6 GB)\n",
      "2021-12-03 09:39:21,703 : MainThread : INFO : initializing sentence vectors for 2758 sentences\n",
      "2021-12-03 09:39:21,749 : MainThread : INFO : begin training\n",
      "2021-12-03 09:39:22,173 : MainThread : INFO : worker thread finished; awaiting finish of 0 more threads\n",
      "2021-12-03 09:39:22,174 : MainThread : INFO : training on 2758 effective sentences with 27528 effective words took 0s with 6483 sentences/s\n",
      "2021-12-03 09:39:22,204 : MainThread : INFO : no frequency mode: using wordfreq for estimation of frequency for language: en\n"
     ]
    },
    {
     "name": "stdout",
     "output_type": "stream",
     "text": [
      "CBOW fasttext-crawl-subwords-300 48.49\n"
     ]
    },
    {
     "name": "stderr",
     "output_type": "stream",
     "text": [
      "2021-12-03 09:39:22,922 : MainThread : INFO : scanning all indexed sentences and their word counts\n",
      "2021-12-03 09:39:23,239 : MainThread : INFO : finished scanning 2758 sentences with an average length of 9 and 27528 total words\n",
      "2021-12-03 09:39:23,542 : MainThread : INFO : estimated memory for 2758 sentences with 300 dimensions and 999999 vocabulary: 1151 MB (1 GB)\n",
      "2021-12-03 09:39:23,544 : MainThread : INFO : initializing sentence vectors for 2758 sentences\n",
      "2021-12-03 09:39:23,556 : MainThread : INFO : pre-computing SIF weights for 999999 words\n",
      "2021-12-03 09:39:24,217 : MainThread : INFO : begin training\n",
      "2021-12-03 09:39:24,635 : MainThread : INFO : worker thread finished; awaiting finish of 0 more threads\n",
      "2021-12-03 09:39:24,762 : MainThread : INFO : computing 10 principal components took 0s\n",
      "2021-12-03 09:39:24,770 : MainThread : INFO : removing 10 principal components took 0s\n",
      "2021-12-03 09:39:24,772 : MainThread : INFO : training on 2758 effective sentences with 27172 effective words took 0s with 6581 sentences/s\n",
      "2021-12-03 09:39:24,879 : MainThread : INFO : no frequency mode: using wordfreq for estimation of frequency for language: en\n"
     ]
    },
    {
     "name": "stdout",
     "output_type": "stream",
     "text": [
      "SIF-10 components 72.24\n"
     ]
    },
    {
     "name": "stderr",
     "output_type": "stream",
     "text": [
      "2021-12-03 09:39:25,851 : MainThread : INFO : scanning all indexed sentences and their word counts\n",
      "2021-12-03 09:39:26,401 : MainThread : INFO : finished scanning 2758 sentences with an average length of 9 and 27528 total words\n",
      "2021-12-03 09:39:26,839 : MainThread : INFO : estimated memory for 2758 sentences with 100 dimensions and 1193514 vocabulary: 460 MB (0 GB)\n",
      "2021-12-03 09:39:26,840 : MainThread : INFO : initializing sentence vectors for 2758 sentences\n",
      "2021-12-03 09:39:26,857 : MainThread : INFO : pre-computing SIF weights for 1193514 words\n",
      "2021-12-03 09:39:27,748 : MainThread : INFO : begin training\n",
      "2021-12-03 09:39:28,085 : MainThread : INFO : worker thread finished; awaiting finish of 0 more threads\n",
      "2021-12-03 09:39:28,469 : MainThread : INFO : computing 10 principal components took 0s\n",
      "2021-12-03 09:39:28,472 : MainThread : INFO : removing 10 principal components took 0s\n",
      "2021-12-03 09:39:28,473 : MainThread : INFO : training on 2758 effective sentences with 26828 effective words took 0s with 8163 sentences/s\n",
      "2021-12-03 09:39:28,520 : MainThread : INFO : no frequency mode: using wordfreq for estimation of frequency for language: en\n"
     ]
    },
    {
     "name": "stdout",
     "output_type": "stream",
     "text": [
      "SIF-10 components 69.70\n"
     ]
    },
    {
     "name": "stderr",
     "output_type": "stream",
     "text": [
      "2021-12-03 09:39:29,506 : MainThread : INFO : scanning all indexed sentences and their word counts\n",
      "2021-12-03 09:39:29,820 : MainThread : INFO : finished scanning 2758 sentences with an average length of 9 and 27528 total words\n",
      "2021-12-03 09:39:30,251 : MainThread : INFO : estimated memory for 2758 sentences with 200 dimensions and 1193514 vocabulary: 917 MB (0 GB)\n",
      "2021-12-03 09:39:30,252 : MainThread : INFO : initializing sentence vectors for 2758 sentences\n",
      "2021-12-03 09:39:30,275 : MainThread : INFO : pre-computing SIF weights for 1193514 words\n",
      "2021-12-03 09:39:31,141 : MainThread : INFO : begin training\n",
      "2021-12-03 09:39:31,528 : MainThread : INFO : worker thread finished; awaiting finish of 0 more threads\n",
      "2021-12-03 09:39:32,031 : MainThread : INFO : computing 10 principal components took 0s\n",
      "2021-12-03 09:39:32,040 : MainThread : INFO : removing 10 principal components took 0s\n",
      "2021-12-03 09:39:32,042 : MainThread : INFO : training on 2758 effective sentences with 26828 effective words took 0s with 7103 sentences/s\n",
      "2021-12-03 09:39:32,152 : MainThread : INFO : no frequency mode: using wordfreq for estimation of frequency for language: en\n"
     ]
    },
    {
     "name": "stdout",
     "output_type": "stream",
     "text": [
      "SIF-10 components 71.67\n"
     ]
    },
    {
     "name": "stderr",
     "output_type": "stream",
     "text": [
      "2021-12-03 09:39:33,069 : MainThread : INFO : scanning all indexed sentences and their word counts\n",
      "2021-12-03 09:39:33,387 : MainThread : INFO : finished scanning 2758 sentences with an average length of 9 and 27528 total words\n",
      "2021-12-03 09:39:33,821 : MainThread : INFO : estimated memory for 2758 sentences with 25 dimensions and 1193514 vocabulary: 118 MB (0 GB)\n",
      "2021-12-03 09:39:33,823 : MainThread : INFO : initializing sentence vectors for 2758 sentences\n",
      "2021-12-03 09:39:33,832 : MainThread : INFO : pre-computing SIF weights for 1193514 words\n",
      "2021-12-03 09:39:34,741 : MainThread : INFO : begin training\n",
      "2021-12-03 09:39:35,127 : MainThread : INFO : worker thread finished; awaiting finish of 0 more threads\n",
      "2021-12-03 09:39:35,330 : MainThread : INFO : computing 10 principal components took 0s\n",
      "2021-12-03 09:39:35,333 : MainThread : INFO : removing 10 principal components took 0s\n",
      "2021-12-03 09:39:35,335 : MainThread : INFO : training on 2758 effective sentences with 26828 effective words took 0s with 7119 sentences/s\n",
      "2021-12-03 09:39:35,363 : MainThread : INFO : no frequency mode: using wordfreq for estimation of frequency for language: en\n"
     ]
    },
    {
     "name": "stdout",
     "output_type": "stream",
     "text": [
      "SIF-10 components 54.42\n"
     ]
    },
    {
     "name": "stderr",
     "output_type": "stream",
     "text": [
      "2021-12-03 09:39:36,345 : MainThread : INFO : scanning all indexed sentences and their word counts\n",
      "2021-12-03 09:39:36,660 : MainThread : INFO : finished scanning 2758 sentences with an average length of 9 and 27528 total words\n",
      "2021-12-03 09:39:37,123 : MainThread : INFO : estimated memory for 2758 sentences with 50 dimensions and 1193514 vocabulary: 232 MB (0 GB)\n",
      "2021-12-03 09:39:37,124 : MainThread : INFO : initializing sentence vectors for 2758 sentences\n",
      "2021-12-03 09:39:37,139 : MainThread : INFO : pre-computing SIF weights for 1193514 words\n",
      "2021-12-03 09:39:38,051 : MainThread : INFO : begin training\n",
      "2021-12-03 09:39:38,394 : MainThread : INFO : worker thread finished; awaiting finish of 0 more threads\n",
      "2021-12-03 09:39:38,772 : MainThread : INFO : computing 10 principal components took 0s\n",
      "2021-12-03 09:39:38,776 : MainThread : INFO : removing 10 principal components took 0s\n",
      "2021-12-03 09:39:38,776 : MainThread : INFO : training on 2758 effective sentences with 26828 effective words took 0s with 7998 sentences/s\n",
      "2021-12-03 09:39:38,849 : MainThread : INFO : no frequency mode: using wordfreq for estimation of frequency for language: en\n"
     ]
    },
    {
     "name": "stdout",
     "output_type": "stream",
     "text": [
      "SIF-10 components 65.57\n"
     ]
    },
    {
     "name": "stderr",
     "output_type": "stream",
     "text": [
      "2021-12-03 09:39:39,230 : MainThread : INFO : scanning all indexed sentences and their word counts\n",
      "2021-12-03 09:39:39,540 : MainThread : INFO : finished scanning 2758 sentences with an average length of 9 and 27528 total words\n",
      "2021-12-03 09:39:39,692 : MainThread : INFO : estimated memory for 2758 sentences with 100 dimensions and 400000 vocabulary: 155 MB (0 GB)\n",
      "2021-12-03 09:39:39,694 : MainThread : INFO : initializing sentence vectors for 2758 sentences\n",
      "2021-12-03 09:39:39,705 : MainThread : INFO : pre-computing SIF weights for 400000 words\n",
      "2021-12-03 09:39:40,018 : MainThread : INFO : begin training\n",
      "2021-12-03 09:39:40,360 : MainThread : INFO : worker thread finished; awaiting finish of 0 more threads\n",
      "2021-12-03 09:39:40,572 : MainThread : INFO : computing 10 principal components took 0s\n",
      "2021-12-03 09:39:40,576 : MainThread : INFO : removing 10 principal components took 0s\n",
      "2021-12-03 09:39:40,576 : MainThread : INFO : training on 2758 effective sentences with 27410 effective words took 0s with 8032 sentences/s\n",
      "2021-12-03 09:39:40,668 : MainThread : INFO : no frequency mode: using wordfreq for estimation of frequency for language: en\n"
     ]
    },
    {
     "name": "stdout",
     "output_type": "stream",
     "text": [
      "SIF-10 components 68.43\n"
     ]
    },
    {
     "name": "stderr",
     "output_type": "stream",
     "text": [
      "2021-12-03 09:39:41,034 : MainThread : INFO : scanning all indexed sentences and their word counts\n",
      "2021-12-03 09:39:41,353 : MainThread : INFO : finished scanning 2758 sentences with an average length of 9 and 27528 total words\n",
      "2021-12-03 09:39:41,504 : MainThread : INFO : estimated memory for 2758 sentences with 200 dimensions and 400000 vocabulary: 308 MB (0 GB)\n",
      "2021-12-03 09:39:41,505 : MainThread : INFO : initializing sentence vectors for 2758 sentences\n",
      "2021-12-03 09:39:41,524 : MainThread : INFO : pre-computing SIF weights for 400000 words\n",
      "2021-12-03 09:39:41,842 : MainThread : INFO : begin training\n",
      "2021-12-03 09:39:42,198 : MainThread : INFO : worker thread finished; awaiting finish of 0 more threads\n",
      "2021-12-03 09:39:42,354 : MainThread : INFO : computing 10 principal components took 0s\n",
      "2021-12-03 09:39:42,360 : MainThread : INFO : removing 10 principal components took 0s\n",
      "2021-12-03 09:39:42,361 : MainThread : INFO : training on 2758 effective sentences with 27410 effective words took 0s with 7731 sentences/s\n",
      "2021-12-03 09:39:42,406 : MainThread : INFO : no frequency mode: using wordfreq for estimation of frequency for language: en\n"
     ]
    },
    {
     "name": "stdout",
     "output_type": "stream",
     "text": [
      "SIF-10 components 70.73\n"
     ]
    },
    {
     "name": "stderr",
     "output_type": "stream",
     "text": [
      "2021-12-03 09:39:42,828 : MainThread : INFO : scanning all indexed sentences and their word counts\n",
      "2021-12-03 09:39:43,151 : MainThread : INFO : finished scanning 2758 sentences with an average length of 9 and 27528 total words\n",
      "2021-12-03 09:39:43,294 : MainThread : INFO : estimated memory for 2758 sentences with 300 dimensions and 400000 vocabulary: 462 MB (0 GB)\n",
      "2021-12-03 09:39:43,296 : MainThread : INFO : initializing sentence vectors for 2758 sentences\n",
      "2021-12-03 09:39:43,310 : MainThread : INFO : pre-computing SIF weights for 400000 words\n",
      "2021-12-03 09:39:43,579 : MainThread : INFO : begin training\n",
      "2021-12-03 09:39:43,928 : MainThread : INFO : worker thread finished; awaiting finish of 0 more threads\n",
      "2021-12-03 09:39:44,268 : MainThread : INFO : computing 10 principal components took 0s\n",
      "2021-12-03 09:39:44,274 : MainThread : INFO : removing 10 principal components took 0s\n",
      "2021-12-03 09:39:44,276 : MainThread : INFO : training on 2758 effective sentences with 27410 effective words took 0s with 7869 sentences/s\n",
      "2021-12-03 09:39:44,361 : MainThread : INFO : no frequency mode: using wordfreq for estimation of frequency for language: en\n"
     ]
    },
    {
     "name": "stdout",
     "output_type": "stream",
     "text": [
      "SIF-10 components 71.43\n"
     ]
    },
    {
     "name": "stderr",
     "output_type": "stream",
     "text": [
      "2021-12-03 09:39:44,750 : MainThread : INFO : scanning all indexed sentences and their word counts\n",
      "2021-12-03 09:39:45,062 : MainThread : INFO : finished scanning 2758 sentences with an average length of 9 and 27528 total words\n",
      "2021-12-03 09:39:45,198 : MainThread : INFO : estimated memory for 2758 sentences with 50 dimensions and 400000 vocabulary: 78 MB (0 GB)\n",
      "2021-12-03 09:39:45,200 : MainThread : INFO : initializing sentence vectors for 2758 sentences\n",
      "2021-12-03 09:39:45,215 : MainThread : INFO : pre-computing SIF weights for 400000 words\n",
      "2021-12-03 09:39:45,479 : MainThread : INFO : begin training\n",
      "2021-12-03 09:39:45,828 : MainThread : INFO : worker thread finished; awaiting finish of 0 more threads\n",
      "2021-12-03 09:39:45,872 : MainThread : INFO : computing 10 principal components took 0s\n",
      "2021-12-03 09:39:45,876 : MainThread : INFO : removing 10 principal components took 0s\n",
      "2021-12-03 09:39:45,877 : MainThread : INFO : training on 2758 effective sentences with 27410 effective words took 0s with 7873 sentences/s\n",
      "2021-12-03 09:39:45,927 : MainThread : INFO : no frequency mode: using wordfreq for estimation of frequency for language: en\n",
      "2021-12-03 09:39:46,055 : MainThread : INFO : scanning all indexed sentences and their word counts\n"
     ]
    },
    {
     "name": "stdout",
     "output_type": "stream",
     "text": [
      "SIF-10 components 64.20\n"
     ]
    },
    {
     "name": "stderr",
     "output_type": "stream",
     "text": [
      "2021-12-03 09:39:46,365 : MainThread : INFO : finished scanning 2758 sentences with an average length of 9 and 27528 total words\n",
      "2021-12-03 09:39:46,407 : MainThread : INFO : estimated memory for 2758 sentences with 25 dimensions and 99958 vocabulary: 10 MB (0 GB)\n",
      "2021-12-03 09:39:46,409 : MainThread : INFO : initializing sentence vectors for 2758 sentences\n",
      "2021-12-03 09:39:46,427 : MainThread : INFO : pre-computing SIF weights for 99958 words\n",
      "2021-12-03 09:39:46,504 : MainThread : INFO : begin training\n",
      "2021-12-03 09:39:46,848 : MainThread : INFO : worker thread finished; awaiting finish of 0 more threads\n",
      "2021-12-03 09:39:46,879 : MainThread : INFO : computing 10 principal components took 0s\n",
      "2021-12-03 09:39:46,882 : MainThread : INFO : removing 10 principal components took 0s\n",
      "2021-12-03 09:39:46,883 : MainThread : INFO : training on 2758 effective sentences with 27038 effective words took 0s with 8005 sentences/s\n",
      "2021-12-03 09:39:46,936 : MainThread : INFO : no frequency mode: using wordfreq for estimation of frequency for language: en\n"
     ]
    },
    {
     "name": "stdout",
     "output_type": "stream",
     "text": [
      "SIF-10 components 59.22\n"
     ]
    },
    {
     "name": "stderr",
     "output_type": "stream",
     "text": [
      "2021-12-03 09:39:48,304 : MainThread : INFO : scanning all indexed sentences and their word counts\n",
      "2021-12-03 09:39:48,677 : MainThread : INFO : finished scanning 2758 sentences with an average length of 9 and 27528 total words\n",
      "2021-12-03 09:39:49,160 : MainThread : INFO : estimated memory for 2758 sentences with 300 dimensions and 1703756 vocabulary: 1959 MB (1 GB)\n",
      "2021-12-03 09:39:49,161 : MainThread : INFO : initializing sentence vectors for 2758 sentences\n",
      "2021-12-03 09:39:49,174 : MainThread : INFO : pre-computing SIF weights for 1703756 words\n",
      "2021-12-03 09:39:50,270 : MainThread : INFO : begin training\n",
      "2021-12-03 09:39:50,723 : MainThread : INFO : worker thread finished; awaiting finish of 0 more threads\n",
      "2021-12-03 09:39:50,788 : MainThread : INFO : computing 10 principal components took 0s\n",
      "2021-12-03 09:39:50,795 : MainThread : INFO : removing 10 principal components took 0s\n",
      "2021-12-03 09:39:50,797 : MainThread : INFO : training on 2758 effective sentences with 27448 effective words took 0s with 6082 sentences/s\n",
      "2021-12-03 09:39:50,884 : MainThread : INFO : no frequency mode: using wordfreq for estimation of frequency for language: en\n"
     ]
    },
    {
     "name": "stdout",
     "output_type": "stream",
     "text": [
      "SIF-10 components 74.27\n"
     ]
    },
    {
     "name": "stderr",
     "output_type": "stream",
     "text": [
      "2021-12-03 09:39:52,148 : MainThread : INFO : scanning all indexed sentences and their word counts\n",
      "2021-12-03 09:39:52,458 : MainThread : INFO : finished scanning 2758 sentences with an average length of 9 and 27528 total words\n",
      "2021-12-03 09:39:53,007 : MainThread : INFO : estimated memory for 2758 sentences with 300 dimensions and 1703756 vocabulary: 1959 MB (1 GB)\n",
      "2021-12-03 09:39:53,009 : MainThread : INFO : initializing sentence vectors for 2758 sentences\n",
      "2021-12-03 09:39:53,021 : MainThread : INFO : pre-computing SIF weights for 1703756 words\n",
      "2021-12-03 09:39:54,176 : MainThread : INFO : begin training\n",
      "2021-12-03 09:39:54,630 : MainThread : INFO : worker thread finished; awaiting finish of 0 more threads\n",
      "2021-12-03 09:39:54,710 : MainThread : INFO : computing 10 principal components took 0s\n",
      "2021-12-03 09:39:54,717 : MainThread : INFO : removing 10 principal components took 0s\n",
      "2021-12-03 09:39:54,718 : MainThread : INFO : training on 2758 effective sentences with 27448 effective words took 0s with 6055 sentences/s\n",
      "2021-12-03 09:39:54,804 : MainThread : INFO : no frequency mode: using wordfreq for estimation of frequency for language: en\n",
      "2021-12-03 09:39:54,889 : MainThread : INFO : scanning all indexed sentences and their word counts\n"
     ]
    },
    {
     "name": "stdout",
     "output_type": "stream",
     "text": [
      "SIF-10 components 74.08\n"
     ]
    },
    {
     "name": "stderr",
     "output_type": "stream",
     "text": [
      "2021-12-03 09:39:55,207 : MainThread : INFO : finished scanning 2758 sentences with an average length of 9 and 27528 total words\n",
      "2021-12-03 09:39:55,245 : MainThread : INFO : estimated memory for 2758 sentences with 300 dimensions and 77224 vocabulary: 91 MB (0 GB)\n",
      "2021-12-03 09:39:55,248 : MainThread : INFO : initializing sentence vectors for 2758 sentences\n",
      "2021-12-03 09:39:55,260 : MainThread : INFO : pre-computing SIF weights for 77224 words\n",
      "2021-12-03 09:39:55,325 : MainThread : INFO : begin training\n",
      "2021-12-03 09:39:55,674 : MainThread : INFO : worker thread finished; awaiting finish of 0 more threads\n",
      "2021-12-03 09:39:55,740 : MainThread : INFO : computing 10 principal components took 0s\n",
      "2021-12-03 09:39:55,745 : MainThread : INFO : removing 10 principal components took 0s\n",
      "2021-12-03 09:39:55,746 : MainThread : INFO : training on 2758 effective sentences with 27439 effective words took 0s with 7859 sentences/s\n",
      "2021-12-03 09:39:55,819 : MainThread : INFO : no frequency mode: using wordfreq for estimation of frequency for language: en\n"
     ]
    },
    {
     "name": "stdout",
     "output_type": "stream",
     "text": [
      "SIF-10 components 76.76\n"
     ]
    },
    {
     "name": "stderr",
     "output_type": "stream",
     "text": [
      "2021-12-03 09:39:57,877 : MainThread : INFO : scanning all indexed sentences and their word counts\n",
      "2021-12-03 09:39:58,183 : MainThread : INFO : finished scanning 2758 sentences with an average length of 9 and 27528 total words\n",
      "2021-12-03 09:39:59,233 : MainThread : INFO : estimated memory for 2758 sentences with 300 dimensions and 3000000 vocabulary: 3447 MB (3 GB)\n",
      "2021-12-03 09:39:59,235 : MainThread : INFO : initializing sentence vectors for 2758 sentences\n",
      "2021-12-03 09:39:59,245 : MainThread : INFO : pre-computing SIF weights for 3000000 words\n",
      "2021-12-03 09:40:01,380 : MainThread : INFO : begin training\n",
      "2021-12-03 09:40:01,757 : MainThread : INFO : worker thread finished; awaiting finish of 0 more threads\n",
      "2021-12-03 09:40:01,937 : MainThread : INFO : computing 10 principal components took 0s\n",
      "2021-12-03 09:40:01,942 : MainThread : INFO : removing 10 principal components took 0s\n",
      "2021-12-03 09:40:01,944 : MainThread : INFO : training on 2758 effective sentences with 23116 effective words took 0s with 7303 sentences/s\n",
      "2021-12-03 09:40:02,030 : MainThread : INFO : no frequency mode: using wordfreq for estimation of frequency for language: en\n"
     ]
    },
    {
     "name": "stdout",
     "output_type": "stream",
     "text": [
      "SIF-10 components 71.17\n"
     ]
    },
    {
     "name": "stderr",
     "output_type": "stream",
     "text": [
      "2021-12-03 09:40:03,585 : MainThread : INFO : scanning all indexed sentences and their word counts\n",
      "2021-12-03 09:40:03,896 : MainThread : INFO : finished scanning 2758 sentences with an average length of 9 and 27528 total words\n",
      "2021-12-03 09:40:04,677 : MainThread : INFO : estimated memory for 2758 sentences with 300 dimensions and 2000000 vocabulary: 6877 MB (6 GB)\n",
      "2021-12-03 09:40:04,678 : MainThread : INFO : initializing sentence vectors for 2758 sentences\n",
      "2021-12-03 09:40:04,698 : MainThread : INFO : pre-computing SIF weights for 2000000 words\n",
      "2021-12-03 09:40:06,200 : MainThread : INFO : begin training\n",
      "2021-12-03 09:40:06,542 : MainThread : INFO : worker thread finished; awaiting finish of 0 more threads\n",
      "2021-12-03 09:40:06,883 : MainThread : INFO : computing 10 principal components took 0s\n",
      "2021-12-03 09:40:06,887 : MainThread : INFO : removing 10 principal components took 0s\n",
      "2021-12-03 09:40:06,888 : MainThread : INFO : training on 2758 effective sentences with 27528 effective words took 0s with 8032 sentences/s\n",
      "2021-12-03 09:40:06,975 : MainThread : INFO : no frequency mode: using wordfreq for estimation of frequency for language: en\n"
     ]
    },
    {
     "name": "stdout",
     "output_type": "stream",
     "text": [
      "SIF-10 components 73.54\n"
     ]
    },
    {
     "name": "stderr",
     "output_type": "stream",
     "text": [
      "2021-12-03 09:40:07,766 : MainThread : INFO : scanning all indexed sentences and their word counts\n",
      "2021-12-03 09:40:08,092 : MainThread : INFO : finished scanning 2758 sentences with an average length of 9 and 27528 total words\n",
      "2021-12-03 09:40:08,387 : MainThread : INFO : estimated memory for 2758 sentences with 300 dimensions and 999999 vocabulary: 1151 MB (1 GB)\n",
      "2021-12-03 09:40:08,389 : MainThread : INFO : initializing sentence vectors for 2758 sentences\n",
      "2021-12-03 09:40:08,402 : MainThread : INFO : pre-computing uSIF weights for 999999 words\n",
      "2021-12-03 09:40:10,809 : MainThread : INFO : begin training\n",
      "2021-12-03 09:40:11,187 : MainThread : INFO : worker thread finished; awaiting finish of 0 more threads\n",
      "2021-12-03 09:40:11,240 : MainThread : INFO : computing 5 principal components took 0s\n",
      "2021-12-03 09:40:11,243 : MainThread : INFO : removing 5 principal components took 0s\n",
      "2021-12-03 09:40:11,245 : MainThread : INFO : training on 2758 effective sentences with 27172 effective words took 0s with 7261 sentences/s\n",
      "2021-12-03 09:40:11,350 : MainThread : INFO : no frequency mode: using wordfreq for estimation of frequency for language: en\n"
     ]
    },
    {
     "name": "stdout",
     "output_type": "stream",
     "text": [
      "uSIF length 69.05\n"
     ]
    },
    {
     "name": "stderr",
     "output_type": "stream",
     "text": [
      "2021-12-03 09:40:12,385 : MainThread : INFO : scanning all indexed sentences and their word counts\n",
      "2021-12-03 09:40:12,706 : MainThread : INFO : finished scanning 2758 sentences with an average length of 9 and 27528 total words\n",
      "2021-12-03 09:40:13,137 : MainThread : INFO : estimated memory for 2758 sentences with 100 dimensions and 1193514 vocabulary: 460 MB (0 GB)\n",
      "2021-12-03 09:40:13,139 : MainThread : INFO : initializing sentence vectors for 2758 sentences\n",
      "2021-12-03 09:40:13,148 : MainThread : INFO : pre-computing uSIF weights for 1193514 words\n",
      "2021-12-03 09:40:16,097 : MainThread : INFO : begin training\n",
      "2021-12-03 09:40:16,501 : MainThread : INFO : worker thread finished; awaiting finish of 0 more threads\n",
      "2021-12-03 09:40:16,549 : MainThread : INFO : computing 5 principal components took 0s\n",
      "2021-12-03 09:40:16,554 : MainThread : INFO : removing 5 principal components took 0s\n",
      "2021-12-03 09:40:16,555 : MainThread : INFO : training on 2758 effective sentences with 26828 effective words took 0s with 6810 sentences/s\n",
      "2021-12-03 09:40:16,654 : MainThread : INFO : no frequency mode: using wordfreq for estimation of frequency for language: en\n"
     ]
    },
    {
     "name": "stdout",
     "output_type": "stream",
     "text": [
      "uSIF length 64.22\n"
     ]
    },
    {
     "name": "stderr",
     "output_type": "stream",
     "text": [
      "2021-12-03 09:40:17,648 : MainThread : INFO : scanning all indexed sentences and their word counts\n",
      "2021-12-03 09:40:17,978 : MainThread : INFO : finished scanning 2758 sentences with an average length of 9 and 27528 total words\n",
      "2021-12-03 09:40:18,409 : MainThread : INFO : estimated memory for 2758 sentences with 200 dimensions and 1193514 vocabulary: 917 MB (0 GB)\n",
      "2021-12-03 09:40:18,411 : MainThread : INFO : initializing sentence vectors for 2758 sentences\n",
      "2021-12-03 09:40:18,435 : MainThread : INFO : pre-computing uSIF weights for 1193514 words\n",
      "2021-12-03 09:40:21,629 : MainThread : INFO : begin training\n",
      "2021-12-03 09:40:22,011 : MainThread : INFO : worker thread finished; awaiting finish of 0 more threads\n",
      "2021-12-03 09:40:22,062 : MainThread : INFO : computing 5 principal components took 0s\n",
      "2021-12-03 09:40:22,067 : MainThread : INFO : removing 5 principal components took 0s\n",
      "2021-12-03 09:40:22,068 : MainThread : INFO : training on 2758 effective sentences with 26828 effective words took 0s with 7190 sentences/s\n",
      "2021-12-03 09:40:22,149 : MainThread : INFO : no frequency mode: using wordfreq for estimation of frequency for language: en\n"
     ]
    },
    {
     "name": "stdout",
     "output_type": "stream",
     "text": [
      "uSIF length 66.73\n"
     ]
    },
    {
     "name": "stderr",
     "output_type": "stream",
     "text": [
      "2021-12-03 09:40:23,160 : MainThread : INFO : scanning all indexed sentences and their word counts\n",
      "2021-12-03 09:40:23,575 : MainThread : INFO : finished scanning 2758 sentences with an average length of 9 and 27528 total words\n",
      "2021-12-03 09:40:24,036 : MainThread : INFO : estimated memory for 2758 sentences with 25 dimensions and 1193514 vocabulary: 118 MB (0 GB)\n",
      "2021-12-03 09:40:24,037 : MainThread : INFO : initializing sentence vectors for 2758 sentences\n",
      "2021-12-03 09:40:24,048 : MainThread : INFO : pre-computing uSIF weights for 1193514 words\n",
      "2021-12-03 09:40:27,007 : MainThread : INFO : begin training\n",
      "2021-12-03 09:40:27,347 : MainThread : INFO : worker thread finished; awaiting finish of 0 more threads\n",
      "2021-12-03 09:40:27,370 : MainThread : INFO : computing 5 principal components took 0s\n",
      "2021-12-03 09:40:27,372 : MainThread : INFO : removing 5 principal components took 0s\n",
      "2021-12-03 09:40:27,373 : MainThread : INFO : training on 2758 effective sentences with 26828 effective words took 0s with 8092 sentences/s\n",
      "2021-12-03 09:40:27,422 : MainThread : INFO : no frequency mode: using wordfreq for estimation of frequency for language: en\n"
     ]
    },
    {
     "name": "stdout",
     "output_type": "stream",
     "text": [
      "uSIF length 55.17\n"
     ]
    },
    {
     "name": "stderr",
     "output_type": "stream",
     "text": [
      "2021-12-03 09:40:28,435 : MainThread : INFO : scanning all indexed sentences and their word counts\n",
      "2021-12-03 09:40:28,742 : MainThread : INFO : finished scanning 2758 sentences with an average length of 9 and 27528 total words\n",
      "2021-12-03 09:40:29,182 : MainThread : INFO : estimated memory for 2758 sentences with 50 dimensions and 1193514 vocabulary: 232 MB (0 GB)\n",
      "2021-12-03 09:40:29,183 : MainThread : INFO : initializing sentence vectors for 2758 sentences\n",
      "2021-12-03 09:40:29,196 : MainThread : INFO : pre-computing uSIF weights for 1193514 words\n",
      "2021-12-03 09:40:32,178 : MainThread : INFO : begin training\n",
      "2021-12-03 09:40:32,630 : MainThread : INFO : worker thread finished; awaiting finish of 0 more threads\n",
      "2021-12-03 09:40:32,693 : MainThread : INFO : computing 5 principal components took 0s\n",
      "2021-12-03 09:40:32,699 : MainThread : INFO : removing 5 principal components took 0s\n",
      "2021-12-03 09:40:32,700 : MainThread : INFO : training on 2758 effective sentences with 26828 effective words took 0s with 6089 sentences/s\n",
      "2021-12-03 09:40:32,784 : MainThread : INFO : no frequency mode: using wordfreq for estimation of frequency for language: en\n"
     ]
    },
    {
     "name": "stdout",
     "output_type": "stream",
     "text": [
      "uSIF length 60.50\n"
     ]
    },
    {
     "name": "stderr",
     "output_type": "stream",
     "text": [
      "2021-12-03 09:40:33,188 : MainThread : INFO : scanning all indexed sentences and their word counts\n",
      "2021-12-03 09:40:33,490 : MainThread : INFO : finished scanning 2758 sentences with an average length of 9 and 27528 total words\n",
      "2021-12-03 09:40:33,650 : MainThread : INFO : estimated memory for 2758 sentences with 100 dimensions and 400000 vocabulary: 155 MB (0 GB)\n",
      "2021-12-03 09:40:33,651 : MainThread : INFO : initializing sentence vectors for 2758 sentences\n",
      "2021-12-03 09:40:33,661 : MainThread : INFO : pre-computing uSIF weights for 400000 words\n",
      "2021-12-03 09:40:34,654 : MainThread : INFO : begin training\n",
      "2021-12-03 09:40:35,036 : MainThread : INFO : worker thread finished; awaiting finish of 0 more threads\n",
      "2021-12-03 09:40:35,082 : MainThread : INFO : computing 5 principal components took 0s\n",
      "2021-12-03 09:40:35,089 : MainThread : INFO : removing 5 principal components took 0s\n",
      "2021-12-03 09:40:35,090 : MainThread : INFO : training on 2758 effective sentences with 27410 effective words took 0s with 7197 sentences/s\n",
      "2021-12-03 09:40:35,192 : MainThread : INFO : no frequency mode: using wordfreq for estimation of frequency for language: en\n"
     ]
    },
    {
     "name": "stdout",
     "output_type": "stream",
     "text": [
      "uSIF length 65.48\n"
     ]
    },
    {
     "name": "stderr",
     "output_type": "stream",
     "text": [
      "2021-12-03 09:40:35,568 : MainThread : INFO : scanning all indexed sentences and their word counts\n",
      "2021-12-03 09:40:35,930 : MainThread : INFO : finished scanning 2758 sentences with an average length of 9 and 27528 total words\n",
      "2021-12-03 09:40:36,066 : MainThread : INFO : estimated memory for 2758 sentences with 200 dimensions and 400000 vocabulary: 308 MB (0 GB)\n",
      "2021-12-03 09:40:36,067 : MainThread : INFO : initializing sentence vectors for 2758 sentences\n",
      "2021-12-03 09:40:36,082 : MainThread : INFO : pre-computing uSIF weights for 400000 words\n",
      "2021-12-03 09:40:37,120 : MainThread : INFO : begin training\n",
      "2021-12-03 09:40:37,467 : MainThread : INFO : worker thread finished; awaiting finish of 0 more threads\n",
      "2021-12-03 09:40:37,549 : MainThread : INFO : computing 5 principal components took 0s\n",
      "2021-12-03 09:40:37,554 : MainThread : INFO : removing 5 principal components took 0s\n",
      "2021-12-03 09:40:37,555 : MainThread : INFO : training on 2758 effective sentences with 27410 effective words took 0s with 7911 sentences/s\n",
      "2021-12-03 09:40:37,602 : MainThread : INFO : no frequency mode: using wordfreq for estimation of frequency for language: en\n"
     ]
    },
    {
     "name": "stdout",
     "output_type": "stream",
     "text": [
      "uSIF length 67.26\n"
     ]
    },
    {
     "name": "stderr",
     "output_type": "stream",
     "text": [
      "2021-12-03 09:40:37,995 : MainThread : INFO : scanning all indexed sentences and their word counts\n",
      "2021-12-03 09:40:38,304 : MainThread : INFO : finished scanning 2758 sentences with an average length of 9 and 27528 total words\n",
      "2021-12-03 09:40:38,431 : MainThread : INFO : estimated memory for 2758 sentences with 300 dimensions and 400000 vocabulary: 462 MB (0 GB)\n",
      "2021-12-03 09:40:38,433 : MainThread : INFO : initializing sentence vectors for 2758 sentences\n",
      "2021-12-03 09:40:38,446 : MainThread : INFO : pre-computing uSIF weights for 400000 words\n",
      "2021-12-03 09:40:39,394 : MainThread : INFO : begin training\n",
      "2021-12-03 09:40:39,784 : MainThread : INFO : worker thread finished; awaiting finish of 0 more threads\n",
      "2021-12-03 09:40:39,904 : MainThread : INFO : computing 5 principal components took 0s\n",
      "2021-12-03 09:40:39,911 : MainThread : INFO : removing 5 principal components took 0s\n",
      "2021-12-03 09:40:39,913 : MainThread : INFO : training on 2758 effective sentences with 27410 effective words took 0s with 7049 sentences/s\n",
      "2021-12-03 09:40:39,999 : MainThread : INFO : no frequency mode: using wordfreq for estimation of frequency for language: en\n"
     ]
    },
    {
     "name": "stdout",
     "output_type": "stream",
     "text": [
      "uSIF length 67.73\n"
     ]
    },
    {
     "name": "stderr",
     "output_type": "stream",
     "text": [
      "2021-12-03 09:40:40,376 : MainThread : INFO : scanning all indexed sentences and their word counts\n",
      "2021-12-03 09:40:40,707 : MainThread : INFO : finished scanning 2758 sentences with an average length of 9 and 27528 total words\n",
      "2021-12-03 09:40:40,848 : MainThread : INFO : estimated memory for 2758 sentences with 50 dimensions and 400000 vocabulary: 78 MB (0 GB)\n",
      "2021-12-03 09:40:40,849 : MainThread : INFO : initializing sentence vectors for 2758 sentences\n",
      "2021-12-03 09:40:40,867 : MainThread : INFO : pre-computing uSIF weights for 400000 words\n",
      "2021-12-03 09:40:41,835 : MainThread : INFO : begin training\n",
      "2021-12-03 09:40:42,215 : MainThread : INFO : worker thread finished; awaiting finish of 0 more threads\n",
      "2021-12-03 09:40:42,359 : MainThread : INFO : computing 5 principal components took 0s\n",
      "2021-12-03 09:40:42,363 : MainThread : INFO : removing 5 principal components took 0s\n",
      "2021-12-03 09:40:42,364 : MainThread : INFO : training on 2758 effective sentences with 27410 effective words took 0s with 7247 sentences/s\n",
      "2021-12-03 09:40:42,391 : MainThread : INFO : no frequency mode: using wordfreq for estimation of frequency for language: en\n",
      "2021-12-03 09:40:42,515 : MainThread : INFO : scanning all indexed sentences and their word counts\n"
     ]
    },
    {
     "name": "stdout",
     "output_type": "stream",
     "text": [
      "uSIF length 62.22\n"
     ]
    },
    {
     "name": "stderr",
     "output_type": "stream",
     "text": [
      "2021-12-03 09:40:42,834 : MainThread : INFO : finished scanning 2758 sentences with an average length of 9 and 27528 total words\n",
      "2021-12-03 09:40:42,875 : MainThread : INFO : estimated memory for 2758 sentences with 25 dimensions and 99958 vocabulary: 10 MB (0 GB)\n",
      "2021-12-03 09:40:42,876 : MainThread : INFO : initializing sentence vectors for 2758 sentences\n",
      "2021-12-03 09:40:42,889 : MainThread : INFO : pre-computing uSIF weights for 99958 words\n",
      "2021-12-03 09:40:43,140 : MainThread : INFO : begin training\n",
      "2021-12-03 09:40:43,489 : MainThread : INFO : worker thread finished; awaiting finish of 0 more threads\n",
      "2021-12-03 09:40:43,519 : MainThread : INFO : computing 5 principal components took 0s\n",
      "2021-12-03 09:40:43,523 : MainThread : INFO : removing 5 principal components took 0s\n",
      "2021-12-03 09:40:43,524 : MainThread : INFO : training on 2758 effective sentences with 27038 effective words took 0s with 7871 sentences/s\n",
      "2021-12-03 09:40:43,576 : MainThread : INFO : no frequency mode: using wordfreq for estimation of frequency for language: en\n"
     ]
    },
    {
     "name": "stdout",
     "output_type": "stream",
     "text": [
      "uSIF length 64.31\n"
     ]
    },
    {
     "name": "stderr",
     "output_type": "stream",
     "text": [
      "2021-12-03 09:40:44,922 : MainThread : INFO : scanning all indexed sentences and their word counts\n",
      "2021-12-03 09:40:45,229 : MainThread : INFO : finished scanning 2758 sentences with an average length of 9 and 27528 total words\n",
      "2021-12-03 09:40:45,744 : MainThread : INFO : estimated memory for 2758 sentences with 300 dimensions and 1703756 vocabulary: 1959 MB (1 GB)\n",
      "2021-12-03 09:40:45,746 : MainThread : INFO : initializing sentence vectors for 2758 sentences\n",
      "2021-12-03 09:40:45,755 : MainThread : INFO : pre-computing uSIF weights for 1703756 words\n",
      "2021-12-03 09:40:49,750 : MainThread : INFO : begin training\n",
      "2021-12-03 09:40:50,113 : MainThread : INFO : worker thread finished; awaiting finish of 0 more threads\n",
      "2021-12-03 09:40:50,420 : MainThread : INFO : computing 5 principal components took 0s\n",
      "2021-12-03 09:40:50,428 : MainThread : INFO : removing 5 principal components took 0s\n",
      "2021-12-03 09:40:50,430 : MainThread : INFO : training on 2758 effective sentences with 27448 effective words took 0s with 7576 sentences/s\n",
      "2021-12-03 09:40:50,516 : MainThread : INFO : no frequency mode: using wordfreq for estimation of frequency for language: en\n"
     ]
    },
    {
     "name": "stdout",
     "output_type": "stream",
     "text": [
      "uSIF length 73.09\n"
     ]
    },
    {
     "name": "stderr",
     "output_type": "stream",
     "text": [
      "2021-12-03 09:40:51,760 : MainThread : INFO : scanning all indexed sentences and their word counts\n",
      "2021-12-03 09:40:52,075 : MainThread : INFO : finished scanning 2758 sentences with an average length of 9 and 27528 total words\n",
      "2021-12-03 09:40:52,626 : MainThread : INFO : estimated memory for 2758 sentences with 300 dimensions and 1703756 vocabulary: 1959 MB (1 GB)\n",
      "2021-12-03 09:40:52,628 : MainThread : INFO : initializing sentence vectors for 2758 sentences\n",
      "2021-12-03 09:40:52,638 : MainThread : INFO : pre-computing uSIF weights for 1703756 words\n",
      "2021-12-03 09:40:56,747 : MainThread : INFO : begin training\n",
      "2021-12-03 09:40:57,191 : MainThread : INFO : worker thread finished; awaiting finish of 0 more threads\n",
      "2021-12-03 09:40:57,403 : MainThread : INFO : computing 5 principal components took 0s\n",
      "2021-12-03 09:40:57,408 : MainThread : INFO : removing 5 principal components took 0s\n",
      "2021-12-03 09:40:57,409 : MainThread : INFO : training on 2758 effective sentences with 27448 effective words took 0s with 6198 sentences/s\n",
      "2021-12-03 09:40:57,476 : MainThread : INFO : no frequency mode: using wordfreq for estimation of frequency for language: en\n",
      "2021-12-03 09:40:57,567 : MainThread : INFO : scanning all indexed sentences and their word counts\n"
     ]
    },
    {
     "name": "stdout",
     "output_type": "stream",
     "text": [
      "uSIF length 71.90\n"
     ]
    },
    {
     "name": "stderr",
     "output_type": "stream",
     "text": [
      "2021-12-03 09:40:57,891 : MainThread : INFO : finished scanning 2758 sentences with an average length of 9 and 27528 total words\n",
      "2021-12-03 09:40:57,929 : MainThread : INFO : estimated memory for 2758 sentences with 300 dimensions and 77224 vocabulary: 91 MB (0 GB)\n",
      "2021-12-03 09:40:57,930 : MainThread : INFO : initializing sentence vectors for 2758 sentences\n",
      "2021-12-03 09:40:57,943 : MainThread : INFO : pre-computing uSIF weights for 77224 words\n",
      "2021-12-03 09:40:58,158 : MainThread : INFO : begin training\n",
      "2021-12-03 09:40:58,493 : MainThread : INFO : worker thread finished; awaiting finish of 0 more threads\n",
      "2021-12-03 09:40:58,751 : MainThread : INFO : computing 5 principal components took 0s\n",
      "2021-12-03 09:40:58,756 : MainThread : INFO : removing 5 principal components took 0s\n",
      "2021-12-03 09:40:58,757 : MainThread : INFO : training on 2758 effective sentences with 27439 effective words took 0s with 8200 sentences/s\n",
      "2021-12-03 09:40:58,842 : MainThread : INFO : no frequency mode: using wordfreq for estimation of frequency for language: en\n"
     ]
    },
    {
     "name": "stdout",
     "output_type": "stream",
     "text": [
      "uSIF length 79.02\n"
     ]
    },
    {
     "name": "stderr",
     "output_type": "stream",
     "text": [
      "2021-12-03 09:41:01,070 : MainThread : INFO : scanning all indexed sentences and their word counts\n",
      "2021-12-03 09:41:01,448 : MainThread : INFO : finished scanning 2758 sentences with an average length of 9 and 27528 total words\n",
      "2021-12-03 09:41:02,515 : MainThread : INFO : estimated memory for 2758 sentences with 300 dimensions and 3000000 vocabulary: 3447 MB (3 GB)\n",
      "2021-12-03 09:41:02,516 : MainThread : INFO : initializing sentence vectors for 2758 sentences\n",
      "2021-12-03 09:41:02,529 : MainThread : INFO : pre-computing uSIF weights for 3000000 words\n",
      "2021-12-03 09:41:09,927 : MainThread : INFO : begin training\n",
      "2021-12-03 09:41:10,374 : MainThread : INFO : worker thread finished; awaiting finish of 0 more threads\n",
      "2021-12-03 09:41:10,733 : MainThread : INFO : computing 5 principal components took 0s\n",
      "2021-12-03 09:41:10,740 : MainThread : INFO : removing 5 principal components took 0s\n",
      "2021-12-03 09:41:10,742 : MainThread : INFO : training on 2758 effective sentences with 23116 effective words took 0s with 6148 sentences/s\n",
      "2021-12-03 09:41:10,828 : MainThread : INFO : no frequency mode: using wordfreq for estimation of frequency for language: en\n"
     ]
    },
    {
     "name": "stdout",
     "output_type": "stream",
     "text": [
      "uSIF length 67.15\n"
     ]
    },
    {
     "name": "stderr",
     "output_type": "stream",
     "text": [
      "2021-12-03 09:41:12,490 : MainThread : INFO : scanning all indexed sentences and their word counts\n",
      "2021-12-03 09:41:12,816 : MainThread : INFO : finished scanning 2758 sentences with an average length of 9 and 27528 total words\n",
      "2021-12-03 09:41:13,574 : MainThread : INFO : estimated memory for 2758 sentences with 300 dimensions and 2000000 vocabulary: 6877 MB (6 GB)\n",
      "2021-12-03 09:41:13,575 : MainThread : INFO : initializing sentence vectors for 2758 sentences\n",
      "2021-12-03 09:41:13,591 : MainThread : INFO : pre-computing uSIF weights for 2000000 words\n",
      "2021-12-03 09:41:18,512 : MainThread : INFO : begin training\n",
      "2021-12-03 09:41:18,980 : MainThread : INFO : worker thread finished; awaiting finish of 0 more threads\n",
      "2021-12-03 09:41:19,312 : MainThread : INFO : computing 5 principal components took 0s\n",
      "2021-12-03 09:41:19,317 : MainThread : INFO : removing 5 principal components took 0s\n",
      "2021-12-03 09:41:19,318 : MainThread : INFO : training on 2758 effective sentences with 27528 effective words took 0s with 5884 sentences/s\n"
     ]
    },
    {
     "name": "stdout",
     "output_type": "stream",
     "text": [
      "uSIF length 69.55\n"
     ]
    }
   ],
   "source": [
    "from collections import defaultdict\n",
    "results = defaultdict(list)\n",
    "\n",
    "for algo, name in combinations:\n",
    "    class_obj = algos[algo][0]\n",
    "    args = algos[algo][1]\n",
    "    vec = vectors[name]\n",
    "    m = class_obj(vec, lang_freq=\"en\", **args)\n",
    "    m.train(sentences)\n",
    "    r = pearsonr(similarities, compute_similarities(task_length, m))[0].round(4) * 100\n",
    "    \n",
    "    results[\"algo\"].append(algo)\n",
    "    results[\"vecs\"].append(name)\n",
    "    \n",
    "    if len(args) > 0:\n",
    "        name = list(args.keys())[0]\n",
    "        value = args[name]\n",
    "        results[\"params\"].append(f\"{name}={value}\")\n",
    "    else:\n",
    "        results[\"params\"].append(\"\")\n",
    "    \n",
    "    results[\"score\"].append(r)\n",
    "    print(algo, name, f\"{r:2.2f}\")"
   ]
  },
  {
   "cell_type": "code",
   "execution_count": 29,
   "metadata": {},
   "outputs": [
    {
     "data": {
      "text/html": [
       "<div>\n",
       "<style scoped>\n",
       "    .dataframe tbody tr th:only-of-type {\n",
       "        vertical-align: middle;\n",
       "    }\n",
       "\n",
       "    .dataframe tbody tr th {\n",
       "        vertical-align: top;\n",
       "    }\n",
       "\n",
       "    .dataframe thead th {\n",
       "        text-align: right;\n",
       "    }\n",
       "</style>\n",
       "<table border=\"1\" class=\"dataframe\">\n",
       "  <thead>\n",
       "    <tr style=\"text-align: right;\">\n",
       "      <th></th>\n",
       "      <th>algo</th>\n",
       "      <th>vecs</th>\n",
       "      <th>params</th>\n",
       "      <th>score</th>\n",
       "    </tr>\n",
       "  </thead>\n",
       "  <tbody>\n",
       "    <tr>\n",
       "      <th>12</th>\n",
       "      <td>CBOW</td>\n",
       "      <td>paranmt-300</td>\n",
       "      <td></td>\n",
       "      <td>79.82</td>\n",
       "    </tr>\n",
       "    <tr>\n",
       "      <th>42</th>\n",
       "      <td>uSIF</td>\n",
       "      <td>paranmt-300</td>\n",
       "      <td>length=11</td>\n",
       "      <td>79.02</td>\n",
       "    </tr>\n",
       "    <tr>\n",
       "      <th>27</th>\n",
       "      <td>SIF-10</td>\n",
       "      <td>paranmt-300</td>\n",
       "      <td>components=10</td>\n",
       "      <td>76.76</td>\n",
       "    </tr>\n",
       "    <tr>\n",
       "      <th>25</th>\n",
       "      <td>SIF-10</td>\n",
       "      <td>paragram-300-sl999</td>\n",
       "      <td>components=10</td>\n",
       "      <td>74.27</td>\n",
       "    </tr>\n",
       "    <tr>\n",
       "      <th>26</th>\n",
       "      <td>SIF-10</td>\n",
       "      <td>paragram-300-ws353</td>\n",
       "      <td>components=10</td>\n",
       "      <td>74.08</td>\n",
       "    </tr>\n",
       "  </tbody>\n",
       "</table>\n",
       "</div>"
      ],
      "text/plain": [
       "      algo                vecs         params  score\n",
       "12    CBOW         paranmt-300                 79.82\n",
       "42    uSIF         paranmt-300      length=11  79.02\n",
       "27  SIF-10         paranmt-300  components=10  76.76\n",
       "25  SIF-10  paragram-300-sl999  components=10  74.27\n",
       "26  SIF-10  paragram-300-ws353  components=10  74.08"
      ]
     },
     "execution_count": 29,
     "metadata": {},
     "output_type": "execute_result"
    }
   ],
   "source": [
    "df = pd.DataFrame.from_dict(results, orient=\"columns\").sort_values(\"score\", ascending=False)\n",
    "df.head()"
   ]
  },
  {
   "cell_type": "markdown",
   "metadata": {},
   "source": [
    "If you closely study the values above you will find that:\n",
    "- SIF-Glove is almost equivalent to the values reported in http://ixa2.si.ehu.es/stswiki/index.php/STSbenchmark\n",
    "- CBOW-Paranmt is a little better than ParaNMT Word Avg. in https://www.aclweb.org/anthology/W18-3012\n",
    "- uSIF-Paranmt is a little worse than ParaNMT+UP in https://www.aclweb.org/anthology/W18-3012\n",
    "- uSIF-Paragram is a little worse than PSL+UP in https://www.aclweb.org/anthology/W18-3012\n",
    "\n",
    "However, I guess those differences might arise due to differences in preprocessing. Too bad we didn't hit 80. If you have any ideas why those values don't match exactly, feel free to contact me anytime."
   ]
  },
  {
   "cell_type": "code",
   "execution_count": 36,
   "metadata": {},
   "outputs": [
    {
     "name": "stdout",
     "output_type": "stream",
     "text": [
      "`CBOW` | `paranmt-300` |  | 79.82\n",
      "`uSIF` | `paranmt-300` | length=11 | 79.02\n",
      "`SIF-10` | `paranmt-300` | components=10 | 76.76\n",
      "`SIF-10` | `paragram-300-sl999` | components=10 | 74.27\n",
      "`SIF-10` | `paragram-300-ws353` | components=10 | 74.08\n",
      "`SIF-10` | `fasttext-crawl-subwords-300` | components=10 | 73.54\n",
      "`uSIF` | `paragram-300-sl999` | length=11 | 73.09\n",
      "`SIF-10` | `fasttext-wiki-news-subwords-300` | components=10 | 72.24\n",
      "`uSIF` | `paragram-300-ws353` | length=11 | 71.90\n",
      "`SIF-10` | `glove-twitter-200` | components=10 | 71.67\n",
      "`SIF-10` | `glove-wiki-gigaword-300` | components=10 | 71.43\n",
      "`SIF-10` | `word2vec-google-news-300` | components=10 | 71.17\n",
      "`SIF-10` | `glove-wiki-gigaword-200` | components=10 | 70.73\n",
      "`SIF-10` | `glove-twitter-100` | components=10 | 69.70\n",
      "`uSIF` | `fasttext-crawl-subwords-300` | length=11 | 69.55\n",
      "`uSIF` | `fasttext-wiki-news-subwords-300` | length=11 | 69.05\n",
      "`SIF-10` | `glove-wiki-gigaword-100` | components=10 | 68.43\n",
      "`uSIF` | `glove-wiki-gigaword-300` | length=11 | 67.73\n",
      "`uSIF` | `glove-wiki-gigaword-200` | length=11 | 67.26\n",
      "`uSIF` | `word2vec-google-news-300` | length=11 | 67.15\n",
      "`uSIF` | `glove-twitter-200` | length=11 | 66.73\n",
      "`SIF-10` | `glove-twitter-50` | components=10 | 65.57\n",
      "`uSIF` | `glove-wiki-gigaword-100` | length=11 | 65.48\n",
      "`uSIF` | `paragram-25` | length=11 | 64.31\n",
      "`uSIF` | `glove-twitter-100` | length=11 | 64.22\n",
      "`SIF-10` | `glove-wiki-gigaword-50` | components=10 | 64.20\n",
      "`uSIF` | `glove-wiki-gigaword-50` | length=11 | 62.22\n",
      "`CBOW` | `word2vec-google-news-300` |  | 61.54\n",
      "`uSIF` | `glove-twitter-50` | length=11 | 60.50\n",
      "`SIF-10` | `paragram-25` | components=10 | 59.22\n",
      "`uSIF` | `glove-twitter-25` | length=11 | 55.17\n",
      "`CBOW` | `paragram-300-ws353` |  | 54.72\n",
      "`SIF-10` | `glove-twitter-25` | components=10 | 54.42\n",
      "`CBOW` | `paragram-300-sl999` |  | 51.46\n",
      "`CBOW` | `fasttext-crawl-subwords-300` |  | 48.49\n",
      "`CBOW` | `glove-wiki-gigaword-300` |  | 44.46\n",
      "`CBOW` | `glove-wiki-gigaword-200` |  | 42.40\n",
      "`CBOW` | `paragram-25` |  | 40.13\n",
      "`CBOW` | `glove-wiki-gigaword-100` |  | 38.12\n",
      "`CBOW` | `glove-wiki-gigaword-50` |  | 37.47\n",
      "`CBOW` | `glove-twitter-200` |  | 34.94\n",
      "`CBOW` | `glove-twitter-100` |  | 33.81\n",
      "`CBOW` | `glove-twitter-50` |  | 30.78\n",
      "`CBOW` | `glove-twitter-25` |  | 26.15\n",
      "`CBOW` | `fasttext-wiki-news-subwords-300` |  | 26.08\n"
     ]
    }
   ],
   "source": [
    "for row in df.iterrows():\n",
    "    row = row[1]\n",
    "    print(\n",
    "        f\"`{row.algo}` | `{row.vecs}` | {row.params} | {row.score:2.2f}\"\n",
    "    )    "
   ]
  },
  {
   "cell_type": "code",
   "execution_count": null,
   "metadata": {},
   "outputs": [],
   "source": []
  }
 ],
 "metadata": {
  "kernelspec": {
   "display_name": "Python 3",
   "language": "python",
   "name": "python3"
  },
  "language_info": {
   "codemirror_mode": {
    "name": "ipython",
    "version": 3
   },
   "file_extension": ".py",
   "mimetype": "text/x-python",
   "name": "python",
   "nbconvert_exporter": "python",
   "pygments_lexer": "ipython3",
   "version": "3.8.5"
  }
 },
 "nbformat": 4,
 "nbformat_minor": 4
}
