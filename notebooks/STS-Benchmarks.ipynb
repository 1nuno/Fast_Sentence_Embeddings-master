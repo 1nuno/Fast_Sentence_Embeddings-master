{
 "cells": [
  {
   "cell_type": "markdown",
   "metadata": {},
   "source": [
    "# STS Benchmark Datasets"
   ]
  },
  {
   "cell_type": "markdown",
   "metadata": {},
   "source": [
    "### Preparation"
   ]
  },
  {
   "cell_type": "markdown",
   "metadata": {},
   "source": [
    "Setup all required libraries"
   ]
  },
  {
   "cell_type": "code",
   "execution_count": 1,
   "metadata": {},
   "outputs": [],
   "source": [
    "import logging\n",
    "import re\n",
    "import sys\n",
    "\n",
    "import numpy as np\n",
    "import pandas as pd\n",
    "\n",
    "from gensim.models.keyedvectors import KeyedVectors, FastTextKeyedVectors\n",
    "\n",
    "from fse.models import Average, SIF, uSIF\n",
    "from fse import CSplitIndexedList\n",
    "\n",
    "from re import sub\n",
    "\n",
    "from scipy.stats import pearsonr\n",
    "\n",
    "from nltk import word_tokenize\n",
    "\n",
    "logging.basicConfig(format='%(asctime)s : %(threadName)s : %(levelname)s : %(message)s',\n",
    "                    level=logging.INFO)"
   ]
  },
  {
   "cell_type": "markdown",
   "metadata": {},
   "source": [
    "Next, we require the sentences from the STS benchmark dataset."
   ]
  },
  {
   "cell_type": "code",
   "execution_count": 2,
   "metadata": {},
   "outputs": [
    {
     "name": "stdout",
     "output_type": "stream",
     "text": [
      "0\tSim: 2.5\tA girl is styling her hair.             \tA girl is brushing her hair.            \t\n",
      "1\tSim: 3.6\tA group of men play soccer on the beach.\tA group of boys are playing soccer on the beach.\t\n",
      "2\tSim: 5.0\tOne woman is measuring another woman's ankle.\tA woman measures another woman's ankle. \t\n",
      "3\tSim: 4.2\tA man is cutting up a cucumber.         \tA man is slicing a cucumber.            \t\n",
      "4\tSim: 1.5\tA man is playing a harp.                \tA man is playing a keyboard.            \t\n"
     ]
    }
   ],
   "source": [
    "file= \"../evaluation/sts-test.csv\"\n",
    "similarities, sent_a, sent_b = [], [], []\n",
    "with open(file, \"r\") as f:\n",
    "    for l in f:\n",
    "        line = l.rstrip().split(\"\\t\")\n",
    "        similarities.append(float(line[4]))\n",
    "        sent_a.append(line[5])\n",
    "        sent_b.append(line[6])\n",
    "similarities = np.array(similarities)\n",
    "assert len(similarities) == len(sent_a) == len(sent_b)\n",
    "task_length = len(similarities)\n",
    "\n",
    "for i, obj in enumerate(zip(similarities, sent_a, sent_b)):\n",
    "    print(f\"{i}\\tSim: {obj[0].round(3):.1f}\\t{obj[1]:40s}\\t{obj[2]:40s}\\t\")\n",
    "    if i == 4:\n",
    "        break"
   ]
  },
  {
   "cell_type": "markdown",
   "metadata": {},
   "source": [
    "Each of these sentence requires some preparation (i.e. tokenization) to be used in the core input formats.\n",
    "To reproduce the results from the uSIF paper this part is taken from https://github.com/kawine/usif/blob/master/usif.py"
   ]
  },
  {
   "cell_type": "code",
   "execution_count": 3,
   "metadata": {},
   "outputs": [],
   "source": [
    "not_punc = re.compile('.*[A-Za-z0-9].*')\n",
    "\n",
    "def prep_token(token):\n",
    "    t = token.lower().strip(\"';.:()\").strip('\"')\n",
    "    t = 'not' if t == \"n't\" else t\n",
    "    return re.split(r'[-]', t)\n",
    "\n",
    "def prep_sentence(sentence):\n",
    "    tokens = []\n",
    "    for token in word_tokenize(sentence):\n",
    "        if not_punc.match(token):\n",
    "            tokens = tokens + prep_token(token)\n",
    "    return tokens"
   ]
  },
  {
   "cell_type": "markdown",
   "metadata": {},
   "source": [
    "Next we define the IndexedList object. The IndexedList extends the previously constructed sent_a and sent_b list together. We additionally provide a custom function \"prep_sentence\" which performs all the prepocessing for a single sentence. Therefore we need the extention **CSplitIndexedList**, which provides you the option to provide a custom split function"
   ]
  },
  {
   "cell_type": "code",
   "execution_count": 4,
   "metadata": {},
   "outputs": [],
   "source": [
    "sentences = CSplitIndexedList(sent_a, sent_b, custom_split=prep_sentence)"
   ]
  },
  {
   "cell_type": "markdown",
   "metadata": {},
   "source": [
    "The IndexedList returns the core object required for fse to train a sentence embedding: A tuple. This object constists of words (a list of strings) and its corresponding index. The latter is important if multiple cores access the input queue simultaneously. Thus it must be always provided. The index represents the row in the matrix where it can later be found."
   ]
  },
  {
   "cell_type": "code",
   "execution_count": 5,
   "metadata": {},
   "outputs": [
    {
     "data": {
      "text/plain": [
       "(['a', 'girl', 'is', 'styling', 'her', 'hair'], 0)"
      ]
     },
     "execution_count": 5,
     "metadata": {},
     "output_type": "execute_result"
    }
   ],
   "source": [
    "sentences[0]"
   ]
  },
  {
   "cell_type": "markdown",
   "metadata": {},
   "source": [
    "Note, that IndexedList does not convert the sentences inplace but only on calling the __getitem__ method in order to turn the sentence into a tuple. You can access the original sentence using"
   ]
  },
  {
   "cell_type": "code",
   "execution_count": 6,
   "metadata": {},
   "outputs": [
    {
     "data": {
      "text/plain": [
       "'A girl is styling her hair.'"
      ]
     },
     "execution_count": 6,
     "metadata": {},
     "output_type": "execute_result"
    }
   ],
   "source": [
    "sentences.items[0]"
   ]
  },
  {
   "cell_type": "markdown",
   "metadata": {},
   "source": [
    "### Loading the models\n",
    "\n",
    "It is required for us to load the models as BaseKeyedVectors or as an BaseWordEmbeddingsModel. For this notebook, I already converted the models to a BaseKeyedVectors instance and saved the corresponding instance on my external harddrive. You have to replicate these steps yourself, because getting all the files can be a bit difficult, as the total filesize is around 15 GB."
   ]
  },
  {
   "cell_type": "code",
   "execution_count": 7,
   "metadata": {},
   "outputs": [],
   "source": [
    "models, results = {}, {}"
   ]
  },
  {
   "cell_type": "markdown",
   "metadata": {},
   "source": [
    "The following code performs a disk-to-ram training. Passing a path to __wv_mapfile_path__ will store the corresponding word vectors (wv) as a numpy memmap array. This is required, because loading all vectors into ram would would take up a lot of storage unecessary. The wv.vectors file will be replace by its memmap representation, which is why the next models do not require the wv_mapfile_path argument, as they access the same memmap object.\n",
    "\n",
    "The lang_freq=\"en\" induces the frequencies of the words according to the wordfreq package. This functionality allows you to work with pre-trained embeddings which don't come with frequency information. The method overwrites the counts in the glove.wv.vocab class, so that all further models also benefit from this induction."
   ]
  },
  {
   "cell_type": "code",
   "execution_count": null,
   "metadata": {},
   "outputs": [],
   "source": [
    "glove = KeyedVectors.load(path_to_models+\"glove.840B.300d.model\")\n",
    "\n",
    "print(f\"Before memmap {sys.getsizeof(glove.vectors)}\")\n",
    "\n",
    "models[f\"CBOW-Glove\"] = Average(glove, wv_mapfile_path=\"data/glove\", lang_freq=\"en\")\n",
    "\n",
    "print(f\"After memmap {sys.getsizeof(glove.vectors)}\")\n",
    "\n",
    "models[f\"SIF-Glove\"] = SIF(glove, components=15)\n",
    "models[f\"uSIF-Glove\"] = uSIF(glove,length=11)"
   ]
  },
  {
   "cell_type": "code",
   "execution_count": null,
   "metadata": {},
   "outputs": [],
   "source": [
    "# Do all the vectors contain the same content?\n",
    "(models[f\"SIF-Glove\"].wv.vectors == models[f\"uSIF-Glove\"].wv.vectors).all()"
   ]
  },
  {
   "cell_type": "markdown",
   "metadata": {},
   "source": [
    "Another option is to load the KeyedVectors using the kwarg mmap=\"r\""
   ]
  },
  {
   "cell_type": "code",
   "execution_count": null,
   "metadata": {},
   "outputs": [],
   "source": [
    "w2v = KeyedVectors.load(path_to_models+\"google_news.model\", mmap=\"r\")\n",
    "\n",
    "models[f\"CBOW-W2V\"] = Average(w2v, lang_freq=\"en\")\n",
    "models[f\"SIF-W2V\"] = SIF(w2v, components=10)\n",
    "models[f\"uSIF-W2V\"] = uSIF(w2v, length=11)"
   ]
  },
  {
   "cell_type": "code",
   "execution_count": null,
   "metadata": {},
   "outputs": [],
   "source": [
    "ft = FastTextKeyedVectors.load(path_to_models+\"ft_crawl_300d_2m.model\", mmap=\"r\")\n",
    "models[f\"CBOW-FT\"] = Average(ft, lang_freq=\"en\")\n",
    "models[f\"SIF-FT\"] = SIF(ft, components=10)\n",
    "models[f\"uSIF-FT\"] = uSIF(ft, length=11)"
   ]
  },
  {
   "cell_type": "code",
   "execution_count": null,
   "metadata": {},
   "outputs": [],
   "source": [
    "paranmt = KeyedVectors.load(path_to_models+\"paranmt.model\", mmap=\"r\")\n",
    "\n",
    "models[f\"CBOW-Paranmt\"] = Average(paranmt, lang_freq=\"en\")\n",
    "models[f\"SIF-Paranmt\"] = SIF(paranmt, components=10)\n",
    "models[f\"uSIF-Paranmt\"] = uSIF(paranmt, length=11)"
   ]
  },
  {
   "cell_type": "code",
   "execution_count": null,
   "metadata": {},
   "outputs": [],
   "source": [
    "paragram = KeyedVectors.load(path_to_models+\"paragram_sl999_czeng.model\", mmap=\"r\")\n",
    "\n",
    "models[f\"CBOW-Paragram\"] = Average(paragram, lang_freq=\"en\")\n",
    "models[f\"SIF-Paragram\"] = SIF(paragram, components=10)\n",
    "models[f\"uSIF-Paragram\"] = uSIF(paragram, length=11)"
   ]
  },
  {
   "cell_type": "markdown",
   "metadata": {},
   "source": [
    "## Computation of the results for the STS benchmark"
   ]
  },
  {
   "cell_type": "markdown",
   "metadata": {},
   "source": [
    "We are finally able to compute the STS benchmark values for all models."
   ]
  },
  {
   "cell_type": "code",
   "execution_count": null,
   "metadata": {},
   "outputs": [],
   "source": [
    "# This function is used to compute the similarities between two sentences.\n",
    "# Task length is the length of the sts dataset.\n",
    "def compute_similarities(task_length, model):\n",
    "    sims = []\n",
    "    for i, j in zip(range(task_length), range(task_length, 2*task_length)):\n",
    "        sims.append(model.sv.similarity(i,j))\n",
    "    return sims"
   ]
  },
  {
   "cell_type": "code",
   "execution_count": null,
   "metadata": {},
   "outputs": [],
   "source": [
    "for k, m in models.items():\n",
    "    m_type  = k.split(\"-\")[0]\n",
    "    emb_type = k.split(\"-\")[1]\n",
    "    m.train(sentences)\n",
    "    r = pearsonr(similarities, compute_similarities(task_length, m))[0].round(4) * 100\n",
    "    results[f\"{m_type}-{emb_type}\"] = r\n",
    "    print(k, f\"{r:2.2f}\")"
   ]
  },
  {
   "cell_type": "code",
   "execution_count": null,
   "metadata": {},
   "outputs": [],
   "source": [
    "pd.DataFrame.from_dict(results, orient=\"index\", columns=[\"Pearson\"])"
   ]
  },
  {
   "cell_type": "markdown",
   "metadata": {},
   "source": [
    "If you closely study the values above you will find that:\n",
    "- SIF-Glove is almost equivalent to the values reported in http://ixa2.si.ehu.es/stswiki/index.php/STSbenchmark\n",
    "- CBOW-Paranmt is a little better than ParaNMT Word Avg. in https://www.aclweb.org/anthology/W18-3012\n",
    "- uSIF-Paranmt is a little worse than ParaNMT+UP in https://www.aclweb.org/anthology/W18-3012\n",
    "- uSIF-Paragram is a little worse than PSL+UP in https://www.aclweb.org/anthology/W18-3012\n",
    "\n",
    "However, I guess those differences might arise due to differences in preprocessing. Too bad we didn't hit 80. If you have any ideas why those values don't match exactly, feel free to contact me anytime."
   ]
  }
 ],
 "metadata": {
  "kernelspec": {
   "display_name": "Python 3",
   "language": "python",
   "name": "python3"
  },
  "language_info": {
   "codemirror_mode": {
    "name": "ipython",
    "version": 3
   },
   "file_extension": ".py",
   "mimetype": "text/x-python",
   "name": "python",
   "nbconvert_exporter": "python",
   "pygments_lexer": "ipython3",
   "version": "3.8.5"
  }
 },
 "nbformat": 4,
 "nbformat_minor": 4
}
