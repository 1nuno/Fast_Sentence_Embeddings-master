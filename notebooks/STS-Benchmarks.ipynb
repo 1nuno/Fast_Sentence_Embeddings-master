{
 "cells": [
  {
   "cell_type": "markdown",
   "metadata": {},
   "source": [
    "# STS Benchmark Datasets"
   ]
  },
  {
   "cell_type": "markdown",
   "metadata": {},
   "source": [
    "### Preparation"
   ]
  },
  {
   "cell_type": "markdown",
   "metadata": {},
   "source": [
    "Setup all required libraries"
   ]
  },
  {
   "cell_type": "code",
   "execution_count": 1,
   "metadata": {},
   "outputs": [],
   "source": [
    "import logging\n",
    "import re\n",
    "import sys\n",
    "\n",
    "import numpy as np\n",
    "import pandas as pd\n",
    "\n",
    "from gensim.models.keyedvectors import KeyedVectors, FastTextKeyedVectors\n",
    "\n",
    "from fse.models import Average, SIF, uSIF, MaxPooling\n",
    "from fse import CSplitIndexedList\n",
    "\n",
    "from re import sub\n",
    "\n",
    "from scipy.stats import pearsonr\n",
    "\n",
    "from nltk import word_tokenize\n",
    "\n",
    "logging.basicConfig(format='%(asctime)s : %(threadName)s : %(levelname)s : %(message)s',\n",
    "                    level=logging.INFO)"
   ]
  },
  {
   "cell_type": "markdown",
   "metadata": {},
   "source": [
    "Next, we require the sentences from the STS benchmark dataset."
   ]
  },
  {
   "cell_type": "code",
   "execution_count": 2,
   "metadata": {},
   "outputs": [
    {
     "name": "stdout",
     "output_type": "stream",
     "text": [
      "0\tSim: 2.5\tA girl is styling her hair.             \tA girl is brushing her hair.            \t\n",
      "1\tSim: 3.6\tA group of men play soccer on the beach.\tA group of boys are playing soccer on the beach.\t\n",
      "2\tSim: 5.0\tOne woman is measuring another woman's ankle.\tA woman measures another woman's ankle. \t\n",
      "3\tSim: 4.2\tA man is cutting up a cucumber.         \tA man is slicing a cucumber.            \t\n",
      "4\tSim: 1.5\tA man is playing a harp.                \tA man is playing a keyboard.            \t\n"
     ]
    }
   ],
   "source": [
    "file= \"../fse/eval/sts-test.csv\"\n",
    "similarities, sent_a, sent_b = [], [], []\n",
    "with open(file, \"r\") as f:\n",
    "    for l in f:\n",
    "        line = l.rstrip().split(\"\\t\")\n",
    "        similarities.append(float(line[4]))\n",
    "        sent_a.append(line[5])\n",
    "        sent_b.append(line[6])\n",
    "similarities = np.array(similarities)\n",
    "assert len(similarities) == len(sent_a) == len(sent_b)\n",
    "task_length = len(similarities)\n",
    "\n",
    "for i, obj in enumerate(zip(similarities, sent_a, sent_b)):\n",
    "    print(f\"{i}\\tSim: {obj[0].round(3):.1f}\\t{obj[1]:40s}\\t{obj[2]:40s}\\t\")\n",
    "    if i == 4:\n",
    "        break"
   ]
  },
  {
   "cell_type": "markdown",
   "metadata": {},
   "source": [
    "Each of these sentence requires some preparation (i.e. tokenization) to be used in the core input formats.\n",
    "To reproduce the results from the uSIF paper this part is taken from https://github.com/kawine/usif/blob/master/usif.py"
   ]
  },
  {
   "cell_type": "code",
   "execution_count": 3,
   "metadata": {},
   "outputs": [],
   "source": [
    "not_punc = re.compile('.*[A-Za-z0-9].*')\n",
    "\n",
    "def prep_token(token):\n",
    "    t = token.lower().strip(\"';.:()\").strip('\"')\n",
    "    t = 'not' if t == \"n't\" else t\n",
    "    return re.split(r'[-]', t)\n",
    "\n",
    "def prep_sentence(sentence):\n",
    "    tokens = []\n",
    "    for token in word_tokenize(sentence):\n",
    "        if not_punc.match(token):\n",
    "            tokens = tokens + prep_token(token)\n",
    "    return tokens"
   ]
  },
  {
   "cell_type": "markdown",
   "metadata": {},
   "source": [
    "Next we define the IndexedList object. The IndexedList extends the previously constructed sent_a and sent_b list together. We additionally provide a custom function \"prep_sentence\" which performs all the prepocessing for a single sentence. Therefore we need the extention **CSplitIndexedList**, which provides you the option to provide a custom split function"
   ]
  },
  {
   "cell_type": "code",
   "execution_count": 4,
   "metadata": {},
   "outputs": [],
   "source": [
    "sentences = CSplitIndexedList(sent_a, sent_b, custom_split=prep_sentence)"
   ]
  },
  {
   "cell_type": "markdown",
   "metadata": {},
   "source": [
    "The IndexedList returns the core object required for fse to train a sentence embedding: A tuple. This object constists of words (a list of strings) and its corresponding index. The latter is important if multiple cores access the input queue simultaneously. Thus it must be always provided. The index represents the row in the matrix where it can later be found."
   ]
  },
  {
   "cell_type": "code",
   "execution_count": 5,
   "metadata": {},
   "outputs": [
    {
     "data": {
      "text/plain": [
       "(['a', 'girl', 'is', 'styling', 'her', 'hair'], 0)"
      ]
     },
     "execution_count": 5,
     "metadata": {},
     "output_type": "execute_result"
    }
   ],
   "source": [
    "sentences[0]"
   ]
  },
  {
   "cell_type": "markdown",
   "metadata": {},
   "source": [
    "Note, that IndexedList does not convert the sentences inplace but only on calling the __getitem__ method in order to turn the sentence into a tuple. You can access the original sentence using"
   ]
  },
  {
   "cell_type": "code",
   "execution_count": 6,
   "metadata": {},
   "outputs": [
    {
     "data": {
      "text/plain": [
       "'A girl is styling her hair.'"
      ]
     },
     "execution_count": 6,
     "metadata": {},
     "output_type": "execute_result"
    }
   ],
   "source": [
    "sentences.items[0]"
   ]
  },
  {
   "cell_type": "markdown",
   "metadata": {},
   "source": [
    "### Loading the models\n",
    "\n",
    "It is required for us to load the models as BaseKeyedVectors or as an BaseWordEmbeddingsModel. For this notebook, I already converted the models to a BaseKeyedVectors instance and saved the corresponding instance on my external harddrive. You have to replicate these steps yourself, because getting all the files can be a bit difficult, as the total filesize is around 15 GB."
   ]
  },
  {
   "cell_type": "code",
   "execution_count": 7,
   "metadata": {},
   "outputs": [],
   "source": [
    "path_to_models = \"/Volumes/Ext_HDD/Models/Static/\"\n",
    "models, results = {}, {}"
   ]
  },
  {
   "cell_type": "markdown",
   "metadata": {},
   "source": [
    "The following code performs a disk-to-ram training. Passing a path to __wv_mapfile_path__ will store the corresponding word vectors (wv) as a numpy memmap array. This is required, because loading all vectors into ram would would take up a lot of storage unecessary. The wv.vectors file will be replace by its memmap representation, which is why the next models do not require the wv_mapfile_path argument, as they access the same memmap object.\n",
    "\n",
    "The lang_freq=\"en\" induces the frequencies of the words according to the wordfreq package. This functionality allows you to work with pre-trained embeddings which don't come with frequency information. The method overwrites the counts in the glove.wv.vocab class, so that all further models also benefit from this induction."
   ]
  },
  {
   "cell_type": "code",
   "execution_count": 25,
   "metadata": {},
   "outputs": [
    {
     "name": "stderr",
     "output_type": "stream",
     "text": [
      "2020-02-16 11:58:42,025 : MainThread : INFO : loading Word2VecKeyedVectors object from /Volumes/Ext_HDD/Models/Static/glove.840B.300d.model\n",
      "2020-02-16 11:58:46,648 : MainThread : INFO : loading vectors from /Volumes/Ext_HDD/Models/Static/glove.840B.300d.model.vectors.npy with mmap=r\n",
      "2020-02-16 11:58:46,653 : MainThread : INFO : setting ignored attribute vectors_norm to None\n",
      "2020-02-16 11:58:46,654 : MainThread : INFO : loaded /Volumes/Ext_HDD/Models/Static/glove.840B.300d.model\n",
      "2020-02-16 11:58:46,657 : MainThread : INFO : no frequency mode: using wordfreq for estimation of frequency for language: en\n",
      "2020-02-16 11:58:48,470 : MainThread : INFO : make sure you are using a model with valid word-frequency information. Otherwise use lang_freq argument.\n",
      "2020-02-16 11:58:48,479 : MainThread : INFO : make sure you are using a model with valid word-frequency information. Otherwise use lang_freq argument.\n",
      "/Users/oliverborchers/Library/Mobile Documents/com~apple~CloudDocs/Diss/Medium/Fast_Sentence_Embeddings/fse/models/base_s2v.py:172: UserWarning: C extension not loaded, training/inferring will be slow. Install a C compiler and reinstall fse.\n",
      "  \"C extension not loaded, training/inferring will be slow. \"\n"
     ]
    }
   ],
   "source": [
    "glove = KeyedVectors.load(path_to_models+\"glove.840B.300d.model\", mmap=\"r\")\n",
    "\n",
    "#print(f\"Before memmap {sys.getsizeof(glove.vectors)}\")\n",
    "\n",
    "#models[f\"CBOW-Glove\"] = Average(glove, wv_mapfile_path=\"data/glove\", lang_freq=\"en\")\n",
    "\n",
    "#print(f\"After memmap {sys.getsizeof(glove.vectors)}\")\n",
    "\n",
    "models[f\"CBOW-Glove\"] = Average(glove, lang_freq=\"en\")\n",
    "models[f\"SIF-Glove\"] = SIF(glove, components=15)\n",
    "models[f\"uSIF-Glove\"] = uSIF(glove,length=11)\n",
    "\n",
    "models[f\"Max-Glove\"] = MaxPooling(glove)\n",
    "models[f\"hMax-Glove\"] = MaxPooling(glove, hierarchical=True)"
   ]
  },
  {
   "cell_type": "code",
   "execution_count": 26,
   "metadata": {},
   "outputs": [
    {
     "data": {
      "text/plain": [
       "True"
      ]
     },
     "execution_count": 26,
     "metadata": {},
     "output_type": "execute_result"
    }
   ],
   "source": [
    "# Do all the vectors contain the same content?\n",
    "(models[f\"SIF-Glove\"].wv.vectors == models[f\"uSIF-Glove\"].wv.vectors).all()"
   ]
  },
  {
   "cell_type": "markdown",
   "metadata": {},
   "source": [
    "Another option is to load the KeyedVectors using the kwarg mmap=\"r\""
   ]
  },
  {
   "cell_type": "code",
   "execution_count": 8,
   "metadata": {},
   "outputs": [
    {
     "name": "stderr",
     "output_type": "stream",
     "text": [
      "2020-02-16 11:48:12,816 : MainThread : INFO : loading Word2VecKeyedVectors object from /Volumes/Ext_HDD/Models/Static/google_news.model\n",
      "2020-02-16 11:48:18,748 : MainThread : INFO : loading vectors from /Volumes/Ext_HDD/Models/Static/google_news.model.vectors.npy with mmap=r\n",
      "2020-02-16 11:48:18,756 : MainThread : INFO : setting ignored attribute vectors_norm to None\n",
      "2020-02-16 11:48:18,757 : MainThread : INFO : loaded /Volumes/Ext_HDD/Models/Static/google_news.model\n",
      "2020-02-16 11:48:18,760 : MainThread : INFO : no frequency mode: using wordfreq for estimation of frequency for language: en\n",
      "2020-02-16 11:48:21,162 : MainThread : INFO : make sure you are using a model with valid word-frequency information. Otherwise use lang_freq argument.\n",
      "2020-02-16 11:48:21,165 : MainThread : INFO : make sure you are using a model with valid word-frequency information. Otherwise use lang_freq argument.\n"
     ]
    }
   ],
   "source": [
    "w2v = KeyedVectors.load(path_to_models+\"google_news.model\", mmap=\"r\")\n",
    "\n",
    "models[f\"CBOW-W2V\"] = Average(w2v, lang_freq=\"en\")\n",
    "models[f\"SIF-W2V\"] = SIF(w2v, components=10)\n",
    "models[f\"uSIF-W2V\"] = uSIF(w2v, length=11)\n",
    "\n",
    "models[f\"Max-W2V\"] = MaxPooling(w2v)\n",
    "models[f\"hMax-W2V\"] = MaxPooling(w2v, hierarchical=True)"
   ]
  },
  {
   "cell_type": "code",
   "execution_count": 13,
   "metadata": {},
   "outputs": [
    {
     "name": "stderr",
     "output_type": "stream",
     "text": [
      "2020-02-16 11:49:19,927 : MainThread : INFO : loading FastTextKeyedVectors object from /Volumes/Ext_HDD/Models/Static/ft_crawl_300d_2m.model\n",
      "2020-02-16 11:49:24,020 : MainThread : INFO : loading vectors from /Volumes/Ext_HDD/Models/Static/ft_crawl_300d_2m.model.vectors.npy with mmap=r\n",
      "2020-02-16 11:49:24,030 : MainThread : INFO : loading vectors_vocab from /Volumes/Ext_HDD/Models/Static/ft_crawl_300d_2m.model.vectors_vocab.npy with mmap=r\n",
      "2020-02-16 11:49:24,036 : MainThread : INFO : loading vectors_ngrams from /Volumes/Ext_HDD/Models/Static/ft_crawl_300d_2m.model.vectors_ngrams.npy with mmap=r\n",
      "2020-02-16 11:49:24,041 : MainThread : INFO : setting ignored attribute vectors_norm to None\n",
      "2020-02-16 11:49:24,042 : MainThread : INFO : setting ignored attribute vectors_vocab_norm to None\n",
      "2020-02-16 11:49:24,043 : MainThread : INFO : setting ignored attribute vectors_ngrams_norm to None\n",
      "2020-02-16 11:49:24,043 : MainThread : INFO : setting ignored attribute buckets_word to None\n",
      "2020-02-16 11:49:24,044 : MainThread : INFO : loaded /Volumes/Ext_HDD/Models/Static/ft_crawl_300d_2m.model\n",
      "2020-02-16 11:49:24,047 : MainThread : INFO : no frequency mode: using wordfreq for estimation of frequency for language: en\n",
      "2020-02-16 11:49:25,734 : MainThread : INFO : make sure you are using a model with valid word-frequency information. Otherwise use lang_freq argument.\n",
      "2020-02-16 11:49:25,739 : MainThread : INFO : make sure you are using a model with valid word-frequency information. Otherwise use lang_freq argument.\n",
      "/Users/oliverborchers/Library/Mobile Documents/com~apple~CloudDocs/Diss/Medium/Fast_Sentence_Embeddings/fse/models/base_s2v.py:172: UserWarning: C extension not loaded, training/inferring will be slow. Install a C compiler and reinstall fse.\n",
      "  \"C extension not loaded, training/inferring will be slow. \"\n"
     ]
    }
   ],
   "source": [
    "ft = FastTextKeyedVectors.load(path_to_models+\"ft_crawl_300d_2m.model\", mmap=\"r\")\n",
    "models[f\"CBOW-FT\"] = Average(ft, lang_freq=\"en\")\n",
    "models[f\"SIF-FT\"] = SIF(ft, components=10)\n",
    "models[f\"uSIF-FT\"] = uSIF(ft, length=11)\n",
    "\n",
    "models[f\"Max-FT\"] = MaxPooling(ft)\n",
    "models[f\"hMax-FT\"] = MaxPooling(ft, hierarchical=True)"
   ]
  },
  {
   "cell_type": "code",
   "execution_count": 14,
   "metadata": {},
   "outputs": [
    {
     "name": "stderr",
     "output_type": "stream",
     "text": [
      "2020-02-16 11:49:42,202 : MainThread : INFO : loading Word2VecKeyedVectors object from /Volumes/Ext_HDD/Models/Static/paranmt.model\n",
      "2020-02-16 11:49:42,390 : MainThread : INFO : loading vectors from /Volumes/Ext_HDD/Models/Static/paranmt.model.vectors.npy with mmap=r\n",
      "2020-02-16 11:49:42,396 : MainThread : INFO : setting ignored attribute vectors_norm to None\n",
      "2020-02-16 11:49:42,396 : MainThread : INFO : loaded /Volumes/Ext_HDD/Models/Static/paranmt.model\n",
      "2020-02-16 11:49:42,399 : MainThread : INFO : no frequency mode: using wordfreq for estimation of frequency for language: en\n",
      "2020-02-16 11:49:42,477 : MainThread : INFO : make sure you are using a model with valid word-frequency information. Otherwise use lang_freq argument.\n",
      "2020-02-16 11:49:42,478 : MainThread : INFO : make sure you are using a model with valid word-frequency information. Otherwise use lang_freq argument.\n",
      "/Users/oliverborchers/Library/Mobile Documents/com~apple~CloudDocs/Diss/Medium/Fast_Sentence_Embeddings/fse/models/base_s2v.py:172: UserWarning: C extension not loaded, training/inferring will be slow. Install a C compiler and reinstall fse.\n",
      "  \"C extension not loaded, training/inferring will be slow. \"\n"
     ]
    }
   ],
   "source": [
    "paranmt = KeyedVectors.load(path_to_models+\"paranmt.model\", mmap=\"r\")\n",
    "\n",
    "models[f\"CBOW-Paranmt\"] = Average(paranmt, lang_freq=\"en\")\n",
    "models[f\"SIF-Paranmt\"] = SIF(paranmt, components=10)\n",
    "models[f\"uSIF-Paranmt\"] = uSIF(paranmt, length=11)\n",
    "\n",
    "models[f\"Max-Paranmt\"] = MaxPooling(paranmt)\n",
    "models[f\"hMax-Paranmt\"] = MaxPooling(paranmt, hierarchical=True)"
   ]
  },
  {
   "cell_type": "code",
   "execution_count": 15,
   "metadata": {},
   "outputs": [
    {
     "name": "stderr",
     "output_type": "stream",
     "text": [
      "2020-02-16 11:50:11,887 : MainThread : INFO : loading Word2VecKeyedVectors object from /Volumes/Ext_HDD/Models/Static/paragram_sl999_czeng.model\n",
      "2020-02-16 11:50:11,990 : MainThread : INFO : loading vectors from /Volumes/Ext_HDD/Models/Static/paragram_sl999_czeng.model.vectors.npy with mmap=r\n",
      "2020-02-16 11:50:11,994 : MainThread : INFO : setting ignored attribute vectors_norm to None\n",
      "2020-02-16 11:50:11,995 : MainThread : INFO : loaded /Volumes/Ext_HDD/Models/Static/paragram_sl999_czeng.model\n",
      "2020-02-16 11:50:11,998 : MainThread : INFO : no frequency mode: using wordfreq for estimation of frequency for language: en\n",
      "2020-02-16 11:50:12,069 : MainThread : INFO : make sure you are using a model with valid word-frequency information. Otherwise use lang_freq argument.\n",
      "2020-02-16 11:50:12,070 : MainThread : INFO : make sure you are using a model with valid word-frequency information. Otherwise use lang_freq argument.\n",
      "/Users/oliverborchers/Library/Mobile Documents/com~apple~CloudDocs/Diss/Medium/Fast_Sentence_Embeddings/fse/models/base_s2v.py:172: UserWarning: C extension not loaded, training/inferring will be slow. Install a C compiler and reinstall fse.\n",
      "  \"C extension not loaded, training/inferring will be slow. \"\n"
     ]
    }
   ],
   "source": [
    "paragram = KeyedVectors.load(path_to_models+\"paragram_sl999_czeng.model\", mmap=\"r\")\n",
    "\n",
    "models[f\"CBOW-Paragram\"] = Average(paragram, lang_freq=\"en\")\n",
    "models[f\"SIF-Paragram\"] = SIF(paragram, components=10)\n",
    "models[f\"uSIF-Paragram\"] = uSIF(paragram, length=11)\n",
    "\n",
    "models[f\"Max-Paragram\"] = MaxPooling(paragram)\n",
    "models[f\"hMax-Paragram\"] = MaxPooling(paragram, hierarchical=True)"
   ]
  },
  {
   "cell_type": "markdown",
   "metadata": {},
   "source": [
    "## Computation of the results for the STS benchmark"
   ]
  },
  {
   "cell_type": "markdown",
   "metadata": {},
   "source": [
    "We are finally able to compute the STS benchmark values for all models."
   ]
  },
  {
   "cell_type": "code",
   "execution_count": 16,
   "metadata": {},
   "outputs": [],
   "source": [
    "# This function is used to compute the similarities between two sentences.\n",
    "# Task length is the length of the sts dataset.\n",
    "def compute_similarities(task_length, model):\n",
    "    sims = []\n",
    "    for i, j in zip(range(task_length), range(task_length, 2*task_length)):\n",
    "        sims.append(model.sv.similarity(i,j))\n",
    "    return sims"
   ]
  },
  {
   "cell_type": "code",
   "execution_count": 17,
   "metadata": {},
   "outputs": [
    {
     "name": "stderr",
     "output_type": "stream",
     "text": [
      "2020-02-16 11:50:21,575 : MainThread : INFO : scanning all indexed sentences and their word counts\n",
      "2020-02-16 11:50:21,945 : MainThread : INFO : finished scanning 2758 sentences with an average length of 9 and 27528 total words\n",
      "2020-02-16 11:50:22,962 : MainThread : INFO : estimated memory for 2758 sentences with 300 dimensions and 3000000 vocabulary: 3447 MB (3 GB)\n",
      "2020-02-16 11:50:22,963 : MainThread : INFO : initializing sentence vectors for 2758 sentences\n",
      "2020-02-16 11:50:23,020 : MainThread : INFO : begin training\n",
      "2020-02-16 11:50:23,651 : MainThread : INFO : worker thread finished; awaiting finish of 0 more threads\n",
      "2020-02-16 11:50:23,652 : MainThread : INFO : training on 2758 effective sentences with 23116 effective words took 0s with 4367 sentences/s\n",
      "2020-02-16 11:50:23,683 : MainThread : INFO : scanning all indexed sentences and their word counts\n"
     ]
    },
    {
     "name": "stdout",
     "output_type": "stream",
     "text": [
      "CBOW-W2V 61.54\n"
     ]
    },
    {
     "name": "stderr",
     "output_type": "stream",
     "text": [
      "2020-02-16 11:50:24,051 : MainThread : INFO : finished scanning 2758 sentences with an average length of 9 and 27528 total words\n",
      "2020-02-16 11:50:25,067 : MainThread : INFO : estimated memory for 2758 sentences with 300 dimensions and 3000000 vocabulary: 3447 MB (3 GB)\n",
      "2020-02-16 11:50:25,067 : MainThread : INFO : initializing sentence vectors for 2758 sentences\n",
      "2020-02-16 11:50:25,081 : MainThread : INFO : pre-computing SIF weights for 3000000 words\n",
      "2020-02-16 11:50:27,027 : MainThread : INFO : begin training\n",
      "2020-02-16 11:50:27,381 : MainThread : INFO : worker thread finished; awaiting finish of 0 more threads\n",
      "2020-02-16 11:50:27,420 : MainThread : INFO : computing 10 principal components took 0s\n",
      "2020-02-16 11:50:27,422 : MainThread : INFO : removing 10 principal components took 0s\n",
      "2020-02-16 11:50:27,423 : MainThread : INFO : training on 2758 effective sentences with 23116 effective words took 0s with 7763 sentences/s\n",
      "2020-02-16 11:50:27,460 : MainThread : INFO : scanning all indexed sentences and their word counts\n"
     ]
    },
    {
     "name": "stdout",
     "output_type": "stream",
     "text": [
      "SIF-W2V 71.12\n"
     ]
    },
    {
     "name": "stderr",
     "output_type": "stream",
     "text": [
      "2020-02-16 11:50:27,821 : MainThread : INFO : finished scanning 2758 sentences with an average length of 9 and 27528 total words\n",
      "2020-02-16 11:50:28,819 : MainThread : INFO : estimated memory for 2758 sentences with 300 dimensions and 3000000 vocabulary: 3447 MB (3 GB)\n",
      "2020-02-16 11:50:28,820 : MainThread : INFO : initializing sentence vectors for 2758 sentences\n",
      "2020-02-16 11:50:28,832 : MainThread : INFO : pre-computing uSIF weights for 3000000 words\n",
      "2020-02-16 11:50:37,657 : MainThread : INFO : begin training\n",
      "2020-02-16 11:50:38,012 : MainThread : INFO : worker thread finished; awaiting finish of 0 more threads\n",
      "2020-02-16 11:50:38,036 : MainThread : INFO : computing 5 principal components took 0s\n",
      "2020-02-16 11:50:38,038 : MainThread : INFO : removing 5 principal components took 0s\n",
      "2020-02-16 11:50:38,039 : MainThread : INFO : training on 2758 effective sentences with 23116 effective words took 0s with 7741 sentences/s\n",
      "2020-02-16 11:50:38,078 : MainThread : INFO : scanning all indexed sentences and their word counts\n"
     ]
    },
    {
     "name": "stdout",
     "output_type": "stream",
     "text": [
      "uSIF-W2V 66.99\n"
     ]
    },
    {
     "name": "stderr",
     "output_type": "stream",
     "text": [
      "2020-02-16 11:50:38,522 : MainThread : INFO : finished scanning 2758 sentences with an average length of 9 and 27528 total words\n",
      "2020-02-16 11:50:39,531 : MainThread : INFO : estimated memory for 2758 sentences with 300 dimensions and 3000000 vocabulary: 3447 MB (3 GB)\n",
      "2020-02-16 11:50:39,532 : MainThread : INFO : initializing sentence vectors for 2758 sentences\n",
      "2020-02-16 11:50:39,587 : MainThread : INFO : begin training\n",
      "2020-02-16 11:50:40,040 : MainThread : INFO : worker thread finished; awaiting finish of 0 more threads\n",
      "2020-02-16 11:50:40,041 : MainThread : INFO : training on 2758 effective sentences with 23116 effective words took 0s with 6083 sentences/s\n",
      "2020-02-16 11:50:40,066 : MainThread : INFO : scanning all indexed sentences and their word counts\n"
     ]
    },
    {
     "name": "stdout",
     "output_type": "stream",
     "text": [
      "Max-W2V 66.52\n"
     ]
    },
    {
     "name": "stderr",
     "output_type": "stream",
     "text": [
      "2020-02-16 11:50:40,443 : MainThread : INFO : finished scanning 2758 sentences with an average length of 9 and 27528 total words\n",
      "2020-02-16 11:50:41,423 : MainThread : INFO : estimated memory for 2758 sentences with 300 dimensions and 3000000 vocabulary: 3447 MB (3 GB)\n",
      "2020-02-16 11:50:41,424 : MainThread : INFO : initializing sentence vectors for 2758 sentences\n",
      "2020-02-16 11:50:41,482 : MainThread : INFO : begin training\n",
      "2020-02-16 11:50:42,563 : MainThread : INFO : worker thread finished; awaiting finish of 0 more threads\n",
      "2020-02-16 11:50:42,564 : MainThread : INFO : training on 2758 effective sentences with 23116 effective words took 1s with 2549 sentences/s\n",
      "2020-02-16 11:50:42,588 : MainThread : INFO : scanning all indexed sentences and their word counts\n"
     ]
    },
    {
     "name": "stdout",
     "output_type": "stream",
     "text": [
      "hMax-W2V 52.19\n"
     ]
    },
    {
     "name": "stderr",
     "output_type": "stream",
     "text": [
      "2020-02-16 11:50:42,961 : MainThread : INFO : finished scanning 2758 sentences with an average length of 9 and 27528 total words\n",
      "2020-02-16 11:50:43,740 : MainThread : INFO : estimated memory for 2758 sentences with 300 dimensions and 2000000 vocabulary: 6877 MB (6 GB)\n",
      "2020-02-16 11:50:43,740 : MainThread : WARNING : The embeddings will likely not fit into RAM. Consider to use mapfile_path\n",
      "2020-02-16 11:50:43,741 : MainThread : INFO : initializing sentence vectors for 2758 sentences\n",
      "2020-02-16 11:50:43,786 : MainThread : INFO : begin training\n",
      "2020-02-16 11:50:44,844 : MainThread : INFO : worker thread finished; awaiting finish of 0 more threads\n",
      "2020-02-16 11:50:44,845 : MainThread : INFO : training on 2758 effective sentences with 27528 effective words took 1s with 2604 sentences/s\n",
      "2020-02-16 11:50:44,875 : MainThread : INFO : scanning all indexed sentences and their word counts\n"
     ]
    },
    {
     "name": "stdout",
     "output_type": "stream",
     "text": [
      "CBOW-FT 48.49\n"
     ]
    },
    {
     "name": "stderr",
     "output_type": "stream",
     "text": [
      "2020-02-16 11:50:45,288 : MainThread : INFO : finished scanning 2758 sentences with an average length of 9 and 27528 total words\n",
      "2020-02-16 11:50:46,090 : MainThread : INFO : estimated memory for 2758 sentences with 300 dimensions and 2000000 vocabulary: 6877 MB (6 GB)\n",
      "2020-02-16 11:50:46,090 : MainThread : WARNING : The embeddings will likely not fit into RAM. Consider to use mapfile_path\n",
      "2020-02-16 11:50:46,091 : MainThread : INFO : initializing sentence vectors for 2758 sentences\n",
      "2020-02-16 11:50:46,106 : MainThread : INFO : pre-computing SIF weights for 2000000 words\n",
      "2020-02-16 11:50:47,492 : MainThread : INFO : begin training\n",
      "2020-02-16 11:50:47,868 : MainThread : INFO : worker thread finished; awaiting finish of 0 more threads\n",
      "2020-02-16 11:50:47,904 : MainThread : INFO : computing 10 principal components took 0s\n",
      "2020-02-16 11:50:47,906 : MainThread : INFO : removing 10 principal components took 0s\n",
      "2020-02-16 11:50:47,907 : MainThread : INFO : training on 2758 effective sentences with 27528 effective words took 0s with 7314 sentences/s\n",
      "2020-02-16 11:50:47,944 : MainThread : INFO : scanning all indexed sentences and their word counts\n"
     ]
    },
    {
     "name": "stdout",
     "output_type": "stream",
     "text": [
      "SIF-FT 73.38\n"
     ]
    },
    {
     "name": "stderr",
     "output_type": "stream",
     "text": [
      "2020-02-16 11:50:48,337 : MainThread : INFO : finished scanning 2758 sentences with an average length of 9 and 27528 total words\n",
      "2020-02-16 11:50:49,104 : MainThread : INFO : estimated memory for 2758 sentences with 300 dimensions and 2000000 vocabulary: 6877 MB (6 GB)\n",
      "2020-02-16 11:50:49,105 : MainThread : WARNING : The embeddings will likely not fit into RAM. Consider to use mapfile_path\n",
      "2020-02-16 11:50:49,105 : MainThread : INFO : initializing sentence vectors for 2758 sentences\n",
      "2020-02-16 11:50:49,121 : MainThread : INFO : pre-computing uSIF weights for 2000000 words\n",
      "2020-02-16 11:50:55,026 : MainThread : INFO : begin training\n",
      "2020-02-16 11:50:55,385 : MainThread : INFO : worker thread finished; awaiting finish of 0 more threads\n",
      "2020-02-16 11:50:55,415 : MainThread : INFO : computing 5 principal components took 0s\n",
      "2020-02-16 11:50:55,418 : MainThread : INFO : removing 5 principal components took 0s\n",
      "2020-02-16 11:50:55,419 : MainThread : INFO : training on 2758 effective sentences with 27528 effective words took 0s with 7664 sentences/s\n",
      "2020-02-16 11:50:55,464 : MainThread : INFO : scanning all indexed sentences and their word counts\n"
     ]
    },
    {
     "name": "stdout",
     "output_type": "stream",
     "text": [
      "uSIF-FT 69.40\n"
     ]
    },
    {
     "name": "stderr",
     "output_type": "stream",
     "text": [
      "2020-02-16 11:50:55,835 : MainThread : INFO : finished scanning 2758 sentences with an average length of 9 and 27528 total words\n",
      "2020-02-16 11:50:56,624 : MainThread : INFO : estimated memory for 2758 sentences with 300 dimensions and 2000000 vocabulary: 6877 MB (6 GB)\n",
      "2020-02-16 11:50:56,624 : MainThread : WARNING : The embeddings will likely not fit into RAM. Consider to use mapfile_path\n",
      "2020-02-16 11:50:56,625 : MainThread : INFO : initializing sentence vectors for 2758 sentences\n",
      "2020-02-16 11:50:56,669 : MainThread : INFO : begin training\n",
      "2020-02-16 11:50:57,421 : MainThread : INFO : worker thread finished; awaiting finish of 0 more threads\n",
      "2020-02-16 11:50:57,422 : MainThread : INFO : training on 2758 effective sentences with 27528 effective words took 0s with 3664 sentences/s\n",
      "2020-02-16 11:50:57,446 : MainThread : INFO : scanning all indexed sentences and their word counts\n"
     ]
    },
    {
     "name": "stdout",
     "output_type": "stream",
     "text": [
      "Max-FT 57.10\n"
     ]
    },
    {
     "name": "stderr",
     "output_type": "stream",
     "text": [
      "2020-02-16 11:50:57,802 : MainThread : INFO : finished scanning 2758 sentences with an average length of 9 and 27528 total words\n",
      "2020-02-16 11:50:58,587 : MainThread : INFO : estimated memory for 2758 sentences with 300 dimensions and 2000000 vocabulary: 6877 MB (6 GB)\n",
      "2020-02-16 11:50:58,588 : MainThread : WARNING : The embeddings will likely not fit into RAM. Consider to use mapfile_path\n",
      "2020-02-16 11:50:58,589 : MainThread : INFO : initializing sentence vectors for 2758 sentences\n",
      "2020-02-16 11:50:58,634 : MainThread : INFO : begin training\n",
      "2020-02-16 11:51:00,569 : MainThread : INFO : worker thread finished; awaiting finish of 0 more threads\n",
      "2020-02-16 11:51:00,570 : MainThread : INFO : training on 2758 effective sentences with 27528 effective words took 1s with 1424 sentences/s\n",
      "2020-02-16 11:51:00,593 : MainThread : INFO : scanning all indexed sentences and their word counts\n"
     ]
    },
    {
     "name": "stdout",
     "output_type": "stream",
     "text": [
      "hMax-FT 52.97\n"
     ]
    },
    {
     "name": "stderr",
     "output_type": "stream",
     "text": [
      "2020-02-16 11:51:00,947 : MainThread : INFO : finished scanning 2758 sentences with an average length of 9 and 27528 total words\n",
      "2020-02-16 11:51:00,975 : MainThread : INFO : estimated memory for 2758 sentences with 300 dimensions and 77224 vocabulary: 91 MB (0 GB)\n",
      "2020-02-16 11:51:00,976 : MainThread : INFO : initializing sentence vectors for 2758 sentences\n",
      "2020-02-16 11:51:00,992 : MainThread : INFO : begin training\n",
      "2020-02-16 11:51:01,621 : MainThread : INFO : worker thread finished; awaiting finish of 0 more threads\n",
      "2020-02-16 11:51:01,621 : MainThread : INFO : training on 2758 effective sentences with 27441 effective words took 0s with 4379 sentences/s\n",
      "2020-02-16 11:51:01,646 : MainThread : INFO : scanning all indexed sentences and their word counts\n"
     ]
    },
    {
     "name": "stdout",
     "output_type": "stream",
     "text": [
      "CBOW-Paranmt 79.85\n"
     ]
    },
    {
     "name": "stderr",
     "output_type": "stream",
     "text": [
      "2020-02-16 11:51:02,004 : MainThread : INFO : finished scanning 2758 sentences with an average length of 9 and 27528 total words\n",
      "2020-02-16 11:51:02,029 : MainThread : INFO : estimated memory for 2758 sentences with 300 dimensions and 77224 vocabulary: 91 MB (0 GB)\n",
      "2020-02-16 11:51:02,030 : MainThread : INFO : initializing sentence vectors for 2758 sentences\n",
      "2020-02-16 11:51:02,043 : MainThread : INFO : pre-computing SIF weights for 77224 words\n",
      "2020-02-16 11:51:02,090 : MainThread : INFO : begin training\n",
      "2020-02-16 11:51:02,456 : MainThread : INFO : worker thread finished; awaiting finish of 0 more threads\n",
      "2020-02-16 11:51:02,487 : MainThread : INFO : computing 10 principal components took 0s\n",
      "2020-02-16 11:51:02,489 : MainThread : INFO : removing 10 principal components took 0s\n",
      "2020-02-16 11:51:02,490 : MainThread : INFO : training on 2758 effective sentences with 27441 effective words took 0s with 7522 sentences/s\n",
      "2020-02-16 11:51:02,525 : MainThread : INFO : scanning all indexed sentences and their word counts\n"
     ]
    },
    {
     "name": "stdout",
     "output_type": "stream",
     "text": [
      "SIF-Paranmt 76.75\n"
     ]
    },
    {
     "name": "stderr",
     "output_type": "stream",
     "text": [
      "2020-02-16 11:51:02,892 : MainThread : INFO : finished scanning 2758 sentences with an average length of 9 and 27528 total words\n",
      "2020-02-16 11:51:02,919 : MainThread : INFO : estimated memory for 2758 sentences with 300 dimensions and 77224 vocabulary: 91 MB (0 GB)\n",
      "2020-02-16 11:51:02,920 : MainThread : INFO : initializing sentence vectors for 2758 sentences\n",
      "2020-02-16 11:51:02,933 : MainThread : INFO : pre-computing uSIF weights for 77224 words\n",
      "2020-02-16 11:51:03,162 : MainThread : INFO : begin training\n",
      "2020-02-16 11:51:03,526 : MainThread : INFO : worker thread finished; awaiting finish of 0 more threads\n",
      "2020-02-16 11:51:03,552 : MainThread : INFO : computing 5 principal components took 0s\n",
      "2020-02-16 11:51:03,555 : MainThread : INFO : removing 5 principal components took 0s\n",
      "2020-02-16 11:51:03,556 : MainThread : INFO : training on 2758 effective sentences with 27441 effective words took 0s with 7553 sentences/s\n",
      "2020-02-16 11:51:03,594 : MainThread : INFO : scanning all indexed sentences and their word counts\n"
     ]
    },
    {
     "name": "stdout",
     "output_type": "stream",
     "text": [
      "uSIF-Paranmt 79.02\n"
     ]
    },
    {
     "name": "stderr",
     "output_type": "stream",
     "text": [
      "2020-02-16 11:51:03,959 : MainThread : INFO : finished scanning 2758 sentences with an average length of 9 and 27528 total words\n",
      "2020-02-16 11:51:03,986 : MainThread : INFO : estimated memory for 2758 sentences with 300 dimensions and 77224 vocabulary: 91 MB (0 GB)\n",
      "2020-02-16 11:51:03,987 : MainThread : INFO : initializing sentence vectors for 2758 sentences\n",
      "2020-02-16 11:51:04,000 : MainThread : INFO : begin training\n",
      "2020-02-16 11:51:04,479 : MainThread : INFO : worker thread finished; awaiting finish of 0 more threads\n",
      "2020-02-16 11:51:04,480 : MainThread : INFO : training on 2758 effective sentences with 27441 effective words took 0s with 5747 sentences/s\n",
      "2020-02-16 11:51:04,506 : MainThread : INFO : scanning all indexed sentences and their word counts\n"
     ]
    },
    {
     "name": "stdout",
     "output_type": "stream",
     "text": [
      "Max-Paranmt 71.57\n"
     ]
    },
    {
     "name": "stderr",
     "output_type": "stream",
     "text": [
      "2020-02-16 11:51:04,870 : MainThread : INFO : finished scanning 2758 sentences with an average length of 9 and 27528 total words\n",
      "2020-02-16 11:51:04,902 : MainThread : INFO : estimated memory for 2758 sentences with 300 dimensions and 77224 vocabulary: 91 MB (0 GB)\n",
      "2020-02-16 11:51:04,902 : MainThread : INFO : initializing sentence vectors for 2758 sentences\n",
      "2020-02-16 11:51:04,921 : MainThread : INFO : begin training\n",
      "2020-02-16 11:51:06,129 : MainThread : INFO : worker thread finished; awaiting finish of 0 more threads\n",
      "2020-02-16 11:51:06,130 : MainThread : INFO : training on 2758 effective sentences with 27441 effective words took 1s with 2280 sentences/s\n",
      "2020-02-16 11:51:06,154 : MainThread : INFO : scanning all indexed sentences and their word counts\n"
     ]
    },
    {
     "name": "stdout",
     "output_type": "stream",
     "text": [
      "hMax-Paranmt 54.62\n"
     ]
    },
    {
     "name": "stderr",
     "output_type": "stream",
     "text": [
      "2020-02-16 11:51:06,520 : MainThread : INFO : finished scanning 2758 sentences with an average length of 9 and 27528 total words\n",
      "2020-02-16 11:51:06,548 : MainThread : INFO : estimated memory for 2758 sentences with 300 dimensions and 77224 vocabulary: 91 MB (0 GB)\n",
      "2020-02-16 11:51:06,548 : MainThread : INFO : initializing sentence vectors for 2758 sentences\n",
      "2020-02-16 11:51:06,564 : MainThread : INFO : begin training\n",
      "2020-02-16 11:51:07,058 : MainThread : INFO : worker thread finished; awaiting finish of 0 more threads\n",
      "2020-02-16 11:51:07,059 : MainThread : INFO : training on 2758 effective sentences with 27441 effective words took 0s with 5575 sentences/s\n",
      "2020-02-16 11:51:07,083 : MainThread : INFO : scanning all indexed sentences and their word counts\n"
     ]
    },
    {
     "name": "stdout",
     "output_type": "stream",
     "text": [
      "CBOW-Paragram 50.38\n"
     ]
    },
    {
     "name": "stderr",
     "output_type": "stream",
     "text": [
      "2020-02-16 11:51:07,449 : MainThread : INFO : finished scanning 2758 sentences with an average length of 9 and 27528 total words\n",
      "2020-02-16 11:51:07,475 : MainThread : INFO : estimated memory for 2758 sentences with 300 dimensions and 77224 vocabulary: 91 MB (0 GB)\n",
      "2020-02-16 11:51:07,476 : MainThread : INFO : initializing sentence vectors for 2758 sentences\n",
      "2020-02-16 11:51:07,489 : MainThread : INFO : pre-computing SIF weights for 77224 words\n",
      "2020-02-16 11:51:07,539 : MainThread : INFO : begin training\n",
      "2020-02-16 11:51:07,912 : MainThread : INFO : worker thread finished; awaiting finish of 0 more threads\n",
      "2020-02-16 11:51:07,942 : MainThread : INFO : computing 10 principal components took 0s\n",
      "2020-02-16 11:51:07,945 : MainThread : INFO : removing 10 principal components took 0s\n",
      "2020-02-16 11:51:07,946 : MainThread : INFO : training on 2758 effective sentences with 27441 effective words took 0s with 7367 sentences/s\n",
      "2020-02-16 11:51:07,982 : MainThread : INFO : scanning all indexed sentences and their word counts\n"
     ]
    },
    {
     "name": "stdout",
     "output_type": "stream",
     "text": [
      "SIF-Paragram 73.86\n"
     ]
    },
    {
     "name": "stderr",
     "output_type": "stream",
     "text": [
      "2020-02-16 11:51:08,355 : MainThread : INFO : finished scanning 2758 sentences with an average length of 9 and 27528 total words\n",
      "2020-02-16 11:51:08,381 : MainThread : INFO : estimated memory for 2758 sentences with 300 dimensions and 77224 vocabulary: 91 MB (0 GB)\n",
      "2020-02-16 11:51:08,382 : MainThread : INFO : initializing sentence vectors for 2758 sentences\n",
      "2020-02-16 11:51:08,393 : MainThread : INFO : pre-computing uSIF weights for 77224 words\n",
      "2020-02-16 11:51:08,621 : MainThread : INFO : begin training\n",
      "2020-02-16 11:51:08,979 : MainThread : INFO : worker thread finished; awaiting finish of 0 more threads\n",
      "2020-02-16 11:51:09,006 : MainThread : INFO : computing 5 principal components took 0s\n",
      "2020-02-16 11:51:09,008 : MainThread : INFO : removing 5 principal components took 0s\n",
      "2020-02-16 11:51:09,009 : MainThread : INFO : training on 2758 effective sentences with 27441 effective words took 0s with 7692 sentences/s\n",
      "2020-02-16 11:51:09,049 : MainThread : INFO : scanning all indexed sentences and their word counts\n"
     ]
    },
    {
     "name": "stdout",
     "output_type": "stream",
     "text": [
      "uSIF-Paragram 73.64\n"
     ]
    },
    {
     "name": "stderr",
     "output_type": "stream",
     "text": [
      "2020-02-16 11:51:09,429 : MainThread : INFO : finished scanning 2758 sentences with an average length of 9 and 27528 total words\n",
      "2020-02-16 11:51:09,458 : MainThread : INFO : estimated memory for 2758 sentences with 300 dimensions and 77224 vocabulary: 91 MB (0 GB)\n",
      "2020-02-16 11:51:09,459 : MainThread : INFO : initializing sentence vectors for 2758 sentences\n",
      "2020-02-16 11:51:09,475 : MainThread : INFO : begin training\n",
      "2020-02-16 11:51:09,952 : MainThread : INFO : worker thread finished; awaiting finish of 0 more threads\n",
      "2020-02-16 11:51:09,953 : MainThread : INFO : training on 2758 effective sentences with 27441 effective words took 0s with 5772 sentences/s\n",
      "2020-02-16 11:51:09,978 : MainThread : INFO : scanning all indexed sentences and their word counts\n"
     ]
    },
    {
     "name": "stdout",
     "output_type": "stream",
     "text": [
      "Max-Paragram 59.82\n"
     ]
    },
    {
     "name": "stderr",
     "output_type": "stream",
     "text": [
      "2020-02-16 11:51:10,344 : MainThread : INFO : finished scanning 2758 sentences with an average length of 9 and 27528 total words\n",
      "2020-02-16 11:51:10,371 : MainThread : INFO : estimated memory for 2758 sentences with 300 dimensions and 77224 vocabulary: 91 MB (0 GB)\n",
      "2020-02-16 11:51:10,372 : MainThread : INFO : initializing sentence vectors for 2758 sentences\n",
      "2020-02-16 11:51:10,388 : MainThread : INFO : begin training\n",
      "2020-02-16 11:51:11,659 : MainThread : INFO : worker thread finished; awaiting finish of 0 more threads\n",
      "2020-02-16 11:51:11,660 : MainThread : INFO : training on 2758 effective sentences with 27441 effective words took 1s with 2167 sentences/s\n"
     ]
    },
    {
     "name": "stdout",
     "output_type": "stream",
     "text": [
      "hMax-Paragram 50.55\n"
     ]
    }
   ],
   "source": [
    "for k, m in models.items():\n",
    "    m_type  = k.split(\"-\")[0]\n",
    "    emb_type = k.split(\"-\")[1]\n",
    "    m.train(sentences)\n",
    "    r = pearsonr(similarities, compute_similarities(task_length, m))[0].round(4) * 100\n",
    "    results[f\"{m_type}-{emb_type}\"] = r\n",
    "    print(k, f\"{r:2.2f}\")"
   ]
  },
  {
   "cell_type": "code",
   "execution_count": 18,
   "metadata": {},
   "outputs": [
    {
     "data": {
      "text/html": [
       "<div>\n",
       "<style scoped>\n",
       "    .dataframe tbody tr th:only-of-type {\n",
       "        vertical-align: middle;\n",
       "    }\n",
       "\n",
       "    .dataframe tbody tr th {\n",
       "        vertical-align: top;\n",
       "    }\n",
       "\n",
       "    .dataframe thead th {\n",
       "        text-align: right;\n",
       "    }\n",
       "</style>\n",
       "<table border=\"1\" class=\"dataframe\">\n",
       "  <thead>\n",
       "    <tr style=\"text-align: right;\">\n",
       "      <th></th>\n",
       "      <th>Pearson</th>\n",
       "    </tr>\n",
       "  </thead>\n",
       "  <tbody>\n",
       "    <tr>\n",
       "      <th>CBOW-W2V</th>\n",
       "      <td>61.54</td>\n",
       "    </tr>\n",
       "    <tr>\n",
       "      <th>SIF-W2V</th>\n",
       "      <td>71.12</td>\n",
       "    </tr>\n",
       "    <tr>\n",
       "      <th>uSIF-W2V</th>\n",
       "      <td>66.99</td>\n",
       "    </tr>\n",
       "    <tr>\n",
       "      <th>Max-W2V</th>\n",
       "      <td>66.52</td>\n",
       "    </tr>\n",
       "    <tr>\n",
       "      <th>hMax-W2V</th>\n",
       "      <td>52.19</td>\n",
       "    </tr>\n",
       "    <tr>\n",
       "      <th>CBOW-FT</th>\n",
       "      <td>48.49</td>\n",
       "    </tr>\n",
       "    <tr>\n",
       "      <th>SIF-FT</th>\n",
       "      <td>73.38</td>\n",
       "    </tr>\n",
       "    <tr>\n",
       "      <th>uSIF-FT</th>\n",
       "      <td>69.40</td>\n",
       "    </tr>\n",
       "    <tr>\n",
       "      <th>Max-FT</th>\n",
       "      <td>57.10</td>\n",
       "    </tr>\n",
       "    <tr>\n",
       "      <th>hMax-FT</th>\n",
       "      <td>52.97</td>\n",
       "    </tr>\n",
       "    <tr>\n",
       "      <th>CBOW-Paranmt</th>\n",
       "      <td>79.85</td>\n",
       "    </tr>\n",
       "    <tr>\n",
       "      <th>SIF-Paranmt</th>\n",
       "      <td>76.75</td>\n",
       "    </tr>\n",
       "    <tr>\n",
       "      <th>uSIF-Paranmt</th>\n",
       "      <td>79.02</td>\n",
       "    </tr>\n",
       "    <tr>\n",
       "      <th>Max-Paranmt</th>\n",
       "      <td>71.57</td>\n",
       "    </tr>\n",
       "    <tr>\n",
       "      <th>hMax-Paranmt</th>\n",
       "      <td>54.62</td>\n",
       "    </tr>\n",
       "    <tr>\n",
       "      <th>CBOW-Paragram</th>\n",
       "      <td>50.38</td>\n",
       "    </tr>\n",
       "    <tr>\n",
       "      <th>SIF-Paragram</th>\n",
       "      <td>73.86</td>\n",
       "    </tr>\n",
       "    <tr>\n",
       "      <th>uSIF-Paragram</th>\n",
       "      <td>73.64</td>\n",
       "    </tr>\n",
       "    <tr>\n",
       "      <th>Max-Paragram</th>\n",
       "      <td>59.82</td>\n",
       "    </tr>\n",
       "    <tr>\n",
       "      <th>hMax-Paragram</th>\n",
       "      <td>50.55</td>\n",
       "    </tr>\n",
       "  </tbody>\n",
       "</table>\n",
       "</div>"
      ],
      "text/plain": [
       "               Pearson\n",
       "CBOW-W2V         61.54\n",
       "SIF-W2V          71.12\n",
       "uSIF-W2V         66.99\n",
       "Max-W2V          66.52\n",
       "hMax-W2V         52.19\n",
       "CBOW-FT          48.49\n",
       "SIF-FT           73.38\n",
       "uSIF-FT          69.40\n",
       "Max-FT           57.10\n",
       "hMax-FT          52.97\n",
       "CBOW-Paranmt     79.85\n",
       "SIF-Paranmt      76.75\n",
       "uSIF-Paranmt     79.02\n",
       "Max-Paranmt      71.57\n",
       "hMax-Paranmt     54.62\n",
       "CBOW-Paragram    50.38\n",
       "SIF-Paragram     73.86\n",
       "uSIF-Paragram    73.64\n",
       "Max-Paragram     59.82\n",
       "hMax-Paragram    50.55"
      ]
     },
     "execution_count": 18,
     "metadata": {},
     "output_type": "execute_result"
    }
   ],
   "source": [
    "pd.DataFrame.from_dict(results, orient=\"index\", columns=[\"Pearson\"])"
   ]
  },
  {
   "cell_type": "markdown",
   "metadata": {},
   "source": [
    "If you closely study the values above you will find that:\n",
    "- SIF-Glove is almost equivalent to the values reported in http://ixa2.si.ehu.es/stswiki/index.php/STSbenchmark\n",
    "- CBOW-Paranmt is a little better than ParaNMT Word Avg. in https://www.aclweb.org/anthology/W18-3012\n",
    "- uSIF-Paranmt is a little worse than ParaNMT+UP in https://www.aclweb.org/anthology/W18-3012\n",
    "- uSIF-Paragram is a little worse than PSL+UP in https://www.aclweb.org/anthology/W18-3012\n",
    "\n",
    "However, I guess those differences might arise due to differences in preprocessing. Too bad we didn't hit 80. If you have any ideas why those values don't match exactly, feel free to contact me anytime."
   ]
  }
 ],
 "metadata": {
  "kernelspec": {
   "display_name": "Python 3",
   "language": "python",
   "name": "python3"
  },
  "language_info": {
   "codemirror_mode": {
    "name": "ipython",
    "version": 3
   },
   "file_extension": ".py",
   "mimetype": "text/x-python",
   "name": "python",
   "nbconvert_exporter": "python",
   "pygments_lexer": "ipython3",
   "version": "3.7.3"
  }
 },
 "nbformat": 4,
 "nbformat_minor": 2
}
