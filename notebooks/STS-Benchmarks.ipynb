{
 "cells": [
  {
   "cell_type": "markdown",
   "metadata": {},
   "source": [
    "# STS Benchmark Datasets"
   ]
  },
  {
   "cell_type": "markdown",
   "metadata": {},
   "source": [
    "### Preparation"
   ]
  },
  {
   "cell_type": "markdown",
   "metadata": {},
   "source": [
    "Setup all required libraries"
   ]
  },
  {
   "cell_type": "code",
   "execution_count": 1,
   "metadata": {},
   "outputs": [],
   "source": [
    "import logging\n",
    "import re\n",
    "import sys\n",
    "\n",
    "import numpy as np\n",
    "import pandas as pd\n",
    "\n",
    "from gensim.models.keyedvectors import KeyedVectors, FastTextKeyedVectors\n",
    "\n",
    "from fse.models import Average, SIF, uSIF\n",
    "from fse import IndexedList\n",
    "\n",
    "from re import sub\n",
    "\n",
    "from scipy.stats import pearsonr\n",
    "\n",
    "from nltk import word_tokenize\n",
    "\n",
    "logging.basicConfig(format='%(asctime)s : %(threadName)s : %(levelname)s : %(message)s',\n",
    "                    level=logging.INFO)"
   ]
  },
  {
   "cell_type": "markdown",
   "metadata": {},
   "source": [
    "Next, we require the sentences from the STS benchmark dataset."
   ]
  },
  {
   "cell_type": "code",
   "execution_count": 2,
   "metadata": {},
   "outputs": [
    {
     "name": "stdout",
     "output_type": "stream",
     "text": [
      "0\tSim: 2.5\tA girl is styling her hair.             \tA girl is brushing her hair.            \t\n",
      "1\tSim: 3.6\tA group of men play soccer on the beach.\tA group of boys are playing soccer on the beach.\t\n",
      "2\tSim: 5.0\tOne woman is measuring another woman's ankle.\tA woman measures another woman's ankle. \t\n",
      "3\tSim: 4.2\tA man is cutting up a cucumber.         \tA man is slicing a cucumber.            \t\n",
      "4\tSim: 1.5\tA man is playing a harp.                \tA man is playing a keyboard.            \t\n"
     ]
    }
   ],
   "source": [
    "file= \"../fse/eval/sts-test.csv\"\n",
    "similarities, sent_a, sent_b = [], [], []\n",
    "with open(file, \"r\") as f:\n",
    "    for l in f:\n",
    "        line = l.rstrip().split(\"\\t\")\n",
    "        similarities.append(float(line[4]))\n",
    "        sent_a.append(line[5])\n",
    "        sent_b.append(line[6])\n",
    "similarities = np.array(similarities)\n",
    "assert len(similarities) == len(sent_a) == len(sent_b)\n",
    "task_length = len(similarities)\n",
    "\n",
    "for i, obj in enumerate(zip(similarities, sent_a, sent_b)):\n",
    "    print(f\"{i}\\tSim: {obj[0].round(3):.1f}\\t{obj[1]:40s}\\t{obj[2]:40s}\\t\")\n",
    "    if i == 4:\n",
    "        break"
   ]
  },
  {
   "cell_type": "markdown",
   "metadata": {},
   "source": [
    "Each of these sentence requires some preparation (i.e. tokenization) to be used in the core input formats.\n",
    "To reproduce the results from the uSIF paper this part is taken from https://github.com/kawine/usif/blob/master/usif.py"
   ]
  },
  {
   "cell_type": "code",
   "execution_count": 3,
   "metadata": {},
   "outputs": [],
   "source": [
    "not_punc = re.compile('.*[A-Za-z0-9].*')\n",
    "\n",
    "def prep_token(token):\n",
    "    t = token.lower().strip(\"';.:()\").strip('\"')\n",
    "    t = 'not' if t == \"n't\" else t\n",
    "    return re.split(r'[-]', t)\n",
    "\n",
    "def prep_sentence(sentence):\n",
    "    tokens = []\n",
    "    for token in word_tokenize(sentence):\n",
    "        if not_punc.match(token):\n",
    "            tokens = tokens + prep_token(token)\n",
    "    return tokens"
   ]
  },
  {
   "cell_type": "markdown",
   "metadata": {},
   "source": [
    "Next we define the IndexedList object. The IndexedList extends the previously constructed sent_a and sent_b list together. We additionally provide a custom function \"prep_sentence\" which performs all the prepocessing for a single sentence"
   ]
  },
  {
   "cell_type": "code",
   "execution_count": 4,
   "metadata": {},
   "outputs": [],
   "source": [
    "sentences = IndexedList(sent_a, sent_b, split=False, split_func=prep_sentence)"
   ]
  },
  {
   "cell_type": "markdown",
   "metadata": {},
   "source": [
    "The IndexedList returns the core object required for fse to train a sentence embedding: An IndexedSentence object. This object constists of words (a list of strings) and its corresponding index. The latter is important if multiple cores access the input queue simultaneously. Thus it must be always provided. The index represents the row in the matrix where it can later be found."
   ]
  },
  {
   "cell_type": "code",
   "execution_count": 5,
   "metadata": {},
   "outputs": [
    {
     "data": {
      "text/plain": [
       "IndexedSentence(words=['a', 'girl', 'is', 'styling', 'her', 'hair'], index=0)"
      ]
     },
     "execution_count": 5,
     "metadata": {},
     "output_type": "execute_result"
    }
   ],
   "source": [
    "sentences[0]"
   ]
  },
  {
   "cell_type": "markdown",
   "metadata": {},
   "source": [
    "Note, that IndexedList does not convert the sentences inplace but only on calling the __getitem__ method in order to turn the sentence into an IndexedSentence. You can access the original sentence using"
   ]
  },
  {
   "cell_type": "code",
   "execution_count": 6,
   "metadata": {},
   "outputs": [
    {
     "data": {
      "text/plain": [
       "'A girl is styling her hair.'"
      ]
     },
     "execution_count": 6,
     "metadata": {},
     "output_type": "execute_result"
    }
   ],
   "source": [
    "sentences.items[0]"
   ]
  },
  {
   "cell_type": "markdown",
   "metadata": {},
   "source": [
    "### Loading the models\n",
    "\n",
    "It is required for us to load the models as BaseKeyedVectors or as an BaseWordEmbeddingsModel. For this notebook, I already converted the models to a BaseKeyedVectors instance and saved the corresponding instance on my external harddrive. You have to replicate these steps yourself, because getting all the files can be a bit difficult, as the total filesize is around 15 GB."
   ]
  },
  {
   "cell_type": "code",
   "execution_count": 7,
   "metadata": {},
   "outputs": [],
   "source": [
    "path_to_models = \"/Volumes/Ext_HDD/Models/Static/\"\n",
    "models, results = {}, {}"
   ]
  },
  {
   "cell_type": "markdown",
   "metadata": {},
   "source": [
    "The following code performs a disk-to-ram training. Passing a path to __wv_mapfile_path__ will store the corresponding word vectors (wv) as a numpy memmap array. This is required, because loading all vectors into ram would would take up a lot of storage unecessary. The wv.vectors file will be replace by its memmap representation, which is why the next models do not require the wv_mapfile_path argument, as they access the same memmap object.\n",
    "\n",
    "The lang_freq=\"en\" induces the frequencies of the words according to the wordfreq package. This functionality allows you to work with pre-trained embeddings which don't come with frequency information. The method overwrites the counts in the glove.wv.vocab class, so that all further models also benefit from this induction."
   ]
  },
  {
   "cell_type": "code",
   "execution_count": 8,
   "metadata": {},
   "outputs": [
    {
     "name": "stderr",
     "output_type": "stream",
     "text": [
      "2019-08-29 10:20:05,124 : MainThread : INFO : loading Word2VecKeyedVectors object from /Volumes/Ext_HDD/Models/Static/glove.840B.300d.model\n",
      "2019-08-29 10:20:09,891 : MainThread : INFO : loading vectors from /Volumes/Ext_HDD/Models/Static/glove.840B.300d.model.vectors.npy with mmap=None\n",
      "2019-08-29 10:20:15,057 : MainThread : INFO : setting ignored attribute vectors_norm to None\n",
      "2019-08-29 10:20:15,058 : MainThread : INFO : loaded /Volumes/Ext_HDD/Models/Static/glove.840B.300d.model\n",
      "2019-08-29 10:20:15,060 : MainThread : INFO : writing wv to /Users/oliverborchers/Library/Mobile Documents/com~apple~CloudDocs/Diss/Medium/Fast_Sentence_Embeddings/notebooks/data/glove_wv.vectors\n"
     ]
    },
    {
     "name": "stdout",
     "output_type": "stream",
     "text": [
      "Before memmap 2635050112\n"
     ]
    },
    {
     "name": "stderr",
     "output_type": "stream",
     "text": [
      "2019-08-29 10:20:21,477 : MainThread : INFO : no frequency mode: using wordfreq for estimation of frequency for language: en\n"
     ]
    },
    {
     "name": "stdout",
     "output_type": "stream",
     "text": [
      "After memmap 136\n"
     ]
    }
   ],
   "source": [
    "glove = KeyedVectors.load(path_to_models+\"glove.840B.300d.model\")\n",
    "\n",
    "print(f\"Before memmap {sys.getsizeof(glove.vectors)}\")\n",
    "\n",
    "models[f\"CBOW-Glove\"] = Average(glove, wv_mapfile_path=\"data/glove\", lang_freq=\"en\")\n",
    "\n",
    "print(f\"After memmap {sys.getsizeof(glove.vectors)}\")\n",
    "\n",
    "models[f\"SIF-Glove\"] = SIF(glove, components=15)\n",
    "models[f\"uSIF-Glove\"] = uSIF(glove,length=11)"
   ]
  },
  {
   "cell_type": "code",
   "execution_count": 9,
   "metadata": {},
   "outputs": [
    {
     "data": {
      "text/plain": [
       "True"
      ]
     },
     "execution_count": 9,
     "metadata": {},
     "output_type": "execute_result"
    }
   ],
   "source": [
    "# Do all the vectors contain the same content?\n",
    "(models[f\"SIF-Glove\"].wv.vectors == models[f\"uSIF-Glove\"].wv.vectors).all()"
   ]
  },
  {
   "cell_type": "markdown",
   "metadata": {},
   "source": [
    "Another option is to load the KeyedVectors using the kwarg mmap=\"r\""
   ]
  },
  {
   "cell_type": "code",
   "execution_count": 10,
   "metadata": {},
   "outputs": [
    {
     "name": "stderr",
     "output_type": "stream",
     "text": [
      "2019-08-29 10:20:38,382 : MainThread : INFO : loading Word2VecKeyedVectors object from /Volumes/Ext_HDD/Models/Static/google_news.model\n",
      "2019-08-29 10:20:44,157 : MainThread : INFO : loading vectors from /Volumes/Ext_HDD/Models/Static/google_news.model.vectors.npy with mmap=r\n",
      "2019-08-29 10:20:44,169 : MainThread : INFO : setting ignored attribute vectors_norm to None\n",
      "2019-08-29 10:20:44,170 : MainThread : INFO : loaded /Volumes/Ext_HDD/Models/Static/google_news.model\n",
      "2019-08-29 10:20:44,172 : MainThread : INFO : no frequency mode: using wordfreq for estimation of frequency for language: en\n"
     ]
    }
   ],
   "source": [
    "w2v = KeyedVectors.load(path_to_models+\"google_news.model\", mmap=\"r\")\n",
    "\n",
    "models[f\"CBOW-W2V\"] = Average(w2v, lang_freq=\"en\")\n",
    "models[f\"SIF-W2V\"] = SIF(w2v, components=10)\n",
    "models[f\"uSIF-W2V\"] = uSIF(w2v, length=11)"
   ]
  },
  {
   "cell_type": "code",
   "execution_count": 11,
   "metadata": {},
   "outputs": [
    {
     "name": "stderr",
     "output_type": "stream",
     "text": [
      "2019-08-29 10:20:51,340 : MainThread : INFO : loading FastTextKeyedVectors object from /Volumes/Ext_HDD/Models/Static/ft_crawl_300d_2m.model\n",
      "2019-08-29 10:20:56,318 : MainThread : INFO : loading vectors from /Volumes/Ext_HDD/Models/Static/ft_crawl_300d_2m.model.vectors.npy with mmap=r\n",
      "2019-08-29 10:20:56,329 : MainThread : INFO : loading vectors_vocab from /Volumes/Ext_HDD/Models/Static/ft_crawl_300d_2m.model.vectors_vocab.npy with mmap=r\n",
      "2019-08-29 10:20:56,337 : MainThread : INFO : loading vectors_ngrams from /Volumes/Ext_HDD/Models/Static/ft_crawl_300d_2m.model.vectors_ngrams.npy with mmap=r\n",
      "2019-08-29 10:20:56,346 : MainThread : INFO : setting ignored attribute vectors_norm to None\n",
      "2019-08-29 10:20:56,346 : MainThread : INFO : setting ignored attribute vectors_vocab_norm to None\n",
      "2019-08-29 10:20:56,347 : MainThread : INFO : setting ignored attribute vectors_ngrams_norm to None\n",
      "2019-08-29 10:20:56,348 : MainThread : INFO : setting ignored attribute buckets_word to None\n",
      "2019-08-29 10:20:56,348 : MainThread : INFO : loaded /Volumes/Ext_HDD/Models/Static/ft_crawl_300d_2m.model\n",
      "2019-08-29 10:20:56,351 : MainThread : INFO : no frequency mode: using wordfreq for estimation of frequency for language: en\n"
     ]
    }
   ],
   "source": [
    "ft = FastTextKeyedVectors.load(path_to_models+\"ft_crawl_300d_2m.model\", mmap=\"r\")\n",
    "models[f\"CBOW-FT\"] = Average(ft, lang_freq=\"en\")\n",
    "models[f\"SIF-FT\"] = SIF(ft, components=10)\n",
    "models[f\"uSIF-FT\"] = uSIF(ft, length=11)"
   ]
  },
  {
   "cell_type": "code",
   "execution_count": 12,
   "metadata": {},
   "outputs": [
    {
     "name": "stderr",
     "output_type": "stream",
     "text": [
      "2019-08-29 10:20:58,061 : MainThread : INFO : loading Word2VecKeyedVectors object from /Volumes/Ext_HDD/Models/Static/paranmt.model\n",
      "2019-08-29 10:20:58,283 : MainThread : INFO : loading vectors from /Volumes/Ext_HDD/Models/Static/paranmt.model.vectors.npy with mmap=r\n",
      "2019-08-29 10:20:58,291 : MainThread : INFO : setting ignored attribute vectors_norm to None\n",
      "2019-08-29 10:20:58,292 : MainThread : INFO : loaded /Volumes/Ext_HDD/Models/Static/paranmt.model\n",
      "2019-08-29 10:20:58,294 : MainThread : INFO : no frequency mode: using wordfreq for estimation of frequency for language: en\n"
     ]
    }
   ],
   "source": [
    "paranmt = KeyedVectors.load(path_to_models+\"paranmt.model\", mmap=\"r\")\n",
    "\n",
    "models[f\"CBOW-Paranmt\"] = Average(paranmt, lang_freq=\"en\")\n",
    "models[f\"SIF-Paranmt\"] = SIF(paranmt, components=10)\n",
    "models[f\"uSIF-Paranmt\"] = uSIF(paranmt, length=11)"
   ]
  },
  {
   "cell_type": "code",
   "execution_count": 13,
   "metadata": {},
   "outputs": [
    {
     "name": "stderr",
     "output_type": "stream",
     "text": [
      "2019-08-29 10:20:58,386 : MainThread : INFO : loading Word2VecKeyedVectors object from /Volumes/Ext_HDD/Models/Static/paragram_sl999_czeng.model\n",
      "2019-08-29 10:20:58,495 : MainThread : INFO : loading vectors from /Volumes/Ext_HDD/Models/Static/paragram_sl999_czeng.model.vectors.npy with mmap=r\n",
      "2019-08-29 10:20:58,501 : MainThread : INFO : setting ignored attribute vectors_norm to None\n",
      "2019-08-29 10:20:58,501 : MainThread : INFO : loaded /Volumes/Ext_HDD/Models/Static/paragram_sl999_czeng.model\n",
      "2019-08-29 10:20:58,504 : MainThread : INFO : no frequency mode: using wordfreq for estimation of frequency for language: en\n"
     ]
    }
   ],
   "source": [
    "paragram = KeyedVectors.load(path_to_models+\"paragram_sl999_czeng.model\", mmap=\"r\")\n",
    "\n",
    "models[f\"CBOW-Paragram\"] = Average(paragram, lang_freq=\"en\")\n",
    "models[f\"SIF-Paragram\"] = SIF(paragram, components=10)\n",
    "models[f\"uSIF-Paragram\"] = uSIF(paragram, length=11)"
   ]
  },
  {
   "cell_type": "markdown",
   "metadata": {},
   "source": [
    "## Computation of the results for the STS benchmark"
   ]
  },
  {
   "cell_type": "markdown",
   "metadata": {},
   "source": [
    "We are finally able to compute the STS benchmark values for all models."
   ]
  },
  {
   "cell_type": "code",
   "execution_count": 14,
   "metadata": {},
   "outputs": [],
   "source": [
    "# This function is used to compute the similarities between two sentences.\n",
    "# Task length is the length of the sts dataset.\n",
    "def compute_similarities(task_length, model):\n",
    "    sims = []\n",
    "    for i, j in zip(range(task_length), range(task_length, 2*task_length)):\n",
    "        sims.append(model.sv.similarity(i,j))\n",
    "    return sims"
   ]
  },
  {
   "cell_type": "code",
   "execution_count": 15,
   "metadata": {},
   "outputs": [
    {
     "name": "stderr",
     "output_type": "stream",
     "text": [
      "2019-08-29 10:21:01,660 : MainThread : INFO : scanning all indexed sentences and their word counts\n",
      "2019-08-29 10:21:02,046 : MainThread : INFO : finished scanning 2758 sentences with an average length of 9 and 27528 total words\n",
      "2019-08-29 10:21:02,836 : MainThread : INFO : estimated memory for 2758 sentences with 300 dimensions and 2195875 vocabulary: 2524 MB (2 GB)\n",
      "2019-08-29 10:21:02,836 : MainThread : INFO : initializing sentence vectors for 2758 sentences\n",
      "2019-08-29 10:21:02,875 : MainThread : INFO : begin training\n",
      "2019-08-29 10:21:03,292 : MainThread : INFO : worker thread finished; awaiting finish of 0 more threads\n",
      "2019-08-29 10:21:03,292 : MainThread : INFO : training on 2758 effective sentences with 27351 effective words took 0s with 6613 sentences/s\n",
      "2019-08-29 10:21:03,325 : MainThread : INFO : scanning all indexed sentences and their word counts\n"
     ]
    },
    {
     "name": "stdout",
     "output_type": "stream",
     "text": [
      "CBOW-Glove 40.41\n"
     ]
    },
    {
     "name": "stderr",
     "output_type": "stream",
     "text": [
      "2019-08-29 10:21:03,717 : MainThread : INFO : finished scanning 2758 sentences with an average length of 9 and 27528 total words\n",
      "2019-08-29 10:21:04,499 : MainThread : INFO : estimated memory for 2758 sentences with 300 dimensions and 2195875 vocabulary: 2524 MB (2 GB)\n",
      "2019-08-29 10:21:04,500 : MainThread : INFO : initializing sentence vectors for 2758 sentences\n",
      "2019-08-29 10:21:04,509 : MainThread : INFO : pre-computing SIF weights for 2195875 words\n",
      "2019-08-29 10:21:05,955 : MainThread : INFO : begin training\n",
      "2019-08-29 10:21:06,350 : MainThread : INFO : worker thread finished; awaiting finish of 0 more threads\n",
      "2019-08-29 10:21:06,424 : MainThread : INFO : computing 15 principal components took 0s\n",
      "2019-08-29 10:21:06,426 : MainThread : INFO : removing 15 principal components took 0s\n",
      "2019-08-29 10:21:06,426 : MainThread : INFO : training on 2758 effective sentences with 27351 effective words took 0s with 6973 sentences/s\n",
      "2019-08-29 10:21:06,454 : MainThread : INFO : scanning all indexed sentences and their word counts\n"
     ]
    },
    {
     "name": "stdout",
     "output_type": "stream",
     "text": [
      "SIF-Glove 71.95\n"
     ]
    },
    {
     "name": "stderr",
     "output_type": "stream",
     "text": [
      "2019-08-29 10:21:06,846 : MainThread : INFO : finished scanning 2758 sentences with an average length of 9 and 27528 total words\n",
      "2019-08-29 10:21:07,604 : MainThread : INFO : estimated memory for 2758 sentences with 300 dimensions and 2195875 vocabulary: 2524 MB (2 GB)\n",
      "2019-08-29 10:21:07,605 : MainThread : INFO : initializing sentence vectors for 2758 sentences\n",
      "2019-08-29 10:21:07,612 : MainThread : INFO : pre-computing uSIF weights for 2195875 words\n",
      "2019-08-29 10:21:14,364 : MainThread : INFO : begin training\n",
      "2019-08-29 10:21:14,768 : MainThread : INFO : worker thread finished; awaiting finish of 0 more threads\n",
      "2019-08-29 10:21:14,783 : MainThread : INFO : computing 5 principal components took 0s\n",
      "2019-08-29 10:21:14,785 : MainThread : INFO : removing 5 principal components took 0s\n",
      "2019-08-29 10:21:14,786 : MainThread : INFO : training on 2758 effective sentences with 27351 effective words took 0s with 6820 sentences/s\n",
      "2019-08-29 10:21:14,817 : MainThread : INFO : scanning all indexed sentences and their word counts\n"
     ]
    },
    {
     "name": "stdout",
     "output_type": "stream",
     "text": [
      "uSIF-Glove 67.16\n"
     ]
    },
    {
     "name": "stderr",
     "output_type": "stream",
     "text": [
      "2019-08-29 10:21:15,188 : MainThread : INFO : finished scanning 2758 sentences with an average length of 9 and 27528 total words\n",
      "2019-08-29 10:21:16,226 : MainThread : INFO : estimated memory for 2758 sentences with 300 dimensions and 3000000 vocabulary: 3447 MB (3 GB)\n",
      "2019-08-29 10:21:16,227 : MainThread : INFO : initializing sentence vectors for 2758 sentences\n",
      "2019-08-29 10:21:16,280 : MainThread : INFO : begin training\n",
      "2019-08-29 10:21:16,896 : MainThread : INFO : worker thread finished; awaiting finish of 0 more threads\n",
      "2019-08-29 10:21:16,896 : MainThread : INFO : training on 2758 effective sentences with 23116 effective words took 0s with 4477 sentences/s\n",
      "2019-08-29 10:21:16,923 : MainThread : INFO : scanning all indexed sentences and their word counts\n"
     ]
    },
    {
     "name": "stdout",
     "output_type": "stream",
     "text": [
      "CBOW-W2V 61.54\n"
     ]
    },
    {
     "name": "stderr",
     "output_type": "stream",
     "text": [
      "2019-08-29 10:21:17,328 : MainThread : INFO : finished scanning 2758 sentences with an average length of 9 and 27528 total words\n",
      "2019-08-29 10:21:18,378 : MainThread : INFO : estimated memory for 2758 sentences with 300 dimensions and 3000000 vocabulary: 3447 MB (3 GB)\n",
      "2019-08-29 10:21:18,379 : MainThread : INFO : initializing sentence vectors for 2758 sentences\n",
      "2019-08-29 10:21:18,389 : MainThread : INFO : pre-computing SIF weights for 3000000 words\n",
      "2019-08-29 10:21:20,291 : MainThread : INFO : begin training\n",
      "2019-08-29 10:21:20,660 : MainThread : INFO : worker thread finished; awaiting finish of 0 more threads\n",
      "2019-08-29 10:21:20,675 : MainThread : INFO : computing 10 principal components took 0s\n",
      "2019-08-29 10:21:20,677 : MainThread : INFO : removing 10 principal components took 0s\n",
      "2019-08-29 10:21:20,678 : MainThread : INFO : training on 2758 effective sentences with 23116 effective words took 0s with 7463 sentences/s\n",
      "2019-08-29 10:21:20,707 : MainThread : INFO : scanning all indexed sentences and their word counts\n"
     ]
    },
    {
     "name": "stdout",
     "output_type": "stream",
     "text": [
      "SIF-W2V 71.12\n"
     ]
    },
    {
     "name": "stderr",
     "output_type": "stream",
     "text": [
      "2019-08-29 10:21:21,094 : MainThread : INFO : finished scanning 2758 sentences with an average length of 9 and 27528 total words\n",
      "2019-08-29 10:21:22,225 : MainThread : INFO : estimated memory for 2758 sentences with 300 dimensions and 3000000 vocabulary: 3447 MB (3 GB)\n",
      "2019-08-29 10:21:22,226 : MainThread : INFO : initializing sentence vectors for 2758 sentences\n",
      "2019-08-29 10:21:22,239 : MainThread : INFO : pre-computing uSIF weights for 3000000 words\n",
      "2019-08-29 10:21:31,452 : MainThread : INFO : begin training\n",
      "2019-08-29 10:21:31,835 : MainThread : INFO : worker thread finished; awaiting finish of 0 more threads\n",
      "2019-08-29 10:21:31,850 : MainThread : INFO : computing 5 principal components took 0s\n",
      "2019-08-29 10:21:31,852 : MainThread : INFO : removing 5 principal components took 0s\n",
      "2019-08-29 10:21:31,853 : MainThread : INFO : training on 2758 effective sentences with 23116 effective words took 0s with 7193 sentences/s\n",
      "2019-08-29 10:21:31,880 : MainThread : INFO : scanning all indexed sentences and their word counts\n"
     ]
    },
    {
     "name": "stdout",
     "output_type": "stream",
     "text": [
      "uSIF-W2V 66.99\n"
     ]
    },
    {
     "name": "stderr",
     "output_type": "stream",
     "text": [
      "2019-08-29 10:21:32,264 : MainThread : INFO : finished scanning 2758 sentences with an average length of 9 and 27528 total words\n",
      "2019-08-29 10:21:33,075 : MainThread : INFO : estimated memory for 2758 sentences with 300 dimensions and 2000000 vocabulary: 6877 MB (6 GB)\n",
      "2019-08-29 10:21:33,076 : MainThread : WARNING : The embeddings will likely not fit into RAM. Consider to use mapfile_path\n",
      "2019-08-29 10:21:33,077 : MainThread : INFO : initializing sentence vectors for 2758 sentences\n",
      "2019-08-29 10:21:33,117 : MainThread : INFO : begin training\n",
      "2019-08-29 10:21:34,138 : MainThread : INFO : worker thread finished; awaiting finish of 0 more threads\n",
      "2019-08-29 10:21:34,138 : MainThread : INFO : training on 2758 effective sentences with 27528 effective words took 1s with 2701 sentences/s\n",
      "2019-08-29 10:21:34,161 : MainThread : INFO : scanning all indexed sentences and their word counts\n"
     ]
    },
    {
     "name": "stdout",
     "output_type": "stream",
     "text": [
      "CBOW-FT 48.49\n"
     ]
    },
    {
     "name": "stderr",
     "output_type": "stream",
     "text": [
      "2019-08-29 10:21:34,526 : MainThread : INFO : finished scanning 2758 sentences with an average length of 9 and 27528 total words\n",
      "2019-08-29 10:21:35,344 : MainThread : INFO : estimated memory for 2758 sentences with 300 dimensions and 2000000 vocabulary: 6877 MB (6 GB)\n",
      "2019-08-29 10:21:35,345 : MainThread : WARNING : The embeddings will likely not fit into RAM. Consider to use mapfile_path\n",
      "2019-08-29 10:21:35,345 : MainThread : INFO : initializing sentence vectors for 2758 sentences\n",
      "2019-08-29 10:21:35,354 : MainThread : INFO : pre-computing SIF weights for 2000000 words\n",
      "2019-08-29 10:21:36,760 : MainThread : INFO : begin training\n",
      "2019-08-29 10:21:37,132 : MainThread : INFO : worker thread finished; awaiting finish of 0 more threads\n",
      "2019-08-29 10:21:37,147 : MainThread : INFO : computing 10 principal components took 0s\n",
      "2019-08-29 10:21:37,149 : MainThread : INFO : removing 10 principal components took 0s\n",
      "2019-08-29 10:21:37,150 : MainThread : INFO : training on 2758 effective sentences with 27528 effective words took 0s with 7395 sentences/s\n",
      "2019-08-29 10:21:37,175 : MainThread : INFO : scanning all indexed sentences and their word counts\n"
     ]
    },
    {
     "name": "stdout",
     "output_type": "stream",
     "text": [
      "SIF-FT 73.38\n"
     ]
    },
    {
     "name": "stderr",
     "output_type": "stream",
     "text": [
      "2019-08-29 10:21:37,549 : MainThread : INFO : finished scanning 2758 sentences with an average length of 9 and 27528 total words\n",
      "2019-08-29 10:21:38,362 : MainThread : INFO : estimated memory for 2758 sentences with 300 dimensions and 2000000 vocabulary: 6877 MB (6 GB)\n",
      "2019-08-29 10:21:38,363 : MainThread : WARNING : The embeddings will likely not fit into RAM. Consider to use mapfile_path\n",
      "2019-08-29 10:21:38,363 : MainThread : INFO : initializing sentence vectors for 2758 sentences\n",
      "2019-08-29 10:21:38,372 : MainThread : INFO : pre-computing uSIF weights for 2000000 words\n",
      "2019-08-29 10:21:44,611 : MainThread : INFO : begin training\n",
      "2019-08-29 10:21:44,984 : MainThread : INFO : worker thread finished; awaiting finish of 0 more threads\n",
      "2019-08-29 10:21:45,002 : MainThread : INFO : computing 5 principal components took 0s\n",
      "2019-08-29 10:21:45,004 : MainThread : INFO : removing 5 principal components took 0s\n",
      "2019-08-29 10:21:45,005 : MainThread : INFO : training on 2758 effective sentences with 27528 effective words took 0s with 7378 sentences/s\n",
      "2019-08-29 10:21:45,040 : MainThread : INFO : scanning all indexed sentences and their word counts\n"
     ]
    },
    {
     "name": "stdout",
     "output_type": "stream",
     "text": [
      "uSIF-FT 69.40\n"
     ]
    },
    {
     "name": "stderr",
     "output_type": "stream",
     "text": [
      "2019-08-29 10:21:45,410 : MainThread : INFO : finished scanning 2758 sentences with an average length of 9 and 27528 total words\n",
      "2019-08-29 10:21:45,438 : MainThread : INFO : estimated memory for 2758 sentences with 300 dimensions and 77224 vocabulary: 91 MB (0 GB)\n",
      "2019-08-29 10:21:45,439 : MainThread : INFO : initializing sentence vectors for 2758 sentences\n",
      "2019-08-29 10:21:45,447 : MainThread : INFO : begin training\n",
      "2019-08-29 10:21:46,077 : MainThread : INFO : worker thread finished; awaiting finish of 0 more threads\n",
      "2019-08-29 10:21:46,077 : MainThread : INFO : training on 2758 effective sentences with 27441 effective words took 0s with 4375 sentences/s\n",
      "2019-08-29 10:21:46,103 : MainThread : INFO : scanning all indexed sentences and their word counts\n"
     ]
    },
    {
     "name": "stdout",
     "output_type": "stream",
     "text": [
      "CBOW-Paranmt 79.85\n"
     ]
    },
    {
     "name": "stderr",
     "output_type": "stream",
     "text": [
      "2019-08-29 10:21:46,488 : MainThread : INFO : finished scanning 2758 sentences with an average length of 9 and 27528 total words\n",
      "2019-08-29 10:21:46,513 : MainThread : INFO : estimated memory for 2758 sentences with 300 dimensions and 77224 vocabulary: 91 MB (0 GB)\n",
      "2019-08-29 10:21:46,514 : MainThread : INFO : initializing sentence vectors for 2758 sentences\n",
      "2019-08-29 10:21:46,522 : MainThread : INFO : pre-computing SIF weights for 77224 words\n",
      "2019-08-29 10:21:46,569 : MainThread : INFO : begin training\n",
      "2019-08-29 10:21:46,951 : MainThread : INFO : worker thread finished; awaiting finish of 0 more threads\n",
      "2019-08-29 10:21:46,966 : MainThread : INFO : computing 10 principal components took 0s\n",
      "2019-08-29 10:21:46,968 : MainThread : INFO : removing 10 principal components took 0s\n",
      "2019-08-29 10:21:46,969 : MainThread : INFO : training on 2758 effective sentences with 27441 effective words took 0s with 7212 sentences/s\n",
      "2019-08-29 10:21:46,995 : MainThread : INFO : scanning all indexed sentences and their word counts\n"
     ]
    },
    {
     "name": "stdout",
     "output_type": "stream",
     "text": [
      "SIF-Paranmt 76.75\n"
     ]
    },
    {
     "name": "stderr",
     "output_type": "stream",
     "text": [
      "2019-08-29 10:21:47,394 : MainThread : INFO : finished scanning 2758 sentences with an average length of 9 and 27528 total words\n",
      "2019-08-29 10:21:47,423 : MainThread : INFO : estimated memory for 2758 sentences with 300 dimensions and 77224 vocabulary: 91 MB (0 GB)\n",
      "2019-08-29 10:21:47,424 : MainThread : INFO : initializing sentence vectors for 2758 sentences\n",
      "2019-08-29 10:21:47,431 : MainThread : INFO : pre-computing uSIF weights for 77224 words\n",
      "2019-08-29 10:21:47,665 : MainThread : INFO : begin training\n",
      "2019-08-29 10:21:48,036 : MainThread : INFO : worker thread finished; awaiting finish of 0 more threads\n",
      "2019-08-29 10:21:48,051 : MainThread : INFO : computing 5 principal components took 0s\n",
      "2019-08-29 10:21:48,052 : MainThread : INFO : removing 5 principal components took 0s\n",
      "2019-08-29 10:21:48,053 : MainThread : INFO : training on 2758 effective sentences with 27441 effective words took 0s with 7422 sentences/s\n",
      "2019-08-29 10:21:48,084 : MainThread : INFO : scanning all indexed sentences and their word counts\n"
     ]
    },
    {
     "name": "stdout",
     "output_type": "stream",
     "text": [
      "uSIF-Paranmt 79.02\n"
     ]
    },
    {
     "name": "stderr",
     "output_type": "stream",
     "text": [
      "2019-08-29 10:21:48,472 : MainThread : INFO : finished scanning 2758 sentences with an average length of 9 and 27528 total words\n",
      "2019-08-29 10:21:48,500 : MainThread : INFO : estimated memory for 2758 sentences with 300 dimensions and 77224 vocabulary: 91 MB (0 GB)\n",
      "2019-08-29 10:21:48,500 : MainThread : INFO : initializing sentence vectors for 2758 sentences\n",
      "2019-08-29 10:21:48,508 : MainThread : INFO : begin training\n",
      "2019-08-29 10:21:48,973 : MainThread : INFO : worker thread finished; awaiting finish of 0 more threads\n",
      "2019-08-29 10:21:48,974 : MainThread : INFO : training on 2758 effective sentences with 27441 effective words took 0s with 5912 sentences/s\n",
      "2019-08-29 10:21:48,997 : MainThread : INFO : scanning all indexed sentences and their word counts\n"
     ]
    },
    {
     "name": "stdout",
     "output_type": "stream",
     "text": [
      "CBOW-Paragram 50.38\n"
     ]
    },
    {
     "name": "stderr",
     "output_type": "stream",
     "text": [
      "2019-08-29 10:21:49,371 : MainThread : INFO : finished scanning 2758 sentences with an average length of 9 and 27528 total words\n",
      "2019-08-29 10:21:49,396 : MainThread : INFO : estimated memory for 2758 sentences with 300 dimensions and 77224 vocabulary: 91 MB (0 GB)\n",
      "2019-08-29 10:21:49,397 : MainThread : INFO : initializing sentence vectors for 2758 sentences\n",
      "2019-08-29 10:21:49,405 : MainThread : INFO : pre-computing SIF weights for 77224 words\n",
      "2019-08-29 10:21:49,450 : MainThread : INFO : begin training\n",
      "2019-08-29 10:21:49,815 : MainThread : INFO : worker thread finished; awaiting finish of 0 more threads\n",
      "2019-08-29 10:21:49,834 : MainThread : INFO : computing 10 principal components took 0s\n",
      "2019-08-29 10:21:49,835 : MainThread : INFO : removing 10 principal components took 0s\n",
      "2019-08-29 10:21:49,836 : MainThread : INFO : training on 2758 effective sentences with 27441 effective words took 0s with 7550 sentences/s\n",
      "2019-08-29 10:21:49,869 : MainThread : INFO : scanning all indexed sentences and their word counts\n"
     ]
    },
    {
     "name": "stdout",
     "output_type": "stream",
     "text": [
      "SIF-Paragram 73.86\n"
     ]
    },
    {
     "name": "stderr",
     "output_type": "stream",
     "text": [
      "2019-08-29 10:21:50,248 : MainThread : INFO : finished scanning 2758 sentences with an average length of 9 and 27528 total words\n",
      "2019-08-29 10:21:50,276 : MainThread : INFO : estimated memory for 2758 sentences with 300 dimensions and 77224 vocabulary: 91 MB (0 GB)\n",
      "2019-08-29 10:21:50,276 : MainThread : INFO : initializing sentence vectors for 2758 sentences\n",
      "2019-08-29 10:21:50,283 : MainThread : INFO : pre-computing uSIF weights for 77224 words\n",
      "2019-08-29 10:21:50,522 : MainThread : INFO : begin training\n",
      "2019-08-29 10:21:50,902 : MainThread : INFO : worker thread finished; awaiting finish of 0 more threads\n",
      "2019-08-29 10:21:50,915 : MainThread : INFO : computing 5 principal components took 0s\n",
      "2019-08-29 10:21:50,917 : MainThread : INFO : removing 5 principal components took 0s\n",
      "2019-08-29 10:21:50,918 : MainThread : INFO : training on 2758 effective sentences with 27441 effective words took 0s with 7243 sentences/s\n"
     ]
    },
    {
     "name": "stdout",
     "output_type": "stream",
     "text": [
      "uSIF-Paragram 73.64\n"
     ]
    }
   ],
   "source": [
    "for k, m in models.items():\n",
    "    m_type  = k.split(\"-\")[0]\n",
    "    emb_type = k.split(\"-\")[1]\n",
    "    m.train(sentences)\n",
    "    r = pearsonr(similarities, compute_similarities(task_length, m))[0].round(4) * 100\n",
    "    results[f\"{m_type}-{emb_type}\"] = r\n",
    "    print(k, f\"{r:2.2f}\")"
   ]
  },
  {
   "cell_type": "code",
   "execution_count": 16,
   "metadata": {},
   "outputs": [
    {
     "data": {
      "text/html": [
       "<div>\n",
       "<style scoped>\n",
       "    .dataframe tbody tr th:only-of-type {\n",
       "        vertical-align: middle;\n",
       "    }\n",
       "\n",
       "    .dataframe tbody tr th {\n",
       "        vertical-align: top;\n",
       "    }\n",
       "\n",
       "    .dataframe thead th {\n",
       "        text-align: right;\n",
       "    }\n",
       "</style>\n",
       "<table border=\"1\" class=\"dataframe\">\n",
       "  <thead>\n",
       "    <tr style=\"text-align: right;\">\n",
       "      <th></th>\n",
       "      <th>Pearson</th>\n",
       "    </tr>\n",
       "  </thead>\n",
       "  <tbody>\n",
       "    <tr>\n",
       "      <th>CBOW-Glove</th>\n",
       "      <td>40.41</td>\n",
       "    </tr>\n",
       "    <tr>\n",
       "      <th>SIF-Glove</th>\n",
       "      <td>71.95</td>\n",
       "    </tr>\n",
       "    <tr>\n",
       "      <th>uSIF-Glove</th>\n",
       "      <td>67.16</td>\n",
       "    </tr>\n",
       "    <tr>\n",
       "      <th>CBOW-W2V</th>\n",
       "      <td>61.54</td>\n",
       "    </tr>\n",
       "    <tr>\n",
       "      <th>SIF-W2V</th>\n",
       "      <td>71.12</td>\n",
       "    </tr>\n",
       "    <tr>\n",
       "      <th>uSIF-W2V</th>\n",
       "      <td>66.99</td>\n",
       "    </tr>\n",
       "    <tr>\n",
       "      <th>CBOW-FT</th>\n",
       "      <td>48.49</td>\n",
       "    </tr>\n",
       "    <tr>\n",
       "      <th>SIF-FT</th>\n",
       "      <td>73.38</td>\n",
       "    </tr>\n",
       "    <tr>\n",
       "      <th>uSIF-FT</th>\n",
       "      <td>69.40</td>\n",
       "    </tr>\n",
       "    <tr>\n",
       "      <th>CBOW-Paranmt</th>\n",
       "      <td>79.85</td>\n",
       "    </tr>\n",
       "    <tr>\n",
       "      <th>SIF-Paranmt</th>\n",
       "      <td>76.75</td>\n",
       "    </tr>\n",
       "    <tr>\n",
       "      <th>uSIF-Paranmt</th>\n",
       "      <td>79.02</td>\n",
       "    </tr>\n",
       "    <tr>\n",
       "      <th>CBOW-Paragram</th>\n",
       "      <td>50.38</td>\n",
       "    </tr>\n",
       "    <tr>\n",
       "      <th>SIF-Paragram</th>\n",
       "      <td>73.86</td>\n",
       "    </tr>\n",
       "    <tr>\n",
       "      <th>uSIF-Paragram</th>\n",
       "      <td>73.64</td>\n",
       "    </tr>\n",
       "  </tbody>\n",
       "</table>\n",
       "</div>"
      ],
      "text/plain": [
       "               Pearson\n",
       "CBOW-Glove       40.41\n",
       "SIF-Glove        71.95\n",
       "uSIF-Glove       67.16\n",
       "CBOW-W2V         61.54\n",
       "SIF-W2V          71.12\n",
       "uSIF-W2V         66.99\n",
       "CBOW-FT          48.49\n",
       "SIF-FT           73.38\n",
       "uSIF-FT          69.40\n",
       "CBOW-Paranmt     79.85\n",
       "SIF-Paranmt      76.75\n",
       "uSIF-Paranmt     79.02\n",
       "CBOW-Paragram    50.38\n",
       "SIF-Paragram     73.86\n",
       "uSIF-Paragram    73.64"
      ]
     },
     "execution_count": 16,
     "metadata": {},
     "output_type": "execute_result"
    }
   ],
   "source": [
    "pd.DataFrame.from_dict(results, orient=\"index\", columns=[\"Pearson\"])"
   ]
  },
  {
   "cell_type": "markdown",
   "metadata": {},
   "source": [
    "If you closely study the values above you will find that:\n",
    "- SIF-Glove is almost equivalent to the values reported in http://ixa2.si.ehu.es/stswiki/index.php/STSbenchmark\n",
    "- CBOW-Paranmt is a little better than ParaNMT Word Avg. in https://www.aclweb.org/anthology/W18-3012\n",
    "- uSIF-Paranmt is a little worse than ParaNMT+UP in https://www.aclweb.org/anthology/W18-3012\n",
    "- uSIF-Paragram is a little worse than PSL+UP in https://www.aclweb.org/anthology/W18-3012\n",
    "\n",
    "However, I guess those differences might arise due to differences in preprocessing. Too bad we didn't hit 80. If you have any ideas why those values don't match exactly, feel free to contact me anytime."
   ]
  }
 ],
 "metadata": {
  "kernelspec": {
   "display_name": "Python 3",
   "language": "python",
   "name": "python3"
  },
  "language_info": {
   "codemirror_mode": {
    "name": "ipython",
    "version": 3
   },
   "file_extension": ".py",
   "mimetype": "text/x-python",
   "name": "python",
   "nbconvert_exporter": "python",
   "pygments_lexer": "ipython3",
   "version": "3.7.3"
  }
 },
 "nbformat": 4,
 "nbformat_minor": 2
}
